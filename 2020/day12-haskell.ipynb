{
 "cells": [
  {
   "cell_type": "markdown",
   "metadata": {},
   "source": [
    "# Day 12: Rain Risk  -  *WORK IN PROGRESS*\n",
    "https://adventofcode.com/2020/day/12"
   ]
  },
  {
   "cell_type": "code",
   "execution_count": 1,
   "metadata": {},
   "outputs": [],
   "source": [
    "inputLines = lines <$> readFile \"input/day12.txt\""
   ]
  },
  {
   "cell_type": "code",
   "execution_count": 2,
   "metadata": {},
   "outputs": [],
   "source": [
    "testInput = [ \"F10\"\n",
    "            , \"N3\"\n",
    "            , \"F7\"\n",
    "            , \"R90\"\n",
    "            , \"F11\" ]"
   ]
  },
  {
   "cell_type": "code",
   "execution_count": 3,
   "metadata": {},
   "outputs": [],
   "source": [
    "import Text.Regex.PCRE  -- install with 'stack install regex-pcre'"
   ]
  },
  {
   "cell_type": "code",
   "execution_count": 4,
   "metadata": {},
   "outputs": [],
   "source": [
    "import Linear.V2  -- install with 'stack install linear'\n",
    "import Linear.Matrix"
   ]
  },
  {
   "cell_type": "code",
   "execution_count": 5,
   "metadata": {},
   "outputs": [],
   "source": [
    "newtype Position = Position (V2 Int) deriving (Show)"
   ]
  },
  {
   "cell_type": "code",
   "execution_count": 6,
   "metadata": {},
   "outputs": [],
   "source": [
    "newtype Direction = Direction (V2 Int) deriving (Show)"
   ]
  },
  {
   "cell_type": "code",
   "execution_count": 7,
   "metadata": {},
   "outputs": [],
   "source": [
    "go (Position pos) (Direction v) n = Position $ pos + V2 n n * v"
   ]
  },
  {
   "cell_type": "code",
   "execution_count": 8,
   "metadata": {},
   "outputs": [],
   "source": [
    "left :: Direction -> Direction\n",
    "left (Direction v) = Direction $ rotationMatrix !* v\n",
    "    where rotationMatrix = transpose $ V2 (V2 0 1) (V2 (-1) 0)"
   ]
  },
  {
   "cell_type": "code",
   "execution_count": 9,
   "metadata": {},
   "outputs": [],
   "source": [
    "north = Direction $ V2 0 1"
   ]
  },
  {
   "cell_type": "code",
   "execution_count": 10,
   "metadata": {},
   "outputs": [],
   "source": [
    "[_, west, south, east] = take 4 . iterate left $ north"
   ]
  },
  {
   "cell_type": "code",
   "execution_count": 11,
   "metadata": {},
   "outputs": [
    {
     "data": {
      "text/plain": [
       "(Direction (V2 0 1),Direction (V2 1 0),Direction (V2 0 (-1)),Direction (V2 (-1) 0))"
      ]
     },
     "metadata": {},
     "output_type": "display_data"
    }
   ],
   "source": [
    "(north, east, south, west)"
   ]
  },
  {
   "cell_type": "code",
   "execution_count": 12,
   "metadata": {},
   "outputs": [],
   "source": [
    "right = left . left . left"
   ]
  },
  {
   "cell_type": "code",
   "execution_count": 13,
   "metadata": {},
   "outputs": [],
   "source": [
    "data ShipState = ShipState Position Direction deriving (Show)"
   ]
  },
  {
   "cell_type": "code",
   "execution_count": 14,
   "metadata": {},
   "outputs": [],
   "source": [
    "parseInstruction :: String -> (ShipState -> ShipState)\n",
    "parseInstruction instruction = case head letter of\n",
    "    'L' -> rotate left\n",
    "    'R' -> rotate right\n",
    "    'F' -> goForward\n",
    "    fixedDirection -> goFixedDirection . parseDirection $ fixedDirection  -- one of NSEW\n",
    "\n",
    "    where\n",
    "        [_, letter, argumentStr] = head (instruction =~ \"([NSEWLRF])([0-9]+)\" :: [[String]])\n",
    "        \n",
    "        argument = read argumentStr :: Int\n",
    "        \n",
    "        rotate f (ShipState position direction) =\n",
    "            ShipState position (iterate f direction !! numRotations)\n",
    "            where numRotations = argument `div` 90\n",
    "        \n",
    "        goForward (ShipState position direction) =\n",
    "            ShipState (go position direction argument) direction\n",
    "        \n",
    "        goFixedDirection fixedDirection (ShipState position direction) =\n",
    "            ShipState (go position fixedDirection argument) direction\n",
    "        \n",
    "        parseDirection 'N' = north\n",
    "        parseDirection 'S' = south\n",
    "        parseDirection 'E' = east\n",
    "        parseDirection 'W' = west"
   ]
  },
  {
   "cell_type": "code",
   "execution_count": 15,
   "metadata": {},
   "outputs": [],
   "source": [
    "parseInstructions = map parseInstruction"
   ]
  },
  {
   "cell_type": "code",
   "execution_count": 16,
   "metadata": {},
   "outputs": [],
   "source": [
    "executeInstructions :: ShipState -> [ShipState -> ShipState] -> ShipState\n",
    "executeInstructions = foldl (flip ($))"
   ]
  },
  {
   "cell_type": "code",
   "execution_count": 17,
   "metadata": {},
   "outputs": [],
   "source": [
    "solution1 :: [String] -> Int\n",
    "solution1 input = abs x + abs y\n",
    "    where\n",
    "        (ShipState (Position (V2 x y)) d) = executeInstructions (ShipState (Position (V2 0 0)) east) . parseInstructions $ input"
   ]
  },
  {
   "cell_type": "code",
   "execution_count": 18,
   "metadata": {},
   "outputs": [
    {
     "data": {
      "text/plain": [
       "25"
      ]
     },
     "metadata": {},
     "output_type": "display_data"
    }
   ],
   "source": [
    "solution1 testInput"
   ]
  },
  {
   "cell_type": "code",
   "execution_count": 19,
   "metadata": {},
   "outputs": [
    {
     "data": {
      "text/plain": [
       "1221"
      ]
     },
     "metadata": {},
     "output_type": "display_data"
    }
   ],
   "source": [
    "solution1 <$> inputLines"
   ]
  }
 ],
 "metadata": {
  "kernelspec": {
   "display_name": "Haskell",
   "language": "haskell",
   "name": "haskell"
  },
  "language_info": {
   "codemirror_mode": "ihaskell",
   "file_extension": ".hs",
   "mimetype": "text/x-haskell",
   "name": "haskell",
   "pygments_lexer": "Haskell",
   "version": "8.8.4"
  }
 },
 "nbformat": 4,
 "nbformat_minor": 4
}
