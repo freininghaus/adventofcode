{
 "cells": [
  {
   "cell_type": "markdown",
   "metadata": {},
   "source": [
    "# Day 4: Passport Processing\n",
    "https://adventofcode.com/2020/day/4"
   ]
  },
  {
   "cell_type": "code",
   "execution_count": 1,
   "metadata": {},
   "outputs": [],
   "source": [
    "inputLines = lines <$> readFile \"input/day04.txt\""
   ]
  },
  {
   "cell_type": "code",
   "execution_count": 2,
   "metadata": {},
   "outputs": [],
   "source": [
    "testInput = [ \"ecl:gry pid:860033327 eyr:2020 hcl:#fffffd\"\n",
    "            , \"byr:1937 iyr:2017 cid:147 hgt:183cm\"\n",
    "            , \"\"\n",
    "            , \"iyr:2013 ecl:amb cid:350 eyr:2023 pid:028048884\"\n",
    "            , \"hcl:#cfa07d byr:1929\"\n",
    "            , \"\"\n",
    "            , \"hcl:#ae17e1 iyr:2013\"\n",
    "            , \"eyr:2024\"\n",
    "            , \"ecl:brn pid:760753108 byr:1931\"\n",
    "            , \"hgt:179cm\"\n",
    "            , \"\"\n",
    "            , \"hcl:#cfa07d eyr:2025 pid:166559648\"\n",
    "            , \"iyr:2011 ecl:brn hgt:59in\"]"
   ]
  },
  {
   "cell_type": "code",
   "execution_count": 3,
   "metadata": {},
   "outputs": [],
   "source": [
    "import Data.List.Split (splitOn)  -- install with 'stack install split'\n",
    "import Data.List (intercalate)"
   ]
  },
  {
   "cell_type": "markdown",
   "metadata": {},
   "source": [
    "Split input on blank lines to get the individual passports:"
   ]
  },
  {
   "cell_type": "code",
   "execution_count": 4,
   "metadata": {},
   "outputs": [],
   "source": [
    "passports = splitOn \"\\n\\n\" . intercalate \"\\n\""
   ]
  },
  {
   "cell_type": "code",
   "execution_count": 5,
   "metadata": {},
   "outputs": [
    {
     "data": {
      "text/plain": [
       "[\"ecl:gry pid:860033327 eyr:2020 hcl:#fffffd\\nbyr:1937 iyr:2017 cid:147 hgt:183cm\",\"iyr:2013 ecl:amb cid:350 eyr:2023 pid:028048884\\nhcl:#cfa07d byr:1929\",\"hcl:#ae17e1 iyr:2013\\neyr:2024\\necl:brn pid:760753108 byr:1931\\nhgt:179cm\",\"hcl:#cfa07d eyr:2025 pid:166559648\\niyr:2011 ecl:brn hgt:59in\"]"
      ]
     },
     "metadata": {},
     "output_type": "display_data"
    }
   ],
   "source": [
    "passports testInput"
   ]
  },
  {
   "cell_type": "markdown",
   "metadata": {},
   "source": [
    "Represent a passport as a map:"
   ]
  },
  {
   "cell_type": "code",
   "execution_count": 6,
   "metadata": {},
   "outputs": [],
   "source": [
    "import qualified Data.Map as Map"
   ]
  },
  {
   "cell_type": "code",
   "execution_count": 7,
   "metadata": {},
   "outputs": [],
   "source": [
    "parsePassport :: String -> Map.Map String String\n",
    "parsePassport = Map.fromList\n",
    "              . map ((\\ [k, v] -> (k, v)) . splitOn \":\")\n",
    "              . words"
   ]
  },
  {
   "cell_type": "markdown",
   "metadata": {},
   "source": [
    "# Part 1\n",
    "All fields except `cid` are required:"
   ]
  },
  {
   "cell_type": "code",
   "execution_count": 8,
   "metadata": {},
   "outputs": [],
   "source": [
    "required = [\"byr\", \"iyr\", \"eyr\", \"hgt\", \"hcl\", \"ecl\", \"pid\"]"
   ]
  },
  {
   "cell_type": "code",
   "execution_count": 9,
   "metadata": {},
   "outputs": [],
   "source": [
    "checkPassport passport = all ((/= Nothing). (`Map.lookup` passport)) required"
   ]
  },
  {
   "cell_type": "code",
   "execution_count": 10,
   "metadata": {},
   "outputs": [],
   "source": [
    "countValidPassports1 = length . filter id . map (checkPassport . parsePassport)"
   ]
  },
  {
   "cell_type": "markdown",
   "metadata": {},
   "source": [
    "Verify given result for test input:"
   ]
  },
  {
   "cell_type": "code",
   "execution_count": 11,
   "metadata": {},
   "outputs": [
    {
     "data": {
      "text/plain": [
       "2"
      ]
     },
     "metadata": {},
     "output_type": "display_data"
    }
   ],
   "source": [
    "countValidPassports1 . passports $ testInput"
   ]
  },
  {
   "cell_type": "markdown",
   "metadata": {},
   "source": [
    "## Solution, part 1"
   ]
  },
  {
   "cell_type": "code",
   "execution_count": 12,
   "metadata": {},
   "outputs": [
    {
     "data": {
      "text/plain": [
       "228"
      ]
     },
     "metadata": {},
     "output_type": "display_data"
    }
   ],
   "source": [
    "countValidPassports1 . passports <$> inputLines"
   ]
  },
  {
   "cell_type": "markdown",
   "metadata": {},
   "source": [
    "# Part 2\n",
    "For all fields that contain years, we have to compare the value with the minimal and maximal accepted year."
   ]
  },
  {
   "cell_type": "code",
   "execution_count": 13,
   "metadata": {},
   "outputs": [],
   "source": [
    "intValidator :: Int -> Int -> String -> Bool\n",
    "intValidator minValue maxValue value = minValue <= number && number <= maxValue\n",
    "    where\n",
    "        number = read value"
   ]
  },
  {
   "cell_type": "markdown",
   "metadata": {},
   "source": [
    "Hair color, eye color, and passport ID are best validated with regular expressions."
   ]
  },
  {
   "cell_type": "code",
   "execution_count": 14,
   "metadata": {},
   "outputs": [],
   "source": [
    "import Text.Regex.PCRE  -- install with 'stack install regex-pcre'"
   ]
  },
  {
   "cell_type": "code",
   "execution_count": 15,
   "metadata": {},
   "outputs": [],
   "source": [
    "regexValidator :: String -> String -> Bool\n",
    "regexValidator pattern value = (value =~ pattern)"
   ]
  },
  {
   "cell_type": "markdown",
   "metadata": {},
   "source": [
    "To validate the height, we parse the value and the unit wit a regular expression. If this is successful, we compare the height with the min and max value for the respective unit."
   ]
  },
  {
   "cell_type": "code",
   "execution_count": 16,
   "metadata": {},
   "outputs": [],
   "source": [
    "heightValidator :: String -> Bool\n",
    "heightValidator value = \n",
    "    case heightAndUnit of \n",
    "        Nothing             -> False\n",
    "        Just (height, unit) -> minHeight unit <= height && height <= maxHeight unit\n",
    "    where\n",
    "        heightAndUnit = do\n",
    "            [[_, heightValue, unit]] <- value =~~ \"^([0-9]+)(cm|in)$\"\n",
    "            return (read heightValue, unit) \n",
    "\n",
    "        minHeight \"cm\" = 150\n",
    "        minHeight \"in\" = 59\n",
    "\n",
    "        maxHeight \"cm\" = 193\n",
    "        maxHeight \"in\" = 76"
   ]
  },
  {
   "cell_type": "markdown",
   "metadata": {},
   "source": [
    "Assign the correct validator to each passport field."
   ]
  },
  {
   "cell_type": "code",
   "execution_count": 17,
   "metadata": {},
   "outputs": [],
   "source": [
    "validators :: [(String, String -> Bool)]\n",
    "validators = [\n",
    "    (\"byr\", intValidator 1920 2002),\n",
    "    (\"iyr\", intValidator 2010 2020),\n",
    "    (\"eyr\", intValidator 2020 2030),\n",
    "    (\"hgt\", heightValidator),\n",
    "    (\"hcl\", regexValidator \"^#[0-9a-f]{6}$\"),\n",
    "    (\"ecl\", regexValidator \"^(amb|blu|brn|gry|grn|hzl|oth)$\"),\n",
    "    (\"pid\", regexValidator \"^[0-9]{9}$\")]"
   ]
  },
  {
   "cell_type": "markdown",
   "metadata": {},
   "source": [
    "A passport is valid if all fields are valid."
   ]
  },
  {
   "cell_type": "code",
   "execution_count": 18,
   "metadata": {},
   "outputs": [],
   "source": [
    "validatePassport passport = all \n",
    "    ((== Just True) . \n",
    "     (\\ (field, validator) -> validator <$> field `Map.lookup` passport)) validators"
   ]
  },
  {
   "cell_type": "code",
   "execution_count": 19,
   "metadata": {},
   "outputs": [],
   "source": [
    "countValidPassports2 = length . filter id . map (validatePassport . parsePassport)"
   ]
  },
  {
   "cell_type": "markdown",
   "metadata": {},
   "source": [
    "## Solution, part 2"
   ]
  },
  {
   "cell_type": "code",
   "execution_count": 20,
   "metadata": {},
   "outputs": [
    {
     "data": {
      "text/plain": [
       "175"
      ]
     },
     "metadata": {},
     "output_type": "display_data"
    }
   ],
   "source": [
    "countValidPassports2 . passports <$> inputLines"
   ]
  },
  {
   "cell_type": "markdown",
   "metadata": {},
   "source": [
    "# Appendix"
   ]
  },
  {
   "cell_type": "markdown",
   "metadata": {},
   "source": [
    "`validatePassport` can be written without a lambda."
   ]
  },
  {
   "cell_type": "code",
   "execution_count": 21,
   "metadata": {},
   "outputs": [],
   "source": [
    "validatePassport' passport = all \n",
    "    ((== Just True) . \n",
    "     uncurry (flip (<$>) . (`Map.lookup` passport))) validators"
   ]
  },
  {
   "cell_type": "code",
   "execution_count": 22,
   "metadata": {},
   "outputs": [],
   "source": [
    "countValidPassports2' = length . filter id . map (validatePassport . parsePassport)"
   ]
  },
  {
   "cell_type": "code",
   "execution_count": 23,
   "metadata": {},
   "outputs": [
    {
     "data": {
      "text/plain": [
       "175"
      ]
     },
     "metadata": {},
     "output_type": "display_data"
    }
   ],
   "source": [
    "countValidPassports2' . passports <$> inputLines"
   ]
  }
 ],
 "metadata": {
  "kernelspec": {
   "display_name": "Haskell",
   "language": "haskell",
   "name": "haskell"
  },
  "language_info": {
   "codemirror_mode": "ihaskell",
   "file_extension": ".hs",
   "mimetype": "text/x-haskell",
   "name": "haskell",
   "pygments_lexer": "Haskell",
   "version": "8.8.4"
  }
 },
 "nbformat": 4,
 "nbformat_minor": 4
}
