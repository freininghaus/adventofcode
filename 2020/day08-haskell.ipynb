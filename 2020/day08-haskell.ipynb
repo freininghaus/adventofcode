{
 "cells": [
  {
   "cell_type": "markdown",
   "metadata": {},
   "source": [
    "# Day 8: Handheld Halting\n",
    "https://adventofcode.com/2020/day/8"
   ]
  },
  {
   "cell_type": "code",
   "execution_count": 1,
   "metadata": {},
   "outputs": [],
   "source": [
    "inputLines = lines <$> readFile \"input/day08.txt\""
   ]
  },
  {
   "cell_type": "code",
   "execution_count": 2,
   "metadata": {},
   "outputs": [],
   "source": [
    "testInput = [ \"nop +0\"\n",
    "            , \"acc +1\"\n",
    "            , \"jmp +4\"\n",
    "            , \"acc +3\"\n",
    "            , \"jmp -3\"\n",
    "            , \"acc -99\"\n",
    "            , \"acc +1\"\n",
    "            , \"jmp -4\"\n",
    "            , \"acc +6\"]"
   ]
  },
  {
   "cell_type": "markdown",
   "metadata": {},
   "source": [
    "# Part 1"
   ]
  },
  {
   "cell_type": "markdown",
   "metadata": {},
   "source": [
    "Define a data type for instructions."
   ]
  },
  {
   "cell_type": "code",
   "execution_count": 3,
   "metadata": {},
   "outputs": [],
   "source": [
    "data Instruction = Nop Int | Jmp Int | Acc Int deriving (Show)"
   ]
  },
  {
   "cell_type": "markdown",
   "metadata": {},
   "source": [
    "Specify how the instrutions change `index` (the index of the next instruction in the array that holds all instructions) and the accumulator."
   ]
  },
  {
   "cell_type": "code",
   "execution_count": 4,
   "metadata": {},
   "outputs": [],
   "source": [
    "execute :: Instruction -> (Int, Int) -> (Int, Int)\n",
    "execute (Nop _) (index, acc) = (succ index, acc)\n",
    "execute (Jmp delta) (index, acc) = (index + delta, acc)\n",
    "execute (Acc delta) (index, acc) = (succ index, acc + delta)"
   ]
  },
  {
   "cell_type": "markdown",
   "metadata": {},
   "source": [
    "Parse a single instruction."
   ]
  },
  {
   "cell_type": "code",
   "execution_count": 5,
   "metadata": {},
   "outputs": [],
   "source": [
    "import Text.Regex.PCRE  -- install with 'stack install regex-pcre'\n",
    "\n",
    "parseInstruction :: String -> Instruction\n",
    "parseInstruction line =\n",
    "    let\n",
    "    \n",
    "        [_, instruction, sign, number] = head (line =~ \"(acc|jmp|nop) ([+-])([0-9]+)\" :: [[String]])\n",
    "        \n",
    "        parsedNumber = \n",
    "            (read number :: Int) *\n",
    "            (case sign of \"+\" -> 1\n",
    "                          \"-\" -> -1)\n",
    "        \n",
    "        parsedInstruction =\n",
    "            case instruction of \"acc\" -> Acc\n",
    "                                \"jmp\" -> Jmp\n",
    "                                \"nop\" -> Nop\n",
    "    in\n",
    "        parsedInstruction parsedNumber"
   ]
  },
  {
   "cell_type": "markdown",
   "metadata": {},
   "source": [
    "A program is represented by an array of instructions."
   ]
  },
  {
   "cell_type": "code",
   "execution_count": 6,
   "metadata": {},
   "outputs": [],
   "source": [
    "import Data.Array\n",
    "type Program = Array Int Instruction"
   ]
  },
  {
   "cell_type": "markdown",
   "metadata": {},
   "source": [
    "Parse an entire program."
   ]
  },
  {
   "cell_type": "code",
   "execution_count": 7,
   "metadata": {},
   "outputs": [],
   "source": [
    "parseProgram :: [String] -> Program\n",
    "parseProgram programLines = listArray (0, pred . length $ programLines)\n",
    "                          $ map parseInstruction programLines"
   ]
  },
  {
   "cell_type": "markdown",
   "metadata": {},
   "source": [
    "Run a program until either\n",
    "* An infinite loop is detected. The result is then `Left acc`, where `acc` is the accumulator value just before an instruction would be executed for the second time.\n",
    "* The program ends regularly because the next instruction would be immediately after the last instruction in the program. In this case, the result is `Right acc`, where `acc` is the final accumulator value."
   ]
  },
  {
   "cell_type": "code",
   "execution_count": 8,
   "metadata": {},
   "outputs": [],
   "source": [
    "import qualified Data.Set as Set\n",
    "\n",
    "runProgram :: Program -> Either Int Int\n",
    "runProgram program =\n",
    "    let\n",
    "        terminationIndex = succ . snd . bounds $ program\n",
    "\n",
    "        run :: Set.Set Int -> (Int, Int) -> Either Int Int\n",
    "        run alreadyExecuted (index, acc)\n",
    "            | index == terminationIndex = Right acc\n",
    "            | Set.member index alreadyExecuted = Left acc\n",
    "            | otherwise = run (Set.insert index alreadyExecuted)\n",
    "                              (execute (program ! index) (index, acc))\n",
    "\n",
    "    in\n",
    "        run Set.empty (0, 0)"
   ]
  },
  {
   "cell_type": "code",
   "execution_count": 9,
   "metadata": {},
   "outputs": [],
   "source": [
    "solution1 = runProgram . parseProgram"
   ]
  },
  {
   "cell_type": "markdown",
   "metadata": {},
   "source": [
    "Verify given example."
   ]
  },
  {
   "cell_type": "code",
   "execution_count": 10,
   "metadata": {},
   "outputs": [
    {
     "data": {
      "text/plain": [
       "Left 5"
      ]
     },
     "metadata": {},
     "output_type": "display_data"
    }
   ],
   "source": [
    "solution1 testInput"
   ]
  },
  {
   "cell_type": "markdown",
   "metadata": {},
   "source": [
    "## Solution, part 1"
   ]
  },
  {
   "cell_type": "code",
   "execution_count": 11,
   "metadata": {},
   "outputs": [
    {
     "data": {
      "text/plain": [
       "Left 1928"
      ]
     },
     "metadata": {},
     "output_type": "display_data"
    }
   ],
   "source": [
    "solution1 <$> inputLines"
   ]
  },
  {
   "cell_type": "markdown",
   "metadata": {},
   "source": [
    "# Part 2"
   ]
  },
  {
   "cell_type": "markdown",
   "metadata": {},
   "source": [
    "Find out which instructions are possibly corrupted, i.e., at which indices there are `jmp` or `nop` instructions."
   ]
  },
  {
   "cell_type": "code",
   "execution_count": 12,
   "metadata": {},
   "outputs": [],
   "source": [
    "isJmpOrNop :: Instruction -> Bool\n",
    "isJmpOrNop (Jmp _) = True\n",
    "isJmpOrNop (Nop _) = True\n",
    "isJmpOrNop _ = False"
   ]
  },
  {
   "cell_type": "code",
   "execution_count": 13,
   "metadata": {},
   "outputs": [],
   "source": [
    "possiblyCorruptedIndices :: Program -> [Int]\n",
    "possiblyCorruptedIndices = map fst . filter (isJmpOrNop . snd) . assocs"
   ]
  },
  {
   "cell_type": "markdown",
   "metadata": {},
   "source": [
    "Modify an instruction by replacing `jmp` by `nop` and vice versa."
   ]
  },
  {
   "cell_type": "code",
   "execution_count": 14,
   "metadata": {},
   "outputs": [],
   "source": [
    "changeInstruction :: Instruction -> Instruction\n",
    "changeInstruction (Jmp n) = Nop n\n",
    "changeInstruction (Nop n) = Jmp n\n",
    "changeInstruction other = other"
   ]
  },
  {
   "cell_type": "markdown",
   "metadata": {},
   "source": [
    "Create all possible modifications of a program by\n",
    "* finding out which instructions are possibly corrupted, and\n",
    "* create a modified program for each of these where the respective instruction is changed."
   ]
  },
  {
   "cell_type": "code",
   "execution_count": 15,
   "metadata": {},
   "outputs": [],
   "source": [
    "import Control.Lens (over, element) -- install with 'stack install lens'\n",
    "\n",
    "modifiedPrograms :: Program -> [Program]\n",
    "modifiedPrograms program =\n",
    "    map (\\index -> over (element index) changeInstruction program) indices\n",
    "    \n",
    "    where\n",
    "        indices = possiblyCorruptedIndices program"
   ]
  },
  {
   "cell_type": "code",
   "execution_count": 16,
   "metadata": {},
   "outputs": [],
   "source": [
    "import Data.Either (rights)\n",
    "\n",
    "solution2 = head . rights . map runProgram . modifiedPrograms . parseProgram"
   ]
  },
  {
   "cell_type": "markdown",
   "metadata": {},
   "source": [
    "Verify given example."
   ]
  },
  {
   "cell_type": "code",
   "execution_count": 17,
   "metadata": {},
   "outputs": [
    {
     "data": {
      "text/plain": [
       "8"
      ]
     },
     "metadata": {},
     "output_type": "display_data"
    }
   ],
   "source": [
    "solution2 testInput"
   ]
  },
  {
   "cell_type": "markdown",
   "metadata": {},
   "source": [
    "## Solution, part 2"
   ]
  },
  {
   "cell_type": "code",
   "execution_count": 18,
   "metadata": {},
   "outputs": [
    {
     "data": {
      "text/plain": [
       "1319"
      ]
     },
     "metadata": {},
     "output_type": "display_data"
    }
   ],
   "source": [
    "solution2 <$> inputLines"
   ]
  }
 ],
 "metadata": {
  "kernelspec": {
   "display_name": "Haskell",
   "language": "haskell",
   "name": "haskell"
  },
  "language_info": {
   "codemirror_mode": "ihaskell",
   "file_extension": ".hs",
   "mimetype": "text/x-haskell",
   "name": "haskell",
   "pygments_lexer": "Haskell",
   "version": "8.8.4"
  }
 },
 "nbformat": 4,
 "nbformat_minor": 4
}
