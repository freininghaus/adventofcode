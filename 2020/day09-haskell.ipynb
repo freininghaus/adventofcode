{
 "cells": [
  {
   "cell_type": "markdown",
   "metadata": {},
   "source": [
    "# Day 9: Encoding Error\n",
    "https://adventofcode.com/2020/day/9"
   ]
  },
  {
   "cell_type": "code",
   "execution_count": 1,
   "metadata": {
    "collapsed": false
   },
   "outputs": [],
   "source": [
    "inputLines = lines <$> readFile \"input/day09.txt\"\n",
    "inputNumbers = map read <$> inputLines"
   ]
  },
  {
   "cell_type": "markdown",
   "metadata": {},
   "source": [
    "# Part 1"
   ]
  },
  {
   "cell_type": "markdown",
   "metadata": {},
   "source": [
    "The complexity of this function is quadratic in the length of the input list, but this should be acceptable because we know that the length is at most 25."
   ]
  },
  {
   "cell_type": "code",
   "execution_count": 2,
   "metadata": {
    "collapsed": true
   },
   "outputs": [],
   "source": [
    "isValidNext :: Int -> [Int] -> Bool\n",
    "isValidNext nextNumber numbers = not . null $ pairs\n",
    "    where\n",
    "        pairs = [(a, b) | a <- numbers, b <- numbers, a + b == nextNumber, a /= b]"
   ]
  },
  {
   "cell_type": "markdown",
   "metadata": {},
   "source": [
    "Verify given examples."
   ]
  },
  {
   "cell_type": "code",
   "execution_count": 3,
   "metadata": {
    "collapsed": false
   },
   "outputs": [
    {
     "data": {
      "text/plain": [
       "[True,True,False,False]"
      ]
     },
     "metadata": {},
     "output_type": "display_data"
    }
   ],
   "source": [
    "map (`isValidNext` [1..25]) [26, 49, 100, 50]"
   ]
  },
  {
   "cell_type": "code",
   "execution_count": 4,
   "metadata": {
    "collapsed": false
   },
   "outputs": [
    {
     "data": {
      "text/plain": [
       "[True,False,True,True]"
      ]
     },
     "metadata": {},
     "output_type": "display_data"
    }
   ],
   "source": [
    "map (`isValidNext` ([1..19] ++ [21..25] ++ [45])) [26, 65, 64, 66]"
   ]
  },
  {
   "cell_type": "markdown",
   "metadata": {},
   "source": [
    "Find the first invalid number in a list of numbers for a given preamble length."
   ]
  },
  {
   "cell_type": "code",
   "execution_count": 5,
   "metadata": {
    "collapsed": false
   },
   "outputs": [],
   "source": [
    "firstInvalid :: Int -> [Int] -> Int\n",
    "firstInvalid preambleLength numbers = f firstPreamble firstRest\n",
    "    where\n",
    "        firstPreamble = take preambleLength numbers\n",
    "        firstRest = drop preambleLength numbers\n",
    "        \n",
    "        f preamble rest = \n",
    "            if isValidNext nextNumber preamble then\n",
    "                f (tail preamble ++ [nextNumber]) (tail rest)\n",
    "            else\n",
    "                head rest\n",
    "            where\n",
    "                nextNumber = head rest"
   ]
  },
  {
   "cell_type": "code",
   "execution_count": 6,
   "metadata": {
    "collapsed": true
   },
   "outputs": [],
   "source": [
    "testNumbers = [ 35\n",
    "              , 20\n",
    "              , 15\n",
    "              , 25\n",
    "              , 47\n",
    "              , 40\n",
    "              , 62\n",
    "              , 55\n",
    "              , 65\n",
    "              , 95\n",
    "              , 102\n",
    "              , 117\n",
    "              , 150\n",
    "              , 182\n",
    "              , 127\n",
    "              , 219\n",
    "              , 299\n",
    "              , 277\n",
    "              , 309\n",
    "              , 576 ]"
   ]
  },
  {
   "cell_type": "markdown",
   "metadata": {},
   "source": [
    "Verify given example."
   ]
  },
  {
   "cell_type": "code",
   "execution_count": 7,
   "metadata": {
    "collapsed": false
   },
   "outputs": [
    {
     "data": {
      "text/plain": [
       "127"
      ]
     },
     "metadata": {},
     "output_type": "display_data"
    }
   ],
   "source": [
    "firstInvalid 5 testNumbers"
   ]
  },
  {
   "cell_type": "code",
   "execution_count": 8,
   "metadata": {
    "collapsed": true
   },
   "outputs": [],
   "source": [
    "solution1 = firstInvalid 25"
   ]
  },
  {
   "cell_type": "markdown",
   "metadata": {},
   "source": [
    "## Solution, part 1"
   ]
  },
  {
   "cell_type": "code",
   "execution_count": 9,
   "metadata": {
    "collapsed": false
   },
   "outputs": [
    {
     "data": {
      "text/plain": [
       "466456641"
      ]
     },
     "metadata": {},
     "output_type": "display_data"
    }
   ],
   "source": [
    "solution1 <$> inputNumbers"
   ]
  },
  {
   "cell_type": "markdown",
   "metadata": {},
   "source": [
    "# Part 2"
   ]
  },
  {
   "cell_type": "markdown",
   "metadata": {},
   "source": [
    "Find a contiguous set of numbers in the given list whose sum is the target number.\n",
    "\n",
    "The idea is to start with an empty set, whose sum is zero. Then we go through the list and do the following:\n",
    "* If the sum of the current set is equal to the target, we are done.\n",
    "* If the sum of the current set too small, add the next number to the set.\n",
    "* If the sum is too large, drop the first number from the set."
   ]
  },
  {
   "cell_type": "code",
   "execution_count": 10,
   "metadata": {
    "collapsed": false
   },
   "outputs": [],
   "source": [
    "contiguousSet :: Int -> [Int] -> [Int]\n",
    "contiguousSet target numbers = f 0 [] numbers\n",
    "    where\n",
    "        f currentSum currentNumbers remainingNumbers\n",
    "            | currentSum == target = currentNumbers\n",
    "            | currentSum > target = f (currentSum - head currentNumbers) (tail currentNumbers) remainingNumbers\n",
    "            | currentSum < target = f (currentSum + firstRemaining) (currentNumbers ++ [firstRemaining]) (tail remainingNumbers)\n",
    "            where firstRemaining = head remainingNumbers"
   ]
  },
  {
   "cell_type": "markdown",
   "metadata": {},
   "source": [
    "Verify given example."
   ]
  },
  {
   "cell_type": "code",
   "execution_count": 11,
   "metadata": {
    "collapsed": false
   },
   "outputs": [
    {
     "data": {
      "text/plain": [
       "[15,25,47,40]"
      ]
     },
     "metadata": {},
     "output_type": "display_data"
    }
   ],
   "source": [
    "contiguousSet 127 testNumbers"
   ]
  },
  {
   "cell_type": "code",
   "execution_count": 12,
   "metadata": {
    "collapsed": false
   },
   "outputs": [],
   "source": [
    "solution2 preambleLength numbers = minimum cs + maximum cs\n",
    "    where\n",
    "        invalidNumber = firstInvalid preambleLength numbers\n",
    "        cs = contiguousSet invalidNumber numbers"
   ]
  },
  {
   "cell_type": "code",
   "execution_count": 13,
   "metadata": {
    "collapsed": false
   },
   "outputs": [
    {
     "data": {
      "text/plain": [
       "62"
      ]
     },
     "metadata": {},
     "output_type": "display_data"
    }
   ],
   "source": [
    "solution2 5 testNumbers"
   ]
  },
  {
   "cell_type": "markdown",
   "metadata": {},
   "source": [
    "## Solution, part 2"
   ]
  },
  {
   "cell_type": "code",
   "execution_count": 14,
   "metadata": {
    "collapsed": false
   },
   "outputs": [
    {
     "data": {
      "text/plain": [
       "55732936"
      ]
     },
     "metadata": {},
     "output_type": "display_data"
    }
   ],
   "source": [
    "solution2 25 <$> inputNumbers"
   ]
  }
 ],
 "metadata": {
  "kernelspec": {
   "display_name": "Haskell",
   "language": "haskell",
   "name": "haskell"
  },
  "language_info": {
   "codemirror_mode": "ihaskell",
   "file_extension": ".hs",
   "name": "haskell",
   "version": "7.10.2"
  }
 },
 "nbformat": 4,
 "nbformat_minor": 0
}
