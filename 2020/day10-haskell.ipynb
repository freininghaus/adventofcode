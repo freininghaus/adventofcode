{
 "cells": [
  {
   "cell_type": "markdown",
   "metadata": {},
   "source": [
    "# Day 10: Adapter Array\n",
    "https://adventofcode.com/2020/day/10"
   ]
  },
  {
   "cell_type": "code",
   "execution_count": 1,
   "metadata": {
    "collapsed": true
   },
   "outputs": [],
   "source": [
    "inputLines = lines <$> readFile \"input/day10.txt\"\n",
    "inputNumbers = map read <$> inputLines"
   ]
  },
  {
   "cell_type": "code",
   "execution_count": 2,
   "metadata": {
    "collapsed": true
   },
   "outputs": [],
   "source": [
    "testNumbers1 = [ 16\n",
    "               , 10\n",
    "               , 15\n",
    "               , 5\n",
    "               , 1\n",
    "               , 11\n",
    "               , 7\n",
    "               , 19\n",
    "               , 6\n",
    "               , 12\n",
    "               , 4 ]"
   ]
  },
  {
   "cell_type": "code",
   "execution_count": 3,
   "metadata": {
    "collapsed": true
   },
   "outputs": [],
   "source": [
    "testNumbers2 = [ 28\n",
    "               , 33\n",
    "               , 18\n",
    "               , 42\n",
    "               , 31\n",
    "               , 14\n",
    "               , 46\n",
    "               , 20\n",
    "               , 48\n",
    "               , 47\n",
    "               , 24\n",
    "               , 23\n",
    "               , 49\n",
    "               , 45\n",
    "               , 19\n",
    "               , 38\n",
    "               , 39\n",
    "               , 11\n",
    "               , 1\n",
    "               , 32\n",
    "               , 25\n",
    "               , 35\n",
    "               , 8\n",
    "               , 17\n",
    "               , 7\n",
    "               , 9\n",
    "               , 4\n",
    "               , 2\n",
    "               , 34\n",
    "               , 10\n",
    "               , 3 ]"
   ]
  },
  {
   "cell_type": "markdown",
   "metadata": {},
   "source": [
    "# Part 1"
   ]
  },
  {
   "cell_type": "markdown",
   "metadata": {},
   "source": [
    "Calculate the jolt differences for a given list of input numbers:\n",
    "* The first difference is equal to the first number in the sorted input list because the charging outlet has a joltage of  0 jolts.\n",
    "* Then next differences are the differences of subsequent input numbers.\n",
    "* The final difference is 3 because the device's built-in adapter has a joltage which is 3 jolts higher than that of the highest adapter in the bag."
   ]
  },
  {
   "cell_type": "code",
   "execution_count": 4,
   "metadata": {
    "collapsed": false
   },
   "outputs": [],
   "source": [
    "import Data.List (sort)\n",
    "\n",
    "differences numbers = head sortedNumbers:\n",
    "                      zipWith (-) (tail sortedNumbers) sortedNumbers ++\n",
    "                      [3]\n",
    "    where sortedNumbers = sort numbers"
   ]
  },
  {
   "cell_type": "markdown",
   "metadata": {},
   "source": [
    "Count the 1-jolt and 3-jolt differences."
   ]
  },
  {
   "cell_type": "code",
   "execution_count": 5,
   "metadata": {
    "collapsed": false
   },
   "outputs": [],
   "source": [
    "countDifferences numbers = (count 1, count 3)\n",
    "    where\n",
    "        count x = length . filter (==x) . differences $ numbers"
   ]
  },
  {
   "cell_type": "markdown",
   "metadata": {},
   "source": [
    "Verify given examples."
   ]
  },
  {
   "cell_type": "code",
   "execution_count": 6,
   "metadata": {
    "collapsed": false
   },
   "outputs": [
    {
     "data": {
      "text/plain": [
       "(7,5)"
      ]
     },
     "metadata": {},
     "output_type": "display_data"
    }
   ],
   "source": [
    "countDifferences testNumbers1"
   ]
  },
  {
   "cell_type": "code",
   "execution_count": 7,
   "metadata": {
    "collapsed": false
   },
   "outputs": [
    {
     "data": {
      "text/plain": [
       "(22,10)"
      ]
     },
     "metadata": {},
     "output_type": "display_data"
    }
   ],
   "source": [
    "countDifferences testNumbers2"
   ]
  },
  {
   "cell_type": "markdown",
   "metadata": {},
   "source": [
    "Multiply the number of 1-jolt and 3-jolt differences."
   ]
  },
  {
   "cell_type": "code",
   "execution_count": 8,
   "metadata": {
    "collapsed": false
   },
   "outputs": [],
   "source": [
    "solution1 = uncurry (*) . countDifferences"
   ]
  },
  {
   "cell_type": "markdown",
   "metadata": {},
   "source": [
    "## Solution, part 1"
   ]
  },
  {
   "cell_type": "code",
   "execution_count": 9,
   "metadata": {
    "collapsed": false
   },
   "outputs": [
    {
     "data": {
      "text/plain": [
       "2484"
      ]
     },
     "metadata": {},
     "output_type": "display_data"
    }
   ],
   "source": [
    "solution1 <$> inputNumbers"
   ]
  },
  {
   "cell_type": "markdown",
   "metadata": {},
   "source": [
    "# Part 2"
   ]
  },
  {
   "cell_type": "code",
   "execution_count": 10,
   "metadata": {
    "collapsed": true
   },
   "outputs": [],
   "source": [
    "import qualified Data.Map as Map\n",
    "import Data.Maybe (fromMaybe)"
   ]
  },
  {
   "cell_type": "markdown",
   "metadata": {},
   "source": [
    "Count the number of ways to connect the charging outlet to the device using the provided adapters. We do this iteratively and start with the number of ways to start at the charging outlet with 0 jolts, i.e., 1.\n",
    "\n",
    "The helper function `f` takes the known numbers of ways to arrive at some of the adapters, and the joltages of the remaining adapters (which must be higher than the joltages of the known adapters). It returns the number of ways to arrive at the highest joltage. If there are no remaining adapters, the iteration terinates. Otherwise, the helper function `g` is used to look up the number of ways to arrive at adapters with 1, 2, or 3 jolts lower."
   ]
  },
  {
   "cell_type": "code",
   "execution_count": 11,
   "metadata": {
    "collapsed": false
   },
   "outputs": [],
   "source": [
    "solution2 numbers = f (Map.fromList [(0, 1)]) $ sort numbers\n",
    "    where\n",
    "        f ways [] = snd . Map.findMax $ ways\n",
    "        f ways (x:xs) = f (Map.insert x (g 1 + g 2 + g 3) ways) xs\n",
    "            where\n",
    "                g diff = fromMaybe 0 (Map.lookup (x - diff) ways)"
   ]
  },
  {
   "cell_type": "markdown",
   "metadata": {},
   "source": [
    "Verify given examples."
   ]
  },
  {
   "cell_type": "code",
   "execution_count": 12,
   "metadata": {
    "collapsed": false
   },
   "outputs": [
    {
     "data": {
      "text/plain": [
       "8"
      ]
     },
     "metadata": {},
     "output_type": "display_data"
    }
   ],
   "source": [
    "solution2 testNumbers1"
   ]
  },
  {
   "cell_type": "code",
   "execution_count": 13,
   "metadata": {
    "collapsed": false
   },
   "outputs": [
    {
     "data": {
      "text/plain": [
       "19208"
      ]
     },
     "metadata": {},
     "output_type": "display_data"
    }
   ],
   "source": [
    "solution2 testNumbers2"
   ]
  },
  {
   "cell_type": "markdown",
   "metadata": {},
   "source": [
    "## Solution, part 2"
   ]
  },
  {
   "cell_type": "code",
   "execution_count": null,
   "metadata": {
    "collapsed": false
   },
   "outputs": [
    {
     "data": {
      "text/plain": [
       "15790581481472"
      ]
     },
     "metadata": {},
     "output_type": "display_data"
    }
   ],
   "source": [
    "solution2 <$> inputNumbers"
   ]
  }
 ],
 "metadata": {
  "kernelspec": {
   "display_name": "Haskell",
   "language": "haskell",
   "name": "haskell"
  },
  "language_info": {
   "codemirror_mode": "ihaskell",
   "file_extension": ".hs",
   "name": "haskell",
   "version": "7.10.2"
  }
 },
 "nbformat": 4,
 "nbformat_minor": 0
}
