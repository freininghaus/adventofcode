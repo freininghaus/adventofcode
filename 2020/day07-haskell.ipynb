{
 "cells": [
  {
   "cell_type": "markdown",
   "metadata": {},
   "source": [
    "# Day 7: Handy Haversacks\n",
    "https://adventofcode.com/2020/day/7"
   ]
  },
  {
   "cell_type": "code",
   "execution_count": 1,
   "metadata": {},
   "outputs": [],
   "source": [
    "inputLines = lines <$> readFile \"input/day07.txt\""
   ]
  },
  {
   "cell_type": "code",
   "execution_count": 2,
   "metadata": {},
   "outputs": [],
   "source": [
    "import qualified Data.Map as Map"
   ]
  },
  {
   "cell_type": "code",
   "execution_count": 3,
   "metadata": {},
   "outputs": [],
   "source": [
    "import Text.Regex.PCRE  -- install with 'stack install regex-pcre'\n",
    "import Data.List.Split (splitOn)  -- install with 'stack install split'"
   ]
  },
  {
   "cell_type": "code",
   "execution_count": 4,
   "metadata": {},
   "outputs": [],
   "source": [
    "testInput = \n",
    "  [ \"light red bags contain 1 bright white bag, 2 muted yellow bags.\"\n",
    "  , \"dark orange bags contain 3 bright white bags, 4 muted yellow bags.\"\n",
    "  , \"bright white bags contain 1 shiny gold bag.\"\n",
    "  , \"muted yellow bags contain 2 shiny gold bags, 9 faded blue bags.\"\n",
    "  , \"shiny gold bags contain 1 dark olive bag, 2 vibrant plum bags.\"\n",
    "  , \"dark olive bags contain 3 faded blue bags, 4 dotted black bags.\"\n",
    "  , \"vibrant plum bags contain 5 faded blue bags, 6 dotted black bags.\"\n",
    "  , \"faded blue bags contain no other bags.\"\n",
    "  , \"dotted black bags contain no other bags.\" ]"
   ]
  },
  {
   "cell_type": "markdown",
   "metadata": {},
   "source": [
    "# Parse the given rules\n",
    "The rules are represented by a nested map:\n",
    "* The keys are the bag types\n",
    "* The values are maps that describe the contents of each bag type:\n",
    "    * The keys of the inner maps are the types of the contained bags\n",
    "    * The values are the numbers of those bags that are contained in the outer bag"
   ]
  },
  {
   "cell_type": "code",
   "execution_count": 5,
   "metadata": {},
   "outputs": [],
   "source": [
    "parseRules :: [String] -> Map.Map String (Map.Map String Int)\n",
    "parseRules = \n",
    "    let\n",
    "        parseRule :: String -> (String, Map.Map String Int)\n",
    "        parseRule rule = (bagType, parseContents contents)\n",
    "            where\n",
    "                [_, bagType, contents] = head (rule =~ \"^(.*) bags contain (.*)\\\\.$\" :: [[String]])\n",
    "\n",
    "        parseContents :: String -> Map.Map String Int\n",
    "        parseContents \"no other bags\" = Map.empty\n",
    "        parseContents contents = Map.fromList . map parseItem . splitOn \", \" $ contents\n",
    "        \n",
    "        parseItem :: String -> (String, Int)\n",
    "        parseItem item = (bagType, read number)\n",
    "            where\n",
    "                [_, number, bagType] = head (item =~ \"^([0-9]+) (.*) bags?$\" :: [[String]])\n",
    "    in\n",
    "        Map.fromList . map parseRule"
   ]
  },
  {
   "cell_type": "markdown",
   "metadata": {},
   "source": [
    "# Part 1\n",
    "`hasBag rules innerBag outerBag` is `True` if `outerBag` contains `innerBag` (either directly or indirectly) according to the given rules."
   ]
  },
  {
   "cell_type": "code",
   "execution_count": 6,
   "metadata": {},
   "outputs": [],
   "source": [
    "hasBag :: Map.Map String (Map.Map String Int) -> String -> String -> Bool\n",
    "hasBag rules innerBag outerBag\n",
    "    | innerBag == outerBag = True\n",
    "    | otherwise = Just True == (\n",
    "                any (hasBag rules innerBag) <$> \n",
    "                (Map.keys <$> Map.lookup outerBag rules))"
   ]
  },
  {
   "cell_type": "markdown",
   "metadata": {},
   "source": [
    "Find the number of bags that contain a `shiny gold` bag."
   ]
  },
  {
   "cell_type": "code",
   "execution_count": 7,
   "metadata": {},
   "outputs": [],
   "source": [
    "solution1 :: Map.Map String (Map.Map String Int) -> Int\n",
    "solution1 rules = length $ filter (hasBag rules targetBag) bagTypes\n",
    "    where\n",
    "        targetBag = \"shiny gold\"\n",
    "        bagTypes = Map.keys $ Map.delete targetBag rules"
   ]
  },
  {
   "cell_type": "markdown",
   "metadata": {},
   "source": [
    "Verify given example."
   ]
  },
  {
   "cell_type": "code",
   "execution_count": 8,
   "metadata": {},
   "outputs": [
    {
     "data": {
      "text/plain": [
       "4"
      ]
     },
     "metadata": {},
     "output_type": "display_data"
    }
   ],
   "source": [
    "solution1 . parseRules $ testInput"
   ]
  },
  {
   "cell_type": "markdown",
   "metadata": {},
   "source": [
    "## Solution, part 1"
   ]
  },
  {
   "cell_type": "code",
   "execution_count": 9,
   "metadata": {},
   "outputs": [
    {
     "data": {
      "text/plain": [
       "115"
      ]
     },
     "metadata": {},
     "output_type": "display_data"
    }
   ],
   "source": [
    "solution1 . parseRules <$> inputLines"
   ]
  },
  {
   "cell_type": "markdown",
   "metadata": {},
   "source": [
    "# Part 2"
   ]
  },
  {
   "cell_type": "code",
   "execution_count": 10,
   "metadata": {},
   "outputs": [],
   "source": [
    "import Data.Maybe (fromJust)"
   ]
  },
  {
   "cell_type": "markdown",
   "metadata": {},
   "source": [
    "Find out how many bags are contained inside a `shiny gold` bag. Note that the `shiny gold` bag itself is not counted."
   ]
  },
  {
   "cell_type": "code",
   "execution_count": 11,
   "metadata": {},
   "outputs": [],
   "source": [
    "solution2 :: Map.Map String (Map.Map String Int) -> Int\n",
    "solution2 rules = numberOfBags startBag - 1  -- do not count the startBag\n",
    "    where\n",
    "        startBag = \"shiny gold\"\n",
    "        numberOfBags bagType = Map.foldlWithKey' accumulate 1 .\n",
    "                               fromJust .\n",
    "                               Map.lookup bagType $ rules\n",
    "        accumulate current bagType number = current + \n",
    "                                            number * numberOfBags bagType"
   ]
  },
  {
   "cell_type": "markdown",
   "metadata": {},
   "source": [
    "Verify given example."
   ]
  },
  {
   "cell_type": "code",
   "execution_count": 12,
   "metadata": {},
   "outputs": [
    {
     "data": {
      "text/plain": [
       "32"
      ]
     },
     "metadata": {},
     "output_type": "display_data"
    }
   ],
   "source": [
    "solution2 . parseRules $ testInput"
   ]
  },
  {
   "cell_type": "markdown",
   "metadata": {},
   "source": [
    "## Solution, part 2"
   ]
  },
  {
   "cell_type": "code",
   "execution_count": 13,
   "metadata": {},
   "outputs": [
    {
     "data": {
      "text/plain": [
       "1250"
      ]
     },
     "metadata": {},
     "output_type": "display_data"
    }
   ],
   "source": [
    "solution2 . parseRules <$> inputLines"
   ]
  }
 ],
 "metadata": {
  "kernelspec": {
   "display_name": "Haskell",
   "language": "haskell",
   "name": "haskell"
  },
  "language_info": {
   "codemirror_mode": "ihaskell",
   "file_extension": ".hs",
   "mimetype": "text/x-haskell",
   "name": "haskell",
   "pygments_lexer": "Haskell",
   "version": "8.8.4"
  }
 },
 "nbformat": 4,
 "nbformat_minor": 4
}
