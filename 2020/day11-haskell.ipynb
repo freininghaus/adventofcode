{
 "cells": [
  {
   "cell_type": "markdown",
   "metadata": {},
   "source": [
    "# Day 11: Seating System\n",
    "https://adventofcode.com/2020/day/11"
   ]
  },
  {
   "cell_type": "code",
   "execution_count": 1,
   "metadata": {
    "collapsed": true
   },
   "outputs": [],
   "source": [
    "inputLines = lines <$> readFile \"input/day11.txt\""
   ]
  },
  {
   "cell_type": "code",
   "execution_count": 2,
   "metadata": {
    "collapsed": true
   },
   "outputs": [],
   "source": [
    "testInput = [ \"L.LL.LL.LL\"\n",
    "            , \"LLLLLLL.LL\"\n",
    "            , \"L.L.L..L..\"\n",
    "            , \"LLLL.LL.LL\"\n",
    "            , \"L.LL.LL.LL\"\n",
    "            , \"L.LLLLL.LL\"\n",
    "            , \"..L.L.....\"\n",
    "            , \"LLLLLLLLLL\"\n",
    "            , \"L.LLLLLL.L\"\n",
    "            , \"L.LLLLL.LL\" ]"
   ]
  },
  {
   "cell_type": "markdown",
   "metadata": {},
   "source": [
    "# Part 1"
   ]
  },
  {
   "cell_type": "code",
   "execution_count": 3,
   "metadata": {
    "collapsed": true
   },
   "outputs": [],
   "source": [
    "import qualified Data.Map as Map"
   ]
  },
  {
   "cell_type": "markdown",
   "metadata": {},
   "source": [
    "Parse the grid into a map that maps coordinates with seats to the seat state (empty: `False`, occupied: `True`)."
   ]
  },
  {
   "cell_type": "code",
   "execution_count": 4,
   "metadata": {
    "collapsed": false
   },
   "outputs": [],
   "source": [
    "parseGrid :: [String] -> Map.Map (Int, Int) Bool\n",
    "parseGrid rows = Map.fromList [((x, y), False) | (y, row)  <- zip [0..] rows,\n",
    "                                                 (x, cell) <- zip [0..] row,\n",
    "                                                 cell == 'L']"
   ]
  },
  {
   "cell_type": "markdown",
   "metadata": {},
   "source": [
    "Execute the given rules to get the next configuration of the grid."
   ]
  },
  {
   "cell_type": "code",
   "execution_count": 5,
   "metadata": {
    "collapsed": true
   },
   "outputs": [],
   "source": [
    "executeRules grid = Map.fromList [((x, y), occupied x y) | (x, y) <- Map.keys grid]\n",
    "    where\n",
    "        occupied x y = \n",
    "            occupiedNeighbors x y == 0 || \n",
    "                (Map.lookup (x, y) grid == Just True &&\n",
    "                occupiedNeighbors x y < 4)\n",
    "        \n",
    "        occupiedNeighbors x y = length .\n",
    "                                filter ((== Just True) . (`Map.lookup` grid)) $\n",
    "                                [(x + dx, y + dy) | dx <- [-1..1],\n",
    "                                                    dy <- [-1..1],\n",
    "                                                    dx /= 0 || dy /= 0]"
   ]
  },
  {
   "cell_type": "markdown",
   "metadata": {},
   "source": [
    "Find the stable configuration, i.e., the first configuration that does not change any more by applying the rules."
   ]
  },
  {
   "cell_type": "code",
   "execution_count": 6,
   "metadata": {
    "collapsed": false
   },
   "outputs": [],
   "source": [
    "stableConfiguration (x1:x2:xs)\n",
    "    | x1 == x2 = x1\n",
    "    | otherwise = stableConfiguration (x2:xs)"
   ]
  },
  {
   "cell_type": "markdown",
   "metadata": {},
   "source": [
    "Count the number of occupied seats."
   ]
  },
  {
   "cell_type": "code",
   "execution_count": 7,
   "metadata": {
    "collapsed": true
   },
   "outputs": [],
   "source": [
    "countOccupied = length . filter id . Map.elems"
   ]
  },
  {
   "cell_type": "code",
   "execution_count": 8,
   "metadata": {
    "collapsed": true
   },
   "outputs": [],
   "source": [
    "solution1 = countOccupied . stableConfiguration . iterate executeRules . parseGrid"
   ]
  },
  {
   "cell_type": "markdown",
   "metadata": {},
   "source": [
    "Verify given example."
   ]
  },
  {
   "cell_type": "code",
   "execution_count": 9,
   "metadata": {
    "collapsed": false
   },
   "outputs": [
    {
     "data": {
      "text/plain": [
       "37"
      ]
     },
     "metadata": {},
     "output_type": "display_data"
    }
   ],
   "source": [
    "solution1 testInput"
   ]
  },
  {
   "cell_type": "markdown",
   "metadata": {},
   "source": [
    "## Solution, part 1"
   ]
  },
  {
   "cell_type": "code",
   "execution_count": 10,
   "metadata": {
    "collapsed": false
   },
   "outputs": [
    {
     "data": {
      "text/plain": [
       "2108"
      ]
     },
     "metadata": {},
     "output_type": "display_data"
    }
   ],
   "source": [
    "solution1 <$> inputLines"
   ]
  },
  {
   "cell_type": "markdown",
   "metadata": {},
   "source": [
    "# Part 2"
   ]
  },
  {
   "cell_type": "code",
   "execution_count": 11,
   "metadata": {
    "collapsed": false
   },
   "outputs": [],
   "source": [
    "bounds :: Map.Map (Int, Int) Bool -> ((Int, Int), (Int, Int))\n",
    "bounds grid = ((minX, minY), (maxX, maxY))\n",
    "    where\n",
    "        xs = map fst . Map.keys $ grid\n",
    "        ys = map snd . Map.keys $ grid\n",
    "        minX = minimum xs\n",
    "        maxX = maximum xs\n",
    "        minY = minimum ys\n",
    "        maxY = maximum ys"
   ]
  },
  {
   "cell_type": "code",
   "execution_count": 20,
   "metadata": {
    "collapsed": false
   },
   "outputs": [],
   "source": [
    "executeRules2 grid = Map.fromList [((x, y), occupied x y) | (x, y) <- Map.keys grid]\n",
    "    where\n",
    "        occupied x y = \n",
    "            occupiedVisible x y == 0 || \n",
    "                (Map.lookup (x, y) grid == Just True &&\n",
    "                occupiedVisible x y < 5)\n",
    "        \n",
    "        occupiedVisible x y = length .\n",
    "                              filter directionOccupied $\n",
    "                              directions\n",
    "        \n",
    "        ((minX, minY), (maxX, maxY)) = bounds grid\n",
    "        \n",
    "        insideGrid (x, y) = minX <= x &&\n",
    "                            x <= maxX &&\n",
    "                            minY <= y &&\n",
    "                            y <= maxY\n",
    "                              \n",
    "        directions = [(dx, dy) | dx <- [-1..1],\n",
    "                                 dy <- [-1..1],\n",
    "                                 dx /= 0 || dy /= 0]\n",
    "\n",
    "        firstSeatForDirection :: (Int, Int) -> Maybe (Int, Int)\n",
    "        firstSeatForDirection (dx, dy) = \n",
    "            case cellsInDirection of [] -> Nothing\n",
    "                                     (p:_) -> Just p\n",
    "            where cellsInDirection = filter (`Map.member` grid) .\n",
    "                                     takeWhile insideGrid $\n",
    "                                     [(i * dx, i * dy) | i <- [1..]]\n",
    "\n",
    "        directionOccupied (dx, dy) = (Just True ==) $ (Just True == ) . (`Map.lookup` grid) <$> firstSeatForDirection (dx, dy)"
   ]
  },
  {
   "cell_type": "code",
   "execution_count": 21,
   "metadata": {
    "collapsed": true
   },
   "outputs": [],
   "source": [
    "solution2 = countOccupied . stableConfiguration . iterate executeRules2 . parseGrid"
   ]
  },
  {
   "cell_type": "code",
   "execution_count": 22,
   "metadata": {
    "collapsed": false
   },
   "outputs": [
    {
     "data": {
      "text/plain": [
       "71"
      ]
     },
     "metadata": {},
     "output_type": "display_data"
    }
   ],
   "source": [
    "solution2 testInput"
   ]
  },
  {
   "cell_type": "code",
   "execution_count": 15,
   "metadata": {
    "collapsed": false
   },
   "outputs": [
    {
     "data": {
      "text/plain": [
       "fromList [((0,0),True),((0,1),True),((0,2),True),((0,3),True),((0,4),True),((0,5),True),((0,7),True),((0,8),True),((0,9),True),((1,1),True),((1,3),True),((1,7),True),((2,0),True),((2,1),True),((2,2),True),((2,3),True),((2,4),True),((2,5),True),((2,6),True),((2,7),True),((2,8),True),((2,9),True),((3,0),True),((3,1),True),((3,3),True),((3,4),True),((3,5),True),((3,7),True),((3,8),True),((3,9),True),((4,1),True),((4,2),True),((4,5),True),((4,6),True),((4,7),True),((4,8),True),((4,9),True),((5,0),True),((5,1),True),((5,3),True),((5,4),True),((5,5),True),((5,7),True),((5,8),True),((5,9),True),((6,0),True),((6,1),True),((6,3),True),((6,4),True),((6,5),True),((6,7),True),((6,8),True),((6,9),True),((7,2),True),((7,7),True),((7,8),True),((8,0),True),((8,1),True),((8,3),True),((8,4),True),((8,5),True),((8,7),True),((8,9),True),((9,0),True),((9,1),True),((9,3),True),((9,4),True),((9,5),True),((9,7),True),((9,8),True),((9,9),True)]"
      ]
     },
     "metadata": {},
     "output_type": "display_data"
    }
   ],
   "source": [
    "stableConfiguration . iterate executeRules2 . parseGrid $ testInput"
   ]
  },
  {
   "cell_type": "code",
   "execution_count": 16,
   "metadata": {
    "collapsed": false
   },
   "outputs": [
    {
     "data": {
      "text/html": [
       "<style>/* Styles used for the Hoogle display in the pager */\n",
       ".hoogle-doc {\n",
       "display: block;\n",
       "padding-bottom: 1.3em;\n",
       "padding-left: 0.4em;\n",
       "}\n",
       ".hoogle-code {\n",
       "display: block;\n",
       "font-family: monospace;\n",
       "white-space: pre;\n",
       "}\n",
       ".hoogle-text {\n",
       "display: block;\n",
       "}\n",
       ".hoogle-name {\n",
       "color: green;\n",
       "font-weight: bold;\n",
       "}\n",
       ".hoogle-head {\n",
       "font-weight: bold;\n",
       "}\n",
       ".hoogle-sub {\n",
       "display: block;\n",
       "margin-left: 0.4em;\n",
       "}\n",
       ".hoogle-package {\n",
       "font-weight: bold;\n",
       "font-style: italic;\n",
       "}\n",
       ".hoogle-module {\n",
       "font-weight: bold;\n",
       "}\n",
       ".hoogle-class {\n",
       "font-weight: bold;\n",
       "}\n",
       ".get-type {\n",
       "color: green;\n",
       "font-weight: bold;\n",
       "font-family: monospace;\n",
       "display: block;\n",
       "white-space: pre-wrap;\n",
       "}\n",
       ".show-type {\n",
       "color: green;\n",
       "font-weight: bold;\n",
       "font-family: monospace;\n",
       "margin-left: 1em;\n",
       "}\n",
       ".mono {\n",
       "font-family: monospace;\n",
       "display: block;\n",
       "}\n",
       ".err-msg {\n",
       "color: red;\n",
       "font-style: italic;\n",
       "font-family: monospace;\n",
       "white-space: pre;\n",
       "display: block;\n",
       "}\n",
       "#unshowable {\n",
       "color: red;\n",
       "font-weight: bold;\n",
       "}\n",
       ".err-msg.in.collapse {\n",
       "padding-top: 0.7em;\n",
       "}\n",
       ".highlight-code {\n",
       "white-space: pre;\n",
       "font-family: monospace;\n",
       "}\n",
       ".suggestion-warning { \n",
       "font-weight: bold;\n",
       "color: rgb(200, 130, 0);\n",
       "}\n",
       ".suggestion-error { \n",
       "font-weight: bold;\n",
       "color: red;\n",
       "}\n",
       ".suggestion-name {\n",
       "font-weight: bold;\n",
       "}\n",
       "</style><span class='err-msg'>Not in scope: `traceShowId'</span>"
      ],
      "text/plain": [
       "Not in scope: `traceShowId'"
      ]
     },
     "metadata": {},
     "output_type": "display_data"
    }
   ],
   "source": [
    "traceShowId 5"
   ]
  },
  {
   "cell_type": "code",
   "execution_count": 17,
   "metadata": {
    "collapsed": false
   },
   "outputs": [
    {
     "data": {
      "text/html": [
       "<style>/* Styles used for the Hoogle display in the pager */\n",
       ".hoogle-doc {\n",
       "display: block;\n",
       "padding-bottom: 1.3em;\n",
       "padding-left: 0.4em;\n",
       "}\n",
       ".hoogle-code {\n",
       "display: block;\n",
       "font-family: monospace;\n",
       "white-space: pre;\n",
       "}\n",
       ".hoogle-text {\n",
       "display: block;\n",
       "}\n",
       ".hoogle-name {\n",
       "color: green;\n",
       "font-weight: bold;\n",
       "}\n",
       ".hoogle-head {\n",
       "font-weight: bold;\n",
       "}\n",
       ".hoogle-sub {\n",
       "display: block;\n",
       "margin-left: 0.4em;\n",
       "}\n",
       ".hoogle-package {\n",
       "font-weight: bold;\n",
       "font-style: italic;\n",
       "}\n",
       ".hoogle-module {\n",
       "font-weight: bold;\n",
       "}\n",
       ".hoogle-class {\n",
       "font-weight: bold;\n",
       "}\n",
       ".get-type {\n",
       "color: green;\n",
       "font-weight: bold;\n",
       "font-family: monospace;\n",
       "display: block;\n",
       "white-space: pre-wrap;\n",
       "}\n",
       ".show-type {\n",
       "color: green;\n",
       "font-weight: bold;\n",
       "font-family: monospace;\n",
       "margin-left: 1em;\n",
       "}\n",
       ".mono {\n",
       "font-family: monospace;\n",
       "display: block;\n",
       "}\n",
       ".err-msg {\n",
       "color: red;\n",
       "font-style: italic;\n",
       "font-family: monospace;\n",
       "white-space: pre;\n",
       "display: block;\n",
       "}\n",
       "#unshowable {\n",
       "color: red;\n",
       "font-weight: bold;\n",
       "}\n",
       ".err-msg.in.collapse {\n",
       "padding-top: 0.7em;\n",
       "}\n",
       ".highlight-code {\n",
       "white-space: pre;\n",
       "font-family: monospace;\n",
       "}\n",
       ".suggestion-warning { \n",
       "font-weight: bold;\n",
       "color: rgb(200, 130, 0);\n",
       "}\n",
       ".suggestion-error { \n",
       "font-weight: bold;\n",
       "color: red;\n",
       "}\n",
       ".suggestion-name {\n",
       "font-weight: bold;\n",
       "}\n",
       "</style><span class='err-msg'>Not in scope: `trace'</span>"
      ],
      "text/plain": [
       "Not in scope: `trace'"
      ]
     },
     "metadata": {},
     "output_type": "display_data"
    }
   ],
   "source": [
    "trace \"a\" \"b\""
   ]
  },
  {
   "cell_type": "code",
   "execution_count": 18,
   "metadata": {
    "collapsed": false
   },
   "outputs": [
    {
     "data": {
      "text/plain": [
       "fromList [((0,0),True),((0,1),True),((0,2),True),((0,3),True),((0,4),True),((0,5),True),((0,7),True),((0,8),True),((0,9),True),((1,1),True),((1,3),True),((1,7),True),((2,0),True),((2,1),True),((2,2),True),((2,3),True),((2,4),True),((2,5),True),((2,6),True),((2,7),True),((2,8),True),((2,9),True),((3,0),True),((3,1),True),((3,3),True),((3,4),True),((3,5),True),((3,7),True),((3,8),True),((3,9),True),((4,1),True),((4,2),True),((4,5),True),((4,6),True),((4,7),True),((4,8),True),((4,9),True),((5,0),True),((5,1),True),((5,3),True),((5,4),True),((5,5),True),((5,7),True),((5,8),True),((5,9),True),((6,0),True),((6,1),True),((6,3),True),((6,4),True),((6,5),True),((6,7),True),((6,8),True),((6,9),True),((7,2),True),((7,7),True),((7,8),True),((8,0),True),((8,1),True),((8,3),True),((8,4),True),((8,5),True),((8,7),True),((8,9),True),((9,0),True),((9,1),True),((9,3),True),((9,4),True),((9,5),True),((9,7),True),((9,8),True),((9,9),True)]"
      ]
     },
     "metadata": {},
     "output_type": "display_data"
    }
   ],
   "source": [
    "executeRules2 . executeRules2 . parseGrid $ testInput"
   ]
  },
  {
   "cell_type": "code",
   "execution_count": 19,
   "metadata": {
    "collapsed": false
   },
   "outputs": [
    {
     "data": {
      "text/html": [
       "<style>/* Styles used for the Hoogle display in the pager */\n",
       ".hoogle-doc {\n",
       "display: block;\n",
       "padding-bottom: 1.3em;\n",
       "padding-left: 0.4em;\n",
       "}\n",
       ".hoogle-code {\n",
       "display: block;\n",
       "font-family: monospace;\n",
       "white-space: pre;\n",
       "}\n",
       ".hoogle-text {\n",
       "display: block;\n",
       "}\n",
       ".hoogle-name {\n",
       "color: green;\n",
       "font-weight: bold;\n",
       "}\n",
       ".hoogle-head {\n",
       "font-weight: bold;\n",
       "}\n",
       ".hoogle-sub {\n",
       "display: block;\n",
       "margin-left: 0.4em;\n",
       "}\n",
       ".hoogle-package {\n",
       "font-weight: bold;\n",
       "font-style: italic;\n",
       "}\n",
       ".hoogle-module {\n",
       "font-weight: bold;\n",
       "}\n",
       ".hoogle-class {\n",
       "font-weight: bold;\n",
       "}\n",
       ".get-type {\n",
       "color: green;\n",
       "font-weight: bold;\n",
       "font-family: monospace;\n",
       "display: block;\n",
       "white-space: pre-wrap;\n",
       "}\n",
       ".show-type {\n",
       "color: green;\n",
       "font-weight: bold;\n",
       "font-family: monospace;\n",
       "margin-left: 1em;\n",
       "}\n",
       ".mono {\n",
       "font-family: monospace;\n",
       "display: block;\n",
       "}\n",
       ".err-msg {\n",
       "color: red;\n",
       "font-style: italic;\n",
       "font-family: monospace;\n",
       "white-space: pre;\n",
       "display: block;\n",
       "}\n",
       "#unshowable {\n",
       "color: red;\n",
       "font-weight: bold;\n",
       "}\n",
       ".err-msg.in.collapse {\n",
       "padding-top: 0.7em;\n",
       "}\n",
       ".highlight-code {\n",
       "white-space: pre;\n",
       "font-family: monospace;\n",
       "}\n",
       ".suggestion-warning { \n",
       "font-weight: bold;\n",
       "color: rgb(200, 130, 0);\n",
       "}\n",
       ".suggestion-error { \n",
       "font-weight: bold;\n",
       "color: red;\n",
       "}\n",
       ".suggestion-name {\n",
       "font-weight: bold;\n",
       "}\n",
       "</style><span class='get-type'>Map.member :: forall k a. Ord k => k -> Map k a -> Bool</span>"
      ],
      "text/plain": [
       "Map.member :: forall k a. Ord k => k -> Map k a -> Bool"
      ]
     },
     "metadata": {},
     "output_type": "display_data"
    }
   ],
   "source": [
    ":t Map.member"
   ]
  },
  {
   "cell_type": "code",
   "execution_count": null,
   "metadata": {
    "collapsed": true
   },
   "outputs": [],
   "source": []
  }
 ],
 "metadata": {
  "kernelspec": {
   "display_name": "Haskell",
   "language": "haskell",
   "name": "haskell"
  },
  "language_info": {
   "codemirror_mode": "ihaskell",
   "file_extension": ".hs",
   "name": "haskell",
   "version": "7.10.2"
  }
 },
 "nbformat": 4,
 "nbformat_minor": 0
}
