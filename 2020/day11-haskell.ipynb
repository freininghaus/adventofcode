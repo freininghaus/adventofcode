{
 "cells": [
  {
   "cell_type": "markdown",
   "metadata": {},
   "source": [
    "# Day 11: Seating System\n",
    "https://adventofcode.com/2020/day/11"
   ]
  },
  {
   "cell_type": "code",
   "execution_count": 1,
   "metadata": {
    "collapsed": true
   },
   "outputs": [],
   "source": [
    "inputLines = lines <$> readFile \"input/day11.txt\""
   ]
  },
  {
   "cell_type": "code",
   "execution_count": 2,
   "metadata": {
    "collapsed": true
   },
   "outputs": [],
   "source": [
    "testInput = [ \"L.LL.LL.LL\"\n",
    "            , \"LLLLLLL.LL\"\n",
    "            , \"L.L.L..L..\"\n",
    "            , \"LLLL.LL.LL\"\n",
    "            , \"L.LL.LL.LL\"\n",
    "            , \"L.LLLLL.LL\"\n",
    "            , \"..L.L.....\"\n",
    "            , \"LLLLLLLLLL\"\n",
    "            , \"L.LLLLLL.L\"\n",
    "            , \"L.LLLLL.LL\" ]"
   ]
  },
  {
   "cell_type": "markdown",
   "metadata": {},
   "source": [
    "# Part 1"
   ]
  },
  {
   "cell_type": "code",
   "execution_count": 3,
   "metadata": {
    "collapsed": true
   },
   "outputs": [],
   "source": [
    "import qualified Data.Map as Map"
   ]
  },
  {
   "cell_type": "markdown",
   "metadata": {},
   "source": [
    "Parse the grid into a map that maps coordinates with seats to the seat state (empty: `False`, occupied: `True`)."
   ]
  },
  {
   "cell_type": "code",
   "execution_count": 4,
   "metadata": {
    "collapsed": false
   },
   "outputs": [],
   "source": [
    "parseGrid :: [String] -> Map.Map (Int, Int) Bool\n",
    "parseGrid rows = Map.fromList [((x, y), False) | (y, row)  <- zip [0..] rows,\n",
    "                                                 (x, cell) <- zip [0..] row,\n",
    "                                                 cell == 'L']"
   ]
  },
  {
   "cell_type": "markdown",
   "metadata": {},
   "source": [
    "Execute the given rules to get the next configuration of the grid."
   ]
  },
  {
   "cell_type": "code",
   "execution_count": 5,
   "metadata": {
    "collapsed": true
   },
   "outputs": [],
   "source": [
    "executeRules grid = Map.fromList [((x, y), occupied x y) | (x, y) <- Map.keys grid]\n",
    "    where\n",
    "        occupied x y = \n",
    "            occupiedNeighbors x y == 0 || \n",
    "                (Map.lookup (x, y) grid == Just True &&\n",
    "                occupiedNeighbors x y < 4)\n",
    "        \n",
    "        occupiedNeighbors x y = length .\n",
    "                                filter ((== Just True) . (`Map.lookup` grid)) $\n",
    "                                [(x + dx, y + dy) | dx <- [-1..1],\n",
    "                                                    dy <- [-1..1],\n",
    "                                                    dx /= 0 || dy /= 0]"
   ]
  },
  {
   "cell_type": "markdown",
   "metadata": {},
   "source": [
    "Find the stable configuration, i.e., the first configuration that does not change any more by applying the rules."
   ]
  },
  {
   "cell_type": "code",
   "execution_count": 6,
   "metadata": {
    "collapsed": false
   },
   "outputs": [],
   "source": [
    "stableConfiguration (x1:x2:xs)\n",
    "    | x1 == x2 = x1\n",
    "    | otherwise = stableConfiguration (x2:xs)"
   ]
  },
  {
   "cell_type": "markdown",
   "metadata": {},
   "source": [
    "Count the number of occupied seats."
   ]
  },
  {
   "cell_type": "code",
   "execution_count": 7,
   "metadata": {
    "collapsed": true
   },
   "outputs": [],
   "source": [
    "countOccupied = length . filter id . Map.elems"
   ]
  },
  {
   "cell_type": "code",
   "execution_count": 8,
   "metadata": {
    "collapsed": true
   },
   "outputs": [],
   "source": [
    "solution1 = countOccupied . stableConfiguration . iterate executeRules . parseGrid"
   ]
  },
  {
   "cell_type": "markdown",
   "metadata": {},
   "source": [
    "Verify given example."
   ]
  },
  {
   "cell_type": "code",
   "execution_count": 9,
   "metadata": {
    "collapsed": false
   },
   "outputs": [
    {
     "data": {
      "text/plain": [
       "37"
      ]
     },
     "metadata": {},
     "output_type": "display_data"
    }
   ],
   "source": [
    "solution1 testInput"
   ]
  },
  {
   "cell_type": "markdown",
   "metadata": {},
   "source": [
    "## Solution, part 1"
   ]
  },
  {
   "cell_type": "code",
   "execution_count": 10,
   "metadata": {
    "collapsed": false
   },
   "outputs": [
    {
     "data": {
      "text/plain": [
       "2108"
      ]
     },
     "metadata": {},
     "output_type": "display_data"
    }
   ],
   "source": [
    "solution1 <$> inputLines"
   ]
  }
 ],
 "metadata": {
  "kernelspec": {
   "display_name": "Haskell",
   "language": "haskell",
   "name": "haskell"
  },
  "language_info": {
   "codemirror_mode": "ihaskell",
   "file_extension": ".hs",
   "name": "haskell",
   "version": "7.10.2"
  }
 },
 "nbformat": 4,
 "nbformat_minor": 0
}
