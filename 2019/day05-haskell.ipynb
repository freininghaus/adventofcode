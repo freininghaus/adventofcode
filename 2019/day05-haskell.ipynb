{
 "cells": [
  {
   "cell_type": "markdown",
   "metadata": {},
   "source": [
    "# Day 5: Sunny with a Chance of Asteroids\n",
    "https://adventofcode.com/2019/day/5\n",
    "\n",
    "# TODO\n",
    "* cleanups\n",
    "* more comments"
   ]
  },
  {
   "cell_type": "code",
   "execution_count": 1,
   "metadata": {
    "collapsed": true
   },
   "outputs": [],
   "source": [
    "inputLine = head . lines <$> readFile \"input/day05.txt\""
   ]
  },
  {
   "cell_type": "markdown",
   "metadata": {},
   "source": [
    "# Computer memory\n",
    "The computer's memory is represented by an array of ints."
   ]
  },
  {
   "cell_type": "code",
   "execution_count": 2,
   "metadata": {
    "collapsed": true
   },
   "outputs": [],
   "source": [
    "import Data.Array\n",
    "type Memory = Array Int Int"
   ]
  },
  {
   "cell_type": "markdown",
   "metadata": {},
   "source": [
    "### Convert a list of ints to a `Memory` object"
   ]
  },
  {
   "cell_type": "code",
   "execution_count": 3,
   "metadata": {
    "collapsed": true
   },
   "outputs": [],
   "source": [
    "listToProgram :: [Int] -> Memory\n",
    "listToProgram numbers = listArray (0, length numbers - 1) numbers"
   ]
  },
  {
   "cell_type": "markdown",
   "metadata": {},
   "source": [
    "### Parse a program in string representation"
   ]
  },
  {
   "cell_type": "code",
   "execution_count": 4,
   "metadata": {
    "collapsed": false
   },
   "outputs": [],
   "source": [
    "import Data.List.Split\n",
    "\n",
    "parseProgram :: String -> Memory\n",
    "parseProgram = listToProgram . map read . splitOn \",\""
   ]
  },
  {
   "cell_type": "markdown",
   "metadata": {},
   "source": [
    "### Define a data type for parameters in *position* and *immediate* mode"
   ]
  },
  {
   "cell_type": "code",
   "execution_count": 5,
   "metadata": {
    "collapsed": true
   },
   "outputs": [],
   "source": [
    "data Parameter = Position Int | Immediate Int deriving (Show)"
   ]
  },
  {
   "cell_type": "markdown",
   "metadata": {},
   "source": [
    "### Read a value from a parameter"
   ]
  },
  {
   "cell_type": "code",
   "execution_count": 6,
   "metadata": {
    "collapsed": false
   },
   "outputs": [],
   "source": [
    "readValue :: Memory -> Parameter -> Int\n",
    "readValue memory (Position index) = memory ! index\n",
    "readValue _ (Immediate value) = value"
   ]
  },
  {
   "cell_type": "markdown",
   "metadata": {},
   "source": [
    "### Write a value to a parameter (not possible in *immediate* mode)"
   ]
  },
  {
   "cell_type": "code",
   "execution_count": 7,
   "metadata": {
    "collapsed": false
   },
   "outputs": [],
   "source": [
    "import Control.Lens\n",
    "\n",
    "writeValue :: Memory -> Parameter -> Int -> Memory\n",
    "writeValue memory (Position index) value  = set (element index) value memory\n",
    "writeValue _ (Immediate _) _ = error \"writeValue: cannot write to immediate value\""
   ]
  },
  {
   "cell_type": "markdown",
   "metadata": {},
   "source": [
    "## The `Computer` data type\n"
   ]
  },
  {
   "cell_type": "code",
   "execution_count": 8,
   "metadata": {
    "collapsed": false
   },
   "outputs": [],
   "source": [
    "data ComputerState = Ready | Halted | WaitingForInput | ExecutingInstruction [Int]"
   ]
  },
  {
   "cell_type": "code",
   "execution_count": 9,
   "metadata": {
    "collapsed": false
   },
   "outputs": [],
   "source": [
    "data Computer = Computer { \n",
    "    state :: ComputerState,\n",
    "    memory :: Memory,\n",
    "    currentIndex :: Int,\n",
    "    inputBuffer :: [Int],\n",
    "    reversedOutputBuffer :: [Int] }"
   ]
  },
  {
   "cell_type": "markdown",
   "metadata": {},
   "source": [
    "## Load a program into the computer"
   ]
  },
  {
   "cell_type": "code",
   "execution_count": 10,
   "metadata": {
    "collapsed": false
   },
   "outputs": [],
   "source": [
    "loadProgram :: String -> Computer\n",
    "loadProgram program = Computer {\n",
    "    state = Ready,\n",
    "    memory = parseProgram program,\n",
    "    currentIndex = 0,\n",
    "    inputBuffer = [],\n",
    "    reversedOutputBuffer = [] }"
   ]
  },
  {
   "cell_type": "markdown",
   "metadata": {},
   "source": [
    "## Use the State monad to define computer instructions"
   ]
  },
  {
   "cell_type": "code",
   "execution_count": 11,
   "metadata": {
    "collapsed": true
   },
   "outputs": [],
   "source": [
    "import Control.Monad.State"
   ]
  },
  {
   "cell_type": "code",
   "execution_count": 12,
   "metadata": {
    "collapsed": true
   },
   "outputs": [],
   "source": [
    "setState :: ComputerState -> State Computer ()\n",
    "setState newState = do\n",
    "    computer <- get\n",
    "    put computer { state = newState }"
   ]
  },
  {
   "cell_type": "code",
   "execution_count": 13,
   "metadata": {
    "collapsed": false
   },
   "outputs": [],
   "source": [
    "changeCurrentIndex :: (Int -> Int) -> State Computer ()\n",
    "changeCurrentIndex f = do\n",
    "    computer <- get\n",
    "    put computer { currentIndex = f . currentIndex $ computer }\n",
    "\n",
    "moveCurrentIndexForward = changeCurrentIndex succ\n",
    "moveCurrentIndexBackward = changeCurrentIndex pred\n",
    "setCurrentIndex newIndex = changeCurrentIndex (\\_ -> newIndex)"
   ]
  },
  {
   "cell_type": "code",
   "execution_count": 14,
   "metadata": {
    "collapsed": false
   },
   "outputs": [],
   "source": [
    "writeToMemory :: Parameter -> Int -> State Computer ()\n",
    "writeToMemory parameter value = do\n",
    "    computer <- get\n",
    "    put computer { memory = writeValue (memory computer) parameter value }"
   ]
  },
  {
   "cell_type": "code",
   "execution_count": 15,
   "metadata": {
    "collapsed": false
   },
   "outputs": [],
   "source": [
    "readInput :: State Computer Int\n",
    "readInput = do\n",
    "    computer <- get\n",
    "    case inputBuffer computer of [] -> error \"readInput: input buffer is empty\"\n",
    "                                 (i:is) -> do\n",
    "                                     put computer { inputBuffer = is }\n",
    "                                     return i"
   ]
  },
  {
   "cell_type": "code",
   "execution_count": 16,
   "metadata": {
    "collapsed": false
   },
   "outputs": [],
   "source": [
    "writeOutput :: Int -> State Computer ()\n",
    "writeOutput value = do\n",
    "    computer <- get\n",
    "    put computer { reversedOutputBuffer = value:reversedOutputBuffer computer }"
   ]
  },
  {
   "cell_type": "code",
   "execution_count": 17,
   "metadata": {
    "collapsed": false
   },
   "outputs": [],
   "source": [
    "getNextInt :: State Computer Int\n",
    "getNextInt = do\n",
    "    computer <- get\n",
    "    let result = memory computer ! currentIndex computer\n",
    "    moveCurrentIndexForward\n",
    "    return result"
   ]
  },
  {
   "cell_type": "code",
   "execution_count": 18,
   "metadata": {
    "collapsed": false
   },
   "outputs": [],
   "source": [
    "loadNextOpcode :: State Computer Int\n",
    "loadNextOpcode = do\n",
    "    computerState <- gets state\n",
    "    case computerState of\n",
    "        Halted -> error \"halted computer cannot execute instructions\"\n",
    "        WaitingForInput -> error \"computer is waiting for input, cannot execute instructions\"\n",
    "        ExecutingInstruction _ -> error \"computer is already executing an instruction\"\n",
    "        Ready -> do\n",
    "            n <- getNextInt\n",
    "            let parameterModes = map (`mod` 10) . iterate (`div` 10) $ n `div` 100\n",
    "            setState $ ExecutingInstruction parameterModes\n",
    "            return $ n `mod` 100"
   ]
  },
  {
   "cell_type": "code",
   "execution_count": 19,
   "metadata": {
    "collapsed": false
   },
   "outputs": [],
   "source": [
    "getNextParameter :: State Computer Parameter\n",
    "getNextParameter = do\n",
    "    computerState <- gets state\n",
    "    case computerState of\n",
    "        ExecutingInstruction (pm:pms) -> do\n",
    "            n <- getNextInt\n",
    "            setState $ ExecutingInstruction pms\n",
    "            return $ parameterMode pm n\n",
    "        _ -> error \"getNextParameter: not executing an instruction\"\n",
    "    where\n",
    "        parameterMode 0 = Position\n",
    "        parameterMode 1 = Immediate"
   ]
  },
  {
   "cell_type": "code",
   "execution_count": 20,
   "metadata": {
    "collapsed": false
   },
   "outputs": [],
   "source": [
    "loadParameterValue :: State Computer Int\n",
    "loadParameterValue = do\n",
    "    parameter <- getNextParameter\n",
    "    memory <- gets memory\n",
    "    return $ readValue memory parameter"
   ]
  },
  {
   "cell_type": "code",
   "execution_count": 21,
   "metadata": {
    "collapsed": false
   },
   "outputs": [],
   "source": [
    "storeResultValue :: Int -> State Computer ()\n",
    "storeResultValue value = do\n",
    "    parameter <- getNextParameter\n",
    "    writeToMemory parameter value"
   ]
  },
  {
   "cell_type": "code",
   "execution_count": 22,
   "metadata": {
    "collapsed": false
   },
   "outputs": [],
   "source": [
    "provideInput :: [Int] -> State Computer ()\n",
    "provideInput values = do\n",
    "    computer <- get\n",
    "    put computer { inputBuffer = inputBuffer computer ++ values }"
   ]
  },
  {
   "cell_type": "code",
   "execution_count": 23,
   "metadata": {
    "collapsed": false
   },
   "outputs": [],
   "source": [
    "consumeOutput :: State Computer [Int]\n",
    "consumeOutput = do\n",
    "    computer <- get\n",
    "    put computer { reversedOutputBuffer = [] }\n",
    "    return . reverse . reversedOutputBuffer $ computer"
   ]
  },
  {
   "cell_type": "code",
   "execution_count": 24,
   "metadata": {
    "collapsed": false
   },
   "outputs": [],
   "source": [
    "binaryFunction :: (Int -> Int -> Int) -> State Computer ()\n",
    "binaryFunction f = do\n",
    "    a <- loadParameterValue\n",
    "    b <- loadParameterValue\n",
    "    storeResultValue $ f a b\n",
    "\n",
    "add = binaryFunction (+)\n",
    "mul = binaryFunction (*)\n",
    "\n",
    "-- lessThan and equals take two Ints and return an Int (1 or 0). See\n",
    "-- * https://stackoverflow.com/questions/13426417/how-do-i-re-write-a-haskell-function-of-two-argument-to-point-free-style\n",
    "-- * http://sleepomeno.github.io/blog/2014/08/14/Composing-two-argument-functions/\n",
    "lessThan = binaryFunction ((fromEnum .) . (<))\n",
    "equals = binaryFunction ((fromEnum .) . (==))"
   ]
  },
  {
   "cell_type": "code",
   "execution_count": 25,
   "metadata": {
    "collapsed": false
   },
   "outputs": [],
   "source": [
    "conditionalJump :: (Int -> Bool) -> State Computer ()\n",
    "conditionalJump predicate = do\n",
    "    value <- loadParameterValue\n",
    "    targetIndex <- loadParameterValue\n",
    "    when (predicate value) $ setCurrentIndex targetIndex\n",
    "\n",
    "jumpIfTrue = conditionalJump (/= 0)\n",
    "jumpIfFalse = conditionalJump (== 0)"
   ]
  },
  {
   "cell_type": "code",
   "execution_count": 26,
   "metadata": {
    "collapsed": false
   },
   "outputs": [],
   "source": [
    "input :: State Computer ()\n",
    "input = do\n",
    "    inputBufferEmpty <- gets (null . inputBuffer)\n",
    "    if inputBufferEmpty then do\n",
    "        setState WaitingForInput\n",
    "        \n",
    "        -- Move the instruction pointer back. The opcode can then\n",
    "        -- be loaded again if there is input data in the buffer.\n",
    "        moveCurrentIndexBackward\n",
    "    else readInput >>= storeResultValue"
   ]
  },
  {
   "cell_type": "code",
   "execution_count": 27,
   "metadata": {
    "collapsed": false
   },
   "outputs": [],
   "source": [
    "output :: State Computer ()\n",
    "output = loadParameterValue >>= writeOutput"
   ]
  },
  {
   "cell_type": "code",
   "execution_count": 28,
   "metadata": {
    "collapsed": false
   },
   "outputs": [],
   "source": [
    "halt :: State Computer ()\n",
    "halt = setState Halted"
   ]
  },
  {
   "cell_type": "code",
   "execution_count": 29,
   "metadata": {
    "collapsed": false
   },
   "outputs": [],
   "source": [
    "executeOpcode :: Int -> State Computer ()\n",
    "executeOpcode 1 = add\n",
    "executeOpcode 2 = mul\n",
    "executeOpcode 3 = input\n",
    "executeOpcode 4 = output\n",
    "executeOpcode 5 = jumpIfTrue\n",
    "executeOpcode 6 = jumpIfFalse\n",
    "executeOpcode 7 = lessThan\n",
    "executeOpcode 8 = equals\n",
    "executeOpcode 99 = halt"
   ]
  },
  {
   "cell_type": "code",
   "execution_count": 30,
   "metadata": {
    "collapsed": false
   },
   "outputs": [],
   "source": [
    "import Data.Maybe (fromJust)\n",
    "\n",
    "executeNextInstruction :: State Computer ()\n",
    "executeNextInstruction = do\n",
    "    loadNextOpcode >>= executeOpcode\n",
    "    computerState <- gets state\n",
    "    case computerState of\n",
    "        -- the instruction did not abort with a custom state\n",
    "        ExecutingInstruction _ -> setState Ready\n",
    "        \n",
    "        -- the instruction did set a custom state -> keep it\n",
    "        _ -> return ()"
   ]
  },
  {
   "cell_type": "code",
   "execution_count": 31,
   "metadata": {
    "collapsed": false
   },
   "outputs": [],
   "source": [
    "run :: State Computer [Int]\n",
    "run = do\n",
    "    computerState <- gets state\n",
    "    case computerState of\n",
    "        Ready -> do\n",
    "            executeNextInstruction\n",
    "            run\n",
    "        _ -> consumeOutput"
   ]
  },
  {
   "cell_type": "code",
   "execution_count": 32,
   "metadata": {
    "collapsed": false
   },
   "outputs": [],
   "source": [
    "runWithInput :: [Int] -> State Computer [Int]\n",
    "runWithInput inputBuffer = do\n",
    "    provideInput inputBuffer\n",
    "    run"
   ]
  },
  {
   "cell_type": "code",
   "execution_count": 33,
   "metadata": {
    "collapsed": false
   },
   "outputs": [],
   "source": [
    "computer = loadProgram <$> inputLine"
   ]
  },
  {
   "cell_type": "markdown",
   "metadata": {},
   "source": [
    "## Solution, part 1"
   ]
  },
  {
   "cell_type": "code",
   "execution_count": 34,
   "metadata": {
    "collapsed": false
   },
   "outputs": [
    {
     "data": {
      "text/plain": [
       "[0,0,0,0,0,0,0,0,0,7265618]"
      ]
     },
     "metadata": {},
     "output_type": "display_data"
    }
   ],
   "source": [
    "evalState (runWithInput [1]) <$> computer"
   ]
  },
  {
   "cell_type": "markdown",
   "metadata": {},
   "source": [
    "## Solution, part 2"
   ]
  },
  {
   "cell_type": "code",
   "execution_count": 35,
   "metadata": {
    "collapsed": false
   },
   "outputs": [
    {
     "data": {
      "text/plain": [
       "[7731427]"
      ]
     },
     "metadata": {},
     "output_type": "display_data"
    }
   ],
   "source": [
    "evalState (runWithInput [5]) <$> computer"
   ]
  }
 ],
 "metadata": {
  "kernelspec": {
   "display_name": "Haskell",
   "language": "haskell",
   "name": "haskell"
  },
  "language_info": {
   "codemirror_mode": "ihaskell",
   "file_extension": ".hs",
   "name": "haskell",
   "version": "7.10.2"
  }
 },
 "nbformat": 4,
 "nbformat_minor": 0
}
