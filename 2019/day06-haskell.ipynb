{
 "cells": [
  {
   "cell_type": "markdown",
   "metadata": {},
   "source": [
    "# Day 6: Universal Orbit Map\n",
    "https://adventofcode.com/2019/day/6"
   ]
  },
  {
   "cell_type": "code",
   "execution_count": 1,
   "metadata": {
    "collapsed": true
   },
   "outputs": [],
   "source": [
    "inputLines = lines <$> readFile \"input/day06.txt\""
   ]
  },
  {
   "cell_type": "code",
   "execution_count": 2,
   "metadata": {
    "collapsed": true
   },
   "outputs": [],
   "source": [
    "import qualified Data.Map as Map\n",
    "import Data.List.Split"
   ]
  },
  {
   "cell_type": "code",
   "execution_count": 3,
   "metadata": {
    "collapsed": false
   },
   "outputs": [],
   "source": [
    "inputOrbits :: IO (Map.Map String String)\n",
    "inputOrbits = Map.fromList . map ((\\ [a, b] -> (b, a)) . splitOn \")\") <$> inputLines"
   ]
  },
  {
   "cell_type": "markdown",
   "metadata": {},
   "source": [
    "## Parse the given strings and construct a map of direct orbits\n",
    "The map maps each object to the object that it orbits directly."
   ]
  },
  {
   "cell_type": "code",
   "execution_count": 4,
   "metadata": {
    "collapsed": true
   },
   "outputs": [],
   "source": [
    "parseOrbits :: [String] -> Map.Map String String\n",
    "parseOrbits = Map.fromList . map ((\\ [a, b] -> (b, a)) . splitOn \")\")"
   ]
  },
  {
   "cell_type": "code",
   "execution_count": 5,
   "metadata": {
    "collapsed": true
   },
   "outputs": [],
   "source": [
    "inputOrbits = parseOrbits <$> inputLines"
   ]
  },
  {
   "cell_type": "markdown",
   "metadata": {},
   "source": [
    "## Find the path from a given object to the center of mass"
   ]
  },
  {
   "cell_type": "code",
   "execution_count": 6,
   "metadata": {
    "collapsed": true
   },
   "outputs": [],
   "source": [
    "pathToCenterOfMass :: Map.Map String String -> String -> [String]\n",
    "pathToCenterOfMass orbits start = go start\n",
    "    where\n",
    "        go :: String -> [String]\n",
    "        go object = case maybeObject2 of Nothing -> [object]\n",
    "                                         Just object2 -> object:go object2\n",
    "            where\n",
    "                maybeObject2 :: Maybe String\n",
    "                maybeObject2 = Map.lookup object orbits"
   ]
  },
  {
   "cell_type": "markdown",
   "metadata": {},
   "source": [
    "## Part 1\n",
    "Calculate the total number of direct and indirect orbits for a given map of direct orbits. Note that we use `pred` to reduce each path length by one because each path includes its start object, which does not count."
   ]
  },
  {
   "cell_type": "code",
   "execution_count": 7,
   "metadata": {
    "collapsed": false
   },
   "outputs": [],
   "source": [
    "numberOfOrbits :: Map.Map String String -> Int\n",
    "numberOfOrbits directOrbits = sum . map (pred . length . pathToCenterOfMass directOrbits) . Map.keys $ directOrbits"
   ]
  },
  {
   "cell_type": "markdown",
   "metadata": {},
   "source": [
    "### Verify given example"
   ]
  },
  {
   "cell_type": "code",
   "execution_count": 8,
   "metadata": {
    "collapsed": false
   },
   "outputs": [
    {
     "data": {
      "text/plain": [
       "42"
      ]
     },
     "metadata": {},
     "output_type": "display_data"
    }
   ],
   "source": [
    "numberOfOrbits $ parseOrbits [\"COM)B\", \"B)C\", \"C)D\", \"D)E\", \"E)F\", \"B)G\", \"G)H\", \"D)I\", \"E)J\", \"J)K\", \"K)L\"]"
   ]
  },
  {
   "cell_type": "markdown",
   "metadata": {},
   "source": [
    "### Solution"
   ]
  },
  {
   "cell_type": "code",
   "execution_count": 9,
   "metadata": {
    "collapsed": false
   },
   "outputs": [
    {
     "data": {
      "text/plain": [
       "122782"
      ]
     },
     "metadata": {},
     "output_type": "display_data"
    }
   ],
   "source": [
    "numberOfOrbits <$> inputOrbits"
   ]
  },
  {
   "cell_type": "markdown",
   "metadata": {},
   "source": [
    "## Part 2\n",
    "Calculate the number of steps from the object orbited by `object1` to the one orbited by `object2`."
   ]
  },
  {
   "cell_type": "code",
   "execution_count": 10,
   "metadata": {
    "collapsed": false
   },
   "outputs": [],
   "source": [
    "orbitalTransfers :: String -> String -> Map.Map String String -> Int\n",
    "orbitalTransfers object1 object2 directOrbits =\n",
    "    let\n",
    "        pathFromCenterOfMass = reverse . pathToCenterOfMass directOrbits\n",
    "        \n",
    "        path1 = pathFromCenterOfMass object1\n",
    "        path2 = pathFromCenterOfMass object2\n",
    "        \n",
    "        commonPrefixLength :: [String] -> [String] -> Int\n",
    "        commonPrefixLength _ [] = 0\n",
    "        commonPrefixLength [] _ = 0\n",
    "        commonPrefixLength (x:xs) (y:ys)\n",
    "            | x == y = succ $ commonPrefixLength xs ys\n",
    "            | otherwise = 0\n",
    "    in\n",
    "        -- Modifications to the sum of both path lengths:\n",
    "        -- - deduct the common prefix path length twice\n",
    "        -- - add one because the last common object has to be visited\n",
    "        -- - subtract two because object1 and object2 don't count\n",
    "        -- - subtract one because the number of steps is one less than the path length\n",
    "        length path1 + length path2 - 2 * commonPrefixLength path1 path2 + 1 - 2 - 1"
   ]
  },
  {
   "cell_type": "markdown",
   "metadata": {},
   "source": [
    "### Verify given example"
   ]
  },
  {
   "cell_type": "code",
   "execution_count": 11,
   "metadata": {
    "collapsed": false
   },
   "outputs": [
    {
     "data": {
      "text/plain": [
       "4"
      ]
     },
     "metadata": {},
     "output_type": "display_data"
    }
   ],
   "source": [
    "orbitalTransfers \"YOU\" \"SAN\" $ parseOrbits [\"COM)B\", \"B)C\", \"C)D\", \"D)E\", \"E)F\", \"B)G\", \"G)H\", \"D)I\", \"E)J\", \"J)K\", \"K)L\", \"K)YOU\", \"I)SAN\"]"
   ]
  },
  {
   "cell_type": "markdown",
   "metadata": {},
   "source": [
    "### Solution"
   ]
  },
  {
   "cell_type": "code",
   "execution_count": 12,
   "metadata": {
    "collapsed": false
   },
   "outputs": [
    {
     "data": {
      "text/plain": [
       "271"
      ]
     },
     "metadata": {},
     "output_type": "display_data"
    }
   ],
   "source": [
    "orbitalTransfers \"YOU\" \"SAN\" <$> inputOrbits"
   ]
  }
 ],
 "metadata": {
  "kernelspec": {
   "display_name": "Haskell",
   "language": "haskell",
   "name": "haskell"
  },
  "language_info": {
   "codemirror_mode": "ihaskell",
   "file_extension": ".hs",
   "name": "haskell",
   "version": "7.10.2"
  }
 },
 "nbformat": 4,
 "nbformat_minor": 0
}
