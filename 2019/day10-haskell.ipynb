{
 "cells": [
  {
   "cell_type": "markdown",
   "metadata": {},
   "source": [
    "# Day 10: Monitoring Station\n",
    "https://adventofcode.com/2019/day/10"
   ]
  },
  {
   "cell_type": "code",
   "execution_count": 1,
   "metadata": {
    "collapsed": false
   },
   "outputs": [],
   "source": [
    "inputLines = lines <$> readFile \"input/day10.txt\""
   ]
  },
  {
   "cell_type": "markdown",
   "metadata": {},
   "source": [
    "## Represent asteroid positions and connections with 2d vectors"
   ]
  },
  {
   "cell_type": "code",
   "execution_count": 2,
   "metadata": {
    "collapsed": true
   },
   "outputs": [],
   "source": [
    "type Vector = (Int, Int)"
   ]
  },
  {
   "cell_type": "code",
   "execution_count": 3,
   "metadata": {
    "collapsed": true
   },
   "outputs": [],
   "source": [
    "asteroidConnection :: Vector -> Vector -> Vector\n",
    "asteroidConnection (x1, y1) (x2, y2) = (x2 - x1, y2 - y1)"
   ]
  },
  {
   "cell_type": "markdown",
   "metadata": {},
   "source": [
    "## Parse the given map"
   ]
  },
  {
   "cell_type": "code",
   "execution_count": 4,
   "metadata": {
    "collapsed": false
   },
   "outputs": [],
   "source": [
    "import Control.Monad (guard)\n",
    "\n",
    "parseMap :: [String] -> [Vector]\n",
    "parseMap allLines = do\n",
    "    (y, line) <- zip [0..] allLines\n",
    "    (x, point) <- zip [0..] line\n",
    "    guard $ point == '#'\n",
    "    return (x, y)"
   ]
  },
  {
   "cell_type": "markdown",
   "metadata": {},
   "source": [
    "## Find connections with the same direction\n",
    "Dividing the `x` and `y` coordinate of a vector by their greatest common divisor makes it possible to find asteroids which are in the same direction from a given origin."
   ]
  },
  {
   "cell_type": "code",
   "execution_count": 5,
   "metadata": {
    "collapsed": true
   },
   "outputs": [],
   "source": [
    "direction :: Vector -> Vector\n",
    "direction (dx, dy) = (dx `div` g, dy `div` g)\n",
    "    where\n",
    "        g = gcd dx dy"
   ]
  },
  {
   "cell_type": "markdown",
   "metadata": {},
   "source": [
    "## Find the number of visible asteroids from a given origin\n",
    "This is equal to the number of distinct directions for connections from the origin to other asteroids."
   ]
  },
  {
   "cell_type": "code",
   "execution_count": 6,
   "metadata": {
    "collapsed": true
   },
   "outputs": [],
   "source": [
    "import qualified Data.Set as Set\n",
    "\n",
    "numberOfVisibleAsteroids :: Vector -> [Vector] -> Int\n",
    "numberOfVisibleAsteroids origin = countDistinct . map getDirection . filter (/=origin)\n",
    "    where\n",
    "        countDistinct = Set.size . Set.fromList\n",
    "        getDirection = direction . asteroidConnection origin"
   ]
  },
  {
   "cell_type": "markdown",
   "metadata": {},
   "source": [
    "## Find the best position\n",
    "`bestPosition` returns a pair which consists of the maximum number of visible asteroids and the corresponding origin positions."
   ]
  },
  {
   "cell_type": "code",
   "execution_count": 7,
   "metadata": {
    "collapsed": false
   },
   "outputs": [],
   "source": [
    "bestPosition asteroids = maximum . map resultForOrigin $ asteroids\n",
    "    where\n",
    "        resultForOrigin origin = (numberOfVisibleAsteroids origin asteroids, origin)"
   ]
  },
  {
   "cell_type": "markdown",
   "metadata": {},
   "source": [
    "## Verify first given example"
   ]
  },
  {
   "cell_type": "code",
   "execution_count": 8,
   "metadata": {
    "collapsed": false
   },
   "outputs": [
    {
     "data": {
      "text/plain": [
       "(8,(3,4))"
      ]
     },
     "metadata": {},
     "output_type": "display_data"
    }
   ],
   "source": [
    "bestPosition . parseMap $ [ \".#..#\"\n",
    "                          , \".....\"\n",
    "                          , \"#####\"\n",
    "                          , \"....#\"\n",
    "                          , \"...##\" ]"
   ]
  },
  {
   "cell_type": "markdown",
   "metadata": {},
   "source": [
    "## Verify last given example"
   ]
  },
  {
   "cell_type": "code",
   "execution_count": 9,
   "metadata": {
    "collapsed": false
   },
   "outputs": [],
   "source": [
    "largeMap = parseMap [ \".#..##.###...#######\"\n",
    "                    , \"##.############..##.\"\n",
    "                    , \".#.######.########.#\"\n",
    "                    , \".###.#######.####.#.\"\n",
    "                    , \"#####.##.#.##.###.##\"\n",
    "                    , \"..#####..#.#########\"\n",
    "                    , \"####################\"\n",
    "                    , \"#.####....###.#.#.##\"\n",
    "                    , \"##.#################\"\n",
    "                    , \"#####.##.###..####..\"\n",
    "                    , \"..######..##.#######\"\n",
    "                    , \"####.##.####...##..#\"\n",
    "                    , \".#####..#.######.###\"\n",
    "                    , \"##...#.##########...\"\n",
    "                    , \"#.##########.#######\"\n",
    "                    , \".####.#.###.###.#.##\"\n",
    "                    , \"....##.##.###..#####\"\n",
    "                    , \".#.#.###########.###\"\n",
    "                    , \"#.#.#.#####.####.###\"\n",
    "                    , \"###.##.####.##.#..##\" ]"
   ]
  },
  {
   "cell_type": "code",
   "execution_count": 10,
   "metadata": {
    "collapsed": false
   },
   "outputs": [
    {
     "data": {
      "text/plain": [
       "(210,(11,13))"
      ]
     },
     "metadata": {},
     "output_type": "display_data"
    }
   ],
   "source": [
    "bestPosition largeMap"
   ]
  },
  {
   "cell_type": "markdown",
   "metadata": {},
   "source": [
    "## Solution, part 1"
   ]
  },
  {
   "cell_type": "code",
   "execution_count": 11,
   "metadata": {
    "collapsed": false
   },
   "outputs": [
    {
     "data": {
      "text/plain": [
       "(340,(28,29))"
      ]
     },
     "metadata": {},
     "output_type": "display_data"
    }
   ],
   "source": [
    "bestPosition . parseMap <$> inputLines"
   ]
  },
  {
   "cell_type": "markdown",
   "metadata": {},
   "source": [
    "## Part 2"
   ]
  },
  {
   "cell_type": "markdown",
   "metadata": {},
   "source": [
    "Find the annihilation order for a given list of asteroids. **TODO: cleanup!**"
   ]
  },
  {
   "cell_type": "code",
   "execution_count": 12,
   "metadata": {
    "collapsed": false
   },
   "outputs": [],
   "source": [
    "import Data.Function (on)\n",
    "import Data.List (sortOn, sortBy, groupBy)\n",
    "\n",
    "annihilationOrder :: [Vector] -> [Vector]\n",
    "annihilationOrder asteroids =\n",
    "    let\n",
    "        (_, bestPos) = bestPosition asteroids\n",
    "        \n",
    "        manhattanDistance :: Vector -> Int\n",
    "        manhattanDistance = uncurry ((+) `on` abs) . asteroidConnection bestPos\n",
    "        \n",
    "        sortedByDistance = sortOn manhattanDistance $ filter (/=bestPos) asteroids\n",
    "        \n",
    "        compareClockwise :: Vector -> Vector -> Ordering\n",
    "        compareClockwise asteroid1 asteroid2 =\n",
    "            let\n",
    "                angle (x, y) = if phi < 0 then phi + 2 * pi else phi\n",
    "                    where\n",
    "                        phi = (atan2 `on` fromIntegral) x (-y)\n",
    "                        \n",
    "                compareAngle = compare `on` (angle . asteroidConnection bestPos)\n",
    "            in compareAngle asteroid1 asteroid2\n",
    "        \n",
    "        sortedClockwise = sortBy compareClockwise sortedByDistance\n",
    "        \n",
    "        sortedByAnnihilation = map snd $ sortOn fst $ concatMap (zip [0..]) $ groupBy ((==) `on` (direction . asteroidConnection bestPos)) sortedClockwise\n",
    "    in sortedByAnnihilation"
   ]
  },
  {
   "cell_type": "markdown",
   "metadata": {},
   "source": [
    "## Verify given example for large map"
   ]
  },
  {
   "cell_type": "code",
   "execution_count": 13,
   "metadata": {
    "collapsed": false
   },
   "outputs": [
    {
     "data": {
      "text/plain": [
       "[(1,(11,12)),(2,(12,1)),(3,(12,2)),(10,(12,8)),(20,(16,0)),(50,(16,9)),(100,(10,16)),(199,(9,6)),(200,(8,2)),(201,(10,9)),(299,(11,1))]"
      ]
     },
     "metadata": {},
     "output_type": "display_data"
    }
   ],
   "source": [
    "examples = [1, 2, 3, 10, 20, 50, 100, 199, 200, 201, 299]\n",
    "\n",
    "f [] [] = []\n",
    "f (e:es) (x:xs)\n",
    "    | e == fst x = x:f es xs\n",
    "    | e > fst x = f (e:es) xs\n",
    "\n",
    "f examples $ zip [1..] (annihilationOrder largeMap)"
   ]
  },
  {
   "cell_type": "markdown",
   "metadata": {},
   "source": [
    "## Solution, part 2"
   ]
  },
  {
   "cell_type": "code",
   "execution_count": 14,
   "metadata": {
    "collapsed": false
   },
   "outputs": [
    {
     "data": {
      "text/plain": [
       "2628"
      ]
     },
     "metadata": {},
     "output_type": "display_data"
    }
   ],
   "source": [
    "uncurry ((+) . (*100)) . (!! 199) . annihilationOrder . parseMap <$> inputLines"
   ]
  }
 ],
 "metadata": {
  "kernelspec": {
   "display_name": "Haskell",
   "language": "haskell",
   "name": "haskell"
  },
  "language_info": {
   "codemirror_mode": "ihaskell",
   "file_extension": ".hs",
   "name": "haskell",
   "version": "7.10.2"
  }
 },
 "nbformat": 4,
 "nbformat_minor": 0
}
