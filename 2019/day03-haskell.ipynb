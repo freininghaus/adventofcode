{
 "cells": [
  {
   "cell_type": "markdown",
   "metadata": {},
   "source": [
    "# Day 3: Crossed Wires\n",
    "https://adventofcode.com/2019/day/3"
   ]
  },
  {
   "cell_type": "code",
   "execution_count": 1,
   "metadata": {
    "collapsed": true
   },
   "outputs": [],
   "source": [
    "inputLines = lines <$> readFile \"input/day03.txt\""
   ]
  },
  {
   "cell_type": "code",
   "execution_count": 2,
   "metadata": {
    "collapsed": true
   },
   "outputs": [],
   "source": [
    "import qualified Data.Set as Set\n",
    "import Data.List.Split\n",
    "import Control.Lens\n",
    "import Data.Function"
   ]
  },
  {
   "cell_type": "markdown",
   "metadata": {},
   "source": [
    "## Calculate the `(x, y)` points which belong to a path"
   ]
  },
  {
   "cell_type": "code",
   "execution_count": 3,
   "metadata": {
    "collapsed": false
   },
   "outputs": [],
   "source": [
    "calculatePath :: String -> [(Int, Int)]\n",
    "calculatePath path =\n",
    "    let\n",
    "        parseDirection 'U' = over _2 succ\n",
    "        parseDirection 'D' = over _2 pred\n",
    "        parseDirection 'L' = over _1 pred\n",
    "        parseDirection 'R' = over _1 succ\n",
    "        \n",
    "        parseSegment (direction:distance) = replicate (read distance) (parseDirection direction)\n",
    "        \n",
    "        moves = concatMap parseSegment $ splitOn \",\" path\n",
    "    in\n",
    "        tail $ scanl (flip ($)) (0, 0) moves"
   ]
  },
  {
   "cell_type": "markdown",
   "metadata": {},
   "source": [
    "## Calculate the intersection points of two paths"
   ]
  },
  {
   "cell_type": "code",
   "execution_count": 4,
   "metadata": {
    "collapsed": false
   },
   "outputs": [],
   "source": [
    "pathIntersections :: String -> String -> [(Int, Int)]\n",
    "pathIntersections path1 path2 = Set.toList $ on Set.intersection pointsForPath path1 path2\n",
    "    where\n",
    "        pointsForPath = Set.fromList . calculatePath"
   ]
  },
  {
   "cell_type": "markdown",
   "metadata": {},
   "source": [
    "### Verify given example"
   ]
  },
  {
   "cell_type": "code",
   "execution_count": 5,
   "metadata": {
    "collapsed": false
   },
   "outputs": [
    {
     "data": {
      "text/plain": [
       "[(3,3),(6,5)]"
      ]
     },
     "metadata": {},
     "output_type": "display_data"
    }
   ],
   "source": [
    "pathIntersections \"R8,U5,L5,D3\" \"U7,R6,D4,L4\""
   ]
  },
  {
   "cell_type": "markdown",
   "metadata": {},
   "source": [
    "## Find the intersection point which has the smallest Manhattan distance from the origin"
   ]
  },
  {
   "cell_type": "code",
   "execution_count": 6,
   "metadata": {
    "collapsed": false
   },
   "outputs": [],
   "source": [
    "manhattanDistance = uncurry ((+) `on` abs)\n",
    "\n",
    "closestIntersectionDistance :: String -> String -> Int\n",
    "closestIntersectionDistance path1 path2 = minimum . map manhattanDistance $ pathIntersections path1 path2"
   ]
  },
  {
   "cell_type": "markdown",
   "metadata": {},
   "source": [
    "### Verify given examples"
   ]
  },
  {
   "cell_type": "code",
   "execution_count": 7,
   "metadata": {
    "collapsed": false
   },
   "outputs": [
    {
     "data": {
      "text/plain": [
       "6"
      ]
     },
     "metadata": {},
     "output_type": "display_data"
    }
   ],
   "source": [
    "closestIntersectionDistance \"R8,U5,L5,D3\" \"U7,R6,D4,L4\""
   ]
  },
  {
   "cell_type": "code",
   "execution_count": 8,
   "metadata": {
    "collapsed": false
   },
   "outputs": [
    {
     "data": {
      "text/plain": [
       "159"
      ]
     },
     "metadata": {},
     "output_type": "display_data"
    }
   ],
   "source": [
    "closestIntersectionDistance \"R75,D30,R83,U83,L12,D49,R71,U7,L72\" \"U62,R66,U55,R34,D71,R55,D58,R83\""
   ]
  },
  {
   "cell_type": "code",
   "execution_count": 9,
   "metadata": {
    "collapsed": false
   },
   "outputs": [
    {
     "data": {
      "text/plain": [
       "135"
      ]
     },
     "metadata": {},
     "output_type": "display_data"
    }
   ],
   "source": [
    "closestIntersectionDistance \"R98,U47,R26,D63,R33,U87,L62,D20,R33,U53,R51\" \"U98,R91,D20,R16,D67,R40,U7,R15,U6,R7\""
   ]
  },
  {
   "cell_type": "markdown",
   "metadata": {},
   "source": [
    "## Part 1"
   ]
  },
  {
   "cell_type": "code",
   "execution_count": 10,
   "metadata": {
    "collapsed": false
   },
   "outputs": [
    {
     "data": {
      "text/plain": [
       "2129"
      ]
     },
     "metadata": {},
     "output_type": "display_data"
    }
   ],
   "source": [
    "solutionPart1 [path1, path2] = closestIntersectionDistance path1 path2\n",
    "solutionPart1 <$> inputLines"
   ]
  },
  {
   "cell_type": "markdown",
   "metadata": {},
   "source": [
    "## Part 2\n",
    "Now we are interested in the intersection point which has the fewest combined steps from the origin for both paths."
   ]
  },
  {
   "cell_type": "code",
   "execution_count": 11,
   "metadata": {
    "collapsed": true
   },
   "outputs": [],
   "source": [
    "import qualified Data.Map as Map"
   ]
  },
  {
   "cell_type": "code",
   "execution_count": 12,
   "metadata": {
    "collapsed": false
   },
   "outputs": [],
   "source": [
    "pathIntersectionsWithCombinedDistance :: String -> String -> [((Int, Int), Int)]\n",
    "pathIntersectionsWithCombinedDistance path1 path2 = Map.toList $ on (Map.intersectionWith (+)) pointsForPathWithDistance path1 path2\n",
    "    where\n",
    "        pointsForPathWithDistance path = Map.fromList (zip (calculatePath path) [1..])"
   ]
  },
  {
   "cell_type": "code",
   "execution_count": 13,
   "metadata": {
    "collapsed": false
   },
   "outputs": [],
   "source": [
    "minimumCombinedDistanceForIntersections :: String -> String -> Int\n",
    "minimumCombinedDistanceForIntersections path1 path2 = minimum . map snd $ pathIntersectionsWithCombinedDistance path1 path2"
   ]
  },
  {
   "cell_type": "markdown",
   "metadata": {},
   "source": [
    "### Verify given examples"
   ]
  },
  {
   "cell_type": "code",
   "execution_count": 14,
   "metadata": {
    "collapsed": false
   },
   "outputs": [
    {
     "data": {
      "text/plain": [
       "30"
      ]
     },
     "metadata": {},
     "output_type": "display_data"
    }
   ],
   "source": [
    "minimumCombinedDistanceForIntersections \"R8,U5,L5,D3\" \"U7,R6,D4,L4\""
   ]
  },
  {
   "cell_type": "code",
   "execution_count": 15,
   "metadata": {
    "collapsed": false
   },
   "outputs": [
    {
     "data": {
      "text/plain": [
       "610"
      ]
     },
     "metadata": {},
     "output_type": "display_data"
    }
   ],
   "source": [
    "minimumCombinedDistanceForIntersections \"R75,D30,R83,U83,L12,D49,R71,U7,L72\" \"U62,R66,U55,R34,D71,R55,D58,R83\""
   ]
  },
  {
   "cell_type": "code",
   "execution_count": 16,
   "metadata": {
    "collapsed": false
   },
   "outputs": [
    {
     "data": {
      "text/plain": [
       "410"
      ]
     },
     "metadata": {},
     "output_type": "display_data"
    }
   ],
   "source": [
    "minimumCombinedDistanceForIntersections \"R98,U47,R26,D63,R33,U87,L62,D20,R33,U53,R51\" \"U98,R91,D20,R16,D67,R40,U7,R15,U6,R7\""
   ]
  },
  {
   "cell_type": "markdown",
   "metadata": {},
   "source": [
    "### Solution"
   ]
  },
  {
   "cell_type": "code",
   "execution_count": 17,
   "metadata": {
    "collapsed": false
   },
   "outputs": [
    {
     "data": {
      "text/plain": [
       "134662"
      ]
     },
     "metadata": {},
     "output_type": "display_data"
    }
   ],
   "source": [
    "solutionPart2 [path1, path2] = minimum (map snd (pathIntersectionsWithCombinedDistance path1 path2))\n",
    "solutionPart2 <$> inputLines"
   ]
  }
 ],
 "metadata": {
  "kernelspec": {
   "display_name": "Haskell",
   "language": "haskell",
   "name": "haskell"
  },
  "language_info": {
   "codemirror_mode": "ihaskell",
   "file_extension": ".hs",
   "name": "haskell",
   "version": "7.10.2"
  }
 },
 "nbformat": 4,
 "nbformat_minor": 0
}
