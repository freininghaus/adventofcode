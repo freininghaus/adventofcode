{
 "cells": [
  {
   "cell_type": "markdown",
   "metadata": {},
   "source": [
    "# Day 4: Secure Container\n",
    "https://adventofcode.com/2019/day/4"
   ]
  },
  {
   "cell_type": "code",
   "execution_count": 1,
   "metadata": {
    "collapsed": true
   },
   "outputs": [],
   "source": [
    "inputLine = head . lines <$> readFile \"input/day04.txt\""
   ]
  },
  {
   "cell_type": "code",
   "execution_count": 2,
   "metadata": {
    "collapsed": true
   },
   "outputs": [],
   "source": [
    "import Data.List.Split\n",
    "import Control.Monad"
   ]
  },
  {
   "cell_type": "code",
   "execution_count": 3,
   "metadata": {
    "collapsed": false
   },
   "outputs": [],
   "source": [
    "minAndMaxValues = map read . splitOn \"-\" <$> inputLine"
   ]
  },
  {
   "cell_type": "markdown",
   "metadata": {},
   "source": [
    "## Part 1\n",
    "A valid password\n",
    "* consists of 6 digits\n",
    "* the digits never decrease going from left to right\n",
    "* two adjacent digits are the same\n",
    "* the value is in the range given by the puzzle input"
   ]
  },
  {
   "cell_type": "code",
   "execution_count": 4,
   "metadata": {
    "collapsed": false
   },
   "outputs": [],
   "source": [
    "hasSameAdjacentDigits :: [Int] -> Bool\n",
    "hasSameAdjacentDigits = any (uncurry (==)) . (zip <*> tail)"
   ]
  },
  {
   "cell_type": "code",
   "execution_count": 5,
   "metadata": {
    "collapsed": false
   },
   "outputs": [],
   "source": [
    "validPasswords constraint [minValue, maxValue] = do\n",
    "    a <- [0..9]\n",
    "    b <- [a..9]\n",
    "    c <- [b..9]\n",
    "    d <- [c..9]\n",
    "    e <- [d..9]\n",
    "    f <- [e..9]\n",
    "    let digits = [a, b, c, d, e, f]\n",
    "    guard $ constraint digits\n",
    "    let password = passwordFromDigits digits\n",
    "    guard $ minValue <= password && password <= maxValue\n",
    "    return password\n",
    "\n",
    "    where\n",
    "        passwordFromDigits :: [Int] -> Int\n",
    "        passwordFromDigits = foldl1 ((+) . (10*))"
   ]
  },
  {
   "cell_type": "code",
   "execution_count": 6,
   "metadata": {
    "collapsed": false
   },
   "outputs": [
    {
     "data": {
      "text/plain": [
       "1610"
      ]
     },
     "metadata": {},
     "output_type": "display_data"
    }
   ],
   "source": [
    "length . validPasswords hasSameAdjacentDigits <$> minAndMaxValues"
   ]
  },
  {
   "cell_type": "markdown",
   "metadata": {},
   "source": [
    "## Part 2\n",
    "Part 2 has the additional constraint that the password needs at least one group of exactly two subsequent equal digits."
   ]
  },
  {
   "cell_type": "code",
   "execution_count": 7,
   "metadata": {
    "collapsed": true
   },
   "outputs": [],
   "source": [
    "import Data.List"
   ]
  },
  {
   "cell_type": "code",
   "execution_count": 8,
   "metadata": {
    "collapsed": false
   },
   "outputs": [],
   "source": [
    "hasGroupOf2 :: [Int] -> Bool\n",
    "hasGroupOf2 = elem 2 . map length . group"
   ]
  },
  {
   "cell_type": "code",
   "execution_count": 9,
   "metadata": {
    "collapsed": false
   },
   "outputs": [
    {
     "data": {
      "text/plain": [
       "1104"
      ]
     },
     "metadata": {},
     "output_type": "display_data"
    }
   ],
   "source": [
    "length . validPasswords hasGroupOf2 <$> minAndMaxValues"
   ]
  }
 ],
 "metadata": {
  "kernelspec": {
   "display_name": "Haskell",
   "language": "haskell",
   "name": "haskell"
  },
  "language_info": {
   "codemirror_mode": "ihaskell",
   "file_extension": ".hs",
   "name": "haskell",
   "version": "7.10.2"
  }
 },
 "nbformat": 4,
 "nbformat_minor": 0
}
