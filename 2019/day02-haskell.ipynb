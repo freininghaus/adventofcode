{
 "cells": [
  {
   "cell_type": "markdown",
   "metadata": {},
   "source": [
    "# Day 2: 1202 Program Alarm\n",
    "https://adventofcode.com/2019/day/2"
   ]
  },
  {
   "cell_type": "code",
   "execution_count": 1,
   "metadata": {
    "collapsed": true
   },
   "outputs": [],
   "source": [
    "inputLine = head . lines <$> readFile \"input/day02.txt\""
   ]
  },
  {
   "cell_type": "markdown",
   "metadata": {},
   "source": [
    "## Convert a list of numbers to a program (represented by an array)"
   ]
  },
  {
   "cell_type": "code",
   "execution_count": 2,
   "metadata": {
    "collapsed": true
   },
   "outputs": [],
   "source": [
    "import Data.Array\n",
    "\n",
    "type Program = Array Int Int\n",
    "\n",
    "listToProgram :: [Int] -> Program\n",
    "listToProgram numbers = listArray (0, length numbers - 1) numbers"
   ]
  },
  {
   "cell_type": "markdown",
   "metadata": {},
   "source": [
    "## Convert a string to a program"
   ]
  },
  {
   "cell_type": "code",
   "execution_count": 3,
   "metadata": {
    "collapsed": false
   },
   "outputs": [],
   "source": [
    "import Data.List.Split\n",
    "\n",
    "parseProgram :: String -> Program\n",
    "parseProgram line = listToProgram . map read . splitOn \",\" $ line"
   ]
  },
  {
   "cell_type": "markdown",
   "metadata": {},
   "source": [
    "## Modify a program by storing a new value in a given memory cell"
   ]
  },
  {
   "cell_type": "code",
   "execution_count": 4,
   "metadata": {
    "collapsed": false
   },
   "outputs": [],
   "source": [
    "import Control.Lens\n",
    "\n",
    "writeTo :: Int -> Int -> Program -> Program\n",
    "writeTo index newValue program = set (element index) newValue program"
   ]
  },
  {
   "cell_type": "markdown",
   "metadata": {},
   "source": [
    "## Execute a program, and return the state after executing opcode 99"
   ]
  },
  {
   "cell_type": "code",
   "execution_count": 5,
   "metadata": {
    "collapsed": false
   },
   "outputs": [],
   "source": [
    "executeIndex :: Int -> Program -> Program\n",
    "executeIndex index program =\n",
    "    case opcode of\n",
    "        99 -> program\n",
    "        1 -> calculate (+)\n",
    "        2 -> calculate (*)\n",
    "    where\n",
    "        numberAtOffset offset = program ! (index + offset)\n",
    "        opcode = numberAtOffset 0\n",
    "        operand number = program ! numberAtOffset number\n",
    "        destinationIndex = numberAtOffset 3\n",
    "\n",
    "        calculate operator = executeIndex (index + 4) modifiedProgram\n",
    "            where\n",
    "                result = operator (operand 1) (operand 2)\n",
    "                modifiedProgram = writeTo destinationIndex result program\n",
    "\n",
    "executeProgram :: Program -> Program\n",
    "executeProgram program = executeIndex 0 program"
   ]
  },
  {
   "cell_type": "markdown",
   "metadata": {},
   "source": [
    "## Verify the given results"
   ]
  },
  {
   "cell_type": "code",
   "execution_count": 6,
   "metadata": {
    "collapsed": true
   },
   "outputs": [],
   "source": [
    "check = elems . executeProgram . listToProgram"
   ]
  },
  {
   "cell_type": "code",
   "execution_count": 7,
   "metadata": {
    "collapsed": false
   },
   "outputs": [
    {
     "data": {
      "text/plain": [
       "[3500,9,10,70,2,3,11,0,99,30,40,50]"
      ]
     },
     "metadata": {},
     "output_type": "display_data"
    }
   ],
   "source": [
    "check [1,9,10,3,2,3,11,0,99,30,40,50]"
   ]
  },
  {
   "cell_type": "code",
   "execution_count": 8,
   "metadata": {
    "collapsed": false
   },
   "outputs": [
    {
     "data": {
      "text/plain": [
       "[2,0,0,0,99]"
      ]
     },
     "metadata": {},
     "output_type": "display_data"
    }
   ],
   "source": [
    "check [1,0,0,0,99]"
   ]
  },
  {
   "cell_type": "code",
   "execution_count": 9,
   "metadata": {
    "collapsed": false
   },
   "outputs": [
    {
     "data": {
      "text/plain": [
       "[2,3,0,6,99]"
      ]
     },
     "metadata": {},
     "output_type": "display_data"
    }
   ],
   "source": [
    "check [2,3,0,3,99]"
   ]
  },
  {
   "cell_type": "code",
   "execution_count": 10,
   "metadata": {
    "collapsed": false
   },
   "outputs": [
    {
     "data": {
      "text/plain": [
       "[2,4,4,5,99,9801]"
      ]
     },
     "metadata": {},
     "output_type": "display_data"
    }
   ],
   "source": [
    "check [2,4,4,5,99,0]"
   ]
  },
  {
   "cell_type": "code",
   "execution_count": 11,
   "metadata": {
    "collapsed": false
   },
   "outputs": [
    {
     "data": {
      "text/plain": [
       "[30,1,1,4,2,5,6,0,99]"
      ]
     },
     "metadata": {},
     "output_type": "display_data"
    }
   ],
   "source": [
    "check [1,1,1,4,99,5,6,0,99]"
   ]
  },
  {
   "cell_type": "markdown",
   "metadata": {},
   "source": [
    "## Solution for part 1"
   ]
  },
  {
   "cell_type": "code",
   "execution_count": 12,
   "metadata": {
    "collapsed": false
   },
   "outputs": [],
   "source": [
    "program = parseProgram <$> inputLine"
   ]
  },
  {
   "cell_type": "code",
   "execution_count": 13,
   "metadata": {
    "collapsed": false
   },
   "outputs": [],
   "source": [
    "modifiedProgram = writeTo 1 12 . writeTo 2 2 <$> program"
   ]
  },
  {
   "cell_type": "code",
   "execution_count": 14,
   "metadata": {
    "collapsed": false
   },
   "outputs": [
    {
     "data": {
      "text/plain": [
       "7594646"
      ]
     },
     "metadata": {},
     "output_type": "display_data"
    }
   ],
   "source": [
    "(!0) . executeProgram <$> modifiedProgram"
   ]
  },
  {
   "cell_type": "markdown",
   "metadata": {},
   "source": [
    "## Add some convenience functions and reproduce the solution for part 1"
   ]
  },
  {
   "cell_type": "code",
   "execution_count": 15,
   "metadata": {
    "collapsed": true
   },
   "outputs": [],
   "source": [
    "programWithInput :: Int -> Int -> Program -> Program\n",
    "programWithInput input1 input2 = writeTo 1 input1 . writeTo 2 input2"
   ]
  },
  {
   "cell_type": "code",
   "execution_count": 16,
   "metadata": {
    "collapsed": false
   },
   "outputs": [],
   "source": [
    "outputForInput :: Int -> Int -> Program -> Int\n",
    "outputForInput input1 input2 = (!0) . executeProgram . programWithInput input1 input2"
   ]
  },
  {
   "cell_type": "code",
   "execution_count": 17,
   "metadata": {
    "collapsed": false
   },
   "outputs": [
    {
     "data": {
      "text/plain": [
       "7594646"
      ]
     },
     "metadata": {},
     "output_type": "display_data"
    }
   ],
   "source": [
    "outputForInput 12 2 <$> program"
   ]
  },
  {
   "cell_type": "markdown",
   "metadata": {},
   "source": [
    "## Find pairs of inputs which yield a given output"
   ]
  },
  {
   "cell_type": "code",
   "execution_count": 18,
   "metadata": {
    "collapsed": false
   },
   "outputs": [],
   "source": [
    "findInputsForOutput :: Int -> Program -> [(Int, Int)]\n",
    "findInputsForOutput output program = filter yieldsExpectedOutput [(a, b) | a <- [0..99], b <- [0..99]]\n",
    "    where\n",
    "        yieldsExpectedOutput = (==output) . flip (uncurry outputForInput) program"
   ]
  },
  {
   "cell_type": "markdown",
   "metadata": {},
   "source": [
    "## Verify that the result is consistent with part 1"
   ]
  },
  {
   "cell_type": "code",
   "execution_count": 19,
   "metadata": {
    "collapsed": false
   },
   "outputs": [
    {
     "data": {
      "text/plain": [
       "[(12,2)]"
      ]
     },
     "metadata": {},
     "output_type": "display_data"
    }
   ],
   "source": [
    "findInputsForOutput 7594646 <$> program"
   ]
  },
  {
   "cell_type": "markdown",
   "metadata": {},
   "source": [
    "## Solution for part 2: multiply first input by 100 and add the second"
   ]
  },
  {
   "cell_type": "code",
   "execution_count": 20,
   "metadata": {
    "collapsed": false
   },
   "outputs": [
    {
     "data": {
      "text/plain": [
       "[(33,76)]"
      ]
     },
     "metadata": {},
     "output_type": "display_data"
    }
   ],
   "source": [
    "findInputsForOutput 19690720 <$> program"
   ]
  },
  {
   "cell_type": "code",
   "execution_count": 21,
   "metadata": {
    "collapsed": false
   },
   "outputs": [
    {
     "data": {
      "text/plain": [
       "3376"
      ]
     },
     "metadata": {},
     "output_type": "display_data"
    }
   ],
   "source": [
    "solutionPart2 :: Int -> Program -> Int\n",
    "solutionPart2 output = uncurry ((+) . (*100)) . head . findInputsForOutput output\n",
    "\n",
    "solutionPart2 19690720 <$> program"
   ]
  }
 ],
 "metadata": {
  "kernelspec": {
   "display_name": "Haskell",
   "language": "haskell",
   "name": "haskell"
  },
  "language_info": {
   "codemirror_mode": "ihaskell",
   "file_extension": ".hs",
   "name": "haskell",
   "version": "7.10.2"
  }
 },
 "nbformat": 4,
 "nbformat_minor": 0
}
