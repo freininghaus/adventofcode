{
 "cells": [
  {
   "cell_type": "markdown",
   "id": "77e68087-0d46-479f-a252-bf33f58d2c15",
   "metadata": {},
   "source": [
    "# Day 5: Hydrothermal Venture\n",
    "https://adventofcode.com/2021/day/5"
   ]
  },
  {
   "cell_type": "code",
   "execution_count": 2,
   "id": "b56d2219-ac52-4d8d-9db6-a6346d4c0722",
   "metadata": {},
   "outputs": [],
   "source": [
    "use std::fs;\n",
    "\n",
    "let input_lines = fs::read_to_string(\"input/day05.txt\")\n",
    "    .expect(\"Could not read file.\")\n",
    "    .lines()\n",
    "    .map(|line| line.to_string())\n",
    "    .collect::<Vec<String>>();"
   ]
  },
  {
   "cell_type": "markdown",
   "id": "2d760ded-ddfe-4f19-b423-afac73befeab",
   "metadata": {},
   "source": [
    "We will use regular expressions to parse the input."
   ]
  },
  {
   "cell_type": "code",
   "execution_count": 3,
   "id": "d1e7771f-3925-4d88-b771-ccee701c7c22",
   "metadata": {},
   "outputs": [],
   "source": [
    ":dep regex = \"1.5.4\""
   ]
  },
  {
   "cell_type": "code",
   "execution_count": 4,
   "id": "cba901df-70b4-41e7-9303-c89484b12f69",
   "metadata": {},
   "outputs": [],
   "source": [
    "use regex::Regex;"
   ]
  },
  {
   "cell_type": "code",
   "execution_count": 5,
   "id": "86b15953-2c59-4a45-9423-147ec72195a7",
   "metadata": {},
   "outputs": [],
   "source": [
    "type Point = (i32, i32);\n",
    "type Line = (Point, Point);"
   ]
  },
  {
   "cell_type": "code",
   "execution_count": 6,
   "id": "7aae1f66-8e46-4688-8721-d4e7406897ba",
   "metadata": {},
   "outputs": [],
   "source": [
    "fn parse_line(line: &String) -> Line {\n",
    "    let RE: Regex = Regex::new(r\"(\\d+),(\\d+) -> (\\d+),(\\d+)\").unwrap();\n",
    "\n",
    "    let numbers = RE.captures(line).unwrap().iter()\n",
    "        .skip(1)  // the first element of the iterator is the full matched string\n",
    "        .map(|n| n.unwrap().as_str().parse().unwrap())\n",
    "        .collect::<Vec<i32>>();\n",
    "    \n",
    "    // slice patterns: https://stackoverflow.com/questions/32324645/how-can-i-unpack-destructure-elements-from-a-vector\n",
    "    \n",
    "    if let [x1, y1, x2, y2] = &numbers[..] {\n",
    "        ((*x1, *y1), (*x2, *y2))\n",
    "    } else {\n",
    "        panic!(\"Could not parse line\")\n",
    "    }\n",
    "}"
   ]
  },
  {
   "cell_type": "code",
   "execution_count": 7,
   "id": "8fd2820d-2f57-4509-b824-6e9349cf4d1a",
   "metadata": {},
   "outputs": [],
   "source": [
    "let parsed_input_lines: Vec<Line> = input_lines.iter().map(|line| parse_line(line)).collect();"
   ]
  },
  {
   "cell_type": "markdown",
   "id": "1a1e3e2f-86a8-4368-96b5-9e3cc474b1bb",
   "metadata": {},
   "source": [
    "Verify that parsing works:"
   ]
  },
  {
   "cell_type": "code",
   "execution_count": 8,
   "id": "61520ae2-5a7f-445f-80dd-9531344ec25d",
   "metadata": {},
   "outputs": [
    {
     "data": {
      "text/plain": [
       "[\"72,504 -> 422,154\", \"877,851 -> 680,654\", \"447,989 -> 517,989\"]"
      ]
     },
     "execution_count": 8,
     "metadata": {},
     "output_type": "execute_result"
    }
   ],
   "source": [
    "input_lines[0..3]"
   ]
  },
  {
   "cell_type": "code",
   "execution_count": 9,
   "id": "5c824366-4358-486d-b89a-d2c0b452a7fa",
   "metadata": {},
   "outputs": [
    {
     "data": {
      "text/plain": [
       "[((72, 504), (422, 154)), ((877, 851), (680, 654)), ((447, 989), (517, 989))]"
      ]
     },
     "execution_count": 9,
     "metadata": {},
     "output_type": "execute_result"
    }
   ],
   "source": [
    "parsed_input_lines[0..3]"
   ]
  },
  {
   "cell_type": "markdown",
   "id": "277f2e33-33ee-4af9-bd97-90e17e551152",
   "metadata": {},
   "source": [
    "For part 1, only horizontal and vertical lines are interesting."
   ]
  },
  {
   "cell_type": "code",
   "execution_count": 10,
   "id": "8c6f68f0-83f0-40e4-a390-309342c0d762",
   "metadata": {},
   "outputs": [],
   "source": [
    "fn horizontal_or_vertical(line: &Line) -> bool {\n",
    "    let ((x1, y1), (x2, y2)) = *line;\n",
    "    \n",
    "    match (x2 - x1, y2 - y1) {\n",
    "        (_, 0) => true,\n",
    "        (0, _) => true,\n",
    "        _ => false\n",
    "    }\n",
    "    \n",
    "}"
   ]
  },
  {
   "cell_type": "markdown",
   "id": "7df11a4b-fa6c-4dfa-bfb1-bc4edb319091",
   "metadata": {},
   "source": [
    "Determine all points covered by a line. Note that all lines are horizontal, vertical, or diagonal with an angle of 45 degress."
   ]
  },
  {
   "cell_type": "code",
   "execution_count": 11,
   "id": "03f8400e-83dd-4edd-bfd1-40d917ea6f91",
   "metadata": {},
   "outputs": [],
   "source": [
    "use std::cmp::{min, max};\n",
    "\n",
    "fn covered_points(line: &Line) -> Vec<Point> {\n",
    "    let ((x1, y1), (x2, y2)) = *line;\n",
    "    \n",
    "    match (x2 - x1, y2 - y1) {\n",
    "        (_, 0) => (min(x1, x2)..=max(x1, x2)).map( |x| (x, y1)).collect(),\n",
    "        (0, _) => (min(y1, y2)..=max(y1, y2)).map( |y| (x1, y)).collect(),\n",
    "        (dx, dy) => {\n",
    "            let sx = dx.signum();\n",
    "            let sy = dy.signum();\n",
    "            \n",
    "            (0..=dx.abs()).map(|i| (x1 + i * sx, y1 + i * sy)).collect()\n",
    "        }\n",
    "    }\n",
    "}"
   ]
  },
  {
   "cell_type": "markdown",
   "id": "64bd9fa4-db6b-4e59-a8f0-fcf1224f70f2",
   "metadata": {},
   "source": [
    "We will use `itertools` for counting points with overlapping lines."
   ]
  },
  {
   "cell_type": "code",
   "execution_count": 12,
   "id": "154a40c3-23fa-4eaa-b4ac-10dd246b312a",
   "metadata": {},
   "outputs": [],
   "source": [
    ":dep itertools = \"0.10.3\""
   ]
  },
  {
   "cell_type": "code",
   "execution_count": 13,
   "id": "4f6549f1-59eb-4f3c-a50f-402ce8edd8dd",
   "metadata": {},
   "outputs": [],
   "source": [
    "use itertools::Itertools;"
   ]
  },
  {
   "cell_type": "code",
   "execution_count": 14,
   "id": "9ef33b22-bca7-4e1e-a4a1-da19ad810b52",
   "metadata": {},
   "outputs": [],
   "source": [
    "fn count_points_with_overlapping_lines(lines: &Vec<Line>, filter: &dyn Fn(&Line) -> bool) -> usize {\n",
    "    lines.iter()\n",
    "        .filter(|line| filter(line))\n",
    "        .flat_map(|line| covered_points(line))\n",
    "        .sorted()\n",
    "        .group_by(|&point| point)\n",
    "        .into_iter()\n",
    "        .map(|(_point, group)| group.count())\n",
    "        .filter(|&count| count > 1)\n",
    "        .count()\n",
    "}"
   ]
  },
  {
   "cell_type": "markdown",
   "id": "c4543c99-7632-430a-9953-c38e82d603fa",
   "metadata": {},
   "source": [
    "## Part 1: only horizontal and vertical lines"
   ]
  },
  {
   "cell_type": "code",
   "execution_count": 15,
   "id": "2171284b-2a33-48be-bbe3-cc859e9b0e2e",
   "metadata": {},
   "outputs": [
    {
     "data": {
      "text/plain": [
       "6666"
      ]
     },
     "execution_count": 15,
     "metadata": {},
     "output_type": "execute_result"
    }
   ],
   "source": [
    "count_points_with_overlapping_lines(&parsed_input_lines, &horizontal_or_vertical)"
   ]
  },
  {
   "cell_type": "markdown",
   "id": "ea9433eb-0275-47d6-91ee-f56678bb8911",
   "metadata": {},
   "source": [
    "## Part 2: all lines"
   ]
  },
  {
   "cell_type": "code",
   "execution_count": 16,
   "id": "dfb325c9-78e3-40d3-bb22-18a92c4fcb00",
   "metadata": {},
   "outputs": [
    {
     "data": {
      "text/plain": [
       "19081"
      ]
     },
     "execution_count": 16,
     "metadata": {},
     "output_type": "execute_result"
    }
   ],
   "source": [
    "count_points_with_overlapping_lines(&parsed_input_lines, &|_line| true)"
   ]
  }
 ],
 "metadata": {
  "kernelspec": {
   "display_name": "Rust",
   "language": "rust",
   "name": "rust"
  },
  "language_info": {
   "codemirror_mode": "rust",
   "file_extension": ".rs",
   "mimetype": "text/rust",
   "name": "Rust",
   "pygment_lexer": "rust",
   "version": ""
  }
 },
 "nbformat": 4,
 "nbformat_minor": 5
}
