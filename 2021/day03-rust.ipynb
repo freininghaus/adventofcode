{
 "cells": [
  {
   "cell_type": "markdown",
   "id": "29c5f2d7",
   "metadata": {},
   "source": [
    "# Day 3: Binary Diagnostic\n",
    "https://adventofcode.com/2021/day/3"
   ]
  },
  {
   "cell_type": "code",
   "execution_count": 2,
   "id": "b8a0a3e8",
   "metadata": {},
   "outputs": [],
   "source": [
    "// https://stackoverflow.com/a/35820003\n",
    "\n",
    "use std::{\n",
    "    fs::File,\n",
    "    io::{self, BufRead, BufReader},\n",
    "    path::Path,\n",
    "};\n",
    "\n",
    "fn lines_from_file(filename: impl AsRef<Path>) -> io::Result<Vec<String>> {\n",
    "    BufReader::new(File::open(filename)?).lines().collect()\n",
    "}\n",
    "\n",
    "let lines = lines_from_file(\"input/day03.txt\").unwrap();"
   ]
  },
  {
   "cell_type": "markdown",
   "id": "28f66f62-bb20-4926-acc4-075fa210e088",
   "metadata": {},
   "source": [
    "Transform the lines to vectors of `char` to simplify analysing the digits."
   ]
  },
  {
   "cell_type": "code",
   "execution_count": 3,
   "id": "4e0d097b",
   "metadata": {},
   "outputs": [],
   "source": [
    "let digits = lines[0].len();\n",
    "let number_of_lines = lines.len();\n",
    "let lines_as_chars: Vec<Vec<char>> = lines.iter().map(|line| line.chars().collect()).collect();"
   ]
  },
  {
   "cell_type": "markdown",
   "id": "7e497b7c",
   "metadata": {},
   "source": [
    "## Part 1"
   ]
  },
  {
   "cell_type": "markdown",
   "id": "698d5f7e-e43e-4e45-b53a-0ee5f6d8d04b",
   "metadata": {},
   "source": [
    "As a simple strategy for finding out if zeroes or ones are dominant, we assign the values 1 and -1 to the digits `'1'` and `'0'`, respectively, sum the values for a given digit index for all binary numbers, and check if the result is positive or negative."
   ]
  },
  {
   "cell_type": "code",
   "execution_count": 4,
   "id": "83bdf0e6",
   "metadata": {},
   "outputs": [],
   "source": [
    "// '1' -> +1\n",
    "// '0' -> -1\n",
    "\n",
    "fn char_value(c: char) -> i32 {\n",
    "    (c.to_digit(10).unwrap() as i32) * 2 - 1\n",
    "}"
   ]
  },
  {
   "cell_type": "code",
   "execution_count": 5,
   "id": "f6419359",
   "metadata": {},
   "outputs": [],
   "source": [
    "let count_1_0: Vec<i32> =\n",
    "(0..digits).map(|i| \n",
    "    lines_as_chars.iter().map(move |line| char_value(line[i])).fold(0, |s, x| s + x)).collect();"
   ]
  },
  {
   "cell_type": "code",
   "execution_count": 6,
   "id": "501b3c54",
   "metadata": {},
   "outputs": [
    {
     "data": {
      "text/plain": [
       "\"101111111101\""
      ]
     },
     "execution_count": 6,
     "metadata": {},
     "output_type": "execute_result"
    }
   ],
   "source": [
    "let most_str = count_1_0.iter().map(|&n| if n > 0 { '1' } else { '0' }).collect();\n",
    "most_str"
   ]
  },
  {
   "cell_type": "code",
   "execution_count": 7,
   "id": "777e2e70",
   "metadata": {},
   "outputs": [
    {
     "data": {
      "text/plain": [
       "\"010000000010\""
      ]
     },
     "execution_count": 7,
     "metadata": {},
     "output_type": "execute_result"
    }
   ],
   "source": [
    "let least_str = count_1_0.iter().map(|&n| if n < 0 { '1' } else { '0' }).collect();\n",
    "least_str"
   ]
  },
  {
   "cell_type": "code",
   "execution_count": 8,
   "id": "142f8b75",
   "metadata": {},
   "outputs": [
    {
     "data": {
      "text/plain": [
       "3069"
      ]
     },
     "execution_count": 8,
     "metadata": {},
     "output_type": "execute_result"
    }
   ],
   "source": [
    "let most = i32::from_str_radix(most_str.as_str(), 2).unwrap();\n",
    "most"
   ]
  },
  {
   "cell_type": "code",
   "execution_count": 9,
   "id": "b6710f25",
   "metadata": {},
   "outputs": [
    {
     "data": {
      "text/plain": [
       "1026"
      ]
     },
     "execution_count": 9,
     "metadata": {},
     "output_type": "execute_result"
    }
   ],
   "source": [
    "let least = i32::from_str_radix(least_str.as_str(), 2).unwrap();\n",
    "least"
   ]
  },
  {
   "cell_type": "code",
   "execution_count": 10,
   "id": "99864aaa",
   "metadata": {},
   "outputs": [
    {
     "data": {
      "text/plain": [
       "3148794"
      ]
     },
     "execution_count": 10,
     "metadata": {},
     "output_type": "execute_result"
    }
   ],
   "source": [
    "most * least"
   ]
  },
  {
   "cell_type": "markdown",
   "id": "e8be473d",
   "metadata": {},
   "source": [
    "## Part 1 (more elegant solution with `itertools`)\n",
    "https://docs.rs/itertools/0.10.3/itertools/trait.Itertools.html"
   ]
  },
  {
   "cell_type": "code",
   "execution_count": 11,
   "id": "b2d40458",
   "metadata": {},
   "outputs": [],
   "source": [
    ":dep itertools = \"0.10.3\""
   ]
  },
  {
   "cell_type": "code",
   "execution_count": 12,
   "id": "d4f6433b",
   "metadata": {},
   "outputs": [],
   "source": [
    "use itertools::Itertools;"
   ]
  },
  {
   "cell_type": "markdown",
   "id": "2c4a98eb-a528-47d4-b428-679cc7d0f8e0",
   "metadata": {},
   "source": [
    "A more elegant solution is to sort the digits at a given index for all numbers, use `.group_by()` to group them by their values, and count the number of items in each group.\n",
    "\n",
    "The return value of the function is a `Vec`, where the digits at indices 0 and 1 are the most common and least common values, respectively."
   ]
  },
  {
   "cell_type": "code",
   "execution_count": 13,
   "id": "aacc155d",
   "metadata": {},
   "outputs": [],
   "source": [
    "fn most_common_values_for_bit(numbers: &Vec<Vec<char>>, bit_index: usize) -> Vec<char> {\n",
    "    numbers\n",
    "        .iter()\n",
    "        .map(|s| s[bit_index])\n",
    "        .sorted()\n",
    "        .group_by(|&c| c)\n",
    "        .into_iter()\n",
    "        .map(|(digit, group)| (digit, group.count()))\n",
    "        .sorted_by_key(|(_digit, count)| *count)\n",
    "        .rev()\n",
    "        .map(|(digit, _group)| digit)\n",
    "        .collect()\n",
    "}"
   ]
  },
  {
   "cell_type": "code",
   "execution_count": 14,
   "id": "4ae155db",
   "metadata": {},
   "outputs": [],
   "source": [
    "fn calculate_rate(numbers: &Vec<Vec<char>>, rank: usize) -> i32 {\n",
    "    let digits = numbers[0].len();\n",
    "    let rate_chars: String = (0..digits)\n",
    "        .map(|bit_index| most_common_values_for_bit(numbers, bit_index)[rank])\n",
    "        .collect();\n",
    "    i32::from_str_radix(rate_chars.as_str(), 2).unwrap()\n",
    "}"
   ]
  },
  {
   "cell_type": "code",
   "execution_count": 15,
   "id": "c1a6e802",
   "metadata": {},
   "outputs": [
    {
     "data": {
      "text/plain": [
       "3148794"
      ]
     },
     "execution_count": 15,
     "metadata": {},
     "output_type": "execute_result"
    }
   ],
   "source": [
    "let gamma_rate = calculate_rate(&lines_as_chars, 0);\n",
    "let epsilon_rate = calculate_rate(&lines_as_chars, 1);\n",
    "gamma_rate * epsilon_rate"
   ]
  },
  {
   "cell_type": "markdown",
   "id": "6342a922",
   "metadata": {},
   "source": [
    "## Part 2"
   ]
  },
  {
   "cell_type": "markdown",
   "id": "2f26e3ca-8f81-47c6-8d0a-24a944b3cca7",
   "metadata": {},
   "source": [
    "In part 2, things get a bit more complicated because numbers are removed successively, and it is not guaranteed that either `'0'` or `'1'` occurs strictly more often than the other digit. There could even be just a single digit left in the set of numbers under consideration.\n",
    "\n",
    "Therefore, we have to consider the special cases that only one digit is present, or both are present, but occur equally often. In the latter case, we chose `'1'` and `'0'` for the most and least common digit, respectively."
   ]
  },
  {
   "cell_type": "code",
   "execution_count": 16,
   "id": "edab50b5",
   "metadata": {},
   "outputs": [],
   "source": [
    "#[derive(Copy, Clone)]\n",
    "enum ValueSelector {\n",
    "    MostCommon,\n",
    "    LeastCommon\n",
    "}\n",
    "\n",
    "fn value_for_bit(numbers: &Vec<&Vec<char>>, bit_index: usize, value_selector: ValueSelector) -> char {\n",
    "    let values_sorted_by_frequency: Vec<(char, usize)> = numbers\n",
    "        .iter()\n",
    "        .map(|s| (**s)[bit_index])\n",
    "        .sorted()\n",
    "        .group_by(|&c| c)\n",
    "        .into_iter()\n",
    "        .map(|(digit, group)| (digit, group.count()))\n",
    "        .sorted_by_key(|(_digit, count)| *count)\n",
    "        .collect();\n",
    "    \n",
    "    match values_sorted_by_frequency.len() {\n",
    "        1 => values_sorted_by_frequency[0].0,\n",
    "        2 => if values_sorted_by_frequency[0] == values_sorted_by_frequency[1] {\n",
    "                match value_selector {\n",
    "                    // special case: both values equally common\n",
    "                    ValueSelector::LeastCommon => '0',\n",
    "                    ValueSelector::MostCommon => '1'\n",
    "                }\n",
    "            } else {\n",
    "                values_sorted_by_frequency[match value_selector {\n",
    "                    ValueSelector::LeastCommon => 0,\n",
    "                    ValueSelector::MostCommon => 1\n",
    "                }].0\n",
    "            }\n",
    "        _ => panic!(\"Expected 1 or 2 items in values_sorted_by_frequency.\")\n",
    "    }\n",
    "}"
   ]
  },
  {
   "cell_type": "markdown",
   "id": "4eb8d2ed-bda7-4099-b61d-fbdd645c6ca5",
   "metadata": {},
   "source": [
    "The next function takes a list of numbers, and filters them according to the given bit criteria."
   ]
  },
  {
   "cell_type": "code",
   "execution_count": 17,
   "id": "48250c33",
   "metadata": {},
   "outputs": [],
   "source": [
    "fn filter_bit_criteria<'a>(numbers: &Vec<&'a Vec<char>>,\n",
    "                           bit_index: usize,\n",
    "                           value_selector: ValueSelector) -> Vec<&'a Vec<char>> {\n",
    "    let filter_value = value_for_bit(numbers, bit_index, value_selector);\n",
    "    numbers\n",
    "        .iter()\n",
    "        .filter(|number| number[bit_index] == filter_value)\n",
    "        .map(|&n| n)\n",
    "        .collect()\n",
    "}"
   ]
  },
  {
   "cell_type": "markdown",
   "id": "80267871-7afc-4f13-964d-79764171ec2c",
   "metadata": {},
   "source": [
    "Finally, `calculate_rating(numbers, value_selector)` applies `filter_bit_criteria()` repeatedly for each bit index to the given numbers until only one number remains."
   ]
  },
  {
   "cell_type": "code",
   "execution_count": 18,
   "id": "6b303735",
   "metadata": {},
   "outputs": [],
   "source": [
    "fn calculate_rating(numbers: &Vec<Vec<char>>, value_selector: ValueSelector) -> i32 {\n",
    "    let digits = numbers[0].len();\n",
    "    let numbers_ref: Vec<&Vec<char>> = numbers.iter().collect();\n",
    "    let rate_string: String = (0..digits)\n",
    "        .scan(numbers_ref, |remaining, bit_index| {\n",
    "            *remaining = filter_bit_criteria(remaining, bit_index, value_selector);\n",
    "            Some(remaining.to_owned())\n",
    "        })\n",
    "        .skip_while(|remaining| remaining.len() > 1)\n",
    "        .next()\n",
    "        .unwrap()  // Vec<&Vec<char>>\n",
    "        .iter()\n",
    "        .next()\n",
    "        .unwrap()  // Vec<char>\n",
    "        .iter()\n",
    "        .collect();\n",
    "    i32::from_str_radix(rate_string.as_str(), 2).unwrap()\n",
    "}"
   ]
  },
  {
   "cell_type": "code",
   "execution_count": 19,
   "id": "ddb99df3",
   "metadata": {},
   "outputs": [
    {
     "data": {
      "text/plain": [
       "2795310"
      ]
     },
     "execution_count": 19,
     "metadata": {},
     "output_type": "execute_result"
    }
   ],
   "source": [
    "let oxygen_rating = calculate_rating(&lines_as_chars, ValueSelector::MostCommon);\n",
    "let co2_rating = calculate_rating(&lines_as_chars, ValueSelector::LeastCommon);\n",
    "oxygen_rating * co2_rating"
   ]
  }
 ],
 "metadata": {
  "kernelspec": {
   "display_name": "Rust",
   "language": "rust",
   "name": "rust"
  },
  "language_info": {
   "codemirror_mode": "rust",
   "file_extension": ".rs",
   "mimetype": "text/rust",
   "name": "Rust",
   "pygment_lexer": "rust",
   "version": ""
  }
 },
 "nbformat": 4,
 "nbformat_minor": 5
}
