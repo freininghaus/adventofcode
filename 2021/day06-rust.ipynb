{
 "cells": [
  {
   "cell_type": "markdown",
   "id": "d477a410-961d-475e-820a-87eeda138f75",
   "metadata": {},
   "source": [
    "# Day 6: Lanternfish\n",
    "https://adventofcode.com/2021/day/6"
   ]
  },
  {
   "cell_type": "code",
   "execution_count": 2,
   "id": "1f0ef575-a38d-480c-8c51-02d6f5f6269a",
   "metadata": {},
   "outputs": [],
   "source": [
    "// https://stackoverflow.com/a/35820003\n",
    "\n",
    "use std::{\n",
    "    fs::File,\n",
    "    io::{self, BufRead, BufReader},\n",
    "    path::Path,\n",
    "};\n",
    "\n",
    "fn lines_from_file(filename: impl AsRef<Path>) -> io::Result<Vec<String>> {\n",
    "    BufReader::new(File::open(filename)?).lines().collect()\n",
    "}\n",
    "\n",
    "let mut input_lines = lines_from_file(\"input/day06.txt\").unwrap();\n",
    "\n",
    "if input_lines.len() != 1 {\n",
    "    panic!(\"Expected exactly one input line.\")\n",
    "}\n",
    "\n",
    "let input_line = input_lines.remove(0);"
   ]
  },
  {
   "cell_type": "markdown",
   "id": "2fb896a6-ce63-4bd2-bdcf-7600da0f41ec",
   "metadata": {},
   "source": [
    "We split the input at commas and count the number of lanternfish for each timer value. These counts are then written to an array of length 9 because the timer values can be between 0 and 8 (inclusive)."
   ]
  },
  {
   "cell_type": "code",
   "execution_count": 3,
   "id": "c38c8952-d665-4486-9be4-5aa4b3a5cce4",
   "metadata": {},
   "outputs": [],
   "source": [
    "fn parse_lanternfish_input(input: &String) -> [u64; 9] {\n",
    "    let mut result = [0; 9];\n",
    "    input.split(',').map(|n| n.parse::<usize>().unwrap()).for_each(|timer| result[timer] += 1);\n",
    "    result\n",
    "}"
   ]
  },
  {
   "cell_type": "markdown",
   "id": "914fa4b8-0cac-41ac-b86c-2fbbc7c4f33f",
   "metadata": {},
   "source": [
    "To evolve the lanternfish state by one day, we decrease all timer values by one. Additionally, lanternfish with a timer value of zero get their timer value reset to 6 and produce a new lanternfish with timer value 8."
   ]
  },
  {
   "cell_type": "code",
   "execution_count": 4,
   "id": "77aa30a5-6b31-4817-bd7f-a7146068fa70",
   "metadata": {},
   "outputs": [],
   "source": [
    "fn evolve_lanternfish(state: &[u64; 9]) -> [u64; 9] {\n",
    "    let mut result = [0; 9];\n",
    "    let new_lanternfish_count = state[0];\n",
    "    for i in (0..=7) {\n",
    "        result[i] = state[i + 1];\n",
    "    }\n",
    "    \n",
    "    result[6] += new_lanternfish_count;\n",
    "    result[8] = new_lanternfish_count;\n",
    "    \n",
    "    result\n",
    "}"
   ]
  },
  {
   "cell_type": "markdown",
   "id": "8cdbf10e-fc70-46cc-a52a-f5a1a9c2dc80",
   "metadata": {},
   "source": [
    "To find the lanternfish population after a given number of days, we apply the evolution function repeatedly with `itertools::iterate` (https://docs.rs/itertools/latest/itertools/fn.iterate.html) and sum the counts for the different timer values."
   ]
  },
  {
   "cell_type": "code",
   "execution_count": 5,
   "id": "3e5392c7-8a84-4538-905a-388ae7bfb0dd",
   "metadata": {},
   "outputs": [],
   "source": [
    ":dep itertools = \"0.10.3\""
   ]
  },
  {
   "cell_type": "code",
   "execution_count": 6,
   "id": "8b3b4277-b216-42e2-8ff1-482255c7f5d3",
   "metadata": {},
   "outputs": [],
   "source": [
    "use itertools::iterate;\n",
    "\n",
    "fn count_lanternfish(line: &String, days: usize) -> u64 {\n",
    "    iterate(parse_lanternfish_input(&line), evolve_lanternfish).nth(days).unwrap().iter().map(|&n| n).sum()\n",
    "}"
   ]
  },
  {
   "cell_type": "markdown",
   "id": "7159fc0b-8ba1-4ef5-87b6-bc11d8d9e9ab",
   "metadata": {},
   "source": [
    "Verify given results:"
   ]
  },
  {
   "cell_type": "code",
   "execution_count": 7,
   "id": "82203a82-5a7f-45a3-a0d7-3d0c9cb9ec10",
   "metadata": {},
   "outputs": [],
   "source": [
    "let test_input_line = \"3,4,3,1,2\".to_string();"
   ]
  },
  {
   "cell_type": "code",
   "execution_count": 8,
   "id": "380bbea4-b50a-4178-b1d1-2b04360b0ad8",
   "metadata": {},
   "outputs": [
    {
     "data": {
      "text/plain": [
       "26"
      ]
     },
     "execution_count": 8,
     "metadata": {},
     "output_type": "execute_result"
    }
   ],
   "source": [
    "count_lanternfish(&test_input_line, 18)"
   ]
  },
  {
   "cell_type": "code",
   "execution_count": 9,
   "id": "307ecf9e-a8a9-403d-bb4c-ec28d0c7c160",
   "metadata": {},
   "outputs": [
    {
     "data": {
      "text/plain": [
       "5934"
      ]
     },
     "execution_count": 9,
     "metadata": {},
     "output_type": "execute_result"
    }
   ],
   "source": [
    "count_lanternfish(&test_input_line, 80)"
   ]
  },
  {
   "cell_type": "markdown",
   "id": "dd0c7259-6061-4612-a7a0-085c04e972c7",
   "metadata": {},
   "source": [
    "Calculate the result for the given input:"
   ]
  },
  {
   "cell_type": "code",
   "execution_count": 10,
   "id": "5419449f-9ef4-47c3-a81d-dbd06643950f",
   "metadata": {},
   "outputs": [
    {
     "data": {
      "text/plain": [
       "380612"
      ]
     },
     "execution_count": 10,
     "metadata": {},
     "output_type": "execute_result"
    }
   ],
   "source": [
    "count_lanternfish(&input_line, 80)"
   ]
  },
  {
   "cell_type": "markdown",
   "id": "4ccb5630-4c7d-4c9f-b94a-fac47de38fe8",
   "metadata": {},
   "source": [
    "## Part 2"
   ]
  },
  {
   "cell_type": "markdown",
   "id": "cf61ca17-11ec-4414-a0fb-f5164077c4a5",
   "metadata": {},
   "source": [
    "Verify given result:"
   ]
  },
  {
   "cell_type": "code",
   "execution_count": 11,
   "id": "d027ea0d-eef7-401a-8089-b540b020547e",
   "metadata": {},
   "outputs": [
    {
     "data": {
      "text/plain": [
       "26984457539"
      ]
     },
     "execution_count": 11,
     "metadata": {},
     "output_type": "execute_result"
    }
   ],
   "source": [
    "count_lanternfish(&test_input_line, 256)"
   ]
  },
  {
   "cell_type": "markdown",
   "id": "915263fb-698a-41c6-86e9-ffeef97c4e62",
   "metadata": {},
   "source": [
    "Calculate the result for the given input:"
   ]
  },
  {
   "cell_type": "code",
   "execution_count": 12,
   "id": "00277d67-000b-4fa7-9728-410088c48ef9",
   "metadata": {},
   "outputs": [
    {
     "data": {
      "text/plain": [
       "1710166656900"
      ]
     },
     "execution_count": 12,
     "metadata": {},
     "output_type": "execute_result"
    }
   ],
   "source": [
    "count_lanternfish(&input_line, 256)"
   ]
  }
 ],
 "metadata": {
  "kernelspec": {
   "display_name": "Rust",
   "language": "rust",
   "name": "rust"
  },
  "language_info": {
   "codemirror_mode": "rust",
   "file_extension": ".rs",
   "mimetype": "text/rust",
   "name": "Rust",
   "pygment_lexer": "rust",
   "version": ""
  }
 },
 "nbformat": 4,
 "nbformat_minor": 5
}
