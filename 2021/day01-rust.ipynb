{
 "cells": [
  {
   "cell_type": "markdown",
   "id": "b7214a0b",
   "metadata": {},
   "source": [
    "# Day 1: Sonar Sweep\n",
    "https://adventofcode.com/2021/day/1"
   ]
  },
  {
   "cell_type": "code",
   "execution_count": 2,
   "id": "66dc14e4",
   "metadata": {},
   "outputs": [],
   "source": [
    "// https://stackoverflow.com/a/35820003\n",
    "\n",
    "use std::{\n",
    "    fs::File,\n",
    "    io::{self, BufRead, BufReader},\n",
    "    path::Path,\n",
    "};\n",
    "\n",
    "fn lines_from_file(filename: impl AsRef<Path>) -> io::Result<Vec<String>> {\n",
    "    BufReader::new(File::open(filename)?).lines().collect()\n",
    "}\n",
    "\n",
    "let lines = lines_from_file(\"input/day01.txt\").expect(\"Could not load lines\");"
   ]
  },
  {
   "cell_type": "code",
   "execution_count": 3,
   "id": "b5f2819b",
   "metadata": {},
   "outputs": [],
   "source": [
    "let input_numbers: Vec<i32> = lines.iter().map(|line| line.parse::<i32>().unwrap()).collect();"
   ]
  },
  {
   "cell_type": "markdown",
   "id": "890857c2",
   "metadata": {},
   "source": [
    "## Part 1"
   ]
  },
  {
   "cell_type": "markdown",
   "id": "33e014db",
   "metadata": {},
   "source": [
    "Count how many numbers in the input sequence are larger than their predecessors."
   ]
  },
  {
   "cell_type": "code",
   "execution_count": 4,
   "id": "a36b085b",
   "metadata": {},
   "outputs": [],
   "source": [
    "fn count_increasing(numbers: &Vec<i32>) -> usize {\n",
    "    return numbers.windows(2).filter(|pair| pair[0] < pair[1]).count();\n",
    "}"
   ]
  },
  {
   "cell_type": "code",
   "execution_count": 5,
   "id": "b4316473",
   "metadata": {},
   "outputs": [
    {
     "data": {
      "text/plain": [
       "1233"
      ]
     },
     "execution_count": 5,
     "metadata": {},
     "output_type": "execute_result"
    }
   ],
   "source": [
    "count_increasing(&input_numbers)"
   ]
  },
  {
   "cell_type": "markdown",
   "id": "56d2f428",
   "metadata": {},
   "source": [
    "## Part 2"
   ]
  },
  {
   "cell_type": "markdown",
   "id": "055d7273",
   "metadata": {},
   "source": [
    "Now: consider sliding windows containing three consequetive values, and count how many window sums are larger than their predecessors."
   ]
  },
  {
   "cell_type": "code",
   "execution_count": 6,
   "id": "06dfa69b",
   "metadata": {},
   "outputs": [],
   "source": [
    "let sliding_window_measurements: Vec<i32> = (&input_numbers).windows(3).map(|window| window.iter().sum()).collect();"
   ]
  },
  {
   "cell_type": "code",
   "execution_count": 7,
   "id": "852f0cd4",
   "metadata": {},
   "outputs": [
    {
     "data": {
      "text/plain": [
       "1275"
      ]
     },
     "execution_count": 7,
     "metadata": {},
     "output_type": "execute_result"
    }
   ],
   "source": [
    "count_increasing(&sliding_window_measurements)"
   ]
  }
 ],
 "metadata": {
  "kernelspec": {
   "display_name": "Rust",
   "language": "rust",
   "name": "rust"
  },
  "language_info": {
   "codemirror_mode": "rust",
   "file_extension": ".rs",
   "mimetype": "text/rust",
   "name": "Rust",
   "pygment_lexer": "rust",
   "version": ""
  }
 },
 "nbformat": 4,
 "nbformat_minor": 5
}
