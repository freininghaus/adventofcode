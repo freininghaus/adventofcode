{
 "cells": [
  {
   "cell_type": "markdown",
   "id": "84ff3c6a",
   "metadata": {},
   "source": [
    "# Day 2: Dive!\n",
    "https://adventofcode.com/2021/day/2"
   ]
  },
  {
   "cell_type": "code",
   "execution_count": 2,
   "id": "36866d67",
   "metadata": {},
   "outputs": [],
   "source": [
    "// https://stackoverflow.com/a/35820003\n",
    "\n",
    "use std::{\n",
    "    fs::File,\n",
    "    io::{self, BufRead, BufReader},\n",
    "    path::Path,\n",
    "};\n",
    "\n",
    "fn lines_from_file(filename: impl AsRef<Path>) -> io::Result<Vec<String>> {\n",
    "    BufReader::new(File::open(filename)?).lines().collect()\n",
    "}\n",
    "\n",
    "let lines = lines_from_file(\"input/day02.txt\").expect(\"Could not load lines\");"
   ]
  },
  {
   "cell_type": "markdown",
   "id": "77aed533",
   "metadata": {},
   "source": [
    "## Part 1\n",
    "Calculate the final position after applying the provided moves to the initial position `(0, 0)`.\n",
    "\n",
    "We implement the moves as a sequence of 2-dimensional vectors which are added to the initial position."
   ]
  },
  {
   "cell_type": "code",
   "execution_count": 3,
   "id": "f3fdfac8",
   "metadata": {},
   "outputs": [],
   "source": [
    "use std::ops;\n",
    "\n",
    "#[derive(Debug)]\n",
    "struct Vector2d {\n",
    "    pub x: i32,\n",
    "    pub y: i32\n",
    "}\n",
    "\n",
    "impl ops::Add<Vector2d> for Vector2d {\n",
    "    type Output = Vector2d;\n",
    "\n",
    "    fn add(self, rhs: Vector2d) -> Vector2d {\n",
    "        Vector2d{x: self.x + rhs.x, y: self.y + rhs.y}\n",
    "    }\n",
    "}\n",
    "\n",
    "// To see how error handling works, we return a Result\n",
    "fn parse_move(m: &String) -> Result<Vector2d, &'static str> {\n",
    "    let split_move: Vec<&str> = m.split(\" \").collect();\n",
    "    let direction = split_move[0];\n",
    "    let speed = split_move[1].parse::<i32>().unwrap();\n",
    "    \n",
    "    match direction {\n",
    "        \"forward\" => Ok(Vector2d{x: speed, y: 0}),\n",
    "        \"up\"      => Ok(Vector2d{x: 0, y: -speed}),\n",
    "        \"down\"    => Ok(Vector2d{x: 0, y: speed}),\n",
    "        _         => Err(\"could not parse move\")\n",
    "    }\n",
    "}"
   ]
  },
  {
   "cell_type": "code",
   "execution_count": 4,
   "id": "0b959e67",
   "metadata": {},
   "outputs": [
    {
     "data": {
      "text/plain": [
       "1882980"
      ]
     },
     "execution_count": 4,
     "metadata": {},
     "output_type": "execute_result"
    }
   ],
   "source": [
    "let initial_pos = Vector2d{x: 0, y: 0};\n",
    "\n",
    "// .sum() does not work without implementing another trait, so we use a fold\n",
    "let final_pos = lines.iter().map(|line| parse_move(line).unwrap()).fold(initial_pos, |sum, v| sum + v);\n",
    "final_pos.x * final_pos.y"
   ]
  },
  {
   "cell_type": "markdown",
   "id": "12d1087c",
   "metadata": {},
   "source": [
    "## Part 2\n",
    "Now the rules for interpreting the moves are different:\n",
    "* `down n` decreases the aim by n\n",
    "* `up n` increases the aim by n\n",
    "* `forward n` does two things:\n",
    "    * it increases the horizontal position by `n` units\n",
    "    * it increases the depth by `n` multiplied by the aim."
   ]
  },
  {
   "cell_type": "code",
   "execution_count": 5,
   "id": "b9dcba34",
   "metadata": {},
   "outputs": [],
   "source": [
    "// The state is a tuple that consists of\n",
    "// - horizontal position\n",
    "// - depth\n",
    "// - aim\n",
    "type State = (i32, i32, i32);"
   ]
  },
  {
   "cell_type": "markdown",
   "id": "d6820dc5",
   "metadata": {},
   "source": [
    "Adding vectors with a fold operation is not sufficient any more, so we implement each move as a function that returns the new state."
   ]
  },
  {
   "cell_type": "code",
   "execution_count": 6,
   "id": "602ef746",
   "metadata": {},
   "outputs": [],
   "source": [
    "fn parse_move2(m: &String) -> Box<dyn Fn(State) -> State> {\n",
    "    let split_move: Vec<&str> = m.split(\" \").collect();\n",
    "    let direction = split_move[0];\n",
    "    let n = split_move[1].parse::<i32>().unwrap();\n",
    "    \n",
    "    match direction {\n",
    "        \"forward\" => Box::new(move |(x, depth, aim)| (x + n, depth + n * aim, aim)),\n",
    "        \"up\"      => Box::new(move |(x, depth, aim)| (x, depth, aim - n)),\n",
    "        \"down\"    => Box::new(move |(x, depth, aim)| (x, depth, aim + n)),\n",
    "        _         => panic!(\"Could not parse move\")  // simpler error handling in part 2\n",
    "    }\n",
    "}"
   ]
  },
  {
   "cell_type": "code",
   "execution_count": 7,
   "id": "66bd02bf",
   "metadata": {},
   "outputs": [
    {
     "data": {
      "text/plain": [
       "1971232560"
      ]
     },
     "execution_count": 7,
     "metadata": {},
     "output_type": "execute_result"
    }
   ],
   "source": [
    "let initial_state = (0, 0, 0);\n",
    "let final_state = lines.iter().map(|line| parse_move2(line)).fold(initial_state, |state, f| f(state));\n",
    "\n",
    "final_state.0 * final_state.1"
   ]
  }
 ],
 "metadata": {
  "kernelspec": {
   "display_name": "Rust",
   "language": "rust",
   "name": "rust"
  },
  "language_info": {
   "codemirror_mode": "rust",
   "file_extension": ".rs",
   "mimetype": "text/rust",
   "name": "Rust",
   "pygment_lexer": "rust",
   "version": ""
  }
 },
 "nbformat": 4,
 "nbformat_minor": 5
}
