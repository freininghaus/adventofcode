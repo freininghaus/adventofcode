{
 "cells": [
  {
   "cell_type": "markdown",
   "id": "b8029695-db4a-4ac3-b76f-494107903a35",
   "metadata": {},
   "source": [
    "# Day 4: Giant Squid\n",
    "https://adventofcode.com/2021/day/4"
   ]
  },
  {
   "cell_type": "code",
   "execution_count": 2,
   "id": "e14bb633-032f-4499-bd89-498106ceffd0",
   "metadata": {},
   "outputs": [],
   "source": [
    "// https://stackoverflow.com/a/35820003\n",
    "\n",
    "use std::{\n",
    "    fs::File,\n",
    "    io::{self, BufRead, BufReader},\n",
    "    path::Path,\n",
    "};\n",
    "\n",
    "fn lines_from_file(filename: impl AsRef<Path>) -> io::Result<Vec<String>> {\n",
    "    BufReader::new(File::open(filename)?).lines().collect()\n",
    "}\n",
    "\n",
    "let input_lines = lines_from_file(\"input/day04.txt\").unwrap();"
   ]
  },
  {
   "cell_type": "markdown",
   "id": "613dc775-3249-404e-8f9a-d665daf637cf",
   "metadata": {},
   "source": [
    "Implement functions for parsing a single bingo board, and for parsing all bingo boards (which start after the first input line)."
   ]
  },
  {
   "cell_type": "code",
   "execution_count": 3,
   "id": "9905d0b6-78c7-44b5-aec8-d11d13edc0e1",
   "metadata": {},
   "outputs": [],
   "source": [
    "fn parse_board(board: Vec<&str>) -> Vec<Vec<Option<i32>>> {\n",
    "    board\n",
    "        .iter()\n",
    "        .map(|line| line.split_whitespace()\n",
    "                        .map(|s| s.parse::<i32>().unwrap())\n",
    "                        .map(|n| Some(n))\n",
    "                        .collect())\n",
    "        .collect()\n",
    "}\n",
    "\n",
    "fn bingo_boards(lines: &Vec<String>) -> Vec<Vec<Vec<Option<i32>>>> {\n",
    "    lines[1..]\n",
    "    .chunks(6)\n",
    "    .map(|chunk| parse_board(chunk.iter().skip(1).map(|s| s.as_str()).collect::<Vec<&str>>()))\n",
    "    .collect()\n",
    "}"
   ]
  },
  {
   "cell_type": "markdown",
   "id": "0f75f8f1-3338-4f3a-ab3f-1a59dafe3508",
   "metadata": {},
   "source": [
    "Functions for determining if a board is finished, and what the value of a board is."
   ]
  },
  {
   "cell_type": "code",
   "execution_count": 4,
   "id": "201e2995-54ea-4b38-823c-ed73cf897bc2",
   "metadata": {},
   "outputs": [],
   "source": [
    "fn board_finished(board: &Vec<Vec<Option<i32>>>) -> bool {\n",
    "    board.iter().any(|row| row.iter().all(|n| n.is_none()))\n",
    "    ||\n",
    "    (0..board[0].len()).any(|i| board.iter().map(|row| row[i]).all(|n| n.is_none()))\n",
    "}"
   ]
  },
  {
   "cell_type": "code",
   "execution_count": 5,
   "id": "79aa7d5f-fe2f-4467-942c-d66e2564021d",
   "metadata": {},
   "outputs": [],
   "source": [
    "fn board_value(board: &Vec<Vec<Option<i32>>>) -> i32 {\n",
    "    board.iter().flatten().map(|n| n.unwrap_or(0)).sum()\n",
    "}"
   ]
  },
  {
   "cell_type": "markdown",
   "id": "f27e8523-f2af-4748-a6ec-16b7f0b2840b",
   "metadata": {},
   "source": [
    "The funcion `draw_number()` applies a drawn number to all given boards, and returns a `Vec` containing a tuple for all boards which are finished in this turn.\n",
    "\n",
    "The result tuple consists of\n",
    "* the index of the board in the `Vec` of all boards,\n",
    "* the number which was drawn such that the board was finished,\n",
    "* the value of the board."
   ]
  },
  {
   "cell_type": "code",
   "execution_count": 6,
   "id": "989b1e7c-0e9d-41ae-b212-06098b42edca",
   "metadata": {},
   "outputs": [],
   "source": [
    "use std::collections::HashSet;\n",
    "\n",
    "fn draw_number(boards: &mut Vec<Vec<Vec<Option<i32>>>>, n: i32) -> Option<Vec<(usize, i32, i32)>> {\n",
    "    let already_finished: HashSet<usize> = boards.iter()\n",
    "        .enumerate()\n",
    "        .filter(|(i, board)| board_finished(board))\n",
    "        .map(|(i, _board)| i)\n",
    "        .collect();\n",
    "    \n",
    "    for board in boards.iter_mut() {\n",
    "        for row in board.iter_mut() {\n",
    "            for number in row.iter_mut() {\n",
    "                if *number == Some(n) {\n",
    "                    *number = None\n",
    "                }\n",
    "            }\n",
    "        }\n",
    "    }\n",
    "    \n",
    "    let finished_now: Vec<(usize, i32, i32)> = boards.iter()\n",
    "        .enumerate()\n",
    "        .filter(|(i, board)| !already_finished.contains(i) && board_finished(board))\n",
    "        .map(|(i, board)| (i, n, board_value(board)))\n",
    "        .collect();\n",
    "    \n",
    "    Some(finished_now)\n",
    "}"
   ]
  },
  {
   "cell_type": "markdown",
   "id": "c2df6075-9aa1-4719-aeba-0b1b4e30c141",
   "metadata": {},
   "source": [
    "The function `ordered_finished_boards` returns a `Vec` which contains the result tuples (see above) for all finished boards in the order in which they were finished.\n",
    "\n",
    "***Note:*** the function assumes that no boards remain unfinished."
   ]
  },
  {
   "cell_type": "code",
   "execution_count": 7,
   "id": "485b2efa-c24c-4f34-bff4-40b6518a3745",
   "metadata": {},
   "outputs": [],
   "source": [
    "fn ordered_finished_boards(lines: &Vec<String>) -> Vec<(usize, i32, i32)> {\n",
    "    let numbers_drawn = lines[0].split(\",\").map(|s| s.parse().unwrap()).collect::<Vec<i32>>();\n",
    "    let mut input_boards = bingo_boards(&lines);\n",
    "    let count = input_boards.len();\n",
    "    \n",
    "    numbers_drawn.iter()\n",
    "        .scan(input_boards, |boards, &number| draw_number(boards, number))\n",
    "        .flatten()\n",
    "        .take(count)\n",
    "        .collect()\n",
    "}"
   ]
  },
  {
   "cell_type": "markdown",
   "id": "9d78e1f3-9093-45d3-bc30-ff2fcf0ec960",
   "metadata": {},
   "source": [
    "Verify the algorithm with the given test input."
   ]
  },
  {
   "cell_type": "code",
   "execution_count": 8,
   "id": "a827ebe4-4b1e-444e-965b-c11c0ed37545",
   "metadata": {},
   "outputs": [],
   "source": [
    "let test_input: Vec<String> = \"7,4,9,5,11,17,23,2,0,14,21,24,10,16,13,6,15,25,12,22,18,20,8,19,3,26,1\n",
    "\n",
    "22 13 17 11  0\n",
    " 8  2 23  4 24\n",
    "21  9 14 16  7\n",
    " 6 10  3 18  5\n",
    " 1 12 20 15 19\n",
    "\n",
    " 3 15  0  2 22\n",
    " 9 18 13 17  5\n",
    "19  8  7 25 23\n",
    "20 11 10 24  4\n",
    "14 21 16 12  6\n",
    "\n",
    "14 21 17 24  4\n",
    "10 16 15  9 19\n",
    "18  8 23 26 20\n",
    "22 11 13  6  5\n",
    " 2  0 12  3  7\".lines().map(|s| s.to_string()).collect();"
   ]
  },
  {
   "cell_type": "code",
   "execution_count": 9,
   "id": "ab21213b-9881-4559-818c-9cfcac44edf3",
   "metadata": {},
   "outputs": [
    {
     "data": {
      "text/plain": [
       "[(2, 24, 188), (0, 16, 137), (1, 13, 148)]"
      ]
     },
     "execution_count": 9,
     "metadata": {},
     "output_type": "execute_result"
    }
   ],
   "source": [
    "ordered_finished_boards(&test_input)"
   ]
  },
  {
   "cell_type": "markdown",
   "id": "218e7749-1ac9-4055-81c0-7e072a434b6d",
   "metadata": {},
   "source": [
    "To simplify interpreting the results, add a function that describes the finishing move for a board."
   ]
  },
  {
   "cell_type": "code",
   "execution_count": 10,
   "id": "949e75a2-35e5-4a37-9406-9f6e90d30b8d",
   "metadata": {},
   "outputs": [],
   "source": [
    "fn describe_move(info: (usize, i32, i32)) -> String {\n",
    "    format!(\"Board number {} was finished when {} was drawn. The final score is {}\", info.0, info.1, info.1 * info.2)\n",
    "}"
   ]
  },
  {
   "cell_type": "markdown",
   "id": "3ecfe14d-3a92-45c0-a5ca-b533f96c344e",
   "metadata": {},
   "source": [
    "Verify given results for part 1 (first finished board):"
   ]
  },
  {
   "cell_type": "code",
   "execution_count": 11,
   "id": "ffc05ae2-dc13-46c4-8e3d-6d0abae6cd64",
   "metadata": {},
   "outputs": [
    {
     "data": {
      "text/plain": [
       "\"Board number 2 was finished when 24 was drawn. The final score is 4512\""
      ]
     },
     "execution_count": 11,
     "metadata": {},
     "output_type": "execute_result"
    }
   ],
   "source": [
    "describe_move(ordered_finished_boards(&test_input)[0])"
   ]
  },
  {
   "cell_type": "markdown",
   "id": "ad200fc7-6d59-4fe9-9cd9-028eac2e4ee7",
   "metadata": {},
   "source": [
    "And part 2 (last finished board):"
   ]
  },
  {
   "cell_type": "code",
   "execution_count": 12,
   "id": "0a7b262b-5bb4-4326-96e9-8d6d68a2d46e",
   "metadata": {},
   "outputs": [
    {
     "data": {
      "text/plain": [
       "\"Board number 1 was finished when 13 was drawn. The final score is 1924\""
      ]
     },
     "execution_count": 12,
     "metadata": {},
     "output_type": "execute_result"
    }
   ],
   "source": [
    "describe_move(*ordered_finished_boards(&test_input).last().unwrap())"
   ]
  },
  {
   "cell_type": "markdown",
   "id": "05743b2d-3f4e-494a-ae9a-e99e4fef1572",
   "metadata": {},
   "source": [
    "Determine the result for part 1 (first finished board):"
   ]
  },
  {
   "cell_type": "code",
   "execution_count": 13,
   "id": "e0fe1990-d5ad-4f7a-ad4d-d21043e3fa0f",
   "metadata": {},
   "outputs": [
    {
     "data": {
      "text/plain": [
       "\"Board number 81 was finished when 14 was drawn. The final score is 8442\""
      ]
     },
     "execution_count": 13,
     "metadata": {},
     "output_type": "execute_result"
    }
   ],
   "source": [
    "describe_move(ordered_finished_boards(&input_lines)[0])"
   ]
  },
  {
   "cell_type": "markdown",
   "id": "08cf724f-b947-4621-8bea-bdce7dbf02f5",
   "metadata": {},
   "source": [
    "And part 2 (last finished board):"
   ]
  },
  {
   "cell_type": "code",
   "execution_count": 14,
   "id": "97a555ea-aa82-401b-9672-b8d7bed89a7d",
   "metadata": {},
   "outputs": [
    {
     "data": {
      "text/plain": [
       "\"Board number 68 was finished when 15 was drawn. The final score is 4590\""
      ]
     },
     "execution_count": 14,
     "metadata": {},
     "output_type": "execute_result"
    }
   ],
   "source": [
    "describe_move(*ordered_finished_boards(&input_lines).last().unwrap())"
   ]
  }
 ],
 "metadata": {
  "kernelspec": {
   "display_name": "Rust",
   "language": "rust",
   "name": "rust"
  },
  "language_info": {
   "codemirror_mode": "rust",
   "file_extension": ".rs",
   "mimetype": "text/rust",
   "name": "Rust",
   "pygment_lexer": "rust",
   "version": ""
  }
 },
 "nbformat": 4,
 "nbformat_minor": 5
}
