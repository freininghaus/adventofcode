{
 "cells": [
  {
   "cell_type": "markdown",
   "metadata": {},
   "source": [
    "# Day 10: Balance Bots"
   ]
  },
  {
   "cell_type": "code",
   "execution_count": 1,
   "metadata": {
    "collapsed": true
   },
   "outputs": [],
   "source": [
    "with open(\"input/day10.txt\", \"r\") as f:\n",
    "    inputLines = tuple(line.strip() for line in f)"
   ]
  },
  {
   "cell_type": "code",
   "execution_count": 2,
   "metadata": {
    "collapsed": true
   },
   "outputs": [],
   "source": [
    "import collections\n",
    "import enum\n",
    "import functools\n",
    "import operator\n",
    "import re"
   ]
  },
  {
   "cell_type": "code",
   "execution_count": 3,
   "metadata": {
    "collapsed": true
   },
   "outputs": [],
   "source": [
    "# Bots give their chips either to another bot or to an output\n",
    "ReceiverType = enum.Enum(\"Receiver\", \"BOT OUTPUT\")"
   ]
  },
  {
   "cell_type": "code",
   "execution_count": 4,
   "metadata": {
    "collapsed": true
   },
   "outputs": [],
   "source": [
    "# Parse the receiver part of an instruction\n",
    "def parseReceiver(receiver):\n",
    "    match = re.fullmatch(r\"(bot|output) ([0-9]+)\", receiver)\n",
    "    assert match is not None\n",
    "    receiverTypeStr, indexStr = match.groups()\n",
    "    return ReceiverType[receiverTypeStr.upper()], int(indexStr)\n",
    "\n",
    "assert parseReceiver(\"output 42\") == (ReceiverType.OUTPUT, 42)\n",
    "assert parseReceiver(\"bot 13\") == (ReceiverType.BOT, 13)"
   ]
  },
  {
   "cell_type": "code",
   "execution_count": 5,
   "metadata": {
    "collapsed": true
   },
   "outputs": [],
   "source": [
    "# Parse all instructions, and return\n",
    "# * a dict that holds the initial chips for each bot,\n",
    "# * a dict that maps bot indices to the receivers of the low and high chips if the respective bot has\n",
    "#   two chips.\n",
    "def parseInstructions(instructions):\n",
    "    initialState = collections.defaultdict(set)\n",
    "    lowHighReceivers = {}\n",
    "    \n",
    "    for instruction in instructions:\n",
    "        # Try to interpret the line as a bot initialization instruction\n",
    "        initMatch = re.fullmatch(r\"value ([0-9]+) goes to bot ([0-9]+)\", instruction)\n",
    "        \n",
    "        if initMatch is not None:\n",
    "            value, bot = map(int, initMatch.groups())\n",
    "            initialState[bot].add(value)\n",
    "        else:\n",
    "            # No initialization instruction \n",
    "            # -> it is an instruction for handling the low/high microchips of a bot\n",
    "            lowHighMatch = re.fullmatch(\n",
    "                r\"bot ([0-9]+) gives low to (.*) and high to (.*)\", instruction)\n",
    "            assert lowHighMatch is not None\n",
    "            \n",
    "            botStr, low, high = lowHighMatch.groups()\n",
    "            bot = int(botStr)\n",
    "            assert bot not in lowHighReceivers\n",
    "            lowHighReceivers[bot] = tuple(map(parseReceiver, (low, high)))\n",
    "\n",
    "    return initialState, lowHighReceivers"
   ]
  },
  {
   "cell_type": "code",
   "execution_count": 6,
   "metadata": {
    "collapsed": true
   },
   "outputs": [],
   "source": [
    "class BotSimulator:\n",
    "    \n",
    "    def __init__(self, instructions):\n",
    "        self.state, self.lowHighReceivers = parseInstructions(instructions)\n",
    "        self.outputs = collections.defaultdict(list)\n",
    "\n",
    "        # Verify that no bot has more than two chips\n",
    "        assert all(len(chips) <= 2 for bot, chips in self.state.items())\n",
    "\n",
    "        # Active bots are those that have two chips and will give them away\n",
    "        self.activeBots = collections.deque(\n",
    "            bot for bot, chips in self.state.items() if len(chips) == 2)\n",
    "        \n",
    "    def isActive(self):\n",
    "        \"\"\"Returns true if there are still bots which have two chips.\"\"\"\n",
    "        return len(self.activeBots) > 0\n",
    "    \n",
    "    def nextStep(self):\n",
    "        \"\"\"Returns \n",
    "        * the next bot which will give its chips away, and\n",
    "        * a set which contains the values of these chips.\"\"\"\n",
    "        if self.isActive():\n",
    "            bot = self.activeBots[0]\n",
    "            values = self.state[bot]\n",
    "            return bot, values\n",
    "    \n",
    "    def executeStep(self):\n",
    "        \"\"\"Makes the first active bot give away its chips.\"\"\"\n",
    "        assert len(self.activeBots) > 0\n",
    "        bot = self.activeBots.popleft()\n",
    "        sortedValues = sorted(self.state[bot])\n",
    "        assert len(sortedValues) == 2\n",
    "        self.state[bot].clear()\n",
    "    \n",
    "        for value, (receiverType, receiverIndex) in zip(sortedValues, self.lowHighReceivers[bot]):\n",
    "            if receiverType is ReceiverType.OUTPUT:\n",
    "                self.outputs[receiverIndex].append(value)\n",
    "            else:\n",
    "                assert receiverType is ReceiverType.BOT\n",
    "                self.state[receiverIndex].add(value)\n",
    "                if len(self.state[receiverIndex]) == 2:\n",
    "                    self.activeBots.append(receiverIndex)\n",
    "        \n",
    "    def run(self):\n",
    "        \"\"\"Calls executeStep repeatedly until no bot has more than one chip.\"\"\"\n",
    "        while self.isActive():\n",
    "            self.executeStep()"
   ]
  },
  {
   "cell_type": "markdown",
   "metadata": {},
   "source": [
    "## Part 1: Find the bot which compares two particular chips"
   ]
  },
  {
   "cell_type": "code",
   "execution_count": 7,
   "metadata": {
    "collapsed": true
   },
   "outputs": [],
   "source": [
    "def findBotForValues(instructions, values):\n",
    "    simulator = BotSimulator(instructions)\n",
    "    values = set(values)\n",
    "    \n",
    "    while simulator.isActive():\n",
    "        nextBot, nextValues = simulator.nextStep()\n",
    "        if nextValues == values:\n",
    "            return nextBot\n",
    "        simulator.executeStep()"
   ]
  },
  {
   "cell_type": "code",
   "execution_count": 8,
   "metadata": {
    "collapsed": false
   },
   "outputs": [],
   "source": [
    "# Verify that we get the correct result for the test instructions\n",
    "testInstructions = \"\"\"value 5 goes to bot 2\n",
    "bot 2 gives low to bot 1 and high to bot 0\n",
    "value 3 goes to bot 1\n",
    "bot 1 gives low to output 1 and high to bot 0\n",
    "bot 0 gives low to output 2 and high to output 0\n",
    "value 2 goes to bot 2\"\"\".split(\"\\n\")\n",
    "\n",
    "assert findBotForValues(testInstructions, (5, 2)) == 2"
   ]
  },
  {
   "cell_type": "code",
   "execution_count": 9,
   "metadata": {
    "collapsed": false
   },
   "outputs": [
    {
     "data": {
      "text/plain": [
       "118"
      ]
     },
     "execution_count": 9,
     "metadata": {},
     "output_type": "execute_result"
    }
   ],
   "source": [
    "findBotForValues(inputLines, (61, 17))"
   ]
  },
  {
   "cell_type": "markdown",
   "metadata": {},
   "source": [
    "## Part 2: Multiply the values of the chips in outputs 0, 1, and 2"
   ]
  },
  {
   "cell_type": "code",
   "execution_count": 10,
   "metadata": {
    "collapsed": true
   },
   "outputs": [],
   "source": [
    "def productOutputs012(instructions):\n",
    "    simulator = BotSimulator(instructions)\n",
    "    simulator.run()\n",
    "    return functools.reduce(operator.mul, (simulator.outputs[i][0] for i in range(3)), 1)"
   ]
  },
  {
   "cell_type": "code",
   "execution_count": 11,
   "metadata": {
    "collapsed": false
   },
   "outputs": [
    {
     "data": {
      "text/plain": [
       "143153"
      ]
     },
     "execution_count": 11,
     "metadata": {},
     "output_type": "execute_result"
    }
   ],
   "source": [
    "productOutputs012(inputLines)"
   ]
  }
 ],
 "metadata": {
  "kernelspec": {
   "display_name": "Python 3",
   "language": "python",
   "name": "python3"
  },
  "language_info": {
   "codemirror_mode": {
    "name": "ipython",
    "version": 3
   },
   "file_extension": ".py",
   "mimetype": "text/x-python",
   "name": "python",
   "nbconvert_exporter": "python",
   "pygments_lexer": "ipython3",
   "version": "3.4.3"
  }
 },
 "nbformat": 4,
 "nbformat_minor": 0
}
