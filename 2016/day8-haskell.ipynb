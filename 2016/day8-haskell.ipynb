{
 "cells": [
  {
   "cell_type": "markdown",
   "metadata": {},
   "source": [
    "# Day 8: Two-Factor Authentication"
   ]
  },
  {
   "cell_type": "code",
   "execution_count": 1,
   "metadata": {
    "collapsed": true
   },
   "outputs": [],
   "source": [
    "inputLines = lines <$> readFile \"input/day8.txt\""
   ]
  },
  {
   "cell_type": "code",
   "execution_count": 2,
   "metadata": {
    "collapsed": true
   },
   "outputs": [],
   "source": [
    "import Control.Lens (element, over)\n",
    "import Control.Monad (forM_)\n",
    "import Data.Char (isDigit)\n",
    "import Data.List (isPrefixOf, transpose)"
   ]
  },
  {
   "cell_type": "code",
   "execution_count": 3,
   "metadata": {
    "collapsed": true
   },
   "outputs": [],
   "source": [
    "data Operation = Rect Int Int | RotateRow Int Int | RotateColumn Int Int deriving (Show)"
   ]
  },
  {
   "cell_type": "code",
   "execution_count": 4,
   "metadata": {
    "collapsed": false
   },
   "outputs": [
    {
     "data": {
      "text/plain": [
       "RotateRow 0 4"
      ]
     },
     "metadata": {},
     "output_type": "display_data"
    }
   ],
   "source": [
    "parseOperation :: String -> Operation\n",
    "parseOperation xs = command a b\n",
    "    where\n",
    "        command = snd $ head $ filter ((`isPrefixOf` xs) . fst) commandMapping\n",
    "    \n",
    "        commandMapping = [ (\"rect\",            Rect)\n",
    "                         , (\"rotate row y\",    RotateRow)\n",
    "                         , (\"rotate column x\", RotateColumn) ]\n",
    "\n",
    "        a = parseNumber 0 xs\n",
    "        b = parseNumber 1 xs\n",
    "                \n",
    "        -- Read the n-th number from a string\n",
    "        parseNumber :: Int -> String -> Int\n",
    "        parseNumber 0 = read . takeWhile isDigit . dropNonDigits\n",
    "        parseNumber n = parseNumber (pred n) . dropWhile isDigit . dropNonDigits\n",
    "        \n",
    "        -- Drop the non-digits at the beginning of the string\n",
    "        dropNonDigits :: String -> String\n",
    "        dropNonDigits = dropWhile (not . isDigit)\n",
    "        \n",
    "-- Verify that it works\n",
    "parseOperation \"rotate row y=0 by 4\""
   ]
  },
  {
   "cell_type": "code",
   "execution_count": 5,
   "metadata": {
    "collapsed": false
   },
   "outputs": [
    {
     "data": {
      "text/plain": [
       "\"6712345\""
      ]
     },
     "metadata": {},
     "output_type": "display_data"
    }
   ],
   "source": [
    "-- Rotate the list by n positions.\n",
    "-- The direction is such that the first items are moved to the back of the list.\n",
    "rotate :: Int -> [a] -> [a]\n",
    "rotate n xs = take len . drop ((-n) `mod` len) . cycle $ xs\n",
    "    where len = length xs\n",
    "    \n",
    "-- Verify that it works\n",
    "rotate 2 \"1234567\""
   ]
  },
  {
   "cell_type": "code",
   "execution_count": 6,
   "metadata": {
    "collapsed": false
   },
   "outputs": [
    {
     "data": {
      "text/plain": [
       "[\"12345\",\"45123\",\"12345\",\"12345\"]"
      ]
     },
     "metadata": {},
     "output_type": "display_data"
    }
   ],
   "source": [
    "-- Rotate the a-th sublist by b positions\n",
    "rotateSublist :: Int -> Int -> [[a]] -> [[a]]\n",
    "rotateSublist a b = over (element a) (rotate b)\n",
    "\n",
    "-- Verify that it works\n",
    "rotateSublist 1 2 [\"12345\", \"12345\", \"12345\", \"12345\"]"
   ]
  },
  {
   "cell_type": "code",
   "execution_count": 7,
   "metadata": {
    "collapsed": false
   },
   "outputs": [],
   "source": [
    "-- Apply an operation to a screen, which is represented by a list of rows\n",
    "applyOperation :: [[Bool]] -> Operation -> [[Bool]]\n",
    "applyOperation screen (Rect a b) = (map (turnOn a) $ (take b) screen) ++ drop b screen\n",
    "    where\n",
    "        turnOn :: Int -> [Bool] -> [Bool]\n",
    "        turnOn n row = replicate n True ++ drop n row\n",
    "applyOperation screen (RotateRow a b) = rotateSublist a b screen\n",
    "applyOperation screen (RotateColumn a b) = transpose $ rotateSublist a b $ transpose screen"
   ]
  },
  {
   "cell_type": "code",
   "execution_count": 8,
   "metadata": {
    "collapsed": false
   },
   "outputs": [],
   "source": [
    "-- The screen has 6 rows and 50 columns. All pixels are off initially.\n",
    "initialScreen = replicate 6 $ replicate 50 False"
   ]
  },
  {
   "cell_type": "code",
   "execution_count": 9,
   "metadata": {
    "collapsed": true
   },
   "outputs": [],
   "source": [
    "-- Get the final state of the screen by applying all operations.\n",
    "finalScreen = foldl applyOperation initialScreen . map parseOperation <$> inputLines"
   ]
  },
  {
   "cell_type": "markdown",
   "metadata": {},
   "source": [
    "## Part 1: Count the pixels which are \"on\""
   ]
  },
  {
   "cell_type": "code",
   "execution_count": 10,
   "metadata": {
    "collapsed": false
   },
   "outputs": [
    {
     "data": {
      "text/plain": [
       "110"
      ]
     },
     "metadata": {},
     "output_type": "display_data"
    }
   ],
   "source": [
    "sum . map (length . filter id) <$> finalScreen"
   ]
  },
  {
   "cell_type": "markdown",
   "metadata": {},
   "source": [
    "## Part 2: Decipher the characters on the screen"
   ]
  },
  {
   "cell_type": "code",
   "execution_count": 11,
   "metadata": {
    "collapsed": false
   },
   "outputs": [],
   "source": [
    "-- Transform each row to a string, where \"on\" becomes \"#\".\n",
    "screenToString :: [[Bool]] -> [String]\n",
    "screenToString = map (map (\\ b -> if b then '#' else ' '))"
   ]
  },
  {
   "cell_type": "code",
   "execution_count": 12,
   "metadata": {
    "collapsed": false
   },
   "outputs": [
    {
     "data": {
      "text/plain": [
       "\"####   ## #  # ###  #  #  ##  ###  #    #   #  ## \"\n",
       "\"   #    # #  # #  # # #  #  # #  # #    #   #   # \"\n",
       "\"  #     # #### #  # ##   #    #  # #     # #    # \"\n",
       "\" #      # #  # ###  # #  #    ###  #      #     # \"\n",
       "\"#    #  # #  # # #  # #  #  # #    #      #  #  # \"\n",
       "\"####  ##  #  # #  # #  #  ##  #    ####   #   ##  \""
      ]
     },
     "metadata": {},
     "output_type": "display_data"
    }
   ],
   "source": [
    "-- Print the result line by line and get \"ZJHRKCPLYJ\"\n",
    "do\n",
    "    s <- finalScreen\n",
    "    forM_ (screenToString s) print"
   ]
  }
 ],
 "metadata": {
  "kernelspec": {
   "display_name": "Haskell",
   "language": "haskell",
   "name": "haskell"
  },
  "language_info": {
   "codemirror_mode": "ihaskell",
   "file_extension": ".hs",
   "name": "haskell",
   "version": "7.10.2"
  }
 },
 "nbformat": 4,
 "nbformat_minor": 0
}
