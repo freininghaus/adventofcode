{
 "cells": [
  {
   "cell_type": "markdown",
   "metadata": {},
   "source": [
    "# Day 11: Radioisotope Thermoelectric Generators"
   ]
  },
  {
   "cell_type": "code",
   "execution_count": 1,
   "metadata": {
    "collapsed": true
   },
   "outputs": [],
   "source": [
    "with open(\"input/day11.txt\", \"r\") as f:\n",
    "    inputLines = tuple(line.strip() for line in f)"
   ]
  },
  {
   "cell_type": "code",
   "execution_count": 2,
   "metadata": {
    "collapsed": true
   },
   "outputs": [],
   "source": [
    "import itertools\n",
    "import re"
   ]
  },
  {
   "cell_type": "markdown",
   "metadata": {},
   "source": [
    "# Functions for parsing the initial state\n",
    "### Map the floors to integers"
   ]
  },
  {
   "cell_type": "code",
   "execution_count": 3,
   "metadata": {
    "collapsed": true
   },
   "outputs": [],
   "source": [
    "floors = {\n",
    "    \"first\"  : 1,\n",
    "    \"second\" : 2,\n",
    "    \"third\"  : 3,\n",
    "    \"fourth\" : 4,\n",
    "}"
   ]
  },
  {
   "cell_type": "markdown",
   "metadata": {},
   "source": [
    "### Parse an item (microchip or generator)"
   ]
  },
  {
   "cell_type": "code",
   "execution_count": 4,
   "metadata": {
    "collapsed": true
   },
   "outputs": [],
   "source": [
    "def parseItem(item):\n",
    "    microchipMatch = re.fullmatch(\"([a-z]+)-compatible microchip\", item)\n",
    "    if microchipMatch is not None:\n",
    "        return microchipMatch.group(1), \"M\"\n",
    "    generatorMatch = re.fullmatch(\"([a-z]+) generator\", item)\n",
    "    assert generatorMatch is not None\n",
    "    return generatorMatch.group(1), \"G\"\n",
    "\n",
    "assert parseItem(\"hydrogen-compatible microchip\") == (\"hydrogen\", \"M\")\n",
    "assert parseItem(\"lithium generator\") == (\"lithium\", \"G\")"
   ]
  },
  {
   "cell_type": "markdown",
   "metadata": {},
   "source": [
    "### Parse all items on a floor"
   ]
  },
  {
   "cell_type": "code",
   "execution_count": 5,
   "metadata": {
    "collapsed": false
   },
   "outputs": [],
   "source": [
    "def parseFloor(line):\n",
    "    m = re.fullmatch(\"The ([a-z]+) floor contains (.*).\", line)\n",
    "    floor, itemsStr = m.groups()\n",
    "    return tuple(sorted(parseItem(item[2:]) + (floors[floor],)\n",
    "                        for item in re.split(\"(?:,\\ )?(?:\\ ?and\\ )?\", itemsStr)\n",
    "                        if item.startswith(\"a \")))\n",
    "assert (parseFloor(\"The first floor contains a hydrogen-compatible microchip and a lithium generator.\") ==\n",
    "        ((\"hydrogen\", \"M\", 1),\n",
    "         (\"lithium\", \"G\", 1)))\n",
    "assert (parseFloor(\"The second floor contains a hydrogen generator, and a lithium-compatible microchip.\") ==\n",
    "        ((\"hydrogen\", \"G\", 2),\n",
    "         (\"lithium\", \"M\", 2)))\n",
    "assert (parseFloor(\"The second floor contains a hydrogen generator.\") ==\n",
    "        ((\"hydrogen\", \"G\", 2),))\n",
    "assert (parseFloor(\"The third floor contains a lithium-compatible microchip.\") ==\n",
    "        ((\"lithium\", \"M\", 3),))\n",
    "assert (parseFloor(\"The fourth floor contains nothing relevant.\") ==\n",
    "        ())"
   ]
  },
  {
   "cell_type": "markdown",
   "metadata": {},
   "source": [
    "### Use these functions for parsing the initial items on all floors"
   ]
  },
  {
   "cell_type": "code",
   "execution_count": 6,
   "metadata": {
    "collapsed": false
   },
   "outputs": [
    {
     "name": "stdout",
     "output_type": "stream",
     "text": [
      "(('cobalt', 'G', 1), ('cobalt', 'M', 1), ('polonium', 'G', 1), ('polonium', 'M', 2), ('promethium', 'G', 1), ('promethium', 'M', 2), ('ruthenium', 'G', 1), ('ruthenium', 'M', 1), ('thulium', 'G', 1), ('thulium', 'M', 1))\n"
     ]
    }
   ],
   "source": [
    "initialItems = tuple(sorted(itertools.chain.from_iterable(parseFloor(line) for line in inputLines)))\n",
    "print(initialItems)"
   ]
  },
  {
   "cell_type": "markdown",
   "metadata": {},
   "source": [
    "# Compact representation of the item positions\n",
    "Our current representation of the positions of the microchips and generators is inefficient. Assuming that there is exactly one microchip and one generator per element, we can make the following simplifications:\n",
    "* For each element, it is sufficient to store the positions of the generator and the microchip in a tuple with two elements.\n",
    "* For the solution of the problem, the element names are irrelevant. Therefore, it is sufficient to store only the tuples with the positions of the generator and the microchip for each element, and ignore the element name.\n",
    "* In order to reduce the problem space, the list of tuples can be sorted: for the number of moves that are needed to solve the puzzle, it does not matter if the positions for two elements are `((2, 3), (1, 1))` or `((1, 1), (2, 3))`.\n",
    "\n",
    "### Helper function that generates a position tuple for a single element: `tupleForElement`"
   ]
  },
  {
   "cell_type": "code",
   "execution_count": 7,
   "metadata": {
    "collapsed": false
   },
   "outputs": [],
   "source": [
    "# Takes an iterable that yields two (element, type, floor) tuples, where\n",
    "# * the element should be the same for both tuples,\n",
    "# * the first item should be a generator (type 'G'),\n",
    "# * the second item should be a microchip (type 'M').\n",
    "# Returns a tuple that contains only the floors where the generator and the microchip are.\n",
    "def tupleForElement(items):\n",
    "    result = tuple(floor for element, itemType, floor in items)\n",
    "    assert len(result) == 2\n",
    "    return result\n",
    "\n",
    "assert tupleForElement(((\"iron\", \"G\", 3), (\"iron\", \"M\", 1))) == (3, 1)"
   ]
  },
  {
   "cell_type": "markdown",
   "metadata": {},
   "source": [
    "### This function can create the compact representation for `initialItems`"
   ]
  },
  {
   "cell_type": "code",
   "execution_count": 8,
   "metadata": {
    "collapsed": false
   },
   "outputs": [],
   "source": [
    "def compressedItems(items):\n",
    "    return tuple(sorted(tupleForElement(itemsForElement)\n",
    "                        for _, itemsForElement in itertools.groupby(items, lambda t: t[0])))\n",
    "    \n",
    "assert (compressedItems(((\"copper\", \"G\", 4), (\"copper\", \"M\", 2), (\"iron\", \"G\", 1), (\"iron\", \"M\", 3)))\n",
    "        == ((1, 3), (4, 2)))"
   ]
  },
  {
   "cell_type": "markdown",
   "metadata": {},
   "source": [
    "### A state is a tuple the contains the elevator position and the compressed representation of the item positions"
   ]
  },
  {
   "cell_type": "code",
   "execution_count": 9,
   "metadata": {
    "collapsed": false
   },
   "outputs": [
    {
     "name": "stdout",
     "output_type": "stream",
     "text": [
      "(1, ((1, 1), (1, 1), (1, 1), (1, 2), (1, 2)))\n"
     ]
    }
   ],
   "source": [
    "initialState = (1, compressedItems(initialItems))\n",
    "print(initialState)"
   ]
  },
  {
   "cell_type": "markdown",
   "metadata": {},
   "source": [
    "# Functions for working with states"
   ]
  },
  {
   "cell_type": "code",
   "execution_count": 10,
   "metadata": {
    "collapsed": false
   },
   "outputs": [],
   "source": [
    "def isFinalState(state, targetFloor=4):\n",
    "    currentFloor, items = state\n",
    "    return currentFloor == targetFloor and all(item == (targetFloor, targetFloor) for item in items)"
   ]
  },
  {
   "cell_type": "markdown",
   "metadata": {},
   "source": [
    "### Check if a state is valid\n",
    "A state is valid unless there is a floor\n",
    "* which has at least one generator, and\n",
    "* which has at least one microchip which is not accompanied by the matching generator."
   ]
  },
  {
   "cell_type": "code",
   "execution_count": 11,
   "metadata": {
    "collapsed": false
   },
   "outputs": [],
   "source": [
    "def isValidState(state):\n",
    "    currentFloor, items = state\n",
    "    floorsWithGenerators = set(generatorFloor for generatorFloor, microchipFloor in items)\n",
    "    floorsWithVulnerableMicrochips = set(microchipFloor\n",
    "                                         for generatorFloor, microchipFloor in items\n",
    "                                         if generatorFloor != microchipFloor)\n",
    "    return len(floorsWithGenerators & floorsWithVulnerableMicrochips) == 0\n",
    "    \n",
    "assert     isValidState((1, ((2, 2), (2, 3), (4, 3), (4, 4))))\n",
    "assert not isValidState((1, ((2, 2), (2, 3), (4, 2), (4, 4))))"
   ]
  },
  {
   "cell_type": "markdown",
   "metadata": {},
   "source": [
    "### Calculate all states that can be reached in one step"
   ]
  },
  {
   "cell_type": "code",
   "execution_count": 12,
   "metadata": {
    "collapsed": false
   },
   "outputs": [],
   "source": [
    "def nextStates(state):\n",
    "    currentFloor, items = state\n",
    "    \n",
    "    # Put all item positions into a flat list for easier manipulation\n",
    "    flattenedPositions = tuple(itertools.chain.from_iterable(items))\n",
    "    \n",
    "    # Find the index (in flattenedPositions) of all items that are on the current floor\n",
    "    onCurrentFloor = tuple(index\n",
    "                           for index, pos in enumerate(flattenedPositions)\n",
    "                           if pos == currentFloor)\n",
    "    \n",
    "    # Each combination of items that can be moved by the elevator from the current floor is\n",
    "    # represented by a tuple in 'candidatesForMoving'.\n",
    "    # Note that the elevator can take either one or two items.\n",
    "    candidatesForMoving = (tuple((i,) for i in onCurrentFloor) +\n",
    "                           tuple(itertools.combinations(onCurrentFloor, 2)))\n",
    "    \n",
    "    # Calculate the possible new states for each direction (-1: down, +1: up)\n",
    "    for direction in (-1, 1):\n",
    "        newFloor = currentFloor + direction\n",
    "        if newFloor < 1 or newFloor > 4:\n",
    "            continue\n",
    "\n",
    "        for movedIndices in candidatesForMoving:\n",
    "            # 'movedIndices' is a tuple that contains either one index, or two indices (in the list\n",
    "            # 'flattenedPositions') of the items which are moved by the elevator.\n",
    "            \n",
    "            # Find the 'flattenedPositions' for the next state if the items in 'candidate' are moved\n",
    "            # to 'newFloor'.\n",
    "            newFlattenedPositions = tuple(newFloor if index in movedIndices else pos\n",
    "                                          for index, pos in enumerate(flattenedPositions))\n",
    "\n",
    "            # Convert 'newFlattenedPositions' to the compressed format (see above) by \n",
    "            # * grouping neighboring items to 2-element tuples,\n",
    "            # * sorting the list of these tuples.\n",
    "            newItems = tuple(\n",
    "                sorted(tuple(p for _, p in ps)\n",
    "                       for _, ps in itertools.groupby(enumerate(newFlattenedPositions),\n",
    "                                                      lambda x: x[0] // 2)))\n",
    "            newState = (newFloor, newItems)\n",
    "            \n",
    "            # Only yield the new state if it is valid.\n",
    "            if isValidState(newState):\n",
    "                yield newState\n",
    "\n",
    "# If there are two microchips and generators on the first floor initially, the elevator can move\n",
    "# * both microchips, or\n",
    "# * both generators, or\n",
    "# * one microchip, or\n",
    "# * one microchip and its generator\n",
    "# to the second floor. Moving one generator without its microchip is not possible because this would\n",
    "# leave this microchip vulnerable on the first floor.\n",
    "assert set(nextStates((1, ((1, 1), (1, 1))))) == {(2, ((1, 2), (1, 2))),\n",
    "                                                  (2, ((2, 1), (2, 1))),\n",
    "                                                  (2, ((1, 1), (1, 2))),\n",
    "                                                  (2, ((1, 1), (2, 2)))}"
   ]
  },
  {
   "cell_type": "markdown",
   "metadata": {},
   "source": [
    "## Calculate the minimal number of moves to reach the final state"
   ]
  },
  {
   "cell_type": "code",
   "execution_count": 13,
   "metadata": {
    "collapsed": true
   },
   "outputs": [],
   "source": [
    "def movesToFinish(initialState):\n",
    "    currentStates = {initialState}\n",
    "    seenStates = {initialState}\n",
    "    \n",
    "    for numberOfMoves in itertools.count():\n",
    "        if any(isFinalState(state) for state in currentStates):\n",
    "            return numberOfMoves\n",
    "        \n",
    "        currentStates = set(newState\n",
    "                            for state in currentStates\n",
    "                            for newState in nextStates(state)\n",
    "                            if not newState in seenStates)\n",
    "        \n",
    "        seenStates |= currentStates"
   ]
  },
  {
   "cell_type": "markdown",
   "metadata": {},
   "source": [
    "## Solution for Part one"
   ]
  },
  {
   "cell_type": "code",
   "execution_count": 14,
   "metadata": {
    "collapsed": false
   },
   "outputs": [
    {
     "data": {
      "text/plain": [
       "47"
      ]
     },
     "execution_count": 14,
     "metadata": {},
     "output_type": "execute_result"
    }
   ],
   "source": [
    "movesToFinish(initialState)"
   ]
  },
  {
   "cell_type": "markdown",
   "metadata": {},
   "source": [
    "## Part two: two more elements with generators and microchips on first floor"
   ]
  },
  {
   "cell_type": "code",
   "execution_count": 15,
   "metadata": {
    "collapsed": true
   },
   "outputs": [],
   "source": [
    "initialItems2 = compressedItems(initialItems) + ((1, 1), (1, 1))\n",
    "initialState2 = (1, initialItems2)"
   ]
  },
  {
   "cell_type": "code",
   "execution_count": 16,
   "metadata": {
    "collapsed": false
   },
   "outputs": [
    {
     "data": {
      "text/plain": [
       "71"
      ]
     },
     "execution_count": 16,
     "metadata": {},
     "output_type": "execute_result"
    }
   ],
   "source": [
    "movesToFinish(initialState2)"
   ]
  }
 ],
 "metadata": {
  "kernelspec": {
   "display_name": "Python 3",
   "language": "python",
   "name": "python3"
  },
  "language_info": {
   "codemirror_mode": {
    "name": "ipython",
    "version": 3
   },
   "file_extension": ".py",
   "mimetype": "text/x-python",
   "name": "python",
   "nbconvert_exporter": "python",
   "pygments_lexer": "ipython3",
   "version": "3.4.3"
  }
 },
 "nbformat": 4,
 "nbformat_minor": 0
}
