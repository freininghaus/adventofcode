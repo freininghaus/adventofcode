{
 "cells": [
  {
   "cell_type": "markdown",
   "metadata": {},
   "source": [
    "# Day 2: Bathroom Security"
   ]
  },
  {
   "cell_type": "code",
   "execution_count": 1,
   "metadata": {
    "collapsed": true
   },
   "outputs": [],
   "source": [
    "inputLines = lines <$> readFile \"input/day2.txt\""
   ]
  },
  {
   "cell_type": "markdown",
   "metadata": {},
   "source": [
    "## In part 1, the keypad is rectangular and has only numeric keys\n",
    "Therefore, an instruction is equivalent to adding or subtracting a number, provided we do not leave the keypad."
   ]
  },
  {
   "cell_type": "code",
   "execution_count": 2,
   "metadata": {
    "collapsed": false
   },
   "outputs": [],
   "source": [
    "move :: Int -> Char -> Int\n",
    "move n 'U' \n",
    "    | n > 3 = n - 3\n",
    "move n 'D'\n",
    "    | n < 7 = n + 3\n",
    "move n 'L' \n",
    "    | n `mod` 3 /= 1 = n - 1\n",
    "move n 'R'\n",
    "    | n `mod` 3 /= 0 = n + 1\n",
    "move n _ = n -- instead of moving out of the keypad, we just keep the same number"
   ]
  },
  {
   "cell_type": "code",
   "execution_count": 3,
   "metadata": {
    "collapsed": false
   },
   "outputs": [
    {
     "data": {
      "text/plain": [
       "\"95549\""
      ]
     },
     "metadata": {},
     "output_type": "display_data"
    }
   ],
   "source": [
    "-- Part 1: execute the instructions and collect the resulting numbers (after dropping the initial '5' with tail)\n",
    "concatMap show . tail . scanl (foldl move) 5 <$> inputLines"
   ]
  },
  {
   "cell_type": "markdown",
   "metadata": {},
   "source": [
    "## In part 2, the keypad is not rectangular any more and can contain letters\n",
    "First, we will define the two keypads using lists of strings."
   ]
  },
  {
   "cell_type": "code",
   "execution_count": 4,
   "metadata": {
    "collapsed": true
   },
   "outputs": [],
   "source": [
    "keypad1 = [ \"123\"  \n",
    "          , \"456\"\n",
    "          , \"789\" ]"
   ]
  },
  {
   "cell_type": "code",
   "execution_count": 5,
   "metadata": {
    "collapsed": true
   },
   "outputs": [],
   "source": [
    "keypad2 = [ \"  1  \"  \n",
    "          , \" 234 \"\n",
    "          , \"56789\"\n",
    "          , \" ABC \"\n",
    "          , \"  D  \" ]"
   ]
  },
  {
   "cell_type": "markdown",
   "metadata": {},
   "source": [
    "## Idea: create a map that maps (key, direction) tuples to the next key in the given direction\n",
    "For example, for both keypads we would map ('2', 'R') to '3'.\n",
    "\n",
    "To create the map, a function that creates tuples of neighbouring elements in a list will be useful. This is easy to do thanks to `Control.Applicative` (see http://stackoverflow.com/questions/2546524/how-do-you-write-the-function-pairs-in-haskell and http://stackoverflow.com/questions/11810889/functions-as-applicative-functors-haskell-lyah):"
   ]
  },
  {
   "cell_type": "code",
   "execution_count": 6,
   "metadata": {
    "collapsed": false
   },
   "outputs": [
    {
     "data": {
      "text/plain": [
       "[('5','6'),('6','7'),('7','8'),('8','9')]"
      ]
     },
     "metadata": {},
     "output_type": "display_data"
    }
   ],
   "source": [
    "pairs = zip <*> tail\n",
    "pairs \"56789\" -- check that it works for the middle row of keypad2"
   ]
  },
  {
   "cell_type": "markdown",
   "metadata": {},
   "source": [
    "## We want to get rid of spaces because they don't correspond to a valid key"
   ]
  },
  {
   "cell_type": "code",
   "execution_count": 7,
   "metadata": {
    "collapsed": false
   },
   "outputs": [
    {
     "data": {
      "text/plain": [
       "[(' ','A'),('A','B'),('B','C'),('C',' ')]"
      ]
     },
     "metadata": {},
     "output_type": "display_data"
    }
   ],
   "source": [
    "pairs \" ABC \""
   ]
  },
  {
   "cell_type": "code",
   "execution_count": 8,
   "metadata": {
    "collapsed": false
   },
   "outputs": [
    {
     "data": {
      "text/plain": [
       "[('A','B'),('B','C')]"
      ]
     },
     "metadata": {},
     "output_type": "display_data"
    }
   ],
   "source": [
    "removeSpaces = filter (\\ (a, b) -> a /= ' ' && b /= ' ')\n",
    "removeSpaces $ pairs \" ABC \""
   ]
  },
  {
   "cell_type": "markdown",
   "metadata": {},
   "source": [
    "## A function that takes a list of pairs and creates \"forward\" and \"backward\" moves"
   ]
  },
  {
   "cell_type": "code",
   "execution_count": 9,
   "metadata": {
    "collapsed": false
   },
   "outputs": [
    {
     "data": {
      "text/plain": [
       "[(('2','R'),'3'),(('3','L'),'2'),(('3','R'),'4'),(('4','L'),'3')]"
      ]
     },
     "metadata": {},
     "output_type": "display_data"
    },
    {
     "data": {
      "text/plain": [
       "[(('1','D'),'3'),(('3','U'),'1')]"
      ]
     },
     "metadata": {},
     "output_type": "display_data"
    }
   ],
   "source": [
    "createForwardBackwardMoves :: Char -> Char -> [(Char, Char)] -> [((Char, Char), Char)]\n",
    "createForwardBackwardMoves fw bw = concatMap (\\(a, b) -> [((a, fw), b), ((b, bw), a)]) . removeSpaces\n",
    "\n",
    "-- Create all right/left moves for a row\n",
    "createRightLeftMoves :: String -> [((Char, Char), Char)]\n",
    "createRightLeftMoves = createForwardBackwardMoves 'R' 'L' . pairs\n",
    "\n",
    "-- Create all down/up moves for two neighbouring rows\n",
    "createDownUpMoves :: (String, String) -> [((Char, Char), Char)]\n",
    "createDownUpMoves = createForwardBackwardMoves 'D' 'U' . uncurry zip\n",
    "\n",
    "createRightLeftMoves \" 234 \"         -- second row of second keypad\n",
    "createDownUpMoves (\"  1  \", \" 234 \") -- first and second row of second keypad"
   ]
  },
  {
   "cell_type": "markdown",
   "metadata": {},
   "source": [
    "## Create a map that contains all valid up/down/left/right moves"
   ]
  },
  {
   "cell_type": "code",
   "execution_count": 10,
   "metadata": {
    "collapsed": true
   },
   "outputs": [],
   "source": [
    "import qualified Data.Map as Map"
   ]
  },
  {
   "cell_type": "code",
   "execution_count": 11,
   "metadata": {
    "collapsed": true
   },
   "outputs": [],
   "source": [
    "createMovesMap :: [String] -> Map.Map (Char, Char) Char\n",
    "createMovesMap rows =\n",
    "    Map.fromList $ \n",
    "    concatMap createRightLeftMoves rows ++ \n",
    "    concatMap createDownUpMoves (pairs rows)"
   ]
  },
  {
   "cell_type": "code",
   "execution_count": 12,
   "metadata": {
    "collapsed": false
   },
   "outputs": [],
   "source": [
    "-- Takes a map of all possible moves, the current key, and the direction, and finds the next key\n",
    "move' :: Map.Map (Char, Char) Char -> Char -> Char -> Char\n",
    "move' movesMap currentKey direction = Map.findWithDefault currentKey (currentKey, direction) movesMap"
   ]
  },
  {
   "cell_type": "code",
   "execution_count": 13,
   "metadata": {
    "collapsed": false
   },
   "outputs": [],
   "source": [
    "-- Takes a keypad and calculates the code (the initial key '5' is dropped with 'tail')\n",
    "solution keypad = tail . scanl (foldl (move' movesMap)) '5' <$> inputLines\n",
    "    where\n",
    "        movesMap = createMovesMap keypad"
   ]
  },
  {
   "cell_type": "markdown",
   "metadata": {},
   "source": [
    "## Reproduce solution of part 1"
   ]
  },
  {
   "cell_type": "code",
   "execution_count": 14,
   "metadata": {
    "collapsed": false
   },
   "outputs": [
    {
     "data": {
      "text/plain": [
       "\"95549\""
      ]
     },
     "metadata": {},
     "output_type": "display_data"
    }
   ],
   "source": [
    "solution keypad1"
   ]
  },
  {
   "cell_type": "markdown",
   "metadata": {},
   "source": [
    "## Solution of part 2"
   ]
  },
  {
   "cell_type": "code",
   "execution_count": 15,
   "metadata": {
    "collapsed": false
   },
   "outputs": [
    {
     "data": {
      "text/plain": [
       "\"D87AD\""
      ]
     },
     "metadata": {},
     "output_type": "display_data"
    }
   ],
   "source": [
    "solution keypad2"
   ]
  }
 ],
 "metadata": {
  "kernelspec": {
   "display_name": "Haskell",
   "language": "haskell",
   "name": "haskell"
  },
  "language_info": {
   "codemirror_mode": "ihaskell",
   "file_extension": ".hs",
   "name": "haskell",
   "version": "7.10.2"
  }
 },
 "nbformat": 4,
 "nbformat_minor": 0
}
