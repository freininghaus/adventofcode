{
 "cells": [
  {
   "cell_type": "markdown",
   "metadata": {},
   "source": [
    "# Day 9: Explosives in Cyberspace"
   ]
  },
  {
   "cell_type": "code",
   "execution_count": 1,
   "metadata": {
    "collapsed": true
   },
   "outputs": [],
   "source": [
    "inputLines = lines <$> readFile \"input/day9.txt\""
   ]
  },
  {
   "cell_type": "code",
   "execution_count": 2,
   "metadata": {
    "collapsed": true
   },
   "outputs": [],
   "source": [
    "decompressedLength :: Bool -> String -> Int\n",
    "decompressedLength recursive xs = decompressedLength' xs\n",
    "    where\n",
    "        -- getSequenceLength determines the (decompressed) length of the sequence after a marker.\n",
    "        getSequenceLength :: String -> Int\n",
    "        getSequenceLength = if recursive then decompressedLength' else length\n",
    "\n",
    "        -- It seems that there are currently no Haskell modules for regular expressions in\n",
    "        -- ihaskell, so we parse the markers manually.\n",
    "        decompressedLength' \"\" = 0\n",
    "        decompressedLength' ('(':xs) = parseSequenceLength xs\n",
    "        decompressedLength' xs = length beforeMarker + decompressedLength' rest\n",
    "            where (beforeMarker, rest) = span (/= '(') xs\n",
    "\n",
    "        -- The beginning of ys is the length declaration inside a marker.\n",
    "        -- Parse it and continue processing.\n",
    "        parseSequenceLength :: String -> Int\n",
    "        parseSequenceLength ys = parseCount (read markerLength) $ tail rest\n",
    "            where\n",
    "                (markerLength, rest) = span (/= 'x') ys\n",
    "            \n",
    "        -- The beginning of ys is the repeat count declaration inside a marker.\n",
    "        -- Parse it and continue processing.\n",
    "        parseCount :: Int -> String -> Int\n",
    "        parseCount markerLength ys = parseSequence markerLength (read markerCount) $ tail rest\n",
    "            where\n",
    "                (markerCount, rest) = span (/= ')') ys\n",
    "\n",
    "        -- The beginning of ys is the string after the marker. Calculate the total decompressed\n",
    "        -- length of the marker and add the decompressed length of the remainder.\n",
    "        parseSequence :: Int -> Int -> String -> Int\n",
    "        parseSequence markerLength markerCount ys =\n",
    "            markerCount * getSequenceLength zs + decompressedLength' rest\n",
    "            where\n",
    "                (zs, rest) = splitAt markerLength ys"
   ]
  },
  {
   "cell_type": "markdown",
   "metadata": {
    "collapsed": false
   },
   "source": [
    "# Part 1: No recursive decompression of markers"
   ]
  },
  {
   "cell_type": "code",
   "execution_count": 3,
   "metadata": {
    "collapsed": true
   },
   "outputs": [],
   "source": [
    "decompressedLength1 = decompressedLength False"
   ]
  },
  {
   "cell_type": "code",
   "execution_count": 4,
   "metadata": {
    "collapsed": false
   },
   "outputs": [
    {
     "data": {
      "text/plain": [
       "6"
      ]
     },
     "metadata": {},
     "output_type": "display_data"
    },
    {
     "data": {
      "text/plain": [
       "7"
      ]
     },
     "metadata": {},
     "output_type": "display_data"
    },
    {
     "data": {
      "text/plain": [
       "9"
      ]
     },
     "metadata": {},
     "output_type": "display_data"
    },
    {
     "data": {
      "text/plain": [
       "11"
      ]
     },
     "metadata": {},
     "output_type": "display_data"
    },
    {
     "data": {
      "text/plain": [
       "6"
      ]
     },
     "metadata": {},
     "output_type": "display_data"
    },
    {
     "data": {
      "text/plain": [
       "18"
      ]
     },
     "metadata": {},
     "output_type": "display_data"
    }
   ],
   "source": [
    "-- Verify the given expample results.\n",
    "decompressedLength1 \"ADVENT\"\n",
    "decompressedLength1 \"A(1x5)BC\"\n",
    "decompressedLength1 \"(3x3)XYZ\"\n",
    "decompressedLength1 \"A(2x2)BCD(2x2)EFG\"\n",
    "decompressedLength1 \"(6x1)(1x3)A\"\n",
    "decompressedLength1 \"X(8x2)(3x3)ABCY\""
   ]
  },
  {
   "cell_type": "code",
   "execution_count": 5,
   "metadata": {
    "collapsed": false
   },
   "outputs": [
    {
     "data": {
      "text/plain": [
       "99145"
      ]
     },
     "metadata": {},
     "output_type": "display_data"
    }
   ],
   "source": [
    "decompressedLength1 . head <$> inputLines"
   ]
  },
  {
   "cell_type": "markdown",
   "metadata": {
    "collapsed": false
   },
   "source": [
    "# Part 2: Decompress markers recursively"
   ]
  },
  {
   "cell_type": "code",
   "execution_count": 6,
   "metadata": {
    "collapsed": false
   },
   "outputs": [],
   "source": [
    "decompressedLength2 = decompressedLength True"
   ]
  },
  {
   "cell_type": "code",
   "execution_count": 7,
   "metadata": {
    "collapsed": false
   },
   "outputs": [
    {
     "data": {
      "text/plain": [
       "9"
      ]
     },
     "metadata": {},
     "output_type": "display_data"
    },
    {
     "data": {
      "text/plain": [
       "20"
      ]
     },
     "metadata": {},
     "output_type": "display_data"
    },
    {
     "data": {
      "text/plain": [
       "241920"
      ]
     },
     "metadata": {},
     "output_type": "display_data"
    },
    {
     "data": {
      "text/plain": [
       "445"
      ]
     },
     "metadata": {},
     "output_type": "display_data"
    }
   ],
   "source": [
    "-- Verify the given expample results.\n",
    "decompressedLength2 \"(3x3)XYZ\"\n",
    "decompressedLength2 \"X(8x2)(3x3)ABCY\"\n",
    "decompressedLength2 \"(27x12)(20x12)(13x14)(7x10)(1x12)A\"\n",
    "decompressedLength2 \"(25x3)(3x3)ABC(2x3)XY(5x2)PQRSTX(18x9)(3x2)TWO(5x7)SEVEN\""
   ]
  },
  {
   "cell_type": "code",
   "execution_count": 8,
   "metadata": {
    "collapsed": false
   },
   "outputs": [
    {
     "data": {
      "text/plain": [
       "10943094568"
      ]
     },
     "metadata": {},
     "output_type": "display_data"
    }
   ],
   "source": [
    "decompressedLength2 . head <$> inputLines"
   ]
  }
 ],
 "metadata": {
  "kernelspec": {
   "display_name": "Haskell",
   "language": "haskell",
   "name": "haskell"
  },
  "language_info": {
   "codemirror_mode": "ihaskell",
   "file_extension": ".hs",
   "name": "haskell",
   "version": "7.10.2"
  }
 },
 "nbformat": 4,
 "nbformat_minor": 0
}
