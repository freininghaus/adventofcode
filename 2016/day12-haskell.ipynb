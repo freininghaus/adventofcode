{
 "cells": [
  {
   "cell_type": "markdown",
   "metadata": {},
   "source": [
    "# Day 12: Leonardo's Monorail"
   ]
  },
  {
   "cell_type": "code",
   "execution_count": 1,
   "metadata": {
    "collapsed": true
   },
   "outputs": [],
   "source": [
    "inputLines = lines <$> readFile \"input/day12.txt\""
   ]
  },
  {
   "cell_type": "code",
   "execution_count": 2,
   "metadata": {
    "collapsed": false
   },
   "outputs": [],
   "source": [
    "import qualified Data.Map as Map\n",
    "import Data.Array\n",
    "import Data.Char (isLetter)\n",
    "import Data.Maybe (fromJust)"
   ]
  },
  {
   "cell_type": "markdown",
   "metadata": {},
   "source": [
    "## Data Types\n",
    "The computer memory stores the values of the registers. It is implemented as a `Map` that maps the register name to the corresponding value."
   ]
  },
  {
   "cell_type": "code",
   "execution_count": 3,
   "metadata": {
    "collapsed": false
   },
   "outputs": [],
   "source": [
    "type ComputerMemory = Map.Map String Int"
   ]
  },
  {
   "cell_type": "markdown",
   "metadata": {},
   "source": [
    "The state of the computer consists of the instruction pointer (the integer index of the next instruction) and the memory."
   ]
  },
  {
   "cell_type": "code",
   "execution_count": 4,
   "metadata": {
    "collapsed": true
   },
   "outputs": [],
   "source": [
    "type ComputerState = (Int, ComputerMemory)"
   ]
  },
  {
   "cell_type": "markdown",
   "metadata": {},
   "source": [
    "An instruction maps a computer state to the next computer state."
   ]
  },
  {
   "cell_type": "code",
   "execution_count": 5,
   "metadata": {
    "collapsed": true
   },
   "outputs": [],
   "source": [
    "type Instruction = ComputerState -> ComputerState"
   ]
  },
  {
   "cell_type": "markdown",
   "metadata": {},
   "source": [
    "A program is an array of instructions."
   ]
  },
  {
   "cell_type": "code",
   "execution_count": 6,
   "metadata": {
    "collapsed": true
   },
   "outputs": [],
   "source": [
    "type Program = Array Int Instruction"
   ]
  },
  {
   "cell_type": "markdown",
   "metadata": {},
   "source": [
    "Asembunny instructions are made of an opcode and one or two operands. An operand is either a constant integer or a register value."
   ]
  },
  {
   "cell_type": "code",
   "execution_count": 7,
   "metadata": {
    "collapsed": false
   },
   "outputs": [],
   "source": [
    "data Operand = Const Int | Register String deriving(Show)"
   ]
  },
  {
   "cell_type": "markdown",
   "metadata": {},
   "source": [
    "## Functions for handling operands\n",
    "`getValue` determines the value of an operand. Access to the computer memory is needed if the operand is a register. If a register has not been written to, its value is zero."
   ]
  },
  {
   "cell_type": "code",
   "execution_count": 8,
   "metadata": {
    "collapsed": false
   },
   "outputs": [],
   "source": [
    "getValue :: Operand -> ComputerMemory -> Int\n",
    "getValue (Const value) _ = value\n",
    "getValue (Register registerName) memory = Map.findWithDefault 0 registerName memory"
   ]
  },
  {
   "cell_type": "markdown",
   "metadata": {},
   "source": [
    "`parseOperand` takes a `String` and returns the corresponding `Operand`."
   ]
  },
  {
   "cell_type": "code",
   "execution_count": 9,
   "metadata": {
    "collapsed": false
   },
   "outputs": [
    {
     "data": {
      "text/plain": [
       "[Const (-5),Register \"d\"]"
      ]
     },
     "metadata": {},
     "output_type": "display_data"
    }
   ],
   "source": [
    "parseOperand :: String -> Operand\n",
    "parseOperand text\n",
    "    | isLetter $ head text = Register text\n",
    "    | otherwise = Const $ read text\n",
    "    \n",
    "-- Test if it works\n",
    "map parseOperand [\"-5\", \"d\"] -- [Const (-5), Register \"d\"]"
   ]
  },
  {
   "cell_type": "markdown",
   "metadata": {},
   "source": [
    "## Functions that build the instructions\n",
    "The following functions take one or two `Operands` and return the corresponding `Instruction`, i.e., the function that takes a computer state and returns the new state after the instruction is executed. Note that the instructions for all opcodes except for `jnz` increase the instruction pointer by one.\n",
    "\n",
    "`cpy` writes the value of its first `Operand` to the second `Operand`, which must be a register"
   ]
  },
  {
   "cell_type": "code",
   "execution_count": 10,
   "metadata": {
    "collapsed": false
   },
   "outputs": [],
   "source": [
    "cpy :: Operand -> Operand -> Instruction\n",
    "cpy source (Register registerName) (ip, memory) =\n",
    "    (succ ip, Map.insert registerName (getValue source memory) memory)"
   ]
  },
  {
   "cell_type": "markdown",
   "metadata": {},
   "source": [
    "`modifyRegister` takes a function that modifies an `Int` and a register. The resulting instruction applies that modification to the register value."
   ]
  },
  {
   "cell_type": "code",
   "execution_count": 11,
   "metadata": {
    "collapsed": true
   },
   "outputs": [],
   "source": [
    "modifyRegister :: (Int -> Int) -> Operand -> Instruction\n",
    "modifyRegister modifier (Register registerName) (ip, memory) = \n",
    "    (succ ip,\n",
    "     Map.insert registerName (modifier $ Map.findWithDefault 0 registerName memory) memory)"
   ]
  },
  {
   "cell_type": "markdown",
   "metadata": {},
   "source": [
    "`inc` and `dec` use `modifyRegister` to increase and decrease a register value, respectively."
   ]
  },
  {
   "cell_type": "code",
   "execution_count": 12,
   "metadata": {
    "collapsed": false
   },
   "outputs": [],
   "source": [
    "inc :: Operand -> Instruction\n",
    "inc = modifyRegister succ"
   ]
  },
  {
   "cell_type": "code",
   "execution_count": 13,
   "metadata": {
    "collapsed": true
   },
   "outputs": [],
   "source": [
    "dec :: Operand -> Instruction\n",
    "dec = modifyRegister pred"
   ]
  },
  {
   "cell_type": "markdown",
   "metadata": {},
   "source": [
    "`jnz` adds its first `Operand` to the instruction pointer, unless its second operand is zero."
   ]
  },
  {
   "cell_type": "code",
   "execution_count": 14,
   "metadata": {
    "collapsed": false
   },
   "outputs": [],
   "source": [
    "jnz :: Operand -> Operand -> Instruction\n",
    "jnz value offset (ip, memory)\n",
    "    | getValue value memory == 0 = (succ ip, memory)\n",
    "    | otherwise = (ip + getValue offset memory, memory)"
   ]
  },
  {
   "cell_type": "markdown",
   "metadata": {},
   "source": [
    "## Parsing instructions\n",
    "`parseInstruction` takes a line of asembunny code and returns the corresponding `Instruction`."
   ]
  },
  {
   "cell_type": "code",
   "execution_count": 15,
   "metadata": {
    "collapsed": false
   },
   "outputs": [],
   "source": [
    "parseInstruction :: String -> Instruction\n",
    "parseInstruction line\n",
    "    | opcode `Map.member` unaryFunctions = \n",
    "        fromJust (opcode `Map.lookup` unaryFunctions)\n",
    "                 (getSingleOperand operands)\n",
    "    | opcode `Map.member` binaryFunctions =\n",
    "        fromJust (opcode `Map.lookup` binaryFunctions)\n",
    "                 (getFirstOperand operands)\n",
    "                 (getSecondOperand operands)\n",
    "    where\n",
    "        tokens = words line\n",
    "        opcode = head tokens\n",
    "        operands = tail tokens\n",
    "        \n",
    "        unaryFunctions = Map.fromList [(\"inc\", inc), (\"dec\", dec)]      \n",
    "        binaryFunctions = Map.fromList [(\"cpy\", cpy), (\"jnz\", jnz)]\n",
    "        \n",
    "        getSingleOperand [p] = parseOperand p\n",
    "        \n",
    "        getFirstOperand [p1, p2] = parseOperand p1\n",
    "        \n",
    "        getSecondOperand [p1, p2] = parseOperand p2"
   ]
  },
  {
   "cell_type": "markdown",
   "metadata": {},
   "source": [
    "## Verify that a few parsed instructions behave as expected"
   ]
  },
  {
   "cell_type": "code",
   "execution_count": 16,
   "metadata": {
    "collapsed": false
   },
   "outputs": [
    {
     "data": {
      "text/plain": [
       "True"
      ]
     },
     "metadata": {},
     "output_type": "display_data"
    }
   ],
   "source": [
    "initialState = (42, Map.fromList [(\"a\", 1)])\n",
    "\n",
    "instructionsAndExpectedStates = [\n",
    "    (\"inc a\",    (43, Map.fromList [(\"a\", 2)])),\n",
    "    (\"inc b\",    (43, Map.fromList [(\"a\", 1), (\"b\", 1)])),\n",
    "    (\"dec c\",    (43, Map.fromList [(\"a\", 1), (\"c\", -1)])),\n",
    "    (\"cpy a b\",  (43, Map.fromList [(\"a\", 1), (\"b\", 1)])),\n",
    "    (\"cpy -5 d\", (43, Map.fromList [(\"a\", 1), (\"d\", -5)])),\n",
    "    (\"jnz a 10\", (52, Map.fromList [(\"a\", 1)])),\n",
    "    (\"jnz b 10\", (43, Map.fromList [(\"a\", 1)]))]\n",
    "    \n",
    "finalStates = map ((\\f -> f initialState) . parseInstruction . fst) instructionsAndExpectedStates\n",
    "expectedStates = map snd instructionsAndExpectedStates\n",
    "\n",
    "all (uncurry (==)) $ zip finalStates expectedStates"
   ]
  },
  {
   "cell_type": "markdown",
   "metadata": {},
   "source": [
    "## Compile an asembunny program"
   ]
  },
  {
   "cell_type": "code",
   "execution_count": 17,
   "metadata": {
    "collapsed": false
   },
   "outputs": [],
   "source": [
    "compileProgram :: [String] -> Program\n",
    "compileProgram sourceLines = listArray (0, lastIndex) $ map parseInstruction sourceLines\n",
    "    where\n",
    "        lastIndex = pred numberOfInstructions\n",
    "        numberOfInstructions = length sourceLines"
   ]
  },
  {
   "cell_type": "markdown",
   "metadata": {},
   "source": [
    "## Continue running a program in a specific computer state\n",
    "This function takes a program, the final value of the instruction pointer that causes the program to terminate, and the current computer state. It returns the state that the computer memory will have after program termination."
   ]
  },
  {
   "cell_type": "code",
   "execution_count": 18,
   "metadata": {
    "collapsed": false
   },
   "outputs": [],
   "source": [
    "continueExecution :: Program -> Int -> ComputerState -> ComputerMemory\n",
    "continueExecution program finalIp state\n",
    "    | ip == finalIp = memory\n",
    "    | otherwise = continueExecution program finalIp newState\n",
    "    where\n",
    "        (ip, memory) = state\n",
    "        newState = currentInstruction state\n",
    "        currentInstruction = program ! ip"
   ]
  },
  {
   "cell_type": "markdown",
   "metadata": {},
   "source": [
    "## Run a program from the beginning until it terminates\n",
    "The function takes the initial state of the computer memory and a program, and returns the computer memory after program termination."
   ]
  },
  {
   "cell_type": "code",
   "execution_count": 19,
   "metadata": {
    "collapsed": true
   },
   "outputs": [],
   "source": [
    "runProgram :: ComputerMemory -> Program -> ComputerMemory\n",
    "runProgram initialMemory program = continueExecution program finalIp initialState\n",
    "    where\n",
    "        (minIp, maxIp) = bounds program\n",
    "        finalIp = succ maxIp\n",
    "        initialState = (minIp, initialMemory)"
   ]
  },
  {
   "cell_type": "markdown",
   "metadata": {},
   "source": [
    "## Compile the given program"
   ]
  },
  {
   "cell_type": "code",
   "execution_count": 20,
   "metadata": {
    "collapsed": true
   },
   "outputs": [],
   "source": [
    "program = compileProgram <$> inputLines"
   ]
  },
  {
   "cell_type": "markdown",
   "metadata": {},
   "source": [
    "## Part 1: Run the program with uninitialized memory and read the value from register `\"a\"`"
   ]
  },
  {
   "cell_type": "code",
   "execution_count": 21,
   "metadata": {
    "collapsed": false
   },
   "outputs": [
    {
     "data": {
      "text/html": [
       "<style>/* Styles used for the Hoogle display in the pager */\n",
       ".hoogle-doc {\n",
       "display: block;\n",
       "padding-bottom: 1.3em;\n",
       "padding-left: 0.4em;\n",
       "}\n",
       ".hoogle-code {\n",
       "display: block;\n",
       "font-family: monospace;\n",
       "white-space: pre;\n",
       "}\n",
       ".hoogle-text {\n",
       "display: block;\n",
       "}\n",
       ".hoogle-name {\n",
       "color: green;\n",
       "font-weight: bold;\n",
       "}\n",
       ".hoogle-head {\n",
       "font-weight: bold;\n",
       "}\n",
       ".hoogle-sub {\n",
       "display: block;\n",
       "margin-left: 0.4em;\n",
       "}\n",
       ".hoogle-package {\n",
       "font-weight: bold;\n",
       "font-style: italic;\n",
       "}\n",
       ".hoogle-module {\n",
       "font-weight: bold;\n",
       "}\n",
       ".hoogle-class {\n",
       "font-weight: bold;\n",
       "}\n",
       ".get-type {\n",
       "color: green;\n",
       "font-weight: bold;\n",
       "font-family: monospace;\n",
       "display: block;\n",
       "white-space: pre-wrap;\n",
       "}\n",
       ".show-type {\n",
       "color: green;\n",
       "font-weight: bold;\n",
       "font-family: monospace;\n",
       "margin-left: 1em;\n",
       "}\n",
       ".mono {\n",
       "font-family: monospace;\n",
       "display: block;\n",
       "}\n",
       ".err-msg {\n",
       "color: red;\n",
       "font-style: italic;\n",
       "font-family: monospace;\n",
       "white-space: pre;\n",
       "display: block;\n",
       "}\n",
       "#unshowable {\n",
       "color: red;\n",
       "font-weight: bold;\n",
       "}\n",
       ".err-msg.in.collapse {\n",
       "padding-top: 0.7em;\n",
       "}\n",
       ".highlight-code {\n",
       "white-space: pre;\n",
       "font-family: monospace;\n",
       "}\n",
       ".suggestion-warning { \n",
       "font-weight: bold;\n",
       "color: rgb(200, 130, 0);\n",
       "}\n",
       ".suggestion-error { \n",
       "font-weight: bold;\n",
       "color: red;\n",
       "}\n",
       ".suggestion-name {\n",
       "font-weight: bold;\n",
       "}\n",
       "</style><span style='color: green; font-weight: bold;'>Just</span><span style='font-family: monospace;'>317993</span>"
      ],
      "text/plain": [
       "Just 317993"
      ]
     },
     "metadata": {},
     "output_type": "display_data"
    }
   ],
   "source": [
    "Map.lookup \"a\" . runProgram Map.empty <$> program"
   ]
  },
  {
   "cell_type": "markdown",
   "metadata": {},
   "source": [
    "## Part 2: Set the value of register `\"c\"` to 1"
   ]
  },
  {
   "cell_type": "code",
   "execution_count": 22,
   "metadata": {
    "collapsed": false
   },
   "outputs": [
    {
     "data": {
      "text/html": [
       "<style>/* Styles used for the Hoogle display in the pager */\n",
       ".hoogle-doc {\n",
       "display: block;\n",
       "padding-bottom: 1.3em;\n",
       "padding-left: 0.4em;\n",
       "}\n",
       ".hoogle-code {\n",
       "display: block;\n",
       "font-family: monospace;\n",
       "white-space: pre;\n",
       "}\n",
       ".hoogle-text {\n",
       "display: block;\n",
       "}\n",
       ".hoogle-name {\n",
       "color: green;\n",
       "font-weight: bold;\n",
       "}\n",
       ".hoogle-head {\n",
       "font-weight: bold;\n",
       "}\n",
       ".hoogle-sub {\n",
       "display: block;\n",
       "margin-left: 0.4em;\n",
       "}\n",
       ".hoogle-package {\n",
       "font-weight: bold;\n",
       "font-style: italic;\n",
       "}\n",
       ".hoogle-module {\n",
       "font-weight: bold;\n",
       "}\n",
       ".hoogle-class {\n",
       "font-weight: bold;\n",
       "}\n",
       ".get-type {\n",
       "color: green;\n",
       "font-weight: bold;\n",
       "font-family: monospace;\n",
       "display: block;\n",
       "white-space: pre-wrap;\n",
       "}\n",
       ".show-type {\n",
       "color: green;\n",
       "font-weight: bold;\n",
       "font-family: monospace;\n",
       "margin-left: 1em;\n",
       "}\n",
       ".mono {\n",
       "font-family: monospace;\n",
       "display: block;\n",
       "}\n",
       ".err-msg {\n",
       "color: red;\n",
       "font-style: italic;\n",
       "font-family: monospace;\n",
       "white-space: pre;\n",
       "display: block;\n",
       "}\n",
       "#unshowable {\n",
       "color: red;\n",
       "font-weight: bold;\n",
       "}\n",
       ".err-msg.in.collapse {\n",
       "padding-top: 0.7em;\n",
       "}\n",
       ".highlight-code {\n",
       "white-space: pre;\n",
       "font-family: monospace;\n",
       "}\n",
       ".suggestion-warning { \n",
       "font-weight: bold;\n",
       "color: rgb(200, 130, 0);\n",
       "}\n",
       ".suggestion-error { \n",
       "font-weight: bold;\n",
       "color: red;\n",
       "}\n",
       ".suggestion-name {\n",
       "font-weight: bold;\n",
       "}\n",
       "</style><span style='color: green; font-weight: bold;'>Just</span><span style='font-family: monospace;'>9227647</span>"
      ],
      "text/plain": [
       "Just 9227647"
      ]
     },
     "metadata": {},
     "output_type": "display_data"
    }
   ],
   "source": [
    "Map.lookup \"a\" . runProgram (Map.singleton \"c\" 1) <$> program"
   ]
  }
 ],
 "metadata": {
  "kernelspec": {
   "display_name": "Haskell",
   "language": "haskell",
   "name": "haskell"
  },
  "language_info": {
   "codemirror_mode": "ihaskell",
   "file_extension": ".hs",
   "name": "haskell",
   "version": "7.10.2"
  }
 },
 "nbformat": 4,
 "nbformat_minor": 0
}
