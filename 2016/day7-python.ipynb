{
 "cells": [
  {
   "cell_type": "markdown",
   "metadata": {},
   "source": [
    "# Day 7: Internet Protocol Version 7"
   ]
  },
  {
   "cell_type": "code",
   "execution_count": 1,
   "metadata": {
    "collapsed": true
   },
   "outputs": [],
   "source": [
    "with open(\"input/day7.txt\", \"r\") as f:\n",
    "    inputLines = tuple(line.strip() for line in f)"
   ]
  },
  {
   "cell_type": "code",
   "execution_count": 2,
   "metadata": {
    "collapsed": true
   },
   "outputs": [],
   "source": [
    "import re"
   ]
  },
  {
   "cell_type": "markdown",
   "metadata": {},
   "source": [
    "## Part 1: ABBA pattern in address, but not in hypernet sequences"
   ]
  },
  {
   "cell_type": "code",
   "execution_count": 3,
   "metadata": {
    "collapsed": false
   },
   "outputs": [],
   "source": [
    "def isABBA(text):\n",
    "    # Use a negative lookahead assertion to avoid matching four equal characters.\n",
    "    return re.search(r\"(.)(?!\\1)(.)\\2\\1\", text) is not None\n",
    "\n",
    "assert     isABBA(\"abba\")\n",
    "assert     isABBA(\"xabba\")\n",
    "assert not isABBA(\"aaaa\")\n",
    "assert     isABBA(\"abcoxxoxyz\")\n",
    "assert     isABBA(\"aabba\")\n",
    "assert     isABBA(\"aaabba\")\n",
    "assert     isABBA(\"aaaabba\")"
   ]
  },
  {
   "cell_type": "code",
   "execution_count": 4,
   "metadata": {
    "collapsed": false
   },
   "outputs": [],
   "source": [
    "def ipAddressSequences(ipAddress):\n",
    "    # We use a pattern for the hypernet sequences for splitting.\n",
    "    # Moreover, we capture the letters in the hypernet sequences, such that\n",
    "    # normal and hypernet sequences will be alternating in the result.\n",
    "    sequences = re.split(r\"\\[([^\\]]+)\\]\", ipAddress)\n",
    "    normalSequences = tuple(sequences[::2])\n",
    "    hypernetSequences = tuple(sequences[1::2])\n",
    "    return normalSequences, hypernetSequences\n",
    "    \n",
    "assert ipAddressSequences(\"abba[mnop]qrst\") == ((\"abba\", \"qrst\"), (\"mnop\",))\n",
    "assert ipAddressSequences(\"abcd[bddb]xyyx\") == ((\"abcd\", \"xyyx\"), (\"bddb\",))\n",
    "assert ipAddressSequences(\"aaaa[qwer]tyui\") == ((\"aaaa\", \"tyui\"), (\"qwer\",))\n",
    "assert ipAddressSequences(\"ioxxoj[asdfgh]zxcvbn\") == ((\"ioxxoj\", \"zxcvbn\"), (\"asdfgh\",))\n",
    "assert ipAddressSequences(\"a[b]\") == ((\"a\", \"\"), (\"b\",))\n",
    "assert ipAddressSequences(\"[b]a\") == ((\"\", \"a\"), (\"b\",))\n",
    "assert ipAddressSequences(\"[b]\") == ((\"\", \"\"), (\"b\",))"
   ]
  },
  {
   "cell_type": "code",
   "execution_count": 5,
   "metadata": {
    "collapsed": true
   },
   "outputs": [],
   "source": [
    "def supportsTLS(ipAddress):\n",
    "    normal, hypernet = ipAddressSequences(ipAddress)\n",
    "    return any(isABBA(s) for s in normal) and not any(isABBA(s) for s in hypernet)\n",
    "    \n",
    "assert     supportsTLS(\"abba[mnop]qrst\")\n",
    "assert not supportsTLS(\"abcd[bddb]xyyx\")\n",
    "assert not supportsTLS(\"aaaa[qwer]tyui\")\n",
    "assert     supportsTLS(\"ioxxoj[asdfgh]zxcvbn\")"
   ]
  },
  {
   "cell_type": "code",
   "execution_count": 6,
   "metadata": {
    "collapsed": false
   },
   "outputs": [
    {
     "data": {
      "text/plain": [
       "115"
      ]
     },
     "execution_count": 6,
     "metadata": {},
     "output_type": "execute_result"
    }
   ],
   "source": [
    "sum(1 for ipAddress in inputLines if supportsTLS(ipAddress))"
   ]
  },
  {
   "cell_type": "markdown",
   "metadata": {},
   "source": [
    "## Part 2: ABA and corresponding BAB pattern in normal and hypernet parts"
   ]
  },
  {
   "cell_type": "code",
   "execution_count": 7,
   "metadata": {
    "collapsed": true
   },
   "outputs": [],
   "source": [
    "def supportsSSL(ipAddress):\n",
    "    # The idea is that the ABA and the BAB patterns are separated by an odd number of brackets.\n",
    "    return re.search(# first the ABA pattern\n",
    "                       r\"([a-z])(?!\\1)([a-z])\\1\"\n",
    "                     # then an arbitrary number of letters\n",
    "                     + r\"[a-z]*\"\n",
    "                     # then an opening or closing bracket\n",
    "                     + r\"[\\[\\]]\"\n",
    "                     # then any number of blocks which contain letters, a bracket, more letters, and another bracket\n",
    "                     + r\"([a-z]*[\\[\\]][a-z]*[\\[\\]]]*)*\" \n",
    "                     # then an arbitrary number of letters\n",
    "                     + r\"[^\\[\\]]*\"\n",
    "                     # finally, the BAB pattern\n",
    "                     + r\"\\2\\1\\2\", \n",
    "                     ipAddress) is not None"
   ]
  },
  {
   "cell_type": "code",
   "execution_count": 8,
   "metadata": {
    "collapsed": false
   },
   "outputs": [],
   "source": [
    "assert     supportsSSL(\"aba[bab]xyz\")\n",
    "assert not supportsSSL(\"xyx[xyx]xyx\")\n",
    "assert     supportsSSL(\"aaa[kek]eke\")\n",
    "assert     supportsSSL(\"zazbz[bzb]cdb\")"
   ]
  },
  {
   "cell_type": "code",
   "execution_count": 9,
   "metadata": {
    "collapsed": false
   },
   "outputs": [
    {
     "data": {
      "text/plain": [
       "231"
      ]
     },
     "execution_count": 9,
     "metadata": {},
     "output_type": "execute_result"
    }
   ],
   "source": [
    "sum(1 for ipAddress in inputLines if supportsSSL(ipAddress))"
   ]
  }
 ],
 "metadata": {
  "kernelspec": {
   "display_name": "Python 3",
   "language": "python",
   "name": "python3"
  },
  "language_info": {
   "codemirror_mode": {
    "name": "ipython",
    "version": 3
   },
   "file_extension": ".py",
   "mimetype": "text/x-python",
   "name": "python",
   "nbconvert_exporter": "python",
   "pygments_lexer": "ipython3",
   "version": "3.4.3"
  }
 },
 "nbformat": 4,
 "nbformat_minor": 0
}
