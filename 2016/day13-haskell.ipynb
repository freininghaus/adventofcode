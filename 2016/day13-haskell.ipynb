{
 "cells": [
  {
   "cell_type": "markdown",
   "metadata": {},
   "source": [
    "# Day 13: A Maze of Twisty Little Cubicles"
   ]
  },
  {
   "cell_type": "code",
   "execution_count": 1,
   "metadata": {
    "collapsed": true
   },
   "outputs": [],
   "source": [
    "inputLines = lines <$> readFile \"input/day13.txt\"\n",
    "inputNumber = read . head <$> inputLines"
   ]
  },
  {
   "cell_type": "code",
   "execution_count": 2,
   "metadata": {
    "collapsed": false
   },
   "outputs": [],
   "source": [
    "import Control.Applicative\n",
    "import Control.Lens (over)\n",
    "import Control.Lens.Tuple\n",
    "import Data.Bits\n",
    "import qualified Data.Set as Set"
   ]
  },
  {
   "cell_type": "markdown",
   "metadata": {},
   "source": [
    "## Find out if a number has an odd number of bits"
   ]
  },
  {
   "cell_type": "code",
   "execution_count": 3,
   "metadata": {
    "collapsed": true
   },
   "outputs": [],
   "source": [
    "oddNumberOfBits :: Int -> Bool\n",
    "oddNumberOfBits 1 = True\n",
    "oddNumberOfBits 0 = False\n",
    "oddNumberOfBits n = oddNumberOfBits (n `mod` 2) `xor` oddNumberOfBits (n `div` 2)"
   ]
  },
  {
   "cell_type": "markdown",
   "metadata": {},
   "source": [
    "## Find out if there is a wall at a given position \n",
    "We constrain the movement to positions with non-negativ coordinates by putting walls at positions where `x` or `y` is negative."
   ]
  },
  {
   "cell_type": "code",
   "execution_count": 4,
   "metadata": {
    "collapsed": false
   },
   "outputs": [],
   "source": [
    "isWall :: Int -> (Int, Int) -> Bool\n",
    "isWall puzzleInput (x, y)\n",
    "    | x < 0 = True\n",
    "    | y < 0 = True\n",
    "    | otherwise = oddNumberOfBits $ x*x + 3*x + 2*x*y + y + y*y + puzzleInput"
   ]
  },
  {
   "cell_type": "markdown",
   "metadata": {},
   "source": [
    "## Find out all positions which are newly reachable in a single move\n",
    "These are the positions which\n",
    "* can be reached from any position in `currentPositions` in a single move,\n",
    "* are not contained in `visitedPositions` yet,\n",
    "* do not have walls."
   ]
  },
  {
   "cell_type": "code",
   "execution_count": 5,
   "metadata": {
    "collapsed": true
   },
   "outputs": [],
   "source": [
    "type Positions = Set.Set (Int, Int)"
   ]
  },
  {
   "cell_type": "code",
   "execution_count": 6,
   "metadata": {
    "collapsed": false
   },
   "outputs": [],
   "source": [
    "newPositions :: Int -> Positions -> Positions -> Positions\n",
    "newPositions puzzleInput visitedPositions currentPositions =\n",
    "    Set.filter (not . isWall puzzleInput) allNewPositions\n",
    "    where\n",
    "        allNewPositions = Set.filter (not . (`Set.member` visitedPositions)) allReachablePositions\n",
    "        allReachablePositions = Set.fromList allReachablePositionsList\n",
    "        allReachablePositionsList = over <$> [_1, _2] <*> [succ, pred] <*> currentPositionsList\n",
    "        currentPositionsList = Set.elems currentPositions"
   ]
  },
  {
   "cell_type": "markdown",
   "metadata": {},
   "source": [
    "## Find out how a single step affects the visited positions and the current (i.e., newly visited) positions"
   ]
  },
  {
   "cell_type": "code",
   "execution_count": 7,
   "metadata": {
    "collapsed": false
   },
   "outputs": [],
   "source": [
    "step :: Int -> (Positions, Positions) -> (Positions, Positions)\n",
    "step puzzleInput (visitedPositions, currentPositions) = (newVisitedPositions, newCurrentPositions)\n",
    "    where\n",
    "        newCurrentPositions = newPositions puzzleInput visitedPositions currentPositions\n",
    "        newVisitedPositions = visitedPositions `Set.union` newCurrentPositions"
   ]
  },
  {
   "cell_type": "markdown",
   "metadata": {},
   "source": [
    "## Determine the number of steps needed to reach the target from any current position"
   ]
  },
  {
   "cell_type": "code",
   "execution_count": 8,
   "metadata": {
    "collapsed": false
   },
   "outputs": [],
   "source": [
    "remainingStepsToTarget :: Int -> (Int, Int) -> Positions -> Positions -> Int\n",
    "remainingStepsToTarget puzzleInput target visitedPositions currentPositions\n",
    "    | target `elem` currentPositions = 0\n",
    "    | otherwise = succ $ remainingStepsToTarget puzzleInput target newVisitedPositions newCurrentPositions\n",
    "    where\n",
    "        (newVisitedPositions, newCurrentPositions) = step puzzleInput (visitedPositions, currentPositions)"
   ]
  },
  {
   "cell_type": "markdown",
   "metadata": {},
   "source": [
    "## Find the number of steps needed to reach the target from a given origin"
   ]
  },
  {
   "cell_type": "code",
   "execution_count": 9,
   "metadata": {
    "collapsed": true
   },
   "outputs": [],
   "source": [
    "stepsToTarget :: Int -> (Int, Int) -> (Int, Int) -> Int\n",
    "stepsToTarget puzzleInput target origin = remainingStepsToTarget puzzleInput target initialSet initialSet\n",
    "    where\n",
    "        initialSet = Set.singleton origin"
   ]
  },
  {
   "cell_type": "markdown",
   "metadata": {},
   "source": [
    "## Part 1: How many steps are needed to reach (31, 39) from (1, 1)?"
   ]
  },
  {
   "cell_type": "code",
   "execution_count": 10,
   "metadata": {
    "collapsed": true
   },
   "outputs": [],
   "source": [
    "part1 :: Int -> Int\n",
    "part1 puzzleInput = stepsToTarget puzzleInput (31, 39) (1, 1)"
   ]
  },
  {
   "cell_type": "code",
   "execution_count": 11,
   "metadata": {
    "collapsed": false
   },
   "outputs": [
    {
     "data": {
      "text/plain": [
       "96"
      ]
     },
     "metadata": {},
     "output_type": "display_data"
    }
   ],
   "source": [
    "part1 <$> inputNumber"
   ]
  },
  {
   "cell_type": "markdown",
   "metadata": {},
   "source": [
    "## Find the positions which are reachable from the origin in a given number of moves"
   ]
  },
  {
   "cell_type": "code",
   "execution_count": 12,
   "metadata": {
    "collapsed": false
   },
   "outputs": [],
   "source": [
    "reachablePositions :: Int -> Int -> (Int, Int) -> Positions\n",
    "reachablePositions puzzleInput moves origin =\n",
    "    fst $ last $ take (succ moves) $ iterate (step puzzleInput) initialState\n",
    "    where\n",
    "        initialState = (initialPositions, initialPositions)\n",
    "        initialPositions = Set.singleton origin"
   ]
  },
  {
   "cell_type": "markdown",
   "metadata": {},
   "source": [
    "## Part 2: How many positions can be reached in 50 steps from (1, 1)?"
   ]
  },
  {
   "cell_type": "code",
   "execution_count": 13,
   "metadata": {
    "collapsed": false
   },
   "outputs": [],
   "source": [
    "part2 :: Int -> Int\n",
    "part2 puzzleInput = Set.size $ reachablePositions puzzleInput 50 (1, 1)"
   ]
  },
  {
   "cell_type": "code",
   "execution_count": 14,
   "metadata": {
    "collapsed": false
   },
   "outputs": [
    {
     "data": {
      "text/plain": [
       "141"
      ]
     },
     "metadata": {},
     "output_type": "display_data"
    }
   ],
   "source": [
    "part2 <$> inputNumber"
   ]
  }
 ],
 "metadata": {
  "kernelspec": {
   "display_name": "Haskell",
   "language": "haskell",
   "name": "haskell"
  },
  "language_info": {
   "codemirror_mode": "ihaskell",
   "file_extension": ".hs",
   "name": "haskell",
   "version": "7.10.2"
  }
 },
 "nbformat": 4,
 "nbformat_minor": 0
}
