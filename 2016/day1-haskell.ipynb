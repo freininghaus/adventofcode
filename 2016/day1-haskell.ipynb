{
 "cells": [
  {
   "cell_type": "markdown",
   "metadata": {},
   "source": [
    "# Day 1: No Time for a Taxicab"
   ]
  },
  {
   "cell_type": "code",
   "execution_count": 1,
   "metadata": {
    "collapsed": false
   },
   "outputs": [],
   "source": [
    "import Data.List.Split"
   ]
  },
  {
   "cell_type": "code",
   "execution_count": 2,
   "metadata": {
    "collapsed": true
   },
   "outputs": [],
   "source": [
    "inputLine = head <$> lines <$> readFile \"input/day1.txt\""
   ]
  },
  {
   "cell_type": "markdown",
   "metadata": {},
   "source": [
    "## Transform the input line to a list of instructions"
   ]
  },
  {
   "cell_type": "code",
   "execution_count": 3,
   "metadata": {
    "collapsed": false
   },
   "outputs": [
    {
     "data": {
      "text/plain": [
       "[\"R4\",\"R1\",\"L2\",\"R1\",\"L1\"]"
      ]
     },
     "metadata": {},
     "output_type": "display_data"
    }
   ],
   "source": [
    "instructions = splitOn \",\" . filter (/= ' ') <$> inputLine\n",
    "take 5 <$> instructions -- just to see if it works"
   ]
  },
  {
   "cell_type": "markdown",
   "metadata": {},
   "source": [
    "## We encode the direction of the step in a tuple of two `Int` values:\n",
    "\n",
    "`(0, 1)` : North\n",
    "\n",
    "`(1, 0)` : East\n",
    "\n",
    "`(0, -1)` : South\n",
    "\n",
    "`(-1, 0)` : West"
   ]
  },
  {
   "cell_type": "code",
   "execution_count": 4,
   "metadata": {
    "collapsed": false
   },
   "outputs": [],
   "source": [
    "-- Takes an initial direction and a list of instructions and returns a list of single-block steps\n",
    "getSteps :: (Int, Int) -> [String] -> [(Int, Int)]\n",
    "getSteps _ [] = []\n",
    "getSteps direction (instruction:is) =\n",
    "    replicate distance newDirection ++ getSteps newDirection is\n",
    "        where    \n",
    "            turn = head instruction -- L or R\n",
    "            distance = read (tail instruction)\n",
    "\n",
    "            evalTurn :: Char -> (Int, Int) -> (Int, Int)\n",
    "            evalTurn 'L' (dx, dy) = (-dy, dx)\n",
    "            evalTurn 'R' (dx, dy) = (dy, -dx)\n",
    "        \n",
    "            newDirection = evalTurn turn direction"
   ]
  },
  {
   "cell_type": "code",
   "execution_count": 5,
   "metadata": {
    "collapsed": true
   },
   "outputs": [],
   "source": [
    "-- Applies a single-block step to a given position and returns the new position\n",
    "applyStep :: (Int, Int) -> (Int, Int) -> (Int, Int)\n",
    "applyStep (x, y) (dx, dy) = (x + dx, y + dy)"
   ]
  },
  {
   "cell_type": "code",
   "execution_count": 6,
   "metadata": {
    "collapsed": false
   },
   "outputs": [],
   "source": [
    "-- Takes a list of steps and returns the final position if (0, 0) was the initial position\n",
    "evalSteps = foldl applyStep (0, 0)"
   ]
  },
  {
   "cell_type": "code",
   "execution_count": 7,
   "metadata": {
    "collapsed": false
   },
   "outputs": [],
   "source": [
    "-- Manhattan distance from the origin\n",
    "distanceFromOrigin :: (Int, Int) -> Int\n",
    "distanceFromOrigin (x, y) = abs x + abs y"
   ]
  },
  {
   "cell_type": "code",
   "execution_count": 8,
   "metadata": {
    "collapsed": false
   },
   "outputs": [
    {
     "data": {
      "text/plain": [
       "161"
      ]
     },
     "metadata": {},
     "output_type": "display_data"
    }
   ],
   "source": [
    "-- Solution of part 1\n",
    "distanceFromOrigin . evalSteps . getSteps (0, 1) <$> instructions"
   ]
  },
  {
   "cell_type": "code",
   "execution_count": 9,
   "metadata": {
    "collapsed": true
   },
   "outputs": [],
   "source": [
    "import qualified Data.Set as Set"
   ]
  },
  {
   "cell_type": "code",
   "execution_count": 10,
   "metadata": {
    "collapsed": false
   },
   "outputs": [],
   "source": [
    "-- * Takes a list of steps\n",
    "-- * Assumes that (0, 0) is the initial position\n",
    "-- * Returns a list of tuples where:\n",
    "--     * the first tuple element is the position\n",
    "--     * the second tuple element is the set of positions that have been visited previously.\n",
    "\n",
    "evalSteps' = scanl update ((0, 0), Set.empty)\n",
    "    where\n",
    "        update (position, alreadyVisited) step = (applyStep position step, position `Set.insert` alreadyVisited)"
   ]
  },
  {
   "cell_type": "code",
   "execution_count": 11,
   "metadata": {
    "collapsed": false
   },
   "outputs": [
    {
     "data": {
      "text/plain": [
       "110"
      ]
     },
     "metadata": {},
     "output_type": "display_data"
    }
   ],
   "source": [
    "-- Solution of part 2\n",
    "distanceFromOrigin . fst . head . filter (uncurry Set.member) . evalSteps' . getSteps (0, 1) <$> instructions"
   ]
  }
 ],
 "metadata": {
  "kernelspec": {
   "display_name": "Haskell",
   "language": "haskell",
   "name": "haskell"
  },
  "language_info": {
   "codemirror_mode": "ihaskell",
   "file_extension": ".hs",
   "name": "haskell",
   "version": "7.10.2"
  }
 },
 "nbformat": 4,
 "nbformat_minor": 0
}
