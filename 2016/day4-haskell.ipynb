{
 "cells": [
  {
   "cell_type": "markdown",
   "metadata": {},
   "source": [
    "# Day 4: Security Through Obscurity"
   ]
  },
  {
   "cell_type": "code",
   "execution_count": 1,
   "metadata": {
    "collapsed": true
   },
   "outputs": [],
   "source": [
    "inputLines = lines <$> readFile \"input/day4.txt\""
   ]
  },
  {
   "cell_type": "code",
   "execution_count": 2,
   "metadata": {
    "collapsed": true
   },
   "outputs": [],
   "source": [
    "import Data.Char (isDigit, isLetter)\n",
    "import Data.List (group, isInfixOf, sort)"
   ]
  },
  {
   "cell_type": "code",
   "execution_count": 3,
   "metadata": {
    "collapsed": false
   },
   "outputs": [],
   "source": [
    "data Room = Room {name :: String, sectorId :: Int, checksum :: String} deriving (Show)"
   ]
  },
  {
   "cell_type": "code",
   "execution_count": 4,
   "metadata": {
    "collapsed": false
   },
   "outputs": [],
   "source": [
    "-- ihaskell apparently does not include Haskell modules for regular expressions, so we will parse the room manually\n",
    "parseRoom :: String -> Room\n",
    "parseRoom roomString = Room  name sectorId checksum\n",
    "    where\n",
    "        name = init $ takeWhile (not . isDigit) roomString -- init drops the dash between name and id\n",
    "        sectorId = read $ filter isDigit roomString\n",
    "        checksum =  filter isLetter $ dropWhile (/= '[') roomString"
   ]
  },
  {
   "cell_type": "code",
   "execution_count": 5,
   "metadata": {
    "collapsed": false
   },
   "outputs": [
    {
     "data": {
      "text/plain": [
       "Room {name = \"aaaaa-bbb-z-y-x\", sectorId = 123, checksum = \"abxyz\"}"
      ]
     },
     "metadata": {},
     "output_type": "display_data"
    }
   ],
   "source": [
    "-- Verify that parseRoom works\n",
    "parseRoom \"aaaaa-bbb-z-y-x-123[abxyz]\""
   ]
  },
  {
   "cell_type": "code",
   "execution_count": 6,
   "metadata": {
    "collapsed": false
   },
   "outputs": [],
   "source": [
    "-- Part 1: verify if a room is a real room by calculating and comparing the checksum\n",
    "isRoom :: Room -> Bool\n",
    "isRoom room = checksum room == calculateChecksum (name room)\n",
    "    where\n",
    "        calculateChecksum :: String -> String\n",
    "        calculateChecksum roomName = \n",
    "            take 5 $\n",
    "            map snd $\n",
    "            sort $\n",
    "            map (\\g -> (-length g, head g)) $ -- minus sign because frequent letters come first\n",
    "            group $\n",
    "            sort $\n",
    "            filter (/= '-') roomName"
   ]
  },
  {
   "cell_type": "code",
   "execution_count": 7,
   "metadata": {
    "collapsed": false
   },
   "outputs": [
    {
     "data": {
      "text/plain": [
       "[True,True,True,False]"
      ]
     },
     "metadata": {},
     "output_type": "display_data"
    }
   ],
   "source": [
    "-- check that the examples are evaluated correctly\n",
    "[isRoom $ parseRoom room | \n",
    "    room <- [ \"aaaaa-bbb-z-y-x-123[abxyz]\"\n",
    "            , \"a-b-c-d-e-f-g-h-987[abcde]\"\n",
    "            , \"not-a-real-room-404[oarel]\"\n",
    "            , \"totally-real-room-200[decoy]\" ]]"
   ]
  },
  {
   "cell_type": "code",
   "execution_count": 8,
   "metadata": {
    "collapsed": false
   },
   "outputs": [
    {
     "data": {
      "text/plain": [
       "278221"
      ]
     },
     "metadata": {},
     "output_type": "display_data"
    }
   ],
   "source": [
    "-- Solution of part 1\n",
    "sum . map sectorId . filter isRoom . map parseRoom <$> inputLines"
   ]
  },
  {
   "cell_type": "code",
   "execution_count": 9,
   "metadata": {
    "collapsed": false
   },
   "outputs": [],
   "source": [
    "-- Part 2: decrypt room names\n",
    "decryptRoom :: Room -> String\n",
    "decryptRoom room = map decryptChar $ name room\n",
    "    where\n",
    "        decryptChar :: Char -> Char\n",
    "        decryptChar '-' = ' '\n",
    "        decryptChar letter = shift code letter\n",
    "        \n",
    "        code = sectorId room `mod` 26\n",
    "        \n",
    "        shift :: Int -> Char -> Char\n",
    "        shift 0 = id\n",
    "        shift n = shift (pred n) . shiftOne\n",
    "        \n",
    "        shiftOne :: Char -> Char\n",
    "        shiftOne 'z' = 'a'\n",
    "        shiftOne c = succ c"
   ]
  },
  {
   "cell_type": "code",
   "execution_count": 10,
   "metadata": {
    "collapsed": false
   },
   "outputs": [
    {
     "data": {
      "text/plain": [
       "[267]"
      ]
     },
     "metadata": {},
     "output_type": "display_data"
    }
   ],
   "source": [
    "-- Solution of part 2\n",
    "map sectorId . filter ((\"northpole\" `isInfixOf`) . decryptRoom) . filter isRoom . map parseRoom <$> inputLines"
   ]
  }
 ],
 "metadata": {
  "kernelspec": {
   "display_name": "Haskell",
   "language": "haskell",
   "name": "haskell"
  },
  "language_info": {
   "codemirror_mode": "ihaskell",
   "file_extension": ".hs",
   "name": "haskell",
   "version": "7.10.2"
  }
 },
 "nbformat": 4,
 "nbformat_minor": 0
}
