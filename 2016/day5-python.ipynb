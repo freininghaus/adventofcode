{
 "cells": [
  {
   "cell_type": "markdown",
   "metadata": {},
   "source": [
    "# Day 5: How About a Nice Game of Chess"
   ]
  },
  {
   "cell_type": "code",
   "execution_count": 1,
   "metadata": {
    "collapsed": true
   },
   "outputs": [],
   "source": [
    "with open(\"input/day5.txt\", \"r\") as f:\n",
    "    inputLines = [line for line in f]\n",
    "\n",
    "doorId = bytes(inputLines[0].strip(), \"utf-8\")"
   ]
  },
  {
   "cell_type": "code",
   "execution_count": 2,
   "metadata": {
    "collapsed": false
   },
   "outputs": [],
   "source": [
    "import hashlib\n",
    "import itertools"
   ]
  },
  {
   "cell_type": "markdown",
   "metadata": {},
   "source": [
    "## Implement a generator for 'interesting' hashes"
   ]
  },
  {
   "cell_type": "code",
   "execution_count": 3,
   "metadata": {
    "collapsed": true
   },
   "outputs": [],
   "source": [
    "def interestingHashes(prefix):\n",
    "    for i in itertools.count():\n",
    "        m = hashlib.md5()\n",
    "        m.update(prefix + str(i).encode(\"utf-8\"))\n",
    "        h = m.hexdigest()\n",
    "        if h.startswith(\"00000\"):\n",
    "            yield h"
   ]
  },
  {
   "cell_type": "markdown",
   "metadata": {},
   "source": [
    "## Part 1: Join the 5th character of each of the first 8 interesting hashes"
   ]
  },
  {
   "cell_type": "code",
   "execution_count": 4,
   "metadata": {
    "collapsed": true
   },
   "outputs": [],
   "source": [
    "def password1(prefix):\n",
    "    return \"\".join(h[5] for h in itertools.islice(interestingHashes(prefix), 8))"
   ]
  },
  {
   "cell_type": "code",
   "execution_count": 5,
   "metadata": {
    "collapsed": false
   },
   "outputs": [
    {
     "data": {
      "text/plain": [
       "'1a3099aa'"
      ]
     },
     "execution_count": 5,
     "metadata": {},
     "output_type": "execute_result"
    }
   ],
   "source": [
    "password1(doorId)"
   ]
  },
  {
   "cell_type": "markdown",
   "metadata": {},
   "source": [
    "## Part 2: More complex password algorithm\n",
    "\n",
    "* If the 5th character of an interesting hash is a digit between 0 and 7, it tells us a position in the password.\n",
    "* This position is assigned to the 6th character of the interesting hash.\n",
    "* An interesting hash is ignored if the position given by its 5th character has been seen already."
   ]
  },
  {
   "cell_type": "code",
   "execution_count": 6,
   "metadata": {
    "collapsed": true
   },
   "outputs": [],
   "source": [
    "def password2(prefix):\n",
    "    result = [None] * 8\n",
    "    for h in interestingHashes(prefix):\n",
    "        if h[5] in \"01234567\":\n",
    "            pos = int(h[5])\n",
    "            if result[pos] is None:\n",
    "                result[pos] = h[6]\n",
    "                if all(c is not None for c in result):\n",
    "                    return \"\".join(result)"
   ]
  },
  {
   "cell_type": "code",
   "execution_count": 7,
   "metadata": {
    "collapsed": false
   },
   "outputs": [
    {
     "data": {
      "text/plain": [
       "'694190cd'"
      ]
     },
     "execution_count": 7,
     "metadata": {},
     "output_type": "execute_result"
    }
   ],
   "source": [
    "password2(doorId)"
   ]
  }
 ],
 "metadata": {
  "kernelspec": {
   "display_name": "Python 3",
   "language": "python",
   "name": "python3"
  },
  "language_info": {
   "codemirror_mode": {
    "name": "ipython",
    "version": 3
   },
   "file_extension": ".py",
   "mimetype": "text/x-python",
   "name": "python",
   "nbconvert_exporter": "python",
   "pygments_lexer": "ipython3",
   "version": "3.4.3"
  }
 },
 "nbformat": 4,
 "nbformat_minor": 0
}
