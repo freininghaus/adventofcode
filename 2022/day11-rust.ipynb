{
 "cells": [
  {
   "cell_type": "markdown",
   "id": "318dfbdf-455f-42af-8fc1-5e53489f356a",
   "metadata": {},
   "source": [
    "# Day 11: Monkey in the Middle\n",
    "https://adventofcode.com/2022/day/11"
   ]
  },
  {
   "cell_type": "code",
   "execution_count": 2,
   "id": "8f71649a-60ed-46f7-a669-3f3661487560",
   "metadata": {},
   "outputs": [],
   "source": [
    "let lines: Vec<String> = std::fs::read_to_string(\"input/day11.txt\")\n",
    "    .expect(\"Could not read file\")\n",
    "    .lines()\n",
    "    .map(|line| line.to_owned())\n",
    "    .collect();"
   ]
  },
  {
   "cell_type": "code",
   "execution_count": 3,
   "id": "6841f8e7-417d-4a80-8f5f-2a9da29f17d9",
   "metadata": {},
   "outputs": [],
   "source": [
    "let example: Vec<String> = \"Monkey 0:\n",
    "  Starting items: 79, 98\n",
    "  Operation: new = old * 19\n",
    "  Test: divisible by 23\n",
    "    If true: throw to monkey 2\n",
    "    If false: throw to monkey 3\n",
    "\n",
    "Monkey 1:\n",
    "  Starting items: 54, 65, 75, 74\n",
    "  Operation: new = old + 6\n",
    "  Test: divisible by 19\n",
    "    If true: throw to monkey 2\n",
    "    If false: throw to monkey 0\n",
    "\n",
    "Monkey 2:\n",
    "  Starting items: 79, 60, 97\n",
    "  Operation: new = old * old\n",
    "  Test: divisible by 13\n",
    "    If true: throw to monkey 1\n",
    "    If false: throw to monkey 3\n",
    "\n",
    "Monkey 3:\n",
    "  Starting items: 74\n",
    "  Operation: new = old + 3\n",
    "  Test: divisible by 17\n",
    "    If true: throw to monkey 0\n",
    "    If false: throw to monkey 1\".lines().map(|line| line.to_owned()).collect();"
   ]
  },
  {
   "cell_type": "code",
   "execution_count": 4,
   "id": "a6f1ea2a-346c-4083-b3c5-3e02694322d0",
   "metadata": {},
   "outputs": [],
   "source": [
    ":dep regex = \"1.7.0\""
   ]
  },
  {
   "cell_type": "code",
   "execution_count": 5,
   "id": "28242893-64c7-49e2-96a1-42cc0fd28f7f",
   "metadata": {},
   "outputs": [],
   "source": [
    "use regex::Regex;"
   ]
  },
  {
   "cell_type": "code",
   "execution_count": 6,
   "id": "59e1a13a-0f2b-4c68-b52e-330e275721b4",
   "metadata": {},
   "outputs": [],
   "source": [
    "struct Monkey {\n",
    "    index: usize,\n",
    "    operation: Box<dyn Fn(u32) -> u32>,\n",
    "    test_divisible_by: u32,\n",
    "    throw_to_monkey_if_true: usize,\n",
    "    throw_to_monkey_if_false: usize\n",
    "}"
   ]
  },
  {
   "cell_type": "code",
   "execution_count": 7,
   "id": "c23afd09-f572-4174-ae2f-88fb5e1e3b79",
   "metadata": {},
   "outputs": [],
   "source": [
    "fn parse_operation(operation: &str) -> Box<dyn Fn(u32) -> u32> {\n",
    "    if operation == \"old * old\" {\n",
    "        return Box::new(|old| old * old);\n",
    "    }\n",
    "    \n",
    "    let re = Regex::new(r\"^old \\+ (\\d+)$\").unwrap();\n",
    "    if let Some(capture) = re.captures(&operation) {\n",
    "        let n: u32 = capture.get(1).unwrap().as_str().parse().unwrap();\n",
    "        return Box::new(move |old| old + n);\n",
    "    }\n",
    "\n",
    "    let re = Regex::new(r\"^old \\* (\\d+)$\").unwrap();\n",
    "    if let Some(capture) = re.captures(&operation) {\n",
    "        let n: u32 = capture.get(1).unwrap().as_str().parse().unwrap();\n",
    "        return Box::new(move |old| old * n);\n",
    "    }\n",
    "    \n",
    "    panic!(\"Could not parse operation {}\", operation);\n",
    "}"
   ]
  },
  {
   "cell_type": "code",
   "execution_count": 8,
   "id": "af2f6dae-0651-4a17-afde-4e859b29492f",
   "metadata": {},
   "outputs": [],
   "source": [
    "assert_eq!(49, parse_operation(\"old * old\")(7));\n",
    "assert_eq!(17, parse_operation(\"old + 8\")(9));\n",
    "assert_eq!(45, parse_operation(\"old * 5\")(9));"
   ]
  },
  {
   "cell_type": "code",
   "execution_count": 9,
   "id": "cc0420e4-3239-469e-9ed3-c417a9f25ac5",
   "metadata": {},
   "outputs": [],
   "source": [
    "// TODO: make method\n",
    "fn parse_monkey(input: &String) -> (Monkey, Vec<u32>) {\n",
    "    let re = Regex::new(r\"^Monkey (?P<index>\\d+):\n",
    "  Starting items: (?P<starting_items>\\d+(, \\d+)*)\n",
    "  Operation: new = (?P<operation_rhs>[old*+0-9 ]+)\n",
    "  Test: divisible by (?P<test_divisible_by>\\d+)\n",
    "    If true: throw to monkey (?P<throw_to_monkey_if_true>\\d+)\n",
    "    If false: throw to monkey (?P<throw_to_monkey_if_false>\\d+)$\").unwrap();\n",
    "\n",
    "    let caps = re.captures(&input).unwrap();\n",
    "    \n",
    "    let index = caps[\"index\"].parse().unwrap();\n",
    "    let items = caps[\"starting_items\"].split(\", \").map(|item| item.parse().unwrap()).collect();\n",
    "    let operation = parse_operation(&caps[\"operation_rhs\"]);\n",
    "    let test_divisible_by = caps[\"test_divisible_by\"].parse().unwrap();\n",
    "    let throw_to_monkey_if_true = caps[\"throw_to_monkey_if_true\"].parse().unwrap();\n",
    "    let throw_to_monkey_if_false = caps[\"throw_to_monkey_if_false\"].parse().unwrap();\n",
    "    \n",
    "    (Monkey {\n",
    "        index,\n",
    "        operation,\n",
    "        test_divisible_by,\n",
    "        throw_to_monkey_if_true,\n",
    "        throw_to_monkey_if_false\n",
    "    }, items)\n",
    "}"
   ]
  },
  {
   "cell_type": "code",
   "execution_count": 10,
   "id": "e6646a91-e4bb-4421-ba45-755d947c452a",
   "metadata": {},
   "outputs": [],
   "source": [
    "fn parse_input(input: &[String]) -> (Vec<Monkey>, Vec<Vec<u32>>) {\n",
    "    let monkeys_and_items = input.split(|line| line == \"\")\n",
    "        .map(|block| parse_monkey(&block.join(\"\\n\")));\n",
    "    \n",
    "    let mut monkeys: Vec<Monkey> = Vec::new();\n",
    "    let mut items_per_monkey: Vec<Vec<u32>> = Vec::new();\n",
    "    \n",
    "    for (monkey, items) in monkeys_and_items {\n",
    "        monkeys.push(monkey);\n",
    "        items_per_monkey.push(items);\n",
    "    }\n",
    "\n",
    "    (monkeys, items_per_monkey)\n",
    "}"
   ]
  },
  {
   "cell_type": "code",
   "execution_count": 11,
   "id": "25b4ced2-d5cb-49de-a2a2-4740f5448a3c",
   "metadata": {},
   "outputs": [],
   "source": [
    "fn execute_monkey(monkey: &Monkey, items: Vec<Vec<u32>>) -> Vec<Vec<u32>> {\n",
    "    let mut result: Vec<Vec<u32>> = items.clone();\n",
    "\n",
    "    let monkey_items = &items[monkey.index];\n",
    "    result[monkey.index].clear();\n",
    "\n",
    "    for item in monkey_items {\n",
    "        let new_item = (monkey.operation)(*item) / 3;\n",
    "        let throw_to_monkey = if new_item % monkey.test_divisible_by == 0 {\n",
    "            monkey.throw_to_monkey_if_true\n",
    "        } else {\n",
    "            monkey.throw_to_monkey_if_false\n",
    "        };\n",
    "\n",
    "        result[throw_to_monkey].push(new_item);\n",
    "    }\n",
    "\n",
    "    result\n",
    "}"
   ]
  },
  {
   "cell_type": "code",
   "execution_count": 12,
   "id": "4c7e6bbd-1246-428f-8080-3c48f165aecf",
   "metadata": {},
   "outputs": [],
   "source": [
    "fn execute_round(monkeys: &Vec<Monkey>, items: Vec<Vec<u32>>) -> (Vec<Vec<u32>>, Vec<usize>) {\n",
    "    let mut items = items;\n",
    "    let mut inspection_count = Vec::<usize>::new();\n",
    "\n",
    "    for monkey in &*monkeys {\n",
    "        inspection_count.push(items[monkey.index].len());\n",
    "        items = execute_monkey(monkey, items);\n",
    "    }\n",
    "    \n",
    "    (items, inspection_count)\n",
    "}"
   ]
  },
  {
   "cell_type": "code",
   "execution_count": 13,
   "id": "c7305526-7089-48f9-ae1f-771cfdbf7c2d",
   "metadata": {},
   "outputs": [
    {
     "data": {
      "text/plain": [
       "([[20, 23, 27, 26], [2080, 25, 167, 207, 401, 1046], [], []], [2, 4, 3, 5])"
      ]
     },
     "execution_count": 13,
     "metadata": {},
     "output_type": "execute_result"
    }
   ],
   "source": [
    "let (monkeys, items) = parse_input(&example);\n",
    "execute_round(&monkeys, items)"
   ]
  },
  {
   "cell_type": "code",
   "execution_count": 18,
   "id": "d488a67f-95b6-4e25-a350-a9a2936224a3",
   "metadata": {},
   "outputs": [],
   "source": [
    "use std::iter::successors;\n",
    "\n",
    "fn count_inspections(monkeys: Vec<Monkey>, initial_items: Vec<Vec<u32>>, rounds: usize) -> Vec<usize> {\n",
    "    // TODO: cloning might be wasteful here, but successors doesn't want me to move the argument\n",
    "    successors(\n",
    "        Some((initial_items, (0..monkeys.len()).map(|_| 0).collect())),\n",
    "        |(items, _counts)| Some(execute_round(&monkeys, items.clone()))\n",
    "    ).take(rounds + 1)\n",
    "    .map(|(_items, counts)| counts)\n",
    "    .reduce(|counts1, counts2| counts1.iter().zip(counts2.iter()).map(|(c1, c2)| c1 + c2).collect())\n",
    "    .unwrap()\n",
    "}"
   ]
  },
  {
   "cell_type": "code",
   "execution_count": 19,
   "id": "ea1b221c-19a3-4898-88ef-4856bb62f26d",
   "metadata": {},
   "outputs": [
    {
     "data": {
      "text/plain": [
       "[101, 95, 7, 105]"
      ]
     },
     "execution_count": 19,
     "metadata": {},
     "output_type": "execute_result"
    }
   ],
   "source": [
    "let (monkeys, initial_items) = parse_input(&example);\n",
    "count_inspections(monkeys, initial_items, 20)"
   ]
  },
  {
   "cell_type": "code",
   "execution_count": 28,
   "id": "a6b87a4d-b260-45c6-a94e-f3b1820f15c7",
   "metadata": {},
   "outputs": [],
   "source": [
    "fn part1(input: &[String]) -> usize {\n",
    "    let (monkeys, initial_items) = parse_input(&input);\n",
    "    let mut inspections_per_monkey = count_inspections(monkeys, initial_items, 20);\n",
    "    inspections_per_monkey.sort();\n",
    "    inspections_per_monkey.into_iter().rev().take(2).reduce(|a, b| a * b).unwrap()\n",
    "}"
   ]
  },
  {
   "cell_type": "code",
   "execution_count": 29,
   "id": "50b2eac0-7469-4bd6-a587-5cc2eb766638",
   "metadata": {},
   "outputs": [
    {
     "data": {
      "text/plain": [
       "10605"
      ]
     },
     "execution_count": 29,
     "metadata": {},
     "output_type": "execute_result"
    }
   ],
   "source": [
    "part1(&example)"
   ]
  },
  {
   "cell_type": "code",
   "execution_count": 30,
   "id": "b3b63662-c190-4680-a3a1-e0439680a33e",
   "metadata": {},
   "outputs": [
    {
     "data": {
      "text/plain": [
       "90294"
      ]
     },
     "execution_count": 30,
     "metadata": {},
     "output_type": "execute_result"
    }
   ],
   "source": [
    "part1(&lines)"
   ]
  },
  {
   "cell_type": "markdown",
   "id": "54a6fa8c-5fc4-491a-b32d-937e87e54320",
   "metadata": {},
   "source": [
    "## Part 2"
   ]
  },
  {
   "cell_type": "code",
   "execution_count": 33,
   "id": "4d5d035c-b34c-4e8e-8cc8-d4e6727221e7",
   "metadata": {},
   "outputs": [
    {
     "data": {
      "text/plain": [
       "\"1\""
      ]
     },
     "execution_count": 33,
     "metadata": {},
     "output_type": "execute_result"
    }
   ],
   "source": [
    "Regex::new(r\"^foo (\\d)\n",
    "bar (\\d)\").unwrap().captures(\"foo 1\n",
    "bar 2x\").unwrap().get(1).unwrap().as_str()"
   ]
  },
  {
   "cell_type": "code",
   "execution_count": 35,
   "id": "7400f49c-7b8b-4962-990e-dc9020c074f6",
   "metadata": {},
   "outputs": [
    {
     "name": "stdout",
     "output_type": "stream",
     "text": [
      "match: 5\n"
     ]
    },
    {
     "data": {
      "text/plain": [
       "()"
      ]
     },
     "execution_count": 35,
     "metadata": {},
     "output_type": "execute_result"
    }
   ],
   "source": [
    "let re = Regex::new(r\"^old \\+ (\\d+)$\").unwrap();\n",
    "if let Some(capture) = re.captures(\"old + 5\") {\n",
    "    let n: u32 = capture.get(1).unwrap().as_str().parse().unwrap();\n",
    "    println!(\"match: {}\", n);\n",
    "}"
   ]
  },
  {
   "cell_type": "code",
   "execution_count": null,
   "id": "17e47fb2-e107-46f4-b3d2-097db80a2274",
   "metadata": {},
   "outputs": [],
   "source": [
    "let re = Regex::new(r\"^old + (\\d+)$\").unwrap();\n",
    "if let Some(capture) = re.captures(\"old + r\") {\n",
    "    let n: u32 = capture.get(1).unwrap().as_str().parse().unwrap();\n",
    "    println!(\"match: {}\", n);\n",
    "}"
   ]
  }
 ],
 "metadata": {
  "kernelspec": {
   "display_name": "Rust",
   "language": "rust",
   "name": "rust"
  },
  "language_info": {
   "codemirror_mode": "rust",
   "file_extension": ".rs",
   "mimetype": "text/rust",
   "name": "Rust",
   "pygment_lexer": "rust",
   "version": ""
  }
 },
 "nbformat": 4,
 "nbformat_minor": 5
}
