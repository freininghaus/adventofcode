{
 "cells": [
  {
   "cell_type": "markdown",
   "id": "7233a2be-dd29-40f6-914a-5eba0dde0621",
   "metadata": {},
   "source": [
    "# Day 5: Supply Stacks\n",
    "https://adventofcode.com/2022/day/5"
   ]
  },
  {
   "cell_type": "code",
   "execution_count": 2,
   "id": "0a73c710-c75e-45f5-adc1-b567d10e4176",
   "metadata": {},
   "outputs": [],
   "source": [
    "let lines: Vec<String> = std::fs::read_to_string(\"input/day05.txt\")\n",
    "    .expect(\"Could not read file\")\n",
    "    .lines()\n",
    "    .map(|line| line.to_owned())\n",
    "    .collect();"
   ]
  },
  {
   "cell_type": "code",
   "execution_count": 3,
   "id": "4042d33d-e9c6-4a96-97fd-61a6405cb064",
   "metadata": {},
   "outputs": [],
   "source": [
    "let example: Vec<String> = \"    [D]    \n",
    "[N] [C]    \n",
    "[Z] [M] [P]\n",
    " 1   2   3 \n",
    "\n",
    "move 1 from 2 to 1\n",
    "move 3 from 1 to 3\n",
    "move 2 from 2 to 1\n",
    "move 1 from 1 to 2\".lines().map(|line| line.to_owned()).collect();"
   ]
  },
  {
   "cell_type": "code",
   "execution_count": 4,
   "id": "4db3ec4e-cd1d-4e53-8467-f6a862baa703",
   "metadata": {},
   "outputs": [],
   "source": [
    "fn parse_stacks(input: &[String]) -> Vec<Vec<char>> {\n",
    "    // Each stack has 3 chars, and there is a single space in between\n",
    "    // Thus, there are 4*n - 1 chars for n columns\n",
    "    let count = (input[0].len() + 1) / 4;\n",
    "    assert!(input.iter().all(|line| line.len() == (4 * count - 1)));\n",
    "    \n",
    "    // Verify the structure of the bottom row with the stack numbers\n",
    "    let last_row = input.last().unwrap();\n",
    "    for (i, c) in last_row.chars().enumerate() {\n",
    "        if i % 4 == 1 {\n",
    "            let stack_id = (i - 1) / 4 + 1;\n",
    "            assert_eq!(c, char::from_digit(stack_id.try_into().unwrap(), 10).unwrap());\n",
    "        } else {\n",
    "            assert_eq!(c, ' ');\n",
    "        }\n",
    "    }\n",
    "    \n",
    "    // Parse the stacks. TODO: this could also be done in a more functionaly style, without mutability.\n",
    "    let mut stacks: Vec<Vec<char>> = Vec::new();\n",
    "    stacks.resize(count, Vec::new());\n",
    "    \n",
    "    for line in input[..input.len() - 1].iter().rev() {\n",
    "        for i in 0..count {\n",
    "            let c = line.chars().nth(4 * i + 1).unwrap();\n",
    "            if c != ' ' {\n",
    "                stacks[i].push(c);\n",
    "            }\n",
    "        }\n",
    "    }\n",
    "    \n",
    "    stacks\n",
    "}"
   ]
  },
  {
   "cell_type": "code",
   "execution_count": 5,
   "id": "803c8b84-40fc-468e-b911-439c93ae7d62",
   "metadata": {},
   "outputs": [],
   "source": [
    "#[derive(Debug)]\n",
    "struct Move {\n",
    "    amount: usize,\n",
    "    from: usize,\n",
    "    to: usize\n",
    "}"
   ]
  },
  {
   "cell_type": "code",
   "execution_count": 6,
   "id": "1966ec64-8562-4fd9-a971-fff660cb6019",
   "metadata": {},
   "outputs": [],
   "source": [
    ":dep regex = \"1.7.0\""
   ]
  },
  {
   "cell_type": "code",
   "execution_count": 7,
   "id": "d08e4aeb-8054-480d-a41d-2d8c89460c9a",
   "metadata": {},
   "outputs": [],
   "source": [
    "use regex::Regex;"
   ]
  },
  {
   "cell_type": "code",
   "execution_count": 8,
   "id": "de1a5073-93e6-4e3e-bbc3-1fcc9eea824c",
   "metadata": {},
   "outputs": [],
   "source": [
    "fn parse_moves(input: &[String]) -> Vec<Move> {\n",
    "    let re = Regex::new(\"move (\\\\d+) from (\\\\d+) to (\\\\d+)\").unwrap();\n",
    "    input.iter()\n",
    "        .map(|line| {\n",
    "            let captures = re.captures(line).unwrap();\n",
    "            let get_item = |i| captures.get(i).unwrap().as_str().parse::<usize>().unwrap();\n",
    "            Move {\n",
    "                amount: get_item(1),\n",
    "                from: get_item(2),\n",
    "                to: get_item(3)\n",
    "            }\n",
    "        })\n",
    "        .collect()            \n",
    "}"
   ]
  },
  {
   "cell_type": "code",
   "execution_count": 9,
   "id": "e353d3ac-5a16-4136-91d8-b52902782e74",
   "metadata": {},
   "outputs": [],
   "source": [
    "fn parse(input: &[String]) -> (Vec<Vec<char>>, Vec<Move>) {\n",
    "    let mut s = input.split(|line| line.len() == 0);\n",
    "    let stacks = s.next().unwrap().to_vec();\n",
    "    let moves = s.next().unwrap().to_vec();\n",
    "    assert!(s.next() == None);\n",
    "    (parse_stacks(&stacks), parse_moves(&moves))\n",
    "}"
   ]
  },
  {
   "cell_type": "code",
   "execution_count": 10,
   "id": "03732ca4-f502-46b7-900f-01429e3095c8",
   "metadata": {},
   "outputs": [],
   "source": [
    "impl Move {\n",
    "    // Crates are moved one by one\n",
    "    fn apply_part1(self: &Self, stacks: &mut Vec<Vec<char>>) {\n",
    "        for _ in 0..self.amount {\n",
    "            // Note that indices in Move are 1-based\n",
    "            let item = stacks[self.from - 1].pop().unwrap();\n",
    "            stacks[self.to - 1].push(item);\n",
    "        }\n",
    "    }\n",
    "}"
   ]
  },
  {
   "cell_type": "code",
   "execution_count": 11,
   "id": "502bc389-62a0-4c52-8687-d94814cecc9f",
   "metadata": {},
   "outputs": [],
   "source": [
    "fn part1(input: &[String]) -> String {\n",
    "    let (mut stacks, moves) = parse(input);\n",
    "    for m in moves {\n",
    "        m.apply_part1(&mut stacks);\n",
    "    }\n",
    "    \n",
    "    stacks.iter()\n",
    "        .map(|stack| stack.last().unwrap())\n",
    "        .collect()\n",
    "}"
   ]
  },
  {
   "cell_type": "code",
   "execution_count": 12,
   "id": "2320a99b-0cde-453b-a4d2-07cbc1710422",
   "metadata": {},
   "outputs": [
    {
     "data": {
      "text/plain": [
       "\"CMZ\""
      ]
     },
     "execution_count": 12,
     "metadata": {},
     "output_type": "execute_result"
    }
   ],
   "source": [
    "part1(&example)"
   ]
  },
  {
   "cell_type": "code",
   "execution_count": 13,
   "id": "a42c4a5b-6cf3-475c-bd12-eb64349938ed",
   "metadata": {},
   "outputs": [
    {
     "data": {
      "text/plain": [
       "\"CFFHVVHNC\""
      ]
     },
     "execution_count": 13,
     "metadata": {},
     "output_type": "execute_result"
    }
   ],
   "source": [
    "part1(&lines)"
   ]
  },
  {
   "cell_type": "markdown",
   "id": "25535a5b-f615-45fc-9111-dc0b63dde3ae",
   "metadata": {},
   "source": [
    "## Part 2"
   ]
  },
  {
   "cell_type": "code",
   "execution_count": 14,
   "id": "0a1abbe4-4683-488b-a76c-a0e586d25d41",
   "metadata": {},
   "outputs": [],
   "source": [
    "impl Move {\n",
    "    // Moving multiple crates maintains their order now.\n",
    "    fn apply_part2(self: &Self, stacks: &mut Vec<Vec<char>>) {\n",
    "        // Note that indices in Move are 1-based\n",
    "        let from = &stacks[self.from - 1];\n",
    "        \n",
    "        // TODO: if we do not make a Vec out of the slice, the borrow checker complains\n",
    "        //let items = &from[from.len() - self.amount..];\n",
    "        let items = &from[from.len() - self.amount..].to_vec();\n",
    "        stacks[self.to - 1].extend_from_slice(&items);\n",
    "        let mut from = &mut stacks[self.from - 1];\n",
    "        from.truncate(from.len() - self.amount);\n",
    "    }\n",
    "}"
   ]
  },
  {
   "cell_type": "code",
   "execution_count": 15,
   "id": "3b47f4e3-93c8-4005-82c2-a710b09aedb5",
   "metadata": {},
   "outputs": [],
   "source": [
    "fn part2(input: &[String]) -> String {\n",
    "    let (mut stacks, moves) = parse(input);\n",
    "    for m in moves {\n",
    "        m.apply_part2(&mut stacks);\n",
    "    }\n",
    "    \n",
    "    stacks.iter()\n",
    "        .map(|stack| stack.last().unwrap())\n",
    "        .collect()\n",
    "}"
   ]
  },
  {
   "cell_type": "code",
   "execution_count": 16,
   "id": "327f8401-03ce-4392-b7a7-7ceafee4fe3b",
   "metadata": {},
   "outputs": [
    {
     "data": {
      "text/plain": [
       "\"MCD\""
      ]
     },
     "execution_count": 16,
     "metadata": {},
     "output_type": "execute_result"
    }
   ],
   "source": [
    "part2(&example)"
   ]
  },
  {
   "cell_type": "code",
   "execution_count": 17,
   "id": "0bbcb026-51a8-438a-ac50-0a17b6954330",
   "metadata": {},
   "outputs": [
    {
     "data": {
      "text/plain": [
       "\"FSZWBPTBG\""
      ]
     },
     "execution_count": 17,
     "metadata": {},
     "output_type": "execute_result"
    }
   ],
   "source": [
    "part2(&lines)"
   ]
  }
 ],
 "metadata": {
  "kernelspec": {
   "display_name": "Rust",
   "language": "rust",
   "name": "rust"
  },
  "language_info": {
   "codemirror_mode": "rust",
   "file_extension": ".rs",
   "mimetype": "text/rust",
   "name": "Rust",
   "pygment_lexer": "rust",
   "version": ""
  }
 },
 "nbformat": 4,
 "nbformat_minor": 5
}
