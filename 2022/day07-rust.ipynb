{
 "cells": [
  {
   "cell_type": "markdown",
   "id": "df852d45-e877-4694-9651-09074f33a7a1",
   "metadata": {},
   "source": [
    "# Day 7: No Space Left On Device\n",
    "https://adventofcode.com/2022/day/7"
   ]
  },
  {
   "cell_type": "code",
   "execution_count": 5,
   "id": "a77ed567-7cb0-4474-914f-3f05b65be81d",
   "metadata": {},
   "outputs": [],
   "source": [
    "let lines: Vec<String> = std::fs::read_to_string(\"input/day07.txt\")\n",
    "    .expect(\"Could not read file\")\n",
    "    .lines()\n",
    "    .map(|line| line.to_owned())\n",
    "    .collect();"
   ]
  },
  {
   "cell_type": "code",
   "execution_count": 6,
   "id": "d3e9103e-6977-422e-b0ff-240caa922b9d",
   "metadata": {},
   "outputs": [],
   "source": [
    "let example: Vec<String> = \"$ cd /\n",
    "$ ls\n",
    "dir a\n",
    "14848514 b.txt\n",
    "8504156 c.dat\n",
    "dir d\n",
    "$ cd a\n",
    "$ ls\n",
    "dir e\n",
    "29116 f\n",
    "2557 g\n",
    "62596 h.lst\n",
    "$ cd e\n",
    "$ ls\n",
    "584 i\n",
    "$ cd ..\n",
    "$ cd ..\n",
    "$ cd d\n",
    "$ ls\n",
    "4060174 j\n",
    "8033020 d.log\n",
    "5626152 d.ext\n",
    "7214296 k\".lines().map(|line| line.to_owned()).collect();"
   ]
  },
  {
   "cell_type": "code",
   "execution_count": 7,
   "id": "29047092-ec01-4743-9c00-46adadaa612e",
   "metadata": {},
   "outputs": [],
   "source": [
    "#[derive(Debug)]\n",
    "enum Item {\n",
    "    File(String, usize),\n",
    "    Directory(String)\n",
    "}"
   ]
  },
  {
   "cell_type": "code",
   "execution_count": 8,
   "id": "5fded00e-68d5-4e9a-b871-72e93cc201ac",
   "metadata": {},
   "outputs": [],
   "source": [
    "#[derive(Debug)]\n",
    "enum Command {\n",
    "    Cd(String),\n",
    "    Ls(Vec<Item>)\n",
    "}"
   ]
  },
  {
   "cell_type": "code",
   "execution_count": 9,
   "id": "71c7ac50-64cf-4f11-b961-b33e9def5e51",
   "metadata": {},
   "outputs": [],
   "source": [
    "fn parse_input(lines: &[String]) -> Vec<Command> {\n",
    "    let mut commands: Vec<Command> =  Vec::new();\n",
    "    \n",
    "    for line in lines {\n",
    "        match line.split_whitespace().collect::<Vec<_>>().as_slice() {\n",
    "            [\"$\", \"ls\"] => commands.push(Command::Ls(Vec::new())),\n",
    "            [\"$\", \"cd\", dir_name] => commands.push(Command::Cd(dir_name.to_string())),\n",
    "            [prefix, item_name] => {\n",
    "                let item = if *prefix == \"dir\" {\n",
    "                    Item::Directory(item_name.to_string())\n",
    "                } else {\n",
    "                    Item::File(item_name.to_string(), prefix.parse::<usize>().unwrap())\n",
    "                };\n",
    "                    \n",
    "                match commands.last_mut() {\n",
    "                    Some(Command::Ls(output)) => output.push(item),\n",
    "                    _ => panic!(\"cannot append output to ls command\")\n",
    "                }\n",
    "            }\n",
    "            _ => panic!(\"error\")\n",
    "        }\n",
    "    }\n",
    "    \n",
    "    commands\n",
    "}"
   ]
  },
  {
   "cell_type": "code",
   "execution_count": 10,
   "id": "2fed31cf-c1ff-4f1c-b770-f1884468864b",
   "metadata": {},
   "outputs": [],
   "source": [
    "use std::collections::HashMap;\n",
    "\n",
    "struct Directory {\n",
    "    files: HashMap<String, usize>,\n",
    "    directories: HashMap<String, Directory>\n",
    "}"
   ]
  },
  {
   "cell_type": "code",
   "execution_count": 14,
   "id": "3c54c224-b3d5-44a6-b70c-b05ae7b42981",
   "metadata": {},
   "outputs": [
    {
     "ename": "Error",
     "evalue": "mismatched types",
     "output_type": "error",
     "traceback": [
      "\u001b[31m[E0308] Error:\u001b[0m mismatched types",
      "   \u001b[38;5;246m╭\u001b[0m\u001b[38;5;246m─\u001b[0m\u001b[38;5;246m[\u001b[0mcommand_14:1:1\u001b[38;5;246m]\u001b[0m",
      "   \u001b[38;5;246m│\u001b[0m",
      " \u001b[38;5;246m6 │\u001b[0m \u001b[38;5;249m \u001b[0m\u001b[38;5;249m \u001b[0m\u001b[38;5;249m \u001b[0m\u001b[38;5;249m \u001b[0m\u001b[38;5;249m \u001b[0m\u001b[38;5;249m \u001b[0m\u001b[38;5;249m \u001b[0m\u001b[38;5;249m \u001b[0m\u001b[38;5;249mm\u001b[0m\u001b[38;5;249ma\u001b[0m\u001b[38;5;249mt\u001b[0m\u001b[38;5;249mc\u001b[0m\u001b[38;5;249mh\u001b[0m\u001b[38;5;249m \u001b[0m\u001b[38;5;100m*\u001b[0m\u001b[38;5;100mc\u001b[0m\u001b[38;5;100mo\u001b[0m\u001b[38;5;100mm\u001b[0m\u001b[38;5;100mm\u001b[0m\u001b[38;5;100ma\u001b[0m\u001b[38;5;100mn\u001b[0m\u001b[38;5;100md\u001b[0m\u001b[38;5;249m \u001b[0m\u001b[38;5;249m{\u001b[0m",
      " \u001b[38;5;246m  ·\u001b[0m               \u001b[38;5;100m─\u001b[0m\u001b[38;5;100m─\u001b[0m\u001b[38;5;100m─\u001b[0m\u001b[38;5;100m─\u001b[0m\u001b[38;5;100m┬\u001b[0m\u001b[38;5;100m─\u001b[0m\u001b[38;5;100m─\u001b[0m\u001b[38;5;100m─\u001b[0m  ",
      " \u001b[38;5;246m  ·\u001b[0m                   \u001b[38;5;100m╰\u001b[0m\u001b[38;5;100m─\u001b[0m\u001b[38;5;100m─\u001b[0m\u001b[38;5;100m─\u001b[0m\u001b[38;5;100m─\u001b[0m\u001b[38;5;100m─\u001b[0m this expression has type `Command`",
      " \u001b[38;5;246m7 │\u001b[0m \u001b[38;5;249m \u001b[0m\u001b[38;5;249m \u001b[0m\u001b[38;5;249m \u001b[0m\u001b[38;5;249m \u001b[0m\u001b[38;5;249m \u001b[0m\u001b[38;5;249m \u001b[0m\u001b[38;5;249m \u001b[0m\u001b[38;5;249m \u001b[0m\u001b[38;5;249m \u001b[0m\u001b[38;5;249m \u001b[0m\u001b[38;5;249m \u001b[0m\u001b[38;5;249m \u001b[0m\u001b[38;5;249mC\u001b[0m\u001b[38;5;249mo\u001b[0m\u001b[38;5;249mm\u001b[0m\u001b[38;5;249mm\u001b[0m\u001b[38;5;249ma\u001b[0m\u001b[38;5;249mn\u001b[0m\u001b[38;5;249md\u001b[0m\u001b[38;5;249m:\u001b[0m\u001b[38;5;249m:\u001b[0m\u001b[38;5;249mC\u001b[0m\u001b[38;5;249md\u001b[0m\u001b[38;5;249m(\u001b[0m\u001b[38;5;54m\"\u001b[0m\u001b[38;5;54m/\u001b[0m\u001b[38;5;54m\"\u001b[0m\u001b[38;5;249m)\u001b[0m\u001b[38;5;249m \u001b[0m\u001b[38;5;249m=\u001b[0m\u001b[38;5;249m>\u001b[0m\u001b[38;5;249m \u001b[0m\u001b[38;5;249mp\u001b[0m\u001b[38;5;249ma\u001b[0m\u001b[38;5;249mt\u001b[0m\u001b[38;5;249mh\u001b[0m\u001b[38;5;249m.\u001b[0m\u001b[38;5;249mc\u001b[0m\u001b[38;5;249ml\u001b[0m\u001b[38;5;249me\u001b[0m\u001b[38;5;249ma\u001b[0m\u001b[38;5;249mr\u001b[0m\u001b[38;5;249m(\u001b[0m\u001b[38;5;249m)\u001b[0m",
      " \u001b[38;5;246m  ·\u001b[0m                         \u001b[38;5;54m─\u001b[0m\u001b[38;5;54m┬\u001b[0m\u001b[38;5;54m─\u001b[0m  ",
      " \u001b[38;5;246m  ·\u001b[0m                          \u001b[38;5;54m╰\u001b[0m\u001b[38;5;54m─\u001b[0m\u001b[38;5;54m─\u001b[0m\u001b[38;5;54m─\u001b[0m expected struct `String`, found `&str`",
      "\u001b[38;5;246m───╯\u001b[0m"
     ]
    }
   ],
   "source": [
    "fn ls_results_per_path(commands: &Vec<Command>) -> HashMap<Vec<String>, Vec<Item>> {\n",
    "    let mut result: HashMap<Vec<String>, Vec<Item>> = HashMap::new(); \n",
    "    let mut path: Vec<String> = Vec::new();\n",
    "    \n",
    "    for command in commands {\n",
    "        match *command {\n",
    "            Command::Cd(\"/\") => path.clear() \n",
    "        }\n",
    "    }\n",
    "    \n",
    "    result\n",
    "    \n",
    "}"
   ]
  },
  {
   "cell_type": "code",
   "execution_count": null,
   "id": "12e3d627-c50c-4776-b90a-8aebe4b688c1",
   "metadata": {},
   "outputs": [],
   "source": [
    "fn file_system(commands: &Vec<Command>) -> Directory {\n",
    "    let mut path: Vec<String> = Vec::new();\n",
    "    \n",
    "    let mut ls_\n",
    "}"
   ]
  },
  {
   "cell_type": "code",
   "execution_count": null,
   "id": "c2e9bebe-1a9a-4510-a213-409dd1f683d2",
   "metadata": {},
   "outputs": [],
   "source": []
  },
  {
   "cell_type": "code",
   "execution_count": null,
   "id": "e370eec1-db00-4f20-8281-15dc1fc65ca6",
   "metadata": {},
   "outputs": [],
   "source": []
  },
  {
   "cell_type": "code",
   "execution_count": null,
   "id": "3b7709a8-0272-442f-83c8-b17f6bb89e91",
   "metadata": {},
   "outputs": [],
   "source": []
  },
  {
   "cell_type": "markdown",
   "id": "02282ab8-822d-44c0-9eae-b80ecbda00b6",
   "metadata": {},
   "source": [
    "## References\n",
    "* Slice patterns: https://adventures.michaelfbryan.com/posts/daily/slice-patterns/\n",
    "* Mofifying value inside `Option<T>`: https://stackoverflow.com/questions/62069793/how-to-edit-values-in-option-by-reference\n",
    "* Modify last item of a `Vec`: https://doc.rust-lang.org/std/vec/struct.Vec.html#method.last_mut"
   ]
  },
  {
   "cell_type": "code",
   "execution_count": null,
   "id": "71b99f83-76da-4e4d-805b-a5d37adaaf55",
   "metadata": {},
   "outputs": [],
   "source": []
  }
 ],
 "metadata": {
  "kernelspec": {
   "display_name": "Rust",
   "language": "rust",
   "name": "rust"
  },
  "language_info": {
   "codemirror_mode": "rust",
   "file_extension": ".rs",
   "mimetype": "text/rust",
   "name": "Rust",
   "pygment_lexer": "rust",
   "version": ""
  }
 },
 "nbformat": 4,
 "nbformat_minor": 5
}
