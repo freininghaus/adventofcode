{
 "cells": [
  {
   "cell_type": "markdown",
   "id": "df852d45-e877-4694-9651-09074f33a7a1",
   "metadata": {},
   "source": [
    "# Day 7: No Space Left On Device\n",
    "https://adventofcode.com/2022/day/7"
   ]
  },
  {
   "cell_type": "code",
   "execution_count": 2,
   "id": "a77ed567-7cb0-4474-914f-3f05b65be81d",
   "metadata": {},
   "outputs": [],
   "source": [
    "let lines: Vec<String> = std::fs::read_to_string(\"input/day07.txt\")\n",
    "    .expect(\"Could not read file\")\n",
    "    .lines()\n",
    "    .map(|line| line.to_owned())\n",
    "    .collect();"
   ]
  },
  {
   "cell_type": "code",
   "execution_count": 3,
   "id": "d3e9103e-6977-422e-b0ff-240caa922b9d",
   "metadata": {},
   "outputs": [],
   "source": [
    "let example: Vec<String> = \"$ cd /\n",
    "$ ls\n",
    "dir a\n",
    "14848514 b.txt\n",
    "8504156 c.dat\n",
    "dir d\n",
    "$ cd a\n",
    "$ ls\n",
    "dir e\n",
    "29116 f\n",
    "2557 g\n",
    "62596 h.lst\n",
    "$ cd e\n",
    "$ ls\n",
    "584 i\n",
    "$ cd ..\n",
    "$ cd ..\n",
    "$ cd d\n",
    "$ ls\n",
    "4060174 j\n",
    "8033020 d.log\n",
    "5626152 d.ext\n",
    "7214296 k\".lines().map(|line| line.to_owned()).collect();"
   ]
  },
  {
   "cell_type": "code",
   "execution_count": 4,
   "id": "29047092-ec01-4743-9c00-46adadaa612e",
   "metadata": {},
   "outputs": [],
   "source": [
    "#[derive(Debug)]\n",
    "enum Item {\n",
    "    File(String, usize),\n",
    "    Directory(String)\n",
    "}"
   ]
  },
  {
   "cell_type": "code",
   "execution_count": 5,
   "id": "5fded00e-68d5-4e9a-b871-72e93cc201ac",
   "metadata": {},
   "outputs": [],
   "source": [
    "#[derive(Debug)]\n",
    "enum Command {\n",
    "    Cd(String),\n",
    "    Ls(Vec<Item>)\n",
    "}"
   ]
  },
  {
   "cell_type": "code",
   "execution_count": 6,
   "id": "71c7ac50-64cf-4f11-b961-b33e9def5e51",
   "metadata": {},
   "outputs": [],
   "source": [
    "fn parse_input(lines: &[String]) -> Vec<Command> {\n",
    "    let mut commands: Vec<Command> =  Vec::new();\n",
    "    \n",
    "    for line in lines {\n",
    "        match line.split_whitespace().collect::<Vec<_>>().as_slice() {\n",
    "            [\"$\", \"ls\"] => commands.push(Command::Ls(Vec::new())),\n",
    "            [\"$\", \"cd\", dir_name] => commands.push(Command::Cd(dir_name.to_string())),\n",
    "            [prefix, item_name] => {\n",
    "                let item = if *prefix == \"dir\" {\n",
    "                    Item::Directory(item_name.to_string())\n",
    "                } else {\n",
    "                    Item::File(item_name.to_string(), prefix.parse::<usize>().unwrap())\n",
    "                };\n",
    "                    \n",
    "                match commands.last_mut() {\n",
    "                    Some(Command::Ls(output)) => output.push(item),\n",
    "                    _ => panic!(\"cannot append output to ls command\")\n",
    "                }\n",
    "            }\n",
    "            _ => panic!(\"error\")\n",
    "        }\n",
    "    }\n",
    "    \n",
    "    commands\n",
    "}"
   ]
  },
  {
   "cell_type": "code",
   "execution_count": 7,
   "id": "2fed31cf-c1ff-4f1c-b770-f1884468864b",
   "metadata": {},
   "outputs": [],
   "source": [
    "use std::collections::HashMap;"
   ]
  },
  {
   "cell_type": "code",
   "execution_count": 8,
   "id": "3c54c224-b3d5-44a6-b70c-b05ae7b42981",
   "metadata": {},
   "outputs": [],
   "source": [
    "fn ls_results_per_path(commands: Vec<Command>) -> HashMap<Vec<String>, Vec<Item>> {\n",
    "    let mut result: HashMap<Vec<String>, Vec<Item>> = HashMap::new(); \n",
    "    let mut path: Vec<String> = Vec::new();\n",
    "    \n",
    "    for command in commands {\n",
    "        match command {\n",
    "            Command::Cd(dir) => {\n",
    "                match dir.as_str() {\n",
    "                    \"/\" => path.clear(),\n",
    "                    \"..\" => {\n",
    "                        path.pop();\n",
    "                    }\n",
    "                    subdir => path.push(subdir.to_owned())\n",
    "                }\n",
    "            }\n",
    "            Command::Ls(items) => {\n",
    "                result.insert(path.clone(), items);\n",
    "            }\n",
    "        }\n",
    "    }\n",
    "    \n",
    "    result\n",
    "}"
   ]
  },
  {
   "cell_type": "code",
   "execution_count": 9,
   "id": "0c5b91d6-36f9-40fa-a544-d42fc5932397",
   "metadata": {},
   "outputs": [],
   "source": [
    "#[derive(Debug)]\n",
    "struct Directory {\n",
    "    files: HashMap<String, usize>,\n",
    "    directories: HashMap<String, Directory>\n",
    "}"
   ]
  },
  {
   "cell_type": "code",
   "execution_count": 10,
   "id": "f27bc854-f8c4-4b64-80e6-57a72c3a2a66",
   "metadata": {},
   "outputs": [],
   "source": [
    "fn directory_for_path(items_per_path: &mut HashMap<Vec<String>, Vec<Item>>, path: &mut Vec<String>) -> Directory {\n",
    "    let mut files: HashMap<String, usize> = HashMap::new();\n",
    "    let mut directories: HashMap<String, Directory> = HashMap::new();\n",
    "\n",
    "    let items = items_per_path.remove(path).unwrap();\n",
    "    for item in items {\n",
    "        match item {\n",
    "            Item::File(name, size) => {\n",
    "                files.insert(name, size);\n",
    "            },\n",
    "            Item::Directory(name) => {\n",
    "                path.push(name);\n",
    "                let directory = directory_for_path(items_per_path, path);\n",
    "                let name = path.pop().unwrap();\n",
    "                directories.insert(name, directory);\n",
    "            }\n",
    "        }\n",
    "    }\n",
    "    \n",
    "    Directory {\n",
    "        files,\n",
    "        directories\n",
    "    }\n",
    "}"
   ]
  },
  {
   "cell_type": "code",
   "execution_count": 11,
   "id": "8020fbb3-060a-411d-b32e-17063d8e9bce",
   "metadata": {},
   "outputs": [],
   "source": [
    "fn file_system(items_per_path: HashMap<Vec<String>, Vec<Item>>) -> Directory {\n",
    "    let mut items_per_path = items_per_path;  // make mutable\n",
    "    directory_for_path(&mut items_per_path, &mut Vec::new())\n",
    "}"
   ]
  },
  {
   "cell_type": "code",
   "execution_count": 12,
   "id": "c2e9bebe-1a9a-4510-a213-409dd1f683d2",
   "metadata": {},
   "outputs": [
    {
     "data": {
      "text/plain": [
       "Directory { files: {\"c.dat\": 8504156, \"b.txt\": 14848514}, directories: {\"d\": Directory { files: {\"j\": 4060174, \"d.ext\": 5626152, \"d.log\": 8033020, \"k\": 7214296}, directories: {} }, \"a\": Directory { files: {\"h.lst\": 62596, \"f\": 29116, \"g\": 2557}, directories: {\"e\": Directory { files: {\"i\": 584}, directories: {} }} }} }"
      ]
     },
     "execution_count": 12,
     "metadata": {},
     "output_type": "execute_result"
    }
   ],
   "source": [
    "file_system(ls_results_per_path(parse_input(&example)))"
   ]
  },
  {
   "cell_type": "code",
   "execution_count": 14,
   "id": "e370eec1-db00-4f20-8281-15dc1fc65ca6",
   "metadata": {},
   "outputs": [],
   "source": [
    "impl Directory {\n",
    "    fn size(self: &Self) -> usize {\n",
    "        self.files.values().sum::<usize>() + \n",
    "        self.directories.values().map(|dir| dir.size()).sum::<usize>()\n",
    "    }\n",
    "    \n",
    "    fn for_each_subdirectory<F>(self: &Self, f: &mut F)\n",
    "        where F: FnMut(&Directory) {\n",
    "            f(self);\n",
    "            for dir in self.directories.values() {\n",
    "                dir.for_each_subdirectory(f);\n",
    "            }\n",
    "    }\n",
    "}"
   ]
  },
  {
   "cell_type": "code",
   "execution_count": 20,
   "id": "7f795007-9292-4e8e-b38c-7e83575ed845",
   "metadata": {},
   "outputs": [
    {
     "name": "stdout",
     "output_type": "stream",
     "text": [
      "48381165\n",
      "24933642\n",
      "94853\n",
      "584\n"
     ]
    }
   ],
   "source": [
    "file_system(ls_results_per_path(parse_input(&example))).for_each_subdirectory(&mut |dir: &Directory| println!(\"{}\", dir.size()));"
   ]
  },
  {
   "cell_type": "code",
   "execution_count": 18,
   "id": "28a311d0-5d29-4057-91c2-a553a3a3a726",
   "metadata": {},
   "outputs": [],
   "source": [
    "fn part1(input: &[String]) -> usize {\n",
    "    let mut result: usize = 0;\n",
    "    let root = file_system(ls_results_per_path(parse_input(&input)));\n",
    "    root.for_each_subdirectory(&mut |dir: &Directory| {\n",
    "        let size = dir.size();\n",
    "        if size <= 100000 {\n",
    "            result += size;\n",
    "        }\n",
    "    });\n",
    "    \n",
    "    result\n",
    "}"
   ]
  },
  {
   "cell_type": "code",
   "execution_count": 22,
   "id": "b26fe7eb-8893-4ffc-b616-1369d8875230",
   "metadata": {},
   "outputs": [
    {
     "name": "stdout",
     "output_type": "stream",
     "text": [
      "95437\n"
     ]
    }
   ],
   "source": [
    "println!(\"{}\", part1(&example));"
   ]
  },
  {
   "cell_type": "code",
   "execution_count": 24,
   "id": "9ffeb3bf-fa26-49f0-9d26-3b604844debf",
   "metadata": {},
   "outputs": [
    {
     "data": {
      "text/plain": [
       "95437"
      ]
     },
     "execution_count": 24,
     "metadata": {},
     "output_type": "execute_result"
    }
   ],
   "source": [
    "part1(&example)"
   ]
  },
  {
   "cell_type": "code",
   "execution_count": 19,
   "id": "1e94bb77-5fec-40ca-9361-0778edb0002b",
   "metadata": {},
   "outputs": [
    {
     "data": {
      "text/plain": [
       "1325919"
      ]
     },
     "execution_count": 19,
     "metadata": {},
     "output_type": "execute_result"
    }
   ],
   "source": [
    "part1(&lines)"
   ]
  },
  {
   "cell_type": "code",
   "execution_count": 29,
   "id": "3b7709a8-0272-442f-83c8-b17f6bb89e91",
   "metadata": {},
   "outputs": [
    {
     "ename": "Error",
     "evalue": "non-exhaustive patterns: `&mut DirectoryIterationState::Subdirectories(_)` and `&mut DirectoryIterationState::Finished` not covered",
     "output_type": "error",
     "traceback": [
      "\u001b[31m[E0004] Error:\u001b[0m non-exhaustive patterns: `&mut DirectoryIterationState::Subdirectories(_)` and `&mut DirectoryIterationState::Finished` not covered",
      "    \u001b[38;5;246m╭\u001b[0m\u001b[38;5;246m─\u001b[0m\u001b[38;5;246m[\u001b[0mcommand_29:1:1\u001b[38;5;246m]\u001b[0m",
      "    \u001b[38;5;246m│\u001b[0m",
      " \u001b[38;5;246m16 │\u001b[0m \u001b[38;5;249m \u001b[0m\u001b[38;5;249m \u001b[0m\u001b[38;5;249m \u001b[0m\u001b[38;5;249m \u001b[0m\u001b[38;5;249m \u001b[0m\u001b[38;5;249m \u001b[0m\u001b[38;5;249m \u001b[0m\u001b[38;5;249m \u001b[0m\u001b[38;5;249m \u001b[0m\u001b[38;5;249m \u001b[0m\u001b[38;5;249m \u001b[0m\u001b[38;5;249m \u001b[0m\u001b[38;5;249mm\u001b[0m\u001b[38;5;249ma\u001b[0m\u001b[38;5;249mt\u001b[0m\u001b[38;5;249mc\u001b[0m\u001b[38;5;249mh\u001b[0m\u001b[38;5;249m \u001b[0m\u001b[38;5;54mc\u001b[0m\u001b[38;5;54mu\u001b[0m\u001b[38;5;54mr\u001b[0m\u001b[38;5;54mr\u001b[0m\u001b[38;5;54me\u001b[0m\u001b[38;5;54mn\u001b[0m\u001b[38;5;54mt\u001b[0m\u001b[38;5;249m \u001b[0m\u001b[38;5;249m{\u001b[0m",
      " \u001b[38;5;246m   ·\u001b[0m                   \u001b[38;5;54m─\u001b[0m\u001b[38;5;54m─\u001b[0m\u001b[38;5;54m─\u001b[0m\u001b[38;5;54m┬\u001b[0m\u001b[38;5;54m─\u001b[0m\u001b[38;5;54m─\u001b[0m\u001b[38;5;54m─\u001b[0m  ",
      " \u001b[38;5;246m   ·\u001b[0m                      \u001b[38;5;54m╰\u001b[0m\u001b[38;5;54m─\u001b[0m\u001b[38;5;54m─\u001b[0m\u001b[38;5;54m─\u001b[0m\u001b[38;5;54m─\u001b[0m\u001b[38;5;54m─\u001b[0m patterns `&mut DirectoryIterationState::Subdirectories(_)` and `&mut DirectoryIterationState::Finished` not covered",
      " \u001b[38;5;246m   ·\u001b[0m ",
      " \u001b[38;5;246m20 │\u001b[0m \u001b[38;5;249m \u001b[0m\u001b[38;5;249m \u001b[0m\u001b[38;5;249m \u001b[0m\u001b[38;5;249m \u001b[0m\u001b[38;5;249m \u001b[0m\u001b[38;5;249m \u001b[0m\u001b[38;5;249m \u001b[0m\u001b[38;5;249m \u001b[0m\u001b[38;5;249m \u001b[0m\u001b[38;5;249m \u001b[0m\u001b[38;5;249m \u001b[0m\u001b[38;5;249m \u001b[0m\u001b[38;5;249m \u001b[0m\u001b[38;5;249m \u001b[0m\u001b[38;5;249m \u001b[0m\u001b[38;5;249m \u001b[0m\u001b[38;5;249m}\u001b[0m",
      " \u001b[38;5;246m   ·\u001b[0m                  \u001b[38;5;100m│\u001b[0m ",
      " \u001b[38;5;246m   ·\u001b[0m                  \u001b[38;5;100m╰\u001b[0m\u001b[38;5;100m─\u001b[0m help: ensure that all possible cases are being handled by adding a match arm with a wildcard pattern, a match arm with multiple or-patterns as shown, or multiple match arms: `",
      "                &mut DirectoryIterationState::Subdirectories(_) | &mut DirectoryIterationState::Finished => todo!()`",
      "\u001b[38;5;246m────╯\u001b[0m"
     ]
    },
    {
     "ename": "Error",
     "evalue": "cannot assign to `*current` because it is borrowed",
     "output_type": "error",
     "traceback": [
      "\u001b[31m[E0506] Error:\u001b[0m cannot assign to `*current` because it is borrowed",
      "    \u001b[38;5;246m╭\u001b[0m\u001b[38;5;246m─\u001b[0m\u001b[38;5;246m[\u001b[0mcommand_29:1:1\u001b[38;5;246m]\u001b[0m",
      "    \u001b[38;5;246m│\u001b[0m",
      " \u001b[38;5;246m17 │\u001b[0m \u001b[38;5;249m \u001b[0m\u001b[38;5;249m \u001b[0m\u001b[38;5;249m \u001b[0m\u001b[38;5;249m \u001b[0m\u001b[38;5;249m \u001b[0m\u001b[38;5;249m \u001b[0m\u001b[38;5;249m \u001b[0m\u001b[38;5;249m \u001b[0m\u001b[38;5;249m \u001b[0m\u001b[38;5;249m \u001b[0m\u001b[38;5;249m \u001b[0m\u001b[38;5;249m \u001b[0m\u001b[38;5;249m \u001b[0m\u001b[38;5;249m \u001b[0m\u001b[38;5;249m \u001b[0m\u001b[38;5;249m \u001b[0m\u001b[38;5;249mD\u001b[0m\u001b[38;5;249mi\u001b[0m\u001b[38;5;249mr\u001b[0m\u001b[38;5;249me\u001b[0m\u001b[38;5;249mc\u001b[0m\u001b[38;5;249mt\u001b[0m\u001b[38;5;249mo\u001b[0m\u001b[38;5;249mr\u001b[0m\u001b[38;5;249my\u001b[0m\u001b[38;5;249mI\u001b[0m\u001b[38;5;249mt\u001b[0m\u001b[38;5;249me\u001b[0m\u001b[38;5;249mr\u001b[0m\u001b[38;5;249ma\u001b[0m\u001b[38;5;249mt\u001b[0m\u001b[38;5;249mi\u001b[0m\u001b[38;5;249mo\u001b[0m\u001b[38;5;249mn\u001b[0m\u001b[38;5;249mS\u001b[0m\u001b[38;5;249mt\u001b[0m\u001b[38;5;249ma\u001b[0m\u001b[38;5;249mt\u001b[0m\u001b[38;5;249me\u001b[0m\u001b[38;5;249m:\u001b[0m\u001b[38;5;249m:\u001b[0m\u001b[38;5;249mO\u001b[0m\u001b[38;5;249mw\u001b[0m\u001b[38;5;249mn\u001b[0m\u001b[38;5;249mD\u001b[0m\u001b[38;5;249mi\u001b[0m\u001b[38;5;249mr\u001b[0m\u001b[38;5;249me\u001b[0m\u001b[38;5;249mc\u001b[0m\u001b[38;5;249mt\u001b[0m\u001b[38;5;249mo\u001b[0m\u001b[38;5;249mr\u001b[0m\u001b[38;5;249my\u001b[0m\u001b[38;5;249m(\u001b[0m\u001b[38;5;54md\u001b[0m\u001b[38;5;54mi\u001b[0m\u001b[38;5;54mr\u001b[0m\u001b[38;5;249m)\u001b[0m\u001b[38;5;249m \u001b[0m\u001b[38;5;249m=\u001b[0m\u001b[38;5;249m>\u001b[0m\u001b[38;5;249m \u001b[0m\u001b[38;5;249m{\u001b[0m",
      " \u001b[38;5;246m   ·\u001b[0m                                                       \u001b[38;5;54m─\u001b[0m\u001b[38;5;54m┬\u001b[0m\u001b[38;5;54m─\u001b[0m  ",
      " \u001b[38;5;246m   ·\u001b[0m                                                        \u001b[38;5;54m╰\u001b[0m\u001b[38;5;54m─\u001b[0m\u001b[38;5;54m─\u001b[0m\u001b[38;5;54m─\u001b[0m borrow of `*current` occurs here",
      " \u001b[38;5;246m18 │\u001b[0m \u001b[38;5;249m \u001b[0m\u001b[38;5;249m \u001b[0m\u001b[38;5;249m \u001b[0m\u001b[38;5;249m \u001b[0m\u001b[38;5;249m \u001b[0m\u001b[38;5;249m \u001b[0m\u001b[38;5;249m \u001b[0m\u001b[38;5;249m \u001b[0m\u001b[38;5;249m \u001b[0m\u001b[38;5;249m \u001b[0m\u001b[38;5;249m \u001b[0m\u001b[38;5;249m \u001b[0m\u001b[38;5;249m \u001b[0m\u001b[38;5;249m \u001b[0m\u001b[38;5;249m \u001b[0m\u001b[38;5;249m \u001b[0m\u001b[38;5;249m \u001b[0m\u001b[38;5;249m \u001b[0m\u001b[38;5;249m \u001b[0m\u001b[38;5;249m \u001b[0m\u001b[38;5;100m*\u001b[0m\u001b[38;5;100mc\u001b[0m\u001b[38;5;100mu\u001b[0m\u001b[38;5;100mr\u001b[0m\u001b[38;5;100mr\u001b[0m\u001b[38;5;100me\u001b[0m\u001b[38;5;100mn\u001b[0m\u001b[38;5;100mt\u001b[0m\u001b[38;5;100m \u001b[0m\u001b[38;5;100m=\u001b[0m\u001b[38;5;100m \u001b[0m\u001b[38;5;100mD\u001b[0m\u001b[38;5;100mi\u001b[0m\u001b[38;5;100mr\u001b[0m\u001b[38;5;100me\u001b[0m\u001b[38;5;100mc\u001b[0m\u001b[38;5;100mt\u001b[0m\u001b[38;5;100mo\u001b[0m\u001b[38;5;100mr\u001b[0m\u001b[38;5;100my\u001b[0m\u001b[38;5;100mI\u001b[0m\u001b[38;5;100mt\u001b[0m\u001b[38;5;100me\u001b[0m\u001b[38;5;100mr\u001b[0m\u001b[38;5;100ma\u001b[0m\u001b[38;5;100mt\u001b[0m\u001b[38;5;100mi\u001b[0m\u001b[38;5;100mo\u001b[0m\u001b[38;5;100mn\u001b[0m\u001b[38;5;100mS\u001b[0m\u001b[38;5;100mt\u001b[0m\u001b[38;5;100ma\u001b[0m\u001b[38;5;100mt\u001b[0m\u001b[38;5;100me\u001b[0m\u001b[38;5;100m:\u001b[0m\u001b[38;5;100m:\u001b[0m\u001b[38;5;100mS\u001b[0m\u001b[38;5;100mu\u001b[0m\u001b[38;5;100mb\u001b[0m\u001b[38;5;100md\u001b[0m\u001b[38;5;100mi\u001b[0m\u001b[38;5;100mr\u001b[0m\u001b[38;5;100me\u001b[0m\u001b[38;5;100mc\u001b[0m\u001b[38;5;100mt\u001b[0m\u001b[38;5;100mo\u001b[0m\u001b[38;5;100mr\u001b[0m\u001b[38;5;100mi\u001b[0m\u001b[38;5;100me\u001b[0m\u001b[38;5;100ms\u001b[0m\u001b[38;5;100m(\u001b[0m\u001b[38;5;100md\u001b[0m\u001b[38;5;100mi\u001b[0m\u001b[38;5;100mr\u001b[0m\u001b[38;5;100m.\u001b[0m\u001b[38;5;100md\u001b[0m\u001b[38;5;100mi\u001b[0m\u001b[38;5;100mr\u001b[0m\u001b[38;5;100me\u001b[0m\u001b[38;5;100mc\u001b[0m\u001b[38;5;100mt\u001b[0m\u001b[38;5;100mo\u001b[0m\u001b[38;5;100mr\u001b[0m\u001b[38;5;100mi\u001b[0m\u001b[38;5;100me\u001b[0m\u001b[38;5;100ms\u001b[0m\u001b[38;5;100m.\u001b[0m\u001b[38;5;100mv\u001b[0m\u001b[38;5;100ma\u001b[0m\u001b[38;5;100ml\u001b[0m\u001b[38;5;100mu\u001b[0m\u001b[38;5;100me\u001b[0m\u001b[38;5;100ms\u001b[0m\u001b[38;5;100m(\u001b[0m\u001b[38;5;100m)\u001b[0m\u001b[38;5;100m)\u001b[0m\u001b[38;5;249m;\u001b[0m",
      " \u001b[38;5;246m   ·\u001b[0m                     \u001b[38;5;100m─\u001b[0m\u001b[38;5;100m─\u001b[0m\u001b[38;5;100m─\u001b[0m\u001b[38;5;100m─\u001b[0m\u001b[38;5;100m─\u001b[0m\u001b[38;5;100m─\u001b[0m\u001b[38;5;100m─\u001b[0m\u001b[38;5;100m─\u001b[0m\u001b[38;5;100m─\u001b[0m\u001b[38;5;100m─\u001b[0m\u001b[38;5;100m─\u001b[0m\u001b[38;5;100m─\u001b[0m\u001b[38;5;100m─\u001b[0m\u001b[38;5;100m─\u001b[0m\u001b[38;5;100m─\u001b[0m\u001b[38;5;100m─\u001b[0m\u001b[38;5;100m─\u001b[0m\u001b[38;5;100m─\u001b[0m\u001b[38;5;100m─\u001b[0m\u001b[38;5;100m─\u001b[0m\u001b[38;5;100m─\u001b[0m\u001b[38;5;100m─\u001b[0m\u001b[38;5;100m─\u001b[0m\u001b[38;5;100m─\u001b[0m\u001b[38;5;100m─\u001b[0m\u001b[38;5;100m─\u001b[0m\u001b[38;5;100m─\u001b[0m\u001b[38;5;100m─\u001b[0m\u001b[38;5;100m─\u001b[0m\u001b[38;5;100m─\u001b[0m\u001b[38;5;100m─\u001b[0m\u001b[38;5;100m─\u001b[0m\u001b[38;5;100m─\u001b[0m\u001b[38;5;100m─\u001b[0m\u001b[38;5;100m─\u001b[0m\u001b[38;5;100m─\u001b[0m\u001b[38;5;100m─\u001b[0m\u001b[38;5;100m─\u001b[0m\u001b[38;5;100m┬\u001b[0m\u001b[38;5;100m─\u001b[0m\u001b[38;5;100m─\u001b[0m\u001b[38;5;100m─\u001b[0m\u001b[38;5;100m─\u001b[0m\u001b[38;5;100m─\u001b[0m\u001b[38;5;100m─\u001b[0m\u001b[38;5;100m─\u001b[0m\u001b[38;5;100m─\u001b[0m\u001b[38;5;100m─\u001b[0m\u001b[38;5;100m─\u001b[0m\u001b[38;5;100m─\u001b[0m\u001b[38;5;100m─\u001b[0m\u001b[38;5;100m─\u001b[0m\u001b[38;5;100m─\u001b[0m\u001b[38;5;100m─\u001b[0m\u001b[38;5;100m─\u001b[0m\u001b[38;5;100m─\u001b[0m\u001b[38;5;100m─\u001b[0m\u001b[38;5;100m─\u001b[0m\u001b[38;5;100m─\u001b[0m\u001b[38;5;100m─\u001b[0m\u001b[38;5;100m─\u001b[0m\u001b[38;5;100m─\u001b[0m\u001b[38;5;100m─\u001b[0m\u001b[38;5;100m─\u001b[0m\u001b[38;5;100m─\u001b[0m\u001b[38;5;100m─\u001b[0m\u001b[38;5;100m─\u001b[0m\u001b[38;5;100m─\u001b[0m\u001b[38;5;100m─\u001b[0m\u001b[38;5;100m─\u001b[0m\u001b[38;5;100m─\u001b[0m\u001b[38;5;100m─\u001b[0m\u001b[38;5;100m─\u001b[0m\u001b[38;5;100m─\u001b[0m\u001b[38;5;100m─\u001b[0m\u001b[38;5;100m─\u001b[0m  ",
      " \u001b[38;5;246m   ·\u001b[0m                                                           \u001b[38;5;100m╰\u001b[0m\u001b[38;5;100m─\u001b[0m\u001b[38;5;100m─\u001b[0m\u001b[38;5;100m─\u001b[0m\u001b[38;5;100m─\u001b[0m\u001b[38;5;100m─\u001b[0m\u001b[38;5;100m─\u001b[0m\u001b[38;5;100m─\u001b[0m\u001b[38;5;100m─\u001b[0m\u001b[38;5;100m─\u001b[0m\u001b[38;5;100m─\u001b[0m\u001b[38;5;100m─\u001b[0m\u001b[38;5;100m─\u001b[0m\u001b[38;5;100m─\u001b[0m\u001b[38;5;100m─\u001b[0m\u001b[38;5;100m─\u001b[0m\u001b[38;5;100m─\u001b[0m\u001b[38;5;100m─\u001b[0m\u001b[38;5;100m─\u001b[0m\u001b[38;5;100m─\u001b[0m\u001b[38;5;100m─\u001b[0m\u001b[38;5;100m─\u001b[0m\u001b[38;5;100m─\u001b[0m\u001b[38;5;100m─\u001b[0m\u001b[38;5;100m─\u001b[0m\u001b[38;5;100m─\u001b[0m\u001b[38;5;100m─\u001b[0m\u001b[38;5;100m─\u001b[0m\u001b[38;5;100m─\u001b[0m\u001b[38;5;100m─\u001b[0m\u001b[38;5;100m─\u001b[0m\u001b[38;5;100m─\u001b[0m\u001b[38;5;100m─\u001b[0m\u001b[38;5;100m─\u001b[0m\u001b[38;5;100m─\u001b[0m\u001b[38;5;100m─\u001b[0m\u001b[38;5;100m─\u001b[0m\u001b[38;5;100m─\u001b[0m\u001b[38;5;100m─\u001b[0m\u001b[38;5;100m─\u001b[0m assignment to borrowed `*current` occurs here",
      " \u001b[38;5;246m19 │\u001b[0m \u001b[38;5;249m \u001b[0m\u001b[38;5;249m \u001b[0m\u001b[38;5;249m \u001b[0m\u001b[38;5;249m \u001b[0m\u001b[38;5;249m \u001b[0m\u001b[38;5;249m \u001b[0m\u001b[38;5;249m \u001b[0m\u001b[38;5;249m \u001b[0m\u001b[38;5;249m \u001b[0m\u001b[38;5;249m \u001b[0m\u001b[38;5;249m \u001b[0m\u001b[38;5;249m \u001b[0m\u001b[38;5;249m \u001b[0m\u001b[38;5;249m \u001b[0m\u001b[38;5;249m \u001b[0m\u001b[38;5;249m \u001b[0m\u001b[38;5;249m \u001b[0m\u001b[38;5;249m \u001b[0m\u001b[38;5;249m \u001b[0m\u001b[38;5;249m \u001b[0m\u001b[38;5;249mr\u001b[0m\u001b[38;5;249me\u001b[0m\u001b[38;5;249mt\u001b[0m\u001b[38;5;249mu\u001b[0m\u001b[38;5;249mr\u001b[0m\u001b[38;5;249mn\u001b[0m\u001b[38;5;249m \u001b[0m\u001b[38;5;249mS\u001b[0m\u001b[38;5;249mo\u001b[0m\u001b[38;5;249mm\u001b[0m\u001b[38;5;249me\u001b[0m\u001b[38;5;249m(\u001b[0m\u001b[38;5;68md\u001b[0m\u001b[38;5;68mi\u001b[0m\u001b[38;5;68mr\u001b[0m\u001b[38;5;249m)\u001b[0m\u001b[38;5;249m;\u001b[0m",
      " \u001b[38;5;246m   ·\u001b[0m                                 \u001b[38;5;68m─\u001b[0m\u001b[38;5;68m┬\u001b[0m\u001b[38;5;68m─\u001b[0m  ",
      " \u001b[38;5;246m   ·\u001b[0m                                  \u001b[38;5;68m╰\u001b[0m\u001b[38;5;68m─\u001b[0m\u001b[38;5;68m─\u001b[0m\u001b[38;5;68m─\u001b[0m borrow later used here",
      "\u001b[38;5;246m────╯\u001b[0m"
     ]
    }
   ],
   "source": [
    "enum DirectoryIterationState<'a> {\n",
    "    OwnDirectory(&'a Directory),\n",
    "    Subdirectories(std::collections::hash_map::Values<'a, String, Directory>),\n",
    "    Finished\n",
    "}\n",
    "\n",
    "struct NestedDirectoriesIterator<'a> {\n",
    "    state: Vec<DirectoryIterationState<'a>>\n",
    "}\n",
    "\n",
    "impl NestedDirectoriesIterator<'a> {\n",
    "    fn next_value(self: &Self) -> Option<&'a Directory> {\n",
    "        match self.state.last() {\n",
    "            None => None,\n",
    "            Some(DirectoryIterationState::OwnDirectory(dir)) => Some(dir),\n",
    "            DirectoryIterationState::Subdirectories(_) => panic!(\"after calling advance(), the element of state should not be Subdirectories(_)\")\n",
    "            DirectoryIterationState::Finished => None,\n",
    "        }\n",
    "    }\n",
    "    \n",
    "    fn advance_last(self: &mut Self) {\n",
    "        match\n",
    "    }\n",
    "}\n",
    "\n",
    "impl<'a> Iterator for NestedDirectoriesIterator<'a> {\n",
    "    type Item = &'a Directory;\n",
    "    \n",
    "    fn next(self: &mut Self) -> Option<Self::Item> {\n",
    "        if let Some(current) = self.state.last_mut() {\n",
    "            match current {\n",
    "                DirectoryIterationState::OwnDirectory(dir) => {\n",
    "                    *current = DirectoryIterationState::Subdirectories(dir.directories.values());\n",
    "                    return Some(dir);\n",
    "                }\n",
    "                DirectoryIterationState::Subdirectories(it_subdirectories) => {\n",
    "                    if let Some(next) = it.subdirectories.next() {\n",
    "                        \n",
    "                    }\n",
    "                }\n",
    "            }\n",
    "        } else {\n",
    "            None\n",
    "        }\n",
    "    }\n",
    "}"
   ]
  },
  {
   "cell_type": "markdown",
   "id": "02282ab8-822d-44c0-9eae-b80ecbda00b6",
   "metadata": {},
   "source": [
    "## References\n",
    "* Slice patterns: https://adventures.michaelfbryan.com/posts/daily/slice-patterns/\n",
    "* Mofifying value inside `Option<T>`: https://stackoverflow.com/questions/62069793/how-to-edit-values-in-option-by-reference\n",
    "* Modify last item of a `Vec`: https://doc.rust-lang.org/std/vec/struct.Vec.html#method.last_mut\n",
    "* https://doc.rust-lang.org/std/string/struct.String.html#method.as_str"
   ]
  },
  {
   "cell_type": "code",
   "execution_count": null,
   "id": "71b99f83-76da-4e4d-805b-a5d37adaaf55",
   "metadata": {},
   "outputs": [],
   "source": []
  }
 ],
 "metadata": {
  "kernelspec": {
   "display_name": "Rust",
   "language": "rust",
   "name": "rust"
  },
  "language_info": {
   "codemirror_mode": "rust",
   "file_extension": ".rs",
   "mimetype": "text/rust",
   "name": "Rust",
   "pygment_lexer": "rust",
   "version": ""
  }
 },
 "nbformat": 4,
 "nbformat_minor": 5
}
