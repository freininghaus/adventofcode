{
 "cells": [
  {
   "cell_type": "markdown",
   "id": "df852d45-e877-4694-9651-09074f33a7a1",
   "metadata": {},
   "source": [
    "# Day 7: No Space Left On Device\n",
    "https://adventofcode.com/2022/day/7"
   ]
  },
  {
   "cell_type": "code",
   "execution_count": 2,
   "id": "a77ed567-7cb0-4474-914f-3f05b65be81d",
   "metadata": {},
   "outputs": [],
   "source": [
    "let lines: Vec<String> = std::fs::read_to_string(\"input/day07.txt\")\n",
    "    .expect(\"Could not read file\")\n",
    "    .lines()\n",
    "    .map(|line| line.to_owned())\n",
    "    .collect();"
   ]
  },
  {
   "cell_type": "code",
   "execution_count": 3,
   "id": "d3e9103e-6977-422e-b0ff-240caa922b9d",
   "metadata": {},
   "outputs": [],
   "source": [
    "let example: Vec<String> = \"$ cd /\n",
    "$ ls\n",
    "dir a\n",
    "14848514 b.txt\n",
    "8504156 c.dat\n",
    "dir d\n",
    "$ cd a\n",
    "$ ls\n",
    "dir e\n",
    "29116 f\n",
    "2557 g\n",
    "62596 h.lst\n",
    "$ cd e\n",
    "$ ls\n",
    "584 i\n",
    "$ cd ..\n",
    "$ cd ..\n",
    "$ cd d\n",
    "$ ls\n",
    "4060174 j\n",
    "8033020 d.log\n",
    "5626152 d.ext\n",
    "7214296 k\".lines().map(|line| line.to_owned()).collect();"
   ]
  },
  {
   "cell_type": "code",
   "execution_count": 4,
   "id": "dd5fd8d8-ff96-4385-b470-5e7fd4d25144",
   "metadata": {},
   "outputs": [],
   "source": [
    "use std::collections::HashMap;"
   ]
  },
  {
   "cell_type": "code",
   "execution_count": 5,
   "id": "5fded00e-68d5-4e9a-b871-72e93cc201ac",
   "metadata": {},
   "outputs": [],
   "source": [
    "#[derive(Debug)]\n",
    "struct Directory {\n",
    "    total_size: usize,\n",
    "    subdirectories: HashMap<String, Directory>\n",
    "}"
   ]
  },
  {
   "cell_type": "code",
   "execution_count": 6,
   "id": "4c2da1d0-8ebf-4c92-9a7c-3a509834598e",
   "metadata": {},
   "outputs": [],
   "source": [
    "impl Directory {\n",
    "    fn new() -> Self {\n",
    "        Directory {\n",
    "            total_size: 0,\n",
    "            subdirectories: HashMap::new()\n",
    "        }\n",
    "    }\n",
    "    \n",
    "    // Add a file to a subdirectory.\n",
    "    // Its size will also be added to all parent directories.\n",
    "    fn add_file_to_subdir(self: &mut Self, path: &[String], size: usize) {\n",
    "        self.total_size += size;\n",
    "        if path.len() > 0 {\n",
    "            self.subdirectories\n",
    "                .entry(path[0].clone())\n",
    "                .or_insert(Self::new())\n",
    "                .add_file_to_subdir(&path[1..], size)\n",
    "        }\n",
    "    }\n",
    "}"
   ]
  },
  {
   "cell_type": "code",
   "execution_count": 7,
   "id": "71c7ac50-64cf-4f11-b961-b33e9def5e51",
   "metadata": {},
   "outputs": [],
   "source": [
    "fn parse_file_system(lines: &[String]) -> Directory {\n",
    "    let mut path: Vec<String> = Vec::new();\n",
    "    let mut root_dir = Directory::new();\n",
    "    \n",
    "    for line in lines {\n",
    "        match line.split_whitespace().collect::<Vec<_>>().as_slice() {\n",
    "            [\"$\", \"ls\"] => {},  // the following lines will contain the output of 'ls'\n",
    "            [\"$\", \"cd\", dir] => {\n",
    "                match *dir {\n",
    "                    \"/\" => path.clear(),\n",
    "                    \"..\" => {\n",
    "                        path.pop();\n",
    "                    }\n",
    "                    subdir_name => {\n",
    "                        path.push(subdir_name.to_owned());\n",
    "                    }\n",
    "                }\n",
    "            }\n",
    "            [\"dir\", _subdir_name] => {},\n",
    "            [size, _file_name] => {\n",
    "                root_dir.add_file_to_subdir(&path, size.parse().unwrap())\n",
    "            }\n",
    "            _ => panic!(\"error\")\n",
    "        }\n",
    "    }\n",
    "    \n",
    "    root_dir\n",
    "}"
   ]
  },
  {
   "cell_type": "code",
   "execution_count": 8,
   "id": "b909d75b-b184-4179-9b65-6662a1321fab",
   "metadata": {},
   "outputs": [
    {
     "data": {
      "text/plain": [
       "Directory { total_size: 48381165, subdirectories: {\"a\": Directory { total_size: 94853, subdirectories: {\"e\": Directory { total_size: 584, subdirectories: {} }} }, \"d\": Directory { total_size: 24933642, subdirectories: {} }} }"
      ]
     },
     "execution_count": 8,
     "metadata": {},
     "output_type": "execute_result"
    }
   ],
   "source": [
    "parse_file_system(&example)"
   ]
  },
  {
   "cell_type": "markdown",
   "id": "142d82a3-71a3-4eac-8d5f-d662f9e2e142",
   "metadata": {},
   "source": [
    "## Part 1"
   ]
  },
  {
   "cell_type": "markdown",
   "id": "4672169f-99fb-4b91-9c17-fda124befaa0",
   "metadata": {},
   "source": [
    "Find the accumulated size of all directories whose size is at most 100000. Note that files can contribute to the result more than once."
   ]
  },
  {
   "cell_type": "code",
   "execution_count": 9,
   "id": "e370eec1-db00-4f20-8281-15dc1fc65ca6",
   "metadata": {},
   "outputs": [],
   "source": [
    "impl Directory {\n",
    "    fn for_each_subdirectory<F>(self: &Self, f: &mut F)\n",
    "        where F: FnMut(&Directory) {\n",
    "            f(self);\n",
    "            for dir in self.subdirectories.values() {\n",
    "                dir.for_each_subdirectory(f);\n",
    "            }\n",
    "    }\n",
    "}"
   ]
  },
  {
   "cell_type": "code",
   "execution_count": 10,
   "id": "28a311d0-5d29-4057-91c2-a553a3a3a726",
   "metadata": {},
   "outputs": [],
   "source": [
    "fn part1(input: &[String]) -> usize {\n",
    "    let mut result: usize = 0;\n",
    "    let root = parse_file_system(&input);\n",
    "    root.for_each_subdirectory(&mut |dir: &Directory| {\n",
    "        let size = dir.total_size;\n",
    "        if size <= 100000 {\n",
    "            result += size;\n",
    "        }\n",
    "    });\n",
    "    \n",
    "    result\n",
    "}"
   ]
  },
  {
   "cell_type": "code",
   "execution_count": 11,
   "id": "9ffeb3bf-fa26-49f0-9d26-3b604844debf",
   "metadata": {},
   "outputs": [
    {
     "data": {
      "text/plain": [
       "95437"
      ]
     },
     "execution_count": 11,
     "metadata": {},
     "output_type": "execute_result"
    }
   ],
   "source": [
    "part1(&example)"
   ]
  },
  {
   "cell_type": "code",
   "execution_count": 12,
   "id": "1e94bb77-5fec-40ca-9361-0778edb0002b",
   "metadata": {},
   "outputs": [
    {
     "data": {
      "text/plain": [
       "1325919"
      ]
     },
     "execution_count": 12,
     "metadata": {},
     "output_type": "execute_result"
    }
   ],
   "source": [
    "part1(&lines)"
   ]
  },
  {
   "cell_type": "markdown",
   "id": "63c831fd-9737-400e-b334-38cbe7a1af2c",
   "metadata": {},
   "source": [
    "## Part 2"
   ]
  },
  {
   "cell_type": "markdown",
   "id": "47492f53-6fc2-47fc-a36e-49515386a8a6",
   "metadata": {},
   "source": [
    "Total disk space is 70000000, and 30000000 must be free. This is how much space should be occupied at most after the deletion:"
   ]
  },
  {
   "cell_type": "code",
   "execution_count": 13,
   "id": "4a48a0dd-e33c-484c-9126-597b75b585c3",
   "metadata": {},
   "outputs": [],
   "source": [
    "const max_used_space: usize = 70000000 - 30000000;"
   ]
  },
  {
   "cell_type": "markdown",
   "id": "ba39986e-bd35-4de8-995a-79bf274e3b56",
   "metadata": {},
   "source": [
    "Find the size of the smallest directory whose deletion would free up enough space:"
   ]
  },
  {
   "cell_type": "code",
   "execution_count": 14,
   "id": "b47e7183-f74c-4799-96f1-6d53976a4793",
   "metadata": {},
   "outputs": [],
   "source": [
    "fn part2(input: &[String]) -> usize {\n",
    "    let root = parse_file_system(input);\n",
    "    let additional_space_needed = root.total_size - max_used_space;\n",
    "    \n",
    "    let mut result: Option<usize> = None;\n",
    "    root.for_each_subdirectory(&mut |dir| {\n",
    "        let dir_size = dir.total_size;\n",
    "        if dir_size >= additional_space_needed {\n",
    "            if let Some(best_size) = result {\n",
    "                if dir_size >= best_size {\n",
    "                    return;\n",
    "                }\n",
    "            }\n",
    "            \n",
    "            result = Some(dir.total_size);\n",
    "        }\n",
    "    });\n",
    "    \n",
    "    result.unwrap()\n",
    "}"
   ]
  },
  {
   "cell_type": "code",
   "execution_count": 15,
   "id": "f3507dde-59b7-416a-bd81-8b0b07e4f4bf",
   "metadata": {},
   "outputs": [
    {
     "data": {
      "text/plain": [
       "24933642"
      ]
     },
     "execution_count": 15,
     "metadata": {},
     "output_type": "execute_result"
    }
   ],
   "source": [
    "part2(&example)"
   ]
  },
  {
   "cell_type": "code",
   "execution_count": 16,
   "id": "6910cfac-6367-4546-b8b2-c4f9309a3acc",
   "metadata": {},
   "outputs": [
    {
     "data": {
      "text/plain": [
       "2050735"
      ]
     },
     "execution_count": 16,
     "metadata": {},
     "output_type": "execute_result"
    }
   ],
   "source": [
    "part2(&lines)"
   ]
  },
  {
   "cell_type": "markdown",
   "id": "02282ab8-822d-44c0-9eae-b80ecbda00b6",
   "metadata": {},
   "source": [
    "## References\n",
    "* Slice patterns: https://adventures.michaelfbryan.com/posts/daily/slice-patterns/\n",
    "* Mofifying value inside `Option<T>`: https://stackoverflow.com/questions/62069793/how-to-edit-values-in-option-by-reference\n",
    "* Modify last item of a `Vec`: https://doc.rust-lang.org/std/vec/struct.Vec.html#method.last_mut\n",
    "* https://doc.rust-lang.org/std/string/struct.String.html#method.as_str"
   ]
  }
 ],
 "metadata": {
  "kernelspec": {
   "display_name": "Rust",
   "language": "rust",
   "name": "rust"
  },
  "language_info": {
   "codemirror_mode": "rust",
   "file_extension": ".rs",
   "mimetype": "text/rust",
   "name": "Rust",
   "pygment_lexer": "rust",
   "version": ""
  }
 },
 "nbformat": 4,
 "nbformat_minor": 5
}
