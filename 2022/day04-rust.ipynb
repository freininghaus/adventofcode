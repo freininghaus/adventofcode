{
 "cells": [
  {
   "cell_type": "markdown",
   "id": "e48c58f2-8820-4bff-952c-7baf648ee923",
   "metadata": {},
   "source": [
    "# Day 4: Camp Cleanup\n",
    "https://adventofcode.com/2022/day/4"
   ]
  },
  {
   "cell_type": "code",
   "execution_count": 2,
   "id": "93e55a72-e38c-435f-9afb-a2110a35d0d8",
   "metadata": {},
   "outputs": [],
   "source": [
    "let lines: Vec<String> = std::fs::read_to_string(\"input/day04.txt\")\n",
    "    .expect(\"Could not read file\")\n",
    "    .lines()\n",
    "    .map(|line| line.to_owned())\n",
    "    .collect();"
   ]
  },
  {
   "cell_type": "code",
   "execution_count": 3,
   "id": "7f28f53b-8ce6-48e8-ae93-c56d23bfc455",
   "metadata": {},
   "outputs": [],
   "source": [
    "let example: Vec<String> = \"2-4,6-8\n",
    "2-3,4-5\n",
    "5-7,7-9\n",
    "2-8,3-7\n",
    "6-6,4-6\n",
    "2-6,4-8\".lines().map(|line| line.to_owned()).collect();"
   ]
  },
  {
   "cell_type": "code",
   "execution_count": 4,
   "id": "2e35eef9-8c7c-4e2c-97dd-d0246c55b5d3",
   "metadata": {},
   "outputs": [],
   "source": [
    "#[derive(Debug, Clone, Copy)]\n",
    "struct SectionRange {\n",
    "    min: u32,\n",
    "    max: u32\n",
    "}"
   ]
  },
  {
   "cell_type": "code",
   "execution_count": 5,
   "id": "cd1c17da-8832-4803-b73e-fb5b237b898c",
   "metadata": {},
   "outputs": [],
   "source": [
    ":dep itertools = \"0.10.5\""
   ]
  },
  {
   "cell_type": "code",
   "execution_count": 6,
   "id": "205c7ff9-aa8d-46b9-9adc-508dc31af9a4",
   "metadata": {},
   "outputs": [],
   "source": [
    "use itertools::Itertools;\n",
    "\n",
    "fn section_assignments(line: &str) -> (SectionRange, SectionRange) {\n",
    "    line.split(\",\")\n",
    "        .map(|elf_sections| {\n",
    "            let (min, max) = elf_sections\n",
    "                .split(\"-\")\n",
    "                .map(|section| section.parse().unwrap())\n",
    "                .collect_tuple().unwrap();\n",
    "            SectionRange {\n",
    "                min: min,\n",
    "                max: max\n",
    "            }\n",
    "        })\n",
    "        .collect_tuple().unwrap()\n",
    "}"
   ]
  },
  {
   "cell_type": "markdown",
   "id": "85179950-0d20-493a-8400-cb029e571a80",
   "metadata": {},
   "source": [
    "## Part 1"
   ]
  },
  {
   "cell_type": "code",
   "execution_count": 7,
   "id": "d5b1a7f3-261a-42b9-aeed-9d4189f9415e",
   "metadata": {},
   "outputs": [],
   "source": [
    "impl SectionRange {\n",
    "    fn fully_contains(self: &Self, SectionRange{ min: other_min, max: other_max }: &Self) -> bool {\n",
    "        let SectionRange{ min: min, max: max} = self;\n",
    "        min <= other_min && max >= other_max\n",
    "    }\n",
    "}"
   ]
  },
  {
   "cell_type": "code",
   "execution_count": 8,
   "id": "782d862a-0bd9-41f7-b4e3-ee868001f2f8",
   "metadata": {},
   "outputs": [],
   "source": [
    "fn part1(input: &Vec<String>) -> usize {\n",
    "    input.iter()\n",
    "        .map(|line| section_assignments(&line))\n",
    "        .filter(|(a, b)| a.fully_contains(b) || b.fully_contains(a))\n",
    "        .count()\n",
    "}"
   ]
  },
  {
   "cell_type": "code",
   "execution_count": 9,
   "id": "cc313d6f-a2f3-4cf4-91a0-a7c314c09f8a",
   "metadata": {},
   "outputs": [
    {
     "data": {
      "text/plain": [
       "2"
      ]
     },
     "execution_count": 9,
     "metadata": {},
     "output_type": "execute_result"
    }
   ],
   "source": [
    "part1(&example)"
   ]
  },
  {
   "cell_type": "code",
   "execution_count": 10,
   "id": "ec4d20a0-da8e-4ed3-ad53-835dfe9450f6",
   "metadata": {},
   "outputs": [
    {
     "data": {
      "text/plain": [
       "651"
      ]
     },
     "execution_count": 10,
     "metadata": {},
     "output_type": "execute_result"
    }
   ],
   "source": [
    "part1(&lines)"
   ]
  },
  {
   "cell_type": "markdown",
   "id": "4d7d72ec-84b8-47cb-a830-7223d83e3438",
   "metadata": {},
   "source": [
    "## Part 2"
   ]
  },
  {
   "cell_type": "code",
   "execution_count": 11,
   "id": "dbeae4be-b38e-460d-a238-efad061ad3aa",
   "metadata": {},
   "outputs": [],
   "source": [
    "impl SectionRange {\n",
    "    fn overlaps(self: &Self, other: &Self) -> bool {\n",
    "        self.max >= other.min && self.min <= other.max\n",
    "    }\n",
    "}"
   ]
  },
  {
   "cell_type": "code",
   "execution_count": 12,
   "id": "a88c212f-3ce4-423d-841a-6137e400d68f",
   "metadata": {},
   "outputs": [],
   "source": [
    "fn part2(input: &Vec<String>) -> usize {\n",
    "    input.iter()\n",
    "        .map(|line| section_assignments(&line))\n",
    "        .filter(|(a, b)| a.overlaps(b))\n",
    "        .count()\n",
    "}"
   ]
  },
  {
   "cell_type": "code",
   "execution_count": 13,
   "id": "304d0874-6adc-4c8b-8bf5-bed4b15eeac7",
   "metadata": {},
   "outputs": [
    {
     "data": {
      "text/plain": [
       "4"
      ]
     },
     "execution_count": 13,
     "metadata": {},
     "output_type": "execute_result"
    }
   ],
   "source": [
    "part2(&example)"
   ]
  },
  {
   "cell_type": "code",
   "execution_count": 14,
   "id": "c6307011-476a-4eb0-ad7b-9c17f8a45cd3",
   "metadata": {},
   "outputs": [
    {
     "data": {
      "text/plain": [
       "956"
      ]
     },
     "execution_count": 14,
     "metadata": {},
     "output_type": "execute_result"
    }
   ],
   "source": [
    "part2(&lines)"
   ]
  }
 ],
 "metadata": {
  "kernelspec": {
   "display_name": "Rust",
   "language": "rust",
   "name": "rust"
  },
  "language_info": {
   "codemirror_mode": "rust",
   "file_extension": ".rs",
   "mimetype": "text/rust",
   "name": "Rust",
   "pygment_lexer": "rust",
   "version": ""
  }
 },
 "nbformat": 4,
 "nbformat_minor": 5
}
