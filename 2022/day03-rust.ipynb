{
 "cells": [
  {
   "cell_type": "markdown",
   "id": "925cf9d1-cef5-4109-a1c3-b0972dd505a7",
   "metadata": {},
   "source": [
    "# Day 3: Rucksack Reorganization\n",
    "https://adventofcode.com/2022/day/3"
   ]
  },
  {
   "cell_type": "code",
   "execution_count": 2,
   "id": "168608b5-4a2f-4b13-a49a-89ca1dd14cdc",
   "metadata": {},
   "outputs": [],
   "source": [
    "let lines: Vec<String> = std::fs::read_to_string(\"input/day03.txt\")\n",
    "    .expect(\"Could not read file\")\n",
    "    .lines()\n",
    "    .map(|line| line.to_owned())\n",
    "    .collect();"
   ]
  },
  {
   "cell_type": "code",
   "execution_count": 3,
   "id": "fbecd2bd-9fd5-41e8-a497-a8f1540458ed",
   "metadata": {},
   "outputs": [],
   "source": [
    "let examples = \"vJrwpWtwJgWrhcsFMMfFFhFp\n",
    "jqHRNqRjqzjGDLGLrsFMfFZSrLrFZsSL\n",
    "PmmdzqPrVvPwwTWBwg\n",
    "wMqvLMZHhHMvwLHjbvcjnnSBnvTQFn\n",
    "ttgJtRGJQctTZtZT\n",
    "CrZsJsPPZsGzwwsLwLmpwMDw\".split_whitespace().map(|line| line.to_owned()).collect::<Vec<_>>();"
   ]
  },
  {
   "cell_type": "markdown",
   "id": "feeff1bf-49a3-4641-94b8-fedbd0307b64",
   "metadata": {},
   "source": [
    "## Part 1"
   ]
  },
  {
   "cell_type": "code",
   "execution_count": 4,
   "id": "fe389afb-a7b2-4a79-9d7a-9b3270969a1e",
   "metadata": {},
   "outputs": [],
   "source": [
    "fn priority(c: char) -> u32 {\n",
    "    match c {\n",
    "        'a'..='z' => (c as u32) - ('a' as u32) + 1,\n",
    "        'A'..='Z' => (c as u32) - ('A' as u32) + 27,\n",
    "        _ => panic!(\"not a letter\")\n",
    "    }\n",
    "}"
   ]
  },
  {
   "cell_type": "code",
   "execution_count": 5,
   "id": "254a604e-22d0-4599-a615-19eea8fa56a4",
   "metadata": {},
   "outputs": [],
   "source": [
    "use std::collections::HashSet;\n",
    "\n",
    "fn bytes_to_string(bytes: &[u8]) -> HashSet<char> {\n",
    "    std::str::from_utf8(bytes).expect(\"utf-8 data expected\").chars().collect()\n",
    "}\n",
    "\n",
    "fn compartments(rucksack: &str) -> (HashSet<char>, HashSet<char>) {\n",
    "    // We use only the ASCII subset of UTF-8, so we can safely use as_bytes() for length calculations\n",
    "    let bytes = rucksack.as_bytes();\n",
    "    let size = bytes.len();\n",
    "    assert_eq!(size % 2, 0);\n",
    "    \n",
    "    (bytes_to_string(&bytes[..size/2]), bytes_to_string(&bytes[size/2..]))\n",
    "}"
   ]
  },
  {
   "cell_type": "code",
   "execution_count": 6,
   "id": "4d2d671d-eaaa-4ab0-b360-21fdbdf4d399",
   "metadata": {},
   "outputs": [],
   "source": [
    "fn common_items_priority(rucksack: &str) -> u32 {\n",
    "    let (first_compartment, second_compartment) = compartments(rucksack);\n",
    "    first_compartment.intersection(&second_compartment).map(|c| priority(*c)).sum()\n",
    "}"
   ]
  },
  {
   "cell_type": "code",
   "execution_count": 7,
   "id": "c60c7749-b9be-49ba-b746-fb9e15bb1275",
   "metadata": {},
   "outputs": [],
   "source": [
    "fn part1(rucksacks: &Vec<String>) -> u32 {\n",
    "    rucksacks.iter().map(|rucksack| common_items_priority(rucksack)).sum::<u32>()\n",
    "}"
   ]
  },
  {
   "cell_type": "code",
   "execution_count": 8,
   "id": "33d1cff3-5acd-41d0-9d61-375115a075f8",
   "metadata": {},
   "outputs": [
    {
     "data": {
      "text/plain": [
       "157"
      ]
     },
     "execution_count": 8,
     "metadata": {},
     "output_type": "execute_result"
    }
   ],
   "source": [
    "part1(&examples)"
   ]
  },
  {
   "cell_type": "code",
   "execution_count": 9,
   "id": "dbfc53b1-1f87-476d-8a63-963c076c688c",
   "metadata": {},
   "outputs": [
    {
     "data": {
      "text/plain": [
       "7785"
      ]
     },
     "execution_count": 9,
     "metadata": {},
     "output_type": "execute_result"
    }
   ],
   "source": [
    "part1(&lines)"
   ]
  },
  {
   "cell_type": "markdown",
   "id": "a6427ded-d448-401f-9afe-ec71a5286682",
   "metadata": {},
   "source": [
    "## Part 2"
   ]
  },
  {
   "cell_type": "code",
   "execution_count": 10,
   "id": "99b39c27-4ade-467f-a36c-08bbad5adb11",
   "metadata": {},
   "outputs": [],
   "source": [
    "fn rucksack_items(rucksack: &str) -> HashSet<char> {\n",
    "    rucksack.chars().collect()\n",
    "}"
   ]
  },
  {
   "cell_type": "code",
   "execution_count": 11,
   "id": "a9fe090c-7866-4a08-835b-b04106b272b3",
   "metadata": {},
   "outputs": [],
   "source": [
    "fn part2(rucksacks: &Vec<String>) -> u32 {\n",
    "    rucksacks\n",
    "        .chunks(3)\n",
    "        .map(|group| \n",
    "            group.iter()\n",
    "                .map(|rucksack| rucksack_items(&rucksack))\n",
    "                .reduce(|acc, items| acc.intersection(&items).map(|&c| c).collect())\n",
    "                .map(|common_items| common_items.iter().map(|c| priority(*c)).sum::<u32>())\n",
    "                .unwrap()\n",
    "        ).sum()\n",
    "}"
   ]
  },
  {
   "cell_type": "code",
   "execution_count": 12,
   "id": "278a998f-bab4-433f-86b4-0620b6a3f5c2",
   "metadata": {},
   "outputs": [
    {
     "data": {
      "text/plain": [
       "70"
      ]
     },
     "execution_count": 12,
     "metadata": {},
     "output_type": "execute_result"
    }
   ],
   "source": [
    "part2(&examples)"
   ]
  },
  {
   "cell_type": "code",
   "execution_count": 13,
   "id": "a214d679-01c0-492f-bff7-36296cadaf50",
   "metadata": {},
   "outputs": [
    {
     "data": {
      "text/plain": [
       "2633"
      ]
     },
     "execution_count": 13,
     "metadata": {},
     "output_type": "execute_result"
    }
   ],
   "source": [
    "part2(&lines)"
   ]
  }
 ],
 "metadata": {
  "kernelspec": {
   "display_name": "Rust",
   "language": "rust",
   "name": "rust"
  },
  "language_info": {
   "codemirror_mode": "rust",
   "file_extension": ".rs",
   "mimetype": "text/rust",
   "name": "Rust",
   "pygment_lexer": "rust",
   "version": ""
  }
 },
 "nbformat": 4,
 "nbformat_minor": 5
}
