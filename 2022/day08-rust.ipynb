{
 "cells": [
  {
   "cell_type": "markdown",
   "id": "05c51abd-2486-4c12-af6f-6bd505848880",
   "metadata": {},
   "source": [
    "# Day 8: Treetop Tree House\n",
    "https://adventofcode.com/2022/day/8"
   ]
  },
  {
   "cell_type": "code",
   "execution_count": 2,
   "id": "dbe34c70-5755-4d7a-a829-21a2d2f7a122",
   "metadata": {},
   "outputs": [],
   "source": [
    "let lines: Vec<String> = std::fs::read_to_string(\"input/day08.txt\")\n",
    "    .expect(\"Could not read file\")\n",
    "    .lines()\n",
    "    .map(|line| line.to_owned())\n",
    "    .collect();"
   ]
  },
  {
   "cell_type": "code",
   "execution_count": 3,
   "id": "e5ce6100-9110-4412-91d9-5a454213343c",
   "metadata": {},
   "outputs": [],
   "source": [
    "let example: Vec<String> = \"30373\n",
    "25512\n",
    "65332\n",
    "33549\n",
    "35390\".lines().map(|line| line.to_owned()).collect();"
   ]
  },
  {
   "cell_type": "code",
   "execution_count": 4,
   "id": "eedd9c72-6b7e-4658-9def-96af922224aa",
   "metadata": {},
   "outputs": [],
   "source": [
    "#[derive(Debug)]\n",
    "struct Grid {\n",
    "    width: usize,\n",
    "    height: usize,\n",
    "    trees: Vec<Vec<u8>>\n",
    "}"
   ]
  },
  {
   "cell_type": "code",
   "execution_count": 5,
   "id": "158aedb7-0466-4634-ba25-cae80b7a741e",
   "metadata": {},
   "outputs": [],
   "source": [
    "impl Grid {\n",
    "    fn parse(lines: &[String]) -> Self {\n",
    "        let trees: Vec<Vec<u8>> = lines.iter().map(|line|\n",
    "            line.chars()\n",
    "                .map(|c| c as u8 - '0' as u8)\n",
    "                .collect()\n",
    "        ).collect();\n",
    "        \n",
    "        Self {\n",
    "            height: trees.len(),\n",
    "            width: trees.first().unwrap().len(),\n",
    "            trees\n",
    "        }\n",
    "    }\n",
    "    \n",
    "    fn get_tree_height(self: &Self, (x, y): (usize, usize)) -> u8 {\n",
    "        self.trees[y][x]\n",
    "    }\n",
    "}"
   ]
  },
  {
   "cell_type": "markdown",
   "id": "8d6792f6-11c4-4add-bf62-f086002f4f30",
   "metadata": {},
   "source": [
    "## Part 1\n",
    "Check if there is a path from each tree to an edge, where there are no trees of equal or greater height."
   ]
  },
  {
   "cell_type": "code",
   "execution_count": 6,
   "id": "3f0278b2-0436-4225-9a2a-473a17d69829",
   "metadata": {},
   "outputs": [],
   "source": [
    "impl Grid {\n",
    "    fn paths_towards_edge(self: &Self, (x, y): (usize, usize)) -> Vec<Vec<(usize, usize)>> {\n",
    "        let left = (0..x).rev().map(|j| (j, y));\n",
    "        let right = (x + 1..self.width).map(|j| (j, y));\n",
    "        let top = (0..y).rev().map(|i| (x, i));\n",
    "        let bottom = (y + 1..self.height).map(|i| (x, i));\n",
    "        \n",
    "        vec![left.collect(), right.collect(), top.collect(), bottom.collect()]\n",
    "    }\n",
    "\n",
    "    fn visible(self: &Self, (x, y): (usize, usize)) -> bool {\n",
    "        let tree_height = self.get_tree_height((x, y));\n",
    "        \n",
    "        self.paths_towards_edge((x, y)).iter()\n",
    "            .any(|path|\n",
    "                path.iter().all(|other_tree| self.get_tree_height(*other_tree) < tree_height))\n",
    "    }\n",
    "}"
   ]
  },
  {
   "cell_type": "code",
   "execution_count": 7,
   "id": "726ce933-dba0-4695-b5a8-8866bd2976bf",
   "metadata": {},
   "outputs": [],
   "source": [
    "fn part1(input: &[String]) -> usize {\n",
    "    let grid = Grid::parse(&input);\n",
    "    let grid_ref = &grid;\n",
    "    \n",
    "    (0..grid.height)\n",
    "        .flat_map(|y| (0..grid.width).map(move |x| grid_ref.visible((x, y))))\n",
    "        .filter(|visible| *visible)\n",
    "        .count()\n",
    "}"
   ]
  },
  {
   "cell_type": "code",
   "execution_count": 8,
   "id": "b5bb6581-4055-46ea-80ee-079ecfc0c81a",
   "metadata": {},
   "outputs": [
    {
     "data": {
      "text/plain": [
       "21"
      ]
     },
     "execution_count": 8,
     "metadata": {},
     "output_type": "execute_result"
    }
   ],
   "source": [
    "part1(&example)"
   ]
  },
  {
   "cell_type": "code",
   "execution_count": 9,
   "id": "c403a821-9852-484d-9ffb-be01f7f42be4",
   "metadata": {},
   "outputs": [
    {
     "data": {
      "text/plain": [
       "1690"
      ]
     },
     "execution_count": 9,
     "metadata": {},
     "output_type": "execute_result"
    }
   ],
   "source": [
    "part1(&lines)"
   ]
  },
  {
   "cell_type": "markdown",
   "id": "56b95fdb-f8f8-48e0-a73d-7a502889c7b9",
   "metadata": {},
   "source": [
    "## Part 2\n",
    "Count how many trees are visible from a tree in each of the four directions (top, bottom, left, right), i.e., how many trees there are up to and including the first one which has the same or greater height. Then calculate the product of these numbers."
   ]
  },
  {
   "cell_type": "code",
   "execution_count": 10,
   "id": "5b3f0b49-63a5-479b-b0f1-621ea6a6b8f6",
   "metadata": {},
   "outputs": [],
   "source": [
    "impl Grid {\n",
    "    fn scenic_score(self: &Self, pos: (usize, usize)) -> usize {\n",
    "        let tree_height = self.get_tree_height(pos);\n",
    "\n",
    "        self.paths_towards_edge(pos).iter()\n",
    "            .map(|path| {\n",
    "                // This solution is not quite functional. take_until could help, see references.\n",
    "                let mut count = 0usize;\n",
    "                for other_pos in path {\n",
    "                    count += 1;\n",
    "                    if self.get_tree_height(*other_pos) >= tree_height {\n",
    "                        break;\n",
    "                    }\n",
    "                }\n",
    "                \n",
    "                count\n",
    "            })\n",
    "            .product()\n",
    "    }\n",
    "}"
   ]
  },
  {
   "cell_type": "code",
   "execution_count": 11,
   "id": "6ef6d1b8-2966-44a5-ab63-0d0b6250cbbf",
   "metadata": {},
   "outputs": [
    {
     "data": {
      "text/plain": [
       "8"
      ]
     },
     "execution_count": 11,
     "metadata": {},
     "output_type": "execute_result"
    }
   ],
   "source": [
    "Grid::parse(&example).scenic_score((2, 3))"
   ]
  },
  {
   "cell_type": "code",
   "execution_count": 12,
   "id": "88834bad-deff-4ff6-9dba-6b3dd55a2c4b",
   "metadata": {},
   "outputs": [],
   "source": [
    "fn part2(input: &[String]) -> usize {\n",
    "    let grid = Grid::parse(&input);\n",
    "    let grid_ref = &grid;\n",
    "    \n",
    "    (0..grid.height)\n",
    "        .flat_map(|y| (0..grid.width).map(move |x| grid_ref.scenic_score((x, y))))\n",
    "        .max().unwrap()\n",
    "}"
   ]
  },
  {
   "cell_type": "code",
   "execution_count": 13,
   "id": "1796feec-bef7-4be3-a001-a7fbfb1c3df5",
   "metadata": {},
   "outputs": [
    {
     "data": {
      "text/plain": [
       "8"
      ]
     },
     "execution_count": 13,
     "metadata": {},
     "output_type": "execute_result"
    }
   ],
   "source": [
    "part2(&example)"
   ]
  },
  {
   "cell_type": "code",
   "execution_count": 14,
   "id": "085f4b57-69ed-473d-9eb4-65cc00b18d37",
   "metadata": {},
   "outputs": [
    {
     "data": {
      "text/plain": [
       "535680"
      ]
     },
     "execution_count": 14,
     "metadata": {},
     "output_type": "execute_result"
    }
   ],
   "source": [
    "part2(&lines)"
   ]
  },
  {
   "cell_type": "markdown",
   "id": "67630583-e35d-4b75-ab5e-4b44379045d2",
   "metadata": {},
   "source": [
    "## References\n",
    "* Why do we need `move` and a reference to the grid in `fn part1` to make the nested `flat_map`/`map` structure compile? See\n",
    "    * https://stackoverflow.com/a/70286326\n",
    "    * https://stackoverflow.com/a/72442223\n",
    "* `take_until` could be used to solve part 2 in a more functional way: https://docs.rs/take-until/latest/take_until/"
   ]
  }
 ],
 "metadata": {
  "kernelspec": {
   "display_name": "Rust",
   "language": "rust",
   "name": "rust"
  },
  "language_info": {
   "codemirror_mode": "rust",
   "file_extension": ".rs",
   "mimetype": "text/rust",
   "name": "Rust",
   "pygment_lexer": "rust",
   "version": ""
  }
 },
 "nbformat": 4,
 "nbformat_minor": 5
}
