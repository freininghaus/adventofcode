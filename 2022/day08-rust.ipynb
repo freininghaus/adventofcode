{
 "cells": [
  {
   "cell_type": "markdown",
   "id": "05c51abd-2486-4c12-af6f-6bd505848880",
   "metadata": {},
   "source": [
    "# Day 8: Treetop Tree House\n",
    "https://adventofcode.com/2022/day/8"
   ]
  },
  {
   "cell_type": "code",
   "execution_count": 2,
   "id": "dbe34c70-5755-4d7a-a829-21a2d2f7a122",
   "metadata": {},
   "outputs": [],
   "source": [
    "let lines: Vec<String> = std::fs::read_to_string(\"input/day08.txt\")\n",
    "    .expect(\"Could not read file\")\n",
    "    .lines()\n",
    "    .map(|line| line.to_owned())\n",
    "    .collect();"
   ]
  },
  {
   "cell_type": "code",
   "execution_count": 3,
   "id": "e5ce6100-9110-4412-91d9-5a454213343c",
   "metadata": {},
   "outputs": [],
   "source": [
    "let example: Vec<String> = \"30373\n",
    "25512\n",
    "65332\n",
    "33549\n",
    "35390\".lines().map(|line| line.to_owned()).collect();"
   ]
  },
  {
   "cell_type": "code",
   "execution_count": 4,
   "id": "eedd9c72-6b7e-4658-9def-96af922224aa",
   "metadata": {},
   "outputs": [],
   "source": [
    "#[derive(Debug)]\n",
    "struct Grid {\n",
    "    width: usize,\n",
    "    height: usize,\n",
    "    trees: Vec<Vec<u8>>\n",
    "}"
   ]
  },
  {
   "cell_type": "code",
   "execution_count": 5,
   "id": "158aedb7-0466-4634-ba25-cae80b7a741e",
   "metadata": {},
   "outputs": [],
   "source": [
    "impl Grid {\n",
    "    fn parse(lines: &[String]) -> Self {\n",
    "        let trees: Vec<Vec<u8>> = lines.iter().map(|line|\n",
    "            line.chars()\n",
    "                .map(|c| c as u8 - '0' as u8)\n",
    "                .collect()\n",
    "        ).collect();\n",
    "        \n",
    "        Self {\n",
    "            height: trees.len(),\n",
    "            width: trees.first().unwrap().len(),\n",
    "            trees\n",
    "        }\n",
    "    }\n",
    "}"
   ]
  },
  {
   "cell_type": "code",
   "execution_count": 6,
   "id": "cfa41380-72db-46e9-b9d1-cf9dec201683",
   "metadata": {},
   "outputs": [
    {
     "data": {
      "text/plain": [
       "Grid { width: 5, height: 5, trees: [[3, 0, 3, 7, 3], [2, 5, 5, 1, 2], [6, 5, 3, 3, 2], [3, 3, 5, 4, 9], [3, 5, 3, 9, 0]] }"
      ]
     },
     "execution_count": 6,
     "metadata": {},
     "output_type": "execute_result"
    }
   ],
   "source": [
    "Grid::parse(&example)"
   ]
  },
  {
   "cell_type": "code",
   "execution_count": 7,
   "id": "1ef2cf86-7a5f-4a7d-9649-ad75ccdeb5f7",
   "metadata": {},
   "outputs": [],
   "source": [
    "impl Grid {\n",
    "    fn visible(self: &Self, x: usize, y: usize) -> bool {\n",
    "        let tree_height = self.trees[y][x];\n",
    "\n",
    "        (0..x).all(|i| self.trees[y][i] < tree_height) ||\n",
    "        (x + 1..self.width).all(|i| self.trees[y][i] < tree_height) ||\n",
    "        (0..y).all(|j| self.trees[j][x] < tree_height) ||\n",
    "        (y + 1..self.height).all(|j| self.trees[j][x] < tree_height)\n",
    "    }\n",
    "}"
   ]
  },
  {
   "cell_type": "code",
   "execution_count": 8,
   "id": "726ce933-dba0-4695-b5a8-8866bd2976bf",
   "metadata": {},
   "outputs": [],
   "source": [
    "fn part1(input: &[String]) -> usize {\n",
    "    let grid = Grid::parse(&input);\n",
    "    let grid_ref = &grid;\n",
    "    \n",
    "    (0..grid.height)\n",
    "        .flat_map(|y| (0..grid.width).map(move |x| grid_ref.visible(x, y)))\n",
    "        .filter(|visible| *visible)\n",
    "        .count()\n",
    "}"
   ]
  },
  {
   "cell_type": "code",
   "execution_count": 9,
   "id": "b5bb6581-4055-46ea-80ee-079ecfc0c81a",
   "metadata": {},
   "outputs": [
    {
     "data": {
      "text/plain": [
       "21"
      ]
     },
     "execution_count": 9,
     "metadata": {},
     "output_type": "execute_result"
    }
   ],
   "source": [
    "part1(&example)"
   ]
  },
  {
   "cell_type": "code",
   "execution_count": 10,
   "id": "c403a821-9852-484d-9ffb-be01f7f42be4",
   "metadata": {},
   "outputs": [
    {
     "data": {
      "text/plain": [
       "1690"
      ]
     },
     "execution_count": 10,
     "metadata": {},
     "output_type": "execute_result"
    }
   ],
   "source": [
    "part1(&lines)"
   ]
  },
  {
   "cell_type": "markdown",
   "id": "67630583-e35d-4b75-ab5e-4b44379045d2",
   "metadata": {},
   "source": [
    "## References\n",
    "* Why do we need `move` and a reference to the grid in `fn part1` to make the nested `flat_map`/`map` structure compile? See\n",
    "    * https://stackoverflow.com/a/70286326\n",
    "    * https://stackoverflow.com/a/72442223"
   ]
  },
  {
   "cell_type": "code",
   "execution_count": null,
   "id": "521fae4e-dbd9-42c4-a235-edab9901275a",
   "metadata": {},
   "outputs": [],
   "source": []
  }
 ],
 "metadata": {
  "kernelspec": {
   "display_name": "Rust",
   "language": "rust",
   "name": "rust"
  },
  "language_info": {
   "codemirror_mode": "rust",
   "file_extension": ".rs",
   "mimetype": "text/rust",
   "name": "Rust",
   "pygment_lexer": "rust",
   "version": ""
  }
 },
 "nbformat": 4,
 "nbformat_minor": 5
}
