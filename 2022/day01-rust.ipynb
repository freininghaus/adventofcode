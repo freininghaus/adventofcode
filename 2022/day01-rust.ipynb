{
 "cells": [
  {
   "cell_type": "markdown",
   "id": "4c85372c-3b37-46bc-af81-cf636ccddcf7",
   "metadata": {},
   "source": [
    "# Day 1: Calorie Counting\n",
    "https://adventofcode.com/2022/day/1"
   ]
  },
  {
   "cell_type": "code",
   "execution_count": 2,
   "id": "a3a63605-613d-4749-b76b-704fc97baf0a",
   "metadata": {},
   "outputs": [],
   "source": [
    "let lines: Vec<String> = std::fs::read_to_string(\"input/day01.txt\")\n",
    "    .expect(\"Could not read file\")\n",
    "    .lines()\n",
    "    .map(|line| line.to_owned())\n",
    "    .collect();"
   ]
  },
  {
   "cell_type": "markdown",
   "id": "0f1a42c3-af7d-4ff6-ac18-5e840bcfc1f9",
   "metadata": {},
   "source": [
    "## Import itertools"
   ]
  },
  {
   "cell_type": "code",
   "execution_count": 3,
   "id": "bcc09179-a466-43d2-9856-53155f034ae9",
   "metadata": {},
   "outputs": [],
   "source": [
    ":dep itertools = \"0.10.5\""
   ]
  },
  {
   "cell_type": "code",
   "execution_count": 4,
   "id": "53913127-3428-4777-81c7-fa60b8623dbf",
   "metadata": {},
   "outputs": [],
   "source": [
    "use itertools::Itertools;"
   ]
  },
  {
   "cell_type": "markdown",
   "id": "3b19b079-1070-448e-8f70-3f38083bb2d7",
   "metadata": {},
   "source": [
    "## Build groups, separated by empty lines"
   ]
  },
  {
   "cell_type": "code",
   "execution_count": 5,
   "id": "bf55912e-f08f-43da-bdc9-b6788973d980",
   "metadata": {},
   "outputs": [],
   "source": [
    "let groups = lines.into_iter()\n",
    "    .batching(|it| {\n",
    "        let mut batch = Vec::new();\n",
    "        loop {\n",
    "            match it.next() {\n",
    "                None => break,\n",
    "                Some(line) => if line.len() > 0 { batch.push(line); } else { break; }\n",
    "            }\n",
    "        }\n",
    "\n",
    "        if batch.len() > 0 {\n",
    "            Some(batch)\n",
    "        } else {\n",
    "            None\n",
    "        }\n",
    "    })\n",
    "    .collect::<Vec<_>>();"
   ]
  },
  {
   "cell_type": "markdown",
   "id": "dbf98e3b-0fcd-4c33-8df8-9a9a9cae869b",
   "metadata": {},
   "source": [
    "## Calculate calories for each group"
   ]
  },
  {
   "cell_type": "code",
   "execution_count": 6,
   "id": "b22d1234-2383-4258-89f2-6fc9595de9d2",
   "metadata": {},
   "outputs": [],
   "source": [
    "let group_calories = groups.iter()\n",
    "    .map(|lines| \n",
    "        (lines.iter()\n",
    "            .map(|line| line.parse::<i32>().expect(\"not a number\"))\n",
    "            .sum::<i32>()\n",
    "        )\n",
    "    )\n",
    "    .collect::<Vec<_>>();"
   ]
  },
  {
   "cell_type": "markdown",
   "id": "36417084-6df2-4777-b532-cfaa06afc582",
   "metadata": {},
   "source": [
    "## Find group with maximum value"
   ]
  },
  {
   "cell_type": "code",
   "execution_count": 7,
   "id": "8a57a2b9-21f3-49c8-9992-3b237ab69acb",
   "metadata": {},
   "outputs": [
    {
     "data": {
      "text/plain": [
       "Some(65912)"
      ]
     },
     "execution_count": 7,
     "metadata": {},
     "output_type": "execute_result"
    }
   ],
   "source": [
    "group_calories.iter().max()"
   ]
  },
  {
   "cell_type": "markdown",
   "id": "87d3e791-e9a2-4d91-bc81-1f96dae9b2f4",
   "metadata": {},
   "source": [
    "## Sum the calories of the top three groups"
   ]
  },
  {
   "cell_type": "code",
   "execution_count": 8,
   "id": "6da863ef-1be9-4b88-b3f6-3fbca90f41ab",
   "metadata": {},
   "outputs": [
    {
     "data": {
      "text/plain": [
       "195625"
      ]
     },
     "execution_count": 8,
     "metadata": {},
     "output_type": "execute_result"
    }
   ],
   "source": [
    "group_calories.iter().sorted().rev().take(3).sum::<i32>()"
   ]
  }
 ],
 "metadata": {
  "kernelspec": {
   "display_name": "Rust",
   "language": "rust",
   "name": "rust"
  },
  "language_info": {
   "codemirror_mode": "rust",
   "file_extension": ".rs",
   "mimetype": "text/rust",
   "name": "Rust",
   "pygment_lexer": "rust",
   "version": ""
  }
 },
 "nbformat": 4,
 "nbformat_minor": 5
}
