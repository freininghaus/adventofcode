{
 "cells": [
  {
   "cell_type": "markdown",
   "id": "1b450129-0cb6-4b5f-95dd-d3d9cd7f4f44",
   "metadata": {},
   "source": [
    "# Day 9: Rope Bridge\n",
    "https://adventofcode.com/2022/day/9"
   ]
  },
  {
   "cell_type": "code",
   "execution_count": 2,
   "id": "711e2a52-41e5-4c23-b251-2bb88244b682",
   "metadata": {},
   "outputs": [],
   "source": [
    "let lines: Vec<String> = std::fs::read_to_string(\"input/day09.txt\")\n",
    "    .expect(\"Could not read file\")\n",
    "    .lines()\n",
    "    .map(|line| line.to_owned())\n",
    "    .collect();"
   ]
  },
  {
   "cell_type": "code",
   "execution_count": 3,
   "id": "b4e47fbf-25a7-41a1-8ef7-2afb37fb6e57",
   "metadata": {},
   "outputs": [],
   "source": [
    "let example: Vec<String> = \"R 4\n",
    "U 4\n",
    "L 3\n",
    "D 1\n",
    "R 4\n",
    "D 1\n",
    "L 5\n",
    "R 2\".lines().map(|line| line.to_owned()).collect();"
   ]
  },
  {
   "cell_type": "code",
   "execution_count": 4,
   "id": "c0757312-bde2-431a-b3a0-2dc7c82f7fb3",
   "metadata": {},
   "outputs": [],
   "source": [
    "#[derive(Debug, Clone)]\n",
    "enum Move {\n",
    "    Left,\n",
    "    Right,\n",
    "    Up,\n",
    "    Down\n",
    "}\n",
    "\n",
    "use Move::*;"
   ]
  },
  {
   "cell_type": "code",
   "execution_count": 5,
   "id": "0b6bd357-c921-47ab-974f-1c8f5676e891",
   "metadata": {},
   "outputs": [],
   "source": [
    "impl Move {\n",
    "    fn parse(direction: &str) -> Move {\n",
    "        match direction {\n",
    "            \"L\" => Left,\n",
    "            \"R\" => Right,\n",
    "            \"U\" => Up,\n",
    "            \"D\" => Down,\n",
    "            _ => panic!(\"Could not parse direction: {}\", direction)\n",
    "        }\n",
    "    }\n",
    "    \n",
    "    fn apply(self: &Self, (x, y): (i32, i32)) -> (i32, i32) {\n",
    "        match self {\n",
    "            Left => (x - 1, y),\n",
    "            Right => (x + 1, y),\n",
    "            Up => (x, y - 1),\n",
    "            Down => (x, y + 1)\n",
    "        }\n",
    "    }\n",
    "}"
   ]
  },
  {
   "cell_type": "code",
   "execution_count": 6,
   "id": "e3723776-a00f-4cfe-a307-c411232fa3cd",
   "metadata": {},
   "outputs": [],
   "source": [
    ":dep itertools = \"0.10.5\""
   ]
  },
  {
   "cell_type": "code",
   "execution_count": 7,
   "id": "c28f8d41-2389-42d7-a45e-b2536e06b81d",
   "metadata": {},
   "outputs": [],
   "source": [
    "use itertools::Itertools;"
   ]
  },
  {
   "cell_type": "code",
   "execution_count": 8,
   "id": "9656d39e-d3ef-4ccf-859a-cb90d5c39aec",
   "metadata": {},
   "outputs": [],
   "source": [
    "use itertools::repeat_n;\n",
    "\n",
    "fn parse_moves(moves: &[String]) -> Vec<Move> {\n",
    "    moves.iter().flat_map(|m| {\n",
    "        let mut it = m.split_whitespace();\n",
    "        let direction = it.next().unwrap();\n",
    "        let count = it.next().unwrap().parse::<usize>().unwrap();\n",
    "        assert_eq!(it.next(), None);\n",
    "        \n",
    "        repeat_n(Move::parse(&direction), count)\n",
    "    }).collect()\n",
    "}"
   ]
  },
  {
   "cell_type": "code",
   "execution_count": 9,
   "id": "94a5e984-0ffc-4d41-adeb-92004282f314",
   "metadata": {},
   "outputs": [],
   "source": [
    "fn apply_moves(moves: Vec<Move>) -> Vec<(i32, i32)> {\n",
    "    let mut pos = (0, 0);\n",
    "    moves.iter().map(|m| {\n",
    "        pos = m.apply(pos);\n",
    "        pos\n",
    "    }).collect()\n",
    "}"
   ]
  },
  {
   "cell_type": "markdown",
   "id": "f5af496f-0abc-4ce0-ae39-78ca64de3f01",
   "metadata": {},
   "source": [
    "## Part 1"
   ]
  },
  {
   "cell_type": "code",
   "execution_count": 10,
   "id": "dccf2d8f-e462-4b3a-8fa9-d1ff70692aed",
   "metadata": {},
   "outputs": [],
   "source": [
    "fn move_towards((tx, ty): &mut (i32, i32), (hx, hy): (i32, i32)) {\n",
    "    let dx = hx - *tx;\n",
    "    let dy = hy - *ty;\n",
    "    \n",
    "    if dx.abs() > 1 || dy.abs() > 1 {\n",
    "        if dx != 0 {\n",
    "            *tx += dx.signum();\n",
    "        }\n",
    "\n",
    "        if dy != 0 {\n",
    "            *ty += dy.signum();\n",
    "        }\n",
    "    }\n",
    "}"
   ]
  },
  {
   "cell_type": "code",
   "execution_count": 11,
   "id": "1d98e92f-d375-4093-be12-968f673eb6f7",
   "metadata": {},
   "outputs": [],
   "source": [
    "fn tail_positions(moves: Vec<Move>) -> Vec<(i32, i32)> {\n",
    "    let mut head = (0, 0);\n",
    "    let mut tail = (0, 0);\n",
    "    \n",
    "    moves.iter().map(|m| {\n",
    "        head = m.apply(head);\n",
    "        move_towards(&mut tail, head);\n",
    "        \n",
    "        tail\n",
    "    }).collect()\n",
    "}"
   ]
  },
  {
   "cell_type": "code",
   "execution_count": 12,
   "id": "3c988a90-8e39-48b9-8776-333b8d530c97",
   "metadata": {},
   "outputs": [],
   "source": [
    "use std::collections::HashSet;"
   ]
  },
  {
   "cell_type": "code",
   "execution_count": 13,
   "id": "94a6af7a-9228-4df1-91d0-d1b323bcb61e",
   "metadata": {},
   "outputs": [],
   "source": [
    "fn part1(moves: &[String]) -> usize {\n",
    "    tail_positions(parse_moves(moves))\n",
    "        .iter()\n",
    "        .collect::<HashSet<_>>()\n",
    "        .len()\n",
    "}"
   ]
  },
  {
   "cell_type": "code",
   "execution_count": 14,
   "id": "0e27d5cb-8e30-42bf-b981-edd807bc6ada",
   "metadata": {},
   "outputs": [
    {
     "data": {
      "text/plain": [
       "13"
      ]
     },
     "execution_count": 14,
     "metadata": {},
     "output_type": "execute_result"
    }
   ],
   "source": [
    "part1(&example)"
   ]
  },
  {
   "cell_type": "code",
   "execution_count": 15,
   "id": "f616ee6f-d943-4eaf-ba8d-d06c714605a6",
   "metadata": {},
   "outputs": [
    {
     "data": {
      "text/plain": [
       "6384"
      ]
     },
     "execution_count": 15,
     "metadata": {},
     "output_type": "execute_result"
    }
   ],
   "source": [
    "part1(&lines)"
   ]
  },
  {
   "cell_type": "markdown",
   "id": "0011c9ae-4aa0-46d5-8b64-3999f7a3279a",
   "metadata": {},
   "source": [
    "## Part 2"
   ]
  },
  {
   "cell_type": "code",
   "execution_count": 16,
   "id": "75b83b12-6287-435a-a89b-0d8c1c848c85",
   "metadata": {},
   "outputs": [],
   "source": [
    "fn tail_positions_part2(moves: Vec<Move>, knots: usize) -> Vec<(i32, i32)> {\n",
    "    let mut rope = Vec::new();\n",
    "    rope.resize(10, (0, 0));\n",
    "    \n",
    "    moves.iter().map(|m| {\n",
    "        rope[0] = m.apply(rope[0]);\n",
    "        \n",
    "        for i in 1..knots {\n",
    "            let predecessor = rope[i-1];\n",
    "            move_towards(&mut rope[i], predecessor);\n",
    "        }\n",
    "        \n",
    "        rope.last().unwrap().clone()\n",
    "    }).collect()\n",
    "}"
   ]
  },
  {
   "cell_type": "code",
   "execution_count": 17,
   "id": "671ed556-192e-46b1-a928-22ee5ecacb2a",
   "metadata": {},
   "outputs": [],
   "source": [
    "fn part2(moves: &[String]) -> usize {\n",
    "    tail_positions_part2(parse_moves(moves), 10)\n",
    "        .iter()\n",
    "        .collect::<HashSet<_>>()\n",
    "        .len()\n",
    "}"
   ]
  },
  {
   "cell_type": "code",
   "execution_count": 18,
   "id": "9269b86f-029b-4f49-b861-8f84a8f060a0",
   "metadata": {},
   "outputs": [
    {
     "data": {
      "text/plain": [
       "1"
      ]
     },
     "execution_count": 18,
     "metadata": {},
     "output_type": "execute_result"
    }
   ],
   "source": [
    "part2(&example)"
   ]
  },
  {
   "cell_type": "code",
   "execution_count": 19,
   "id": "532becfc-b8d4-4302-85ce-dd84070be0d9",
   "metadata": {},
   "outputs": [],
   "source": [
    "let example_part2: Vec<String> = \"R 5\n",
    "U 8\n",
    "L 8\n",
    "D 3\n",
    "R 17\n",
    "D 10\n",
    "L 25\n",
    "U 20\".lines().map(|line| line.to_owned()).collect();"
   ]
  },
  {
   "cell_type": "code",
   "execution_count": 20,
   "id": "bf29fb07-9638-4ca4-b82e-bbe829b5ac5d",
   "metadata": {},
   "outputs": [
    {
     "data": {
      "text/plain": [
       "36"
      ]
     },
     "execution_count": 20,
     "metadata": {},
     "output_type": "execute_result"
    }
   ],
   "source": [
    "part2(&example_part2)"
   ]
  },
  {
   "cell_type": "code",
   "execution_count": 21,
   "id": "7d67877a-f452-463b-8823-0c86aaddbaa5",
   "metadata": {},
   "outputs": [
    {
     "data": {
      "text/plain": [
       "2734"
      ]
     },
     "execution_count": 21,
     "metadata": {},
     "output_type": "execute_result"
    }
   ],
   "source": [
    "part2(&lines)"
   ]
  }
 ],
 "metadata": {
  "kernelspec": {
   "display_name": "Rust",
   "language": "rust",
   "name": "rust"
  },
  "language_info": {
   "codemirror_mode": "rust",
   "file_extension": ".rs",
   "mimetype": "text/rust",
   "name": "Rust",
   "pygment_lexer": "rust",
   "version": ""
  }
 },
 "nbformat": 4,
 "nbformat_minor": 5
}
