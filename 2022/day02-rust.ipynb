{
 "cells": [
  {
   "cell_type": "markdown",
   "id": "b7192d8e-6bb0-41d6-af86-53e2323eadf2",
   "metadata": {},
   "source": [
    "# Day 2: Rock Paper Scissors\n",
    "https://adventofcode.com/2022/day/2"
   ]
  },
  {
   "cell_type": "code",
   "execution_count": 2,
   "id": "c28b2848-201c-4614-bf44-5f1e212d865a",
   "metadata": {},
   "outputs": [],
   "source": [
    "let lines: Vec<String> = std::fs::read_to_string(\"input/day02.txt\")\n",
    "    .expect(\"Could not read file\")\n",
    "    .lines()\n",
    "    .map(|line| line.to_owned())\n",
    "    .collect();"
   ]
  },
  {
   "cell_type": "code",
   "execution_count": 3,
   "id": "a44fa941-e473-4488-add2-05b72e70c3a6",
   "metadata": {},
   "outputs": [],
   "source": [
    "#[derive(Debug, PartialEq, Clone, Copy)]\n",
    "enum Shape {\n",
    "    Rock,\n",
    "    Paper,\n",
    "    Scissors\n",
    "}"
   ]
  },
  {
   "cell_type": "code",
   "execution_count": 4,
   "id": "f2069778-6890-4488-942c-a91ffaa39b66",
   "metadata": {},
   "outputs": [],
   "source": [
    "impl Shape {\n",
    "    fn parse(c: char) -> Self {\n",
    "         match c {\n",
    "            'A' => Shape::Rock,\n",
    "            'B' => Shape::Paper,\n",
    "            'C' => Shape::Scissors,\n",
    "            'X' => Shape::Rock,\n",
    "            'Y' => Shape::Paper,\n",
    "            'Z' => Shape::Scissors,\n",
    "            _ => panic!(\"Could not parse shape\")\n",
    "        }\n",
    "    }\n",
    "\n",
    "    fn defeats(self: &Self, other: &Shape) -> bool {\n",
    "        match self {\n",
    "            Shape::Rock => *other == Shape::Scissors,\n",
    "            Shape::Paper => *other == Shape::Rock,\n",
    "            Shape::Scissors => *other == Shape::Paper\n",
    "        }\n",
    "    }\n",
    "}"
   ]
  },
  {
   "cell_type": "markdown",
   "id": "67653e8b-2c08-42d8-a61b-c724af94e22b",
   "metadata": {},
   "source": [
    "## Import itertools"
   ]
  },
  {
   "cell_type": "code",
   "execution_count": 5,
   "id": "ee8beb20-f211-44e7-b3ce-76b8214c6b8a",
   "metadata": {},
   "outputs": [],
   "source": [
    ":dep itertools = \"0.10.5\""
   ]
  },
  {
   "cell_type": "code",
   "execution_count": 6,
   "id": "bfebde8a-7286-4686-bfb5-22bd0dbd0d09",
   "metadata": {},
   "outputs": [],
   "source": [
    "use itertools::Itertools;"
   ]
  },
  {
   "cell_type": "markdown",
   "id": "8ddde840-a887-437f-a03c-ac5302bf5b29",
   "metadata": {},
   "source": [
    "## Some helper functions"
   ]
  },
  {
   "cell_type": "code",
   "execution_count": 7,
   "id": "908667bf-3150-4b93-b315-a925cd70e0ed",
   "metadata": {},
   "outputs": [],
   "source": [
    "fn parse_round(line: &str) -> (Shape, Shape) {\n",
    "    line.split_whitespace()\n",
    "        .map(|word| word.chars().next().map(Shape::parse).unwrap())\n",
    "        .collect_tuple().unwrap()\n",
    "}"
   ]
  },
  {
   "cell_type": "code",
   "execution_count": 8,
   "id": "21aee262-8e51-4741-9869-4d72db2ed252",
   "metadata": {},
   "outputs": [],
   "source": [
    "let rounds: Vec<(Shape, Shape)> = lines.iter()\n",
    "    .map(|line| parse_round(line))\n",
    "    .collect();"
   ]
  },
  {
   "cell_type": "code",
   "execution_count": 9,
   "id": "2b9cf0e4-2db7-4d22-b6a4-6f6f3c77aa9b",
   "metadata": {},
   "outputs": [],
   "source": [
    "fn shape_score(shape: &Shape) -> u32 {\n",
    "    match shape {\n",
    "        Shape::Rock => 1,\n",
    "        Shape::Paper => 2,\n",
    "        Shape::Scissors => 3\n",
    "    }\n",
    "}"
   ]
  },
  {
   "cell_type": "code",
   "execution_count": 10,
   "id": "abdf52b0-7306-4be7-85a8-859f13a19d67",
   "metadata": {},
   "outputs": [],
   "source": [
    "fn outcome_score(round: &(Shape, Shape)) -> u32 {\n",
    "    let (opponentShape, myShape) = round;\n",
    "\n",
    "    if opponentShape == myShape {\n",
    "        // draw\n",
    "        3\n",
    "    } else if myShape.defeats(&opponentShape) {\n",
    "        // we win\n",
    "        6\n",
    "    } else {\n",
    "        // we lose\n",
    "        assert!(opponentShape.defeats(&myShape));\n",
    "        0\n",
    "    }\n",
    "}"
   ]
  },
  {
   "cell_type": "code",
   "execution_count": 11,
   "id": "b2698ef5-e0cd-4300-b2a4-85869a8f581a",
   "metadata": {},
   "outputs": [],
   "source": [
    "fn score(round: &(Shape, Shape)) -> u32 {\n",
    "    let my_shape = &round.1;\n",
    "    shape_score(my_shape) + outcome_score(round)\n",
    "}"
   ]
  },
  {
   "cell_type": "markdown",
   "id": "d1eeca1e-478d-4700-b147-8300aac92ff7",
   "metadata": {},
   "source": [
    "## Part 1"
   ]
  },
  {
   "cell_type": "markdown",
   "id": "0826a47b-7d2a-4e24-8992-bcc9ca141ce3",
   "metadata": {},
   "source": [
    "### Verify given examples"
   ]
  },
  {
   "cell_type": "code",
   "execution_count": 12,
   "id": "c556476f-57a7-4c02-87c0-85da4af4be4f",
   "metadata": {},
   "outputs": [],
   "source": [
    "fn verify_example(example: &str) {\n",
    "    let round = parse_round(example);\n",
    "    println!(\"input: {}, round: {:?}, score: {}\", example, round, score(&round));\n",
    "}\n",
    "\n",
    "verify_example(\"A Y\");\n",
    "verify_example(\"B X\");\n",
    "verify_example(\"C Z\");"
   ]
  },
  {
   "cell_type": "markdown",
   "id": "cb4f72f3-1b78-4a64-8a2e-50ff9928f26e",
   "metadata": {},
   "source": [
    "## Calculate total score"
   ]
  },
  {
   "cell_type": "code",
   "execution_count": 13,
   "id": "74c2e2ae-4ffa-4def-9b42-6fd97b3cf69a",
   "metadata": {},
   "outputs": [
    {
     "name": "stdout",
     "output_type": "stream",
     "text": [
      "input: A Y, round: (Rock, Paper), score: 8\n",
      "input: B X, round: (Paper, Rock), score: 1\n",
      "input: C Z, round: (Scissors, Scissors), score: 6\n"
     ]
    },
    {
     "data": {
      "text/plain": [
       "15523"
      ]
     },
     "execution_count": 13,
     "metadata": {},
     "output_type": "execute_result"
    }
   ],
   "source": [
    "rounds.iter()\n",
    "    .map(|round| score(&round))\n",
    "    .sum::<u32>()"
   ]
  },
  {
   "cell_type": "markdown",
   "id": "087547d9-3c88-42db-9ce6-944f49ddf2fc",
   "metadata": {},
   "source": [
    "## Part 2"
   ]
  },
  {
   "cell_type": "code",
   "execution_count": 14,
   "id": "24996c8c-b0c3-4cee-abff-3a0a96969aca",
   "metadata": {},
   "outputs": [],
   "source": [
    "#[derive(Debug)]\n",
    "enum RoundOutcome {\n",
    "    Win,\n",
    "    Draw,\n",
    "    Loss\n",
    "}\n",
    "\n",
    "impl RoundOutcome {\n",
    "    fn parse(c: char) -> Self {\n",
    "        match c {\n",
    "            'X' => Self::Loss,\n",
    "            'Y' => Self::Draw,\n",
    "            'Z' => Self::Win,\n",
    "            _ => panic!(\"could not parse outcome: {}\", c)\n",
    "        }\n",
    "    }\n",
    "}"
   ]
  },
  {
   "cell_type": "code",
   "execution_count": 15,
   "id": "8299b465-ac1e-4c4b-8eab-d4194f0c71d8",
   "metadata": {},
   "outputs": [],
   "source": [
    "fn parse_round_part2(line: &str) -> (Shape, RoundOutcome) {\n",
    "    let mut it = line.split_whitespace();\n",
    "    let shape = it.next().unwrap().chars().next().map(Shape::parse).unwrap();\n",
    "    let outcome = it.next().unwrap().chars().next().map(RoundOutcome::parse).unwrap();\n",
    "    \n",
    "    (shape, outcome)\n",
    "}"
   ]
  },
  {
   "cell_type": "code",
   "execution_count": 16,
   "id": "d70f680f-bd6a-4d03-a62c-a47ad2c81956",
   "metadata": {},
   "outputs": [],
   "source": [
    "fn choose_shape(round: &(Shape, RoundOutcome)) -> Shape {\n",
    "    let (opponent_shape, outcome) = round;\n",
    "    let all_shapes = [Shape::Rock, Shape::Paper, Shape::Scissors];\n",
    "    \n",
    "    *match outcome {\n",
    "        RoundOutcome::Draw => opponent_shape,\n",
    "        RoundOutcome::Win => all_shapes.iter().filter(|s| s.defeats(opponent_shape)).next().unwrap(),\n",
    "        RoundOutcome::Loss => all_shapes.iter().filter(|s| opponent_shape.defeats(s)).next().unwrap(),\n",
    "    }\n",
    "}"
   ]
  },
  {
   "cell_type": "markdown",
   "id": "aa04cb03-d3fb-4b3d-8483-572733002247",
   "metadata": {},
   "source": [
    "### Verify given examples"
   ]
  },
  {
   "cell_type": "code",
   "execution_count": 17,
   "id": "145b5ce1-6f83-4a85-a673-b562e8cc109f",
   "metadata": {},
   "outputs": [],
   "source": [
    "fn verify_example_part2(example: &str) {\n",
    "    let round = parse_round_part2(example);\n",
    "    let opponent_shape = round.0;\n",
    "    let my_shape = choose_shape(&round);\n",
    "    println!(\"input: {}, round: {:?}, chosen shape: {:?}, score: {}\", example, &round, &my_shape, score(&(opponent_shape, my_shape)));\n",
    "}\n",
    "\n",
    "verify_example_part2(\"A Y\");\n",
    "verify_example_part2(\"B X\");\n",
    "verify_example_part2(\"C Z\");"
   ]
  },
  {
   "cell_type": "markdown",
   "id": "03e0582b-1458-4c19-8e73-7dbd0e544069",
   "metadata": {},
   "source": [
    "### Calculate score"
   ]
  },
  {
   "cell_type": "code",
   "execution_count": 18,
   "id": "b397e09f-6a1c-4923-b48d-45fbf802cc58",
   "metadata": {},
   "outputs": [
    {
     "name": "stdout",
     "output_type": "stream",
     "text": [
      "input: A Y, round: (Rock, Draw), chosen shape: Rock, score: 4\n",
      "input: B X, round: (Paper, Loss), chosen shape: Rock, score: 1\n",
      "input: C Z, round: (Scissors, Win), chosen shape: Rock, score: 7\n"
     ]
    },
    {
     "data": {
      "text/plain": [
       "15702"
      ]
     },
     "execution_count": 18,
     "metadata": {},
     "output_type": "execute_result"
    }
   ],
   "source": [
    "lines.iter()\n",
    "    .map(|line| parse_round_part2(line))\n",
    "    .map(|(opponent_shape, outcome)| (opponent_shape, choose_shape(&(opponent_shape, outcome))))\n",
    "    .map(|round| score(&round))\n",
    "    .sum::<u32>()"
   ]
  }
 ],
 "metadata": {
  "kernelspec": {
   "display_name": "Rust",
   "language": "rust",
   "name": "rust"
  },
  "language_info": {
   "codemirror_mode": "rust",
   "file_extension": ".rs",
   "mimetype": "text/rust",
   "name": "Rust",
   "pygment_lexer": "rust",
   "version": ""
  }
 },
 "nbformat": 4,
 "nbformat_minor": 5
}
