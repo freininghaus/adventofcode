{
 "cells": [
  {
   "cell_type": "markdown",
   "id": "f4dfc016-fade-4bb0-80e8-5eb6c9a5f75e",
   "metadata": {},
   "source": [
    "# Day 10: Cathode-Ray Tube\n",
    "https://adventofcode.com/2022/day/10"
   ]
  },
  {
   "cell_type": "code",
   "execution_count": 2,
   "id": "7a06208b-719a-4ef0-a08a-ecac74a54a49",
   "metadata": {},
   "outputs": [],
   "source": [
    "let lines: Vec<String> = std::fs::read_to_string(\"input/day10.txt\")\n",
    "    .expect(\"Could not read file\")\n",
    "    .lines()\n",
    "    .map(|line| line.to_owned())\n",
    "    .collect();"
   ]
  },
  {
   "cell_type": "code",
   "execution_count": 3,
   "id": "307f9570-ff2f-4e1a-9c7b-f25a2140acc9",
   "metadata": {},
   "outputs": [],
   "source": [
    "let example1: Vec<String> = \"noop\n",
    "addx 3\n",
    "addx -5\".lines().map(|line| line.to_owned()).collect();"
   ]
  },
  {
   "cell_type": "code",
   "execution_count": 4,
   "id": "5f79ebd8-f095-4d77-826d-a1fff344aa0b",
   "metadata": {},
   "outputs": [],
   "source": [
    "let example2: Vec<String> = \"addx 15\n",
    "addx -11\n",
    "addx 6\n",
    "addx -3\n",
    "addx 5\n",
    "addx -1\n",
    "addx -8\n",
    "addx 13\n",
    "addx 4\n",
    "noop\n",
    "addx -1\n",
    "addx 5\n",
    "addx -1\n",
    "addx 5\n",
    "addx -1\n",
    "addx 5\n",
    "addx -1\n",
    "addx 5\n",
    "addx -1\n",
    "addx -35\n",
    "addx 1\n",
    "addx 24\n",
    "addx -19\n",
    "addx 1\n",
    "addx 16\n",
    "addx -11\n",
    "noop\n",
    "noop\n",
    "addx 21\n",
    "addx -15\n",
    "noop\n",
    "noop\n",
    "addx -3\n",
    "addx 9\n",
    "addx 1\n",
    "addx -3\n",
    "addx 8\n",
    "addx 1\n",
    "addx 5\n",
    "noop\n",
    "noop\n",
    "noop\n",
    "noop\n",
    "noop\n",
    "addx -36\n",
    "noop\n",
    "addx 1\n",
    "addx 7\n",
    "noop\n",
    "noop\n",
    "noop\n",
    "addx 2\n",
    "addx 6\n",
    "noop\n",
    "noop\n",
    "noop\n",
    "noop\n",
    "noop\n",
    "addx 1\n",
    "noop\n",
    "noop\n",
    "addx 7\n",
    "addx 1\n",
    "noop\n",
    "addx -13\n",
    "addx 13\n",
    "addx 7\n",
    "noop\n",
    "addx 1\n",
    "addx -33\n",
    "noop\n",
    "noop\n",
    "noop\n",
    "addx 2\n",
    "noop\n",
    "noop\n",
    "noop\n",
    "addx 8\n",
    "noop\n",
    "addx -1\n",
    "addx 2\n",
    "addx 1\n",
    "noop\n",
    "addx 17\n",
    "addx -9\n",
    "addx 1\n",
    "addx 1\n",
    "addx -3\n",
    "addx 11\n",
    "noop\n",
    "noop\n",
    "addx 1\n",
    "noop\n",
    "addx 1\n",
    "noop\n",
    "noop\n",
    "addx -13\n",
    "addx -19\n",
    "addx 1\n",
    "addx 3\n",
    "addx 26\n",
    "addx -30\n",
    "addx 12\n",
    "addx -1\n",
    "addx 3\n",
    "addx 1\n",
    "noop\n",
    "noop\n",
    "noop\n",
    "addx -9\n",
    "addx 18\n",
    "addx 1\n",
    "addx 2\n",
    "noop\n",
    "noop\n",
    "addx 9\n",
    "noop\n",
    "noop\n",
    "noop\n",
    "addx -1\n",
    "addx 2\n",
    "addx -37\n",
    "addx 1\n",
    "addx 3\n",
    "noop\n",
    "addx 15\n",
    "addx -21\n",
    "addx 22\n",
    "addx -6\n",
    "addx 1\n",
    "noop\n",
    "addx 2\n",
    "addx 1\n",
    "noop\n",
    "addx -10\n",
    "noop\n",
    "noop\n",
    "addx 20\n",
    "addx 1\n",
    "addx 2\n",
    "addx 2\n",
    "addx -6\n",
    "addx -11\n",
    "noop\n",
    "noop\n",
    "noop\".lines().map(|line| line.to_owned()).collect();"
   ]
  },
  {
   "cell_type": "code",
   "execution_count": 5,
   "id": "1ae2acd0-b4e2-44ad-ab3b-d7f63ec40957",
   "metadata": {},
   "outputs": [],
   "source": [
    "#[derive(Debug)]\n",
    "enum Instruction {\n",
    "    Addx(i32),\n",
    "    Noop\n",
    "}\n",
    "\n",
    "use Instruction::*;\n",
    "\n",
    "impl Instruction {\n",
    "    fn parse(s: &str) -> Self {\n",
    "        let mut it = s.split_whitespace();\n",
    "        match it.next().unwrap() {\n",
    "            \"addx\" => Addx(it.next().unwrap().parse().unwrap()),\n",
    "            \"noop\" => Noop,\n",
    "            _ => panic!(\"unknown instruction {}\", s)\n",
    "        }\n",
    "    }\n",
    "}"
   ]
  },
  {
   "cell_type": "code",
   "execution_count": 6,
   "id": "abce471d-0276-4811-a6ea-e94547247054",
   "metadata": {},
   "outputs": [],
   "source": [
    "fn execute(state: &mut i32, instruction: Instruction) -> Vec<i32> {\n",
    "    match instruction {\n",
    "        Addx(delta) => {\n",
    "            let old_state = *state;\n",
    "            *state += delta;\n",
    "            vec![old_state, old_state]\n",
    "        }\n",
    "        Noop => vec![*state]\n",
    "    }\n",
    "}"
   ]
  },
  {
   "cell_type": "code",
   "execution_count": 7,
   "id": "ace5ca55-6127-4a5d-a704-a85b1d49415c",
   "metadata": {},
   "outputs": [],
   "source": [
    "fn evolve_state(input: &[String]) -> Vec<i32> {\n",
    "    // Note that the state change of a final addx instruction is not visible in the output.\n",
    "    input.iter()\n",
    "        .map(|line| Instruction::parse(&line))\n",
    "        .scan(1, |state, instruction| Some(execute(state, instruction)))\n",
    "        .flatten()\n",
    "        .collect()\n",
    "}"
   ]
  },
  {
   "cell_type": "markdown",
   "id": "fef717f2-aa17-4521-885d-2f84a1ca9432",
   "metadata": {},
   "source": [
    "## Part 1"
   ]
  },
  {
   "cell_type": "code",
   "execution_count": 8,
   "id": "e20444a5-03f7-47e1-8166-ea69ff2bcfc1",
   "metadata": {},
   "outputs": [],
   "source": [
    "fn part1(input: &[String]) -> i32 {\n",
    "    let values = (1..).zip(evolve_state(input));\n",
    "    values\n",
    "        .take_while(|(i, _)| *i <= 220)\n",
    "        .filter(|(i, _)| *i % 40 == 20)\n",
    "        .map(|(i, value)| i * value)\n",
    "        .sum()\n",
    "}"
   ]
  },
  {
   "cell_type": "code",
   "execution_count": 9,
   "id": "6201a7a0-6cc6-4593-bf7f-c4edede06f8d",
   "metadata": {},
   "outputs": [
    {
     "data": {
      "text/plain": [
       "13140"
      ]
     },
     "execution_count": 9,
     "metadata": {},
     "output_type": "execute_result"
    }
   ],
   "source": [
    "part1(&example2)"
   ]
  },
  {
   "cell_type": "code",
   "execution_count": 10,
   "id": "e46eeb4e-0ede-4ea5-9f95-43e791209029",
   "metadata": {},
   "outputs": [
    {
     "data": {
      "text/plain": [
       "14160"
      ]
     },
     "execution_count": 10,
     "metadata": {},
     "output_type": "execute_result"
    }
   ],
   "source": [
    "part1(&lines)"
   ]
  },
  {
   "cell_type": "markdown",
   "id": "59b7b4ca-455a-449f-ac3c-238d5e716682",
   "metadata": {},
   "source": [
    "## Part 2"
   ]
  },
  {
   "cell_type": "code",
   "execution_count": 11,
   "id": "a54e8519-521b-4cfd-bb10-02073d1ee9e6",
   "metadata": {},
   "outputs": [],
   "source": [
    "fn part2(input: &[String]) {\n",
    "    let output = (0..240).zip(evolve_state(input))\n",
    "        .map(|(i, value)| \n",
    "            if (i % 40 - value).abs() <= 1 {\n",
    "                '#'\n",
    "            } else {\n",
    "                '.'\n",
    "            } as u8)\n",
    "        .collect::<Vec<_>>();\n",
    "    for row in 0..6 {\n",
    "        println!(\"{}\", std::str::from_utf8(&output[row * 40..(row + 1) * 40]).unwrap());\n",
    "    }\n",
    "}"
   ]
  },
  {
   "cell_type": "code",
   "execution_count": 12,
   "id": "eae2a10b-8cd8-47f7-9ac7-576da8e011e3",
   "metadata": {},
   "outputs": [
    {
     "name": "stdout",
     "output_type": "stream",
     "text": [
      "##..##..##..##..##..##..##..##..##..##..\n",
      "###...###...###...###...###...###...###.\n",
      "####....####....####....####....####....\n",
      "#####.....#####.....#####.....#####.....\n",
      "######......######......######......####\n",
      "#######.......#######.......#######.....\n"
     ]
    }
   ],
   "source": [
    "part2(&example2);"
   ]
  },
  {
   "cell_type": "code",
   "execution_count": 13,
   "id": "0efc812a-fc74-4e27-bbe2-ed57125911d6",
   "metadata": {},
   "outputs": [
    {
     "name": "stdout",
     "output_type": "stream",
     "text": [
      "###....##.####.###..###..####.####..##..\n",
      "#..#....#.#....#..#.#..#.#....#....#..#.\n",
      "#..#....#.###..#..#.#..#.###..###..#....\n",
      "###.....#.#....###..###..#....#....#....\n",
      "#.#..#..#.#....#.#..#....#....#....#..#.\n",
      "#..#..##..####.#..#.#....####.#.....##..\n"
     ]
    }
   ],
   "source": [
    "part2(&lines);"
   ]
  }
 ],
 "metadata": {
  "kernelspec": {
   "display_name": "Rust",
   "language": "rust",
   "name": "rust"
  },
  "language_info": {
   "codemirror_mode": "rust",
   "file_extension": ".rs",
   "mimetype": "text/rust",
   "name": "Rust",
   "pygment_lexer": "rust",
   "version": ""
  }
 },
 "nbformat": 4,
 "nbformat_minor": 5
}
