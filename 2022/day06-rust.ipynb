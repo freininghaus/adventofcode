{
 "cells": [
  {
   "cell_type": "markdown",
   "id": "add2fcfc-bf03-4dc2-8ea2-c53ce82dec75",
   "metadata": {},
   "source": [
    "# Day 6: Tuning Trouble\n",
    "https://adventofcode.com/2022/day/6"
   ]
  },
  {
   "cell_type": "code",
   "execution_count": 2,
   "id": "50432756-dc33-4efc-b69e-f894b3318114",
   "metadata": {},
   "outputs": [],
   "source": [
    "let line: String = std::fs::read_to_string(\"input/day06.txt\").expect(\"Could not read file\").trim().to_owned();"
   ]
  },
  {
   "cell_type": "code",
   "execution_count": 3,
   "id": "fe408b00-c4c0-41a7-b5aa-b4b225550a00",
   "metadata": {},
   "outputs": [],
   "source": [
    "let examples = [\n",
    "    \"mjqjpqmgbljsphdztnvjfqwrcgsmlb\",\n",
    "    \"bvwbjplbgvbhsrlpgdmjqwftvncz\",\n",
    "    \"nppdvjthqldpwncqszvftbrmjlhg\",\n",
    "    \"nznrnfrfntjfmvfwmzdfjlvtqnbhcprsg\",\n",
    "    \"zcfzfwzzqfrljwzlrfnpqdbhtmscgvjw\"\n",
    "];"
   ]
  },
  {
   "cell_type": "code",
   "execution_count": 4,
   "id": "822652b7-5c80-4131-9c8f-ccabeed6888c",
   "metadata": {},
   "outputs": [],
   "source": [
    "use std::collections::HashSet;\n",
    "\n",
    "fn find_marker(s: &str, count: usize) -> Option<usize> {\n",
    "    (count..s.len())\n",
    "        .filter(|i| s[i-count..*i].chars().collect::<HashSet<_>>().len() == count)\n",
    "        .next()\n",
    "}"
   ]
  },
  {
   "cell_type": "markdown",
   "id": "df2a1635-99d3-4efb-b019-bc7cbddc3b4e",
   "metadata": {},
   "source": [
    "## Part 1"
   ]
  },
  {
   "cell_type": "code",
   "execution_count": 5,
   "id": "18a19c70-4ef3-4e01-b068-00b029e6368d",
   "metadata": {},
   "outputs": [],
   "source": [
    "fn part1(s: &str) -> Option<usize> {\n",
    "    find_marker(s, 4)\n",
    "}"
   ]
  },
  {
   "cell_type": "code",
   "execution_count": 6,
   "id": "0909623e-ca88-41cb-b0cc-41dd350376b5",
   "metadata": {},
   "outputs": [
    {
     "data": {
      "text/plain": [
       "[Some(7), Some(5), Some(6), Some(10), Some(11)]"
      ]
     },
     "execution_count": 6,
     "metadata": {},
     "output_type": "execute_result"
    }
   ],
   "source": [
    "examples.iter().map(|s| part1(s)).collect::<Vec<_>>()"
   ]
  },
  {
   "cell_type": "code",
   "execution_count": 7,
   "id": "a2d5dbfa-0336-47d1-99dc-447e7216dee0",
   "metadata": {},
   "outputs": [
    {
     "data": {
      "text/plain": [
       "Some(1702)"
      ]
     },
     "execution_count": 7,
     "metadata": {},
     "output_type": "execute_result"
    }
   ],
   "source": [
    "part1(&line)"
   ]
  },
  {
   "cell_type": "markdown",
   "id": "6acf0552-f61c-486c-83b2-697913cecb05",
   "metadata": {},
   "source": [
    "## Part 2"
   ]
  },
  {
   "cell_type": "code",
   "execution_count": 8,
   "id": "ed41ad06-4b4c-4bdb-81d3-a0a1881f900f",
   "metadata": {},
   "outputs": [],
   "source": [
    "fn part2(s: &str) -> Option<usize> {\n",
    "    find_marker(s, 14)\n",
    "}"
   ]
  },
  {
   "cell_type": "code",
   "execution_count": 9,
   "id": "303fa3ff-9c66-4014-8160-fe93f35f39b2",
   "metadata": {},
   "outputs": [
    {
     "data": {
      "text/plain": [
       "[Some(19), Some(23), Some(23), Some(29), Some(26)]"
      ]
     },
     "execution_count": 9,
     "metadata": {},
     "output_type": "execute_result"
    }
   ],
   "source": [
    "examples.iter().map(|s| part2(s)).collect::<Vec<_>>()"
   ]
  },
  {
   "cell_type": "code",
   "execution_count": 10,
   "id": "14049157-54da-4ad4-969f-e266da0c3b3a",
   "metadata": {},
   "outputs": [
    {
     "data": {
      "text/plain": [
       "Some(3559)"
      ]
     },
     "execution_count": 10,
     "metadata": {},
     "output_type": "execute_result"
    }
   ],
   "source": [
    "part2(&line)"
   ]
  }
 ],
 "metadata": {
  "kernelspec": {
   "display_name": "Rust",
   "language": "rust",
   "name": "rust"
  },
  "language_info": {
   "codemirror_mode": "rust",
   "file_extension": ".rs",
   "mimetype": "text/rust",
   "name": "Rust",
   "pygment_lexer": "rust",
   "version": ""
  }
 },
 "nbformat": 4,
 "nbformat_minor": 5
}
